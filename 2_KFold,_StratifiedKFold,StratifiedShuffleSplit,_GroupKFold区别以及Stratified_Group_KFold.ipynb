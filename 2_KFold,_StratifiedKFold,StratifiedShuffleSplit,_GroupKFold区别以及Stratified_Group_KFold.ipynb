{
  "nbformat": 4,
  "nbformat_minor": 0,
  "metadata": {
    "colab": {
      "name": "2. KFold, StratifiedKFold,StratifiedShuffleSplit, GroupKFold区别以及Stratified Group KFold.ipynb",
      "provenance": [],
      "authorship_tag": "ABX9TyMIcj82ydPyiwxlNL9rldW+",
      "include_colab_link": true
    },
    "kernelspec": {
      "name": "python3",
      "display_name": "Python 3"
    },
    "language_info": {
      "name": "python"
    }
  },
  "cells": [
    {
      "cell_type": "markdown",
      "metadata": {
        "id": "view-in-github",
        "colab_type": "text"
      },
      "source": [
        "<a href=\"https://colab.research.google.com/github/aigonna/ML_Skills/blob/main/2_KFold%2C_StratifiedKFold%2CStratifiedShuffleSplit%2C_GroupKFold%E5%8C%BA%E5%88%AB%E4%BB%A5%E5%8F%8AStratified_Group_KFold.ipynb\" target=\"_parent\"><img src=\"https://colab.research.google.com/assets/colab-badge.svg\" alt=\"Open In Colab\"/></a>"
      ]
    },
    {
      "cell_type": "code",
      "metadata": {
        "colab": {
          "base_uri": "https://localhost:8080/",
          "height": 423
        },
        "id": "frJklWjYDiTr",
        "outputId": "5263c97b-59e7-4d2b-8ccd-8c6edcc0d03e"
      },
      "source": [
        "import pandas as pd\n",
        "import numpy as np\n",
        "from sklearn.model_selection import KFold, StratifiedKFold,\\\n",
        "            StratifiedShuffleSplit, GroupKFold, GroupShuffleSplit\n",
        "from sklearn.datasets import load_iris\n",
        "\n",
        "iris = load_iris()\n",
        "df = pd.DataFrame(iris.data, columns=iris.feature_names)\n",
        "df['target'] = iris.target\n",
        "\n",
        "df1 = df.sample(frac=0.08, random_state=2020)\n",
        "df1"
      ],
      "execution_count": null,
      "outputs": [
        {
          "output_type": "execute_result",
          "data": {
            "text/html": [
              "<div>\n",
              "<style scoped>\n",
              "    .dataframe tbody tr th:only-of-type {\n",
              "        vertical-align: middle;\n",
              "    }\n",
              "\n",
              "    .dataframe tbody tr th {\n",
              "        vertical-align: top;\n",
              "    }\n",
              "\n",
              "    .dataframe thead th {\n",
              "        text-align: right;\n",
              "    }\n",
              "</style>\n",
              "<table border=\"1\" class=\"dataframe\">\n",
              "  <thead>\n",
              "    <tr style=\"text-align: right;\">\n",
              "      <th></th>\n",
              "      <th>sepal length (cm)</th>\n",
              "      <th>sepal width (cm)</th>\n",
              "      <th>petal length (cm)</th>\n",
              "      <th>petal width (cm)</th>\n",
              "      <th>target</th>\n",
              "    </tr>\n",
              "  </thead>\n",
              "  <tbody>\n",
              "    <tr>\n",
              "      <th>104</th>\n",
              "      <td>6.5</td>\n",
              "      <td>3.0</td>\n",
              "      <td>5.8</td>\n",
              "      <td>2.2</td>\n",
              "      <td>2</td>\n",
              "    </tr>\n",
              "    <tr>\n",
              "      <th>8</th>\n",
              "      <td>4.4</td>\n",
              "      <td>2.9</td>\n",
              "      <td>1.4</td>\n",
              "      <td>0.2</td>\n",
              "      <td>0</td>\n",
              "    </tr>\n",
              "    <tr>\n",
              "      <th>61</th>\n",
              "      <td>5.9</td>\n",
              "      <td>3.0</td>\n",
              "      <td>4.2</td>\n",
              "      <td>1.5</td>\n",
              "      <td>1</td>\n",
              "    </tr>\n",
              "    <tr>\n",
              "      <th>54</th>\n",
              "      <td>6.5</td>\n",
              "      <td>2.8</td>\n",
              "      <td>4.6</td>\n",
              "      <td>1.5</td>\n",
              "      <td>1</td>\n",
              "    </tr>\n",
              "    <tr>\n",
              "      <th>78</th>\n",
              "      <td>6.0</td>\n",
              "      <td>2.9</td>\n",
              "      <td>4.5</td>\n",
              "      <td>1.5</td>\n",
              "      <td>1</td>\n",
              "    </tr>\n",
              "    <tr>\n",
              "      <th>119</th>\n",
              "      <td>6.0</td>\n",
              "      <td>2.2</td>\n",
              "      <td>5.0</td>\n",
              "      <td>1.5</td>\n",
              "      <td>2</td>\n",
              "    </tr>\n",
              "    <tr>\n",
              "      <th>111</th>\n",
              "      <td>6.4</td>\n",
              "      <td>2.7</td>\n",
              "      <td>5.3</td>\n",
              "      <td>1.9</td>\n",
              "      <td>2</td>\n",
              "    </tr>\n",
              "    <tr>\n",
              "      <th>93</th>\n",
              "      <td>5.0</td>\n",
              "      <td>2.3</td>\n",
              "      <td>3.3</td>\n",
              "      <td>1.0</td>\n",
              "      <td>1</td>\n",
              "    </tr>\n",
              "    <tr>\n",
              "      <th>23</th>\n",
              "      <td>5.1</td>\n",
              "      <td>3.3</td>\n",
              "      <td>1.7</td>\n",
              "      <td>0.5</td>\n",
              "      <td>0</td>\n",
              "    </tr>\n",
              "    <tr>\n",
              "      <th>31</th>\n",
              "      <td>5.4</td>\n",
              "      <td>3.4</td>\n",
              "      <td>1.5</td>\n",
              "      <td>0.4</td>\n",
              "      <td>0</td>\n",
              "    </tr>\n",
              "    <tr>\n",
              "      <th>116</th>\n",
              "      <td>6.5</td>\n",
              "      <td>3.0</td>\n",
              "      <td>5.5</td>\n",
              "      <td>1.8</td>\n",
              "      <td>2</td>\n",
              "    </tr>\n",
              "    <tr>\n",
              "      <th>106</th>\n",
              "      <td>4.9</td>\n",
              "      <td>2.5</td>\n",
              "      <td>4.5</td>\n",
              "      <td>1.7</td>\n",
              "      <td>2</td>\n",
              "    </tr>\n",
              "  </tbody>\n",
              "</table>\n",
              "</div>"
            ],
            "text/plain": [
              "     sepal length (cm)  sepal width (cm)  ...  petal width (cm)  target\n",
              "104                6.5               3.0  ...               2.2       2\n",
              "8                  4.4               2.9  ...               0.2       0\n",
              "61                 5.9               3.0  ...               1.5       1\n",
              "54                 6.5               2.8  ...               1.5       1\n",
              "78                 6.0               2.9  ...               1.5       1\n",
              "119                6.0               2.2  ...               1.5       2\n",
              "111                6.4               2.7  ...               1.9       2\n",
              "93                 5.0               2.3  ...               1.0       1\n",
              "23                 5.1               3.3  ...               0.5       0\n",
              "31                 5.4               3.4  ...               0.4       0\n",
              "116                6.5               3.0  ...               1.8       2\n",
              "106                4.9               2.5  ...               1.7       2\n",
              "\n",
              "[12 rows x 5 columns]"
            ]
          },
          "metadata": {},
          "execution_count": 2
        }
      ]
    },
    {
      "cell_type": "code",
      "metadata": {
        "id": "rylaLupCRsfC"
      },
      "source": [
        "import pandas as pd\n",
        "import numpy as np\n",
        "from sklearn.model_selection import KFold, StratifiedKFold,\\\n",
        "            StratifiedShuffleSplit, GroupKFold, GroupShuffleSplit"
      ],
      "execution_count": null,
      "outputs": []
    },
    {
      "cell_type": "code",
      "metadata": {
        "colab": {
          "base_uri": "https://localhost:8080/",
          "height": 330
        },
        "id": "6YQRrX_fMyg9",
        "outputId": "6f619b15-0543-43a0-8b75-121af4d2e31e"
      },
      "source": [
        "df2 = pd.DataFrame([[6.5, 1, 2],\n",
        "            [8, 1, 0],\n",
        "            [61, 2, 1],\n",
        "            [54, 0, 1],\n",
        "            [78, 0, 1],\n",
        "            [119, 2, 2],\n",
        "            [111, 1, 2],\n",
        "            [23, 0, 0],\n",
        "            [31, 2, 0]], columns=['h', 'w', 'class'])\n",
        "df2"
      ],
      "execution_count": null,
      "outputs": [
        {
          "output_type": "execute_result",
          "data": {
            "text/html": [
              "<div>\n",
              "<style scoped>\n",
              "    .dataframe tbody tr th:only-of-type {\n",
              "        vertical-align: middle;\n",
              "    }\n",
              "\n",
              "    .dataframe tbody tr th {\n",
              "        vertical-align: top;\n",
              "    }\n",
              "\n",
              "    .dataframe thead th {\n",
              "        text-align: right;\n",
              "    }\n",
              "</style>\n",
              "<table border=\"1\" class=\"dataframe\">\n",
              "  <thead>\n",
              "    <tr style=\"text-align: right;\">\n",
              "      <th></th>\n",
              "      <th>h</th>\n",
              "      <th>w</th>\n",
              "      <th>class</th>\n",
              "    </tr>\n",
              "  </thead>\n",
              "  <tbody>\n",
              "    <tr>\n",
              "      <th>0</th>\n",
              "      <td>6.5</td>\n",
              "      <td>1</td>\n",
              "      <td>2</td>\n",
              "    </tr>\n",
              "    <tr>\n",
              "      <th>1</th>\n",
              "      <td>8.0</td>\n",
              "      <td>1</td>\n",
              "      <td>0</td>\n",
              "    </tr>\n",
              "    <tr>\n",
              "      <th>2</th>\n",
              "      <td>61.0</td>\n",
              "      <td>2</td>\n",
              "      <td>1</td>\n",
              "    </tr>\n",
              "    <tr>\n",
              "      <th>3</th>\n",
              "      <td>54.0</td>\n",
              "      <td>0</td>\n",
              "      <td>1</td>\n",
              "    </tr>\n",
              "    <tr>\n",
              "      <th>4</th>\n",
              "      <td>78.0</td>\n",
              "      <td>0</td>\n",
              "      <td>1</td>\n",
              "    </tr>\n",
              "    <tr>\n",
              "      <th>5</th>\n",
              "      <td>119.0</td>\n",
              "      <td>2</td>\n",
              "      <td>2</td>\n",
              "    </tr>\n",
              "    <tr>\n",
              "      <th>6</th>\n",
              "      <td>111.0</td>\n",
              "      <td>1</td>\n",
              "      <td>2</td>\n",
              "    </tr>\n",
              "    <tr>\n",
              "      <th>7</th>\n",
              "      <td>23.0</td>\n",
              "      <td>0</td>\n",
              "      <td>0</td>\n",
              "    </tr>\n",
              "    <tr>\n",
              "      <th>8</th>\n",
              "      <td>31.0</td>\n",
              "      <td>2</td>\n",
              "      <td>0</td>\n",
              "    </tr>\n",
              "  </tbody>\n",
              "</table>\n",
              "</div>"
            ],
            "text/plain": [
              "       h  w  class\n",
              "0    6.5  1      2\n",
              "1    8.0  1      0\n",
              "2   61.0  2      1\n",
              "3   54.0  0      1\n",
              "4   78.0  0      1\n",
              "5  119.0  2      2\n",
              "6  111.0  1      2\n",
              "7   23.0  0      0\n",
              "8   31.0  2      0"
            ]
          },
          "metadata": {},
          "execution_count": 31
        }
      ]
    },
    {
      "cell_type": "code",
      "metadata": {
        "id": "cpWbe538ECB4"
      },
      "source": [
        "X = df2.drop(['class'], axis=1)\n",
        "y = df2['class']"
      ],
      "execution_count": null,
      "outputs": []
    },
    {
      "cell_type": "code",
      "metadata": {
        "colab": {
          "base_uri": "https://localhost:8080/"
        },
        "id": "SSDJtM3ePwMZ",
        "outputId": "13e61b52-6ce9-4b47-af8b-3619a05799b6"
      },
      "source": [
        "floder = KFold(n_splits=5, random_state=2020, shuffle=True)\n",
        "for train_idx, test_idx in floder.split(X,y):\n",
        "    print(\"KFold Spliting:\")\n",
        "    print('Train index: %s | test index: %s' % (train_idx, test_idx))\n",
        "    # print(X.iloc[train_idx], y.iloc[train_idx], '\\n', X.iloc[test_idx], y.iloc[test_idx])"
      ],
      "execution_count": null,
      "outputs": [
        {
          "output_type": "stream",
          "name": "stdout",
          "text": [
            "KFold Spliting:\n",
            "Train index: [0 1 3 5 6 7 8] | test index: [2 4]\n",
            "KFold Spliting:\n",
            "Train index: [0 2 3 4 5 6 8] | test index: [1 7]\n",
            "KFold Spliting:\n",
            "Train index: [0 1 2 3 4 7 8] | test index: [5 6]\n",
            "KFold Spliting:\n",
            "Train index: [0 1 2 4 5 6 7] | test index: [3 8]\n",
            "KFold Spliting:\n",
            "Train index: [1 2 3 4 5 6 7 8] | test index: [0]\n"
          ]
        }
      ]
    },
    {
      "cell_type": "code",
      "metadata": {
        "colab": {
          "base_uri": "https://localhost:8080/"
        },
        "id": "1P2KOWuxPuy-",
        "outputId": "d08c6b46-70cd-4e68-ed17-157db764ad0e"
      },
      "source": [
        "sfolder = StratifiedKFold(n_splits=3, random_state=2020, shuffle=True)\n",
        "for train_idx, test_idx in sfolder.split(X,y):\n",
        "    print(\"StratifiedKFold Spliting:\")\n",
        "    print('Train index: %s | test index: %s' % (train_idx, test_idx))"
      ],
      "execution_count": null,
      "outputs": [
        {
          "output_type": "stream",
          "name": "stdout",
          "text": [
            "StratifiedKFold Spliting:\n",
            "Train index: [0 3 4 5 7 8] | test index: [1 2 6]\n",
            "StratifiedKFold Spliting:\n",
            "Train index: [1 2 3 5 6 8] | test index: [0 4 7]\n",
            "StratifiedKFold Spliting:\n",
            "Train index: [0 1 2 4 6 7] | test index: [3 5 8]\n"
          ]
        }
      ]
    },
    {
      "cell_type": "code",
      "metadata": {
        "colab": {
          "base_uri": "https://localhost:8080/"
        },
        "id": "hmuJP3yyFNL9",
        "outputId": "61cfe021-a612-465a-e3f4-71def3fc9fd3"
      },
      "source": [
        "gfolder = GroupKFold(n_splits=3)\n",
        "for train_idx, test_idx in gfolder.split(X,y, groups=X['w']):\n",
        "    print(\"GroupKFold Spliting:\")\n",
        "    print('Train index: %s | test index: %s' % (train_idx, test_idx))"
      ],
      "execution_count": null,
      "outputs": [
        {
          "output_type": "stream",
          "name": "stdout",
          "text": [
            "GroupKFold Spliting:\n",
            "Train index: [1 2 3 4 7 8] | test index: [0 5 6]\n",
            "GroupKFold Spliting:\n",
            "Train index: [0 1 5 6 7 8] | test index: [2 3 4]\n",
            "GroupKFold Spliting:\n",
            "Train index: [0 2 3 4 5 6] | test index: [1 7 8]\n"
          ]
        }
      ]
    },
    {
      "cell_type": "code",
      "metadata": {
        "colab": {
          "base_uri": "https://localhost:8080/"
        },
        "id": "SPR1G7AWS8Z_",
        "outputId": "3ffd49f6-44fe-43b7-9041-da13c0f941a9"
      },
      "source": [
        "shuffle_split = StratifiedShuffleSplit(n_splits=3, random_state=2020, test_size=3) #test_size必须比类别大或者 可以重复采样\n",
        "for train_idx, test_idx in shuffle_split.split(X,y):\n",
        "    print(\"StratifiedShuffleSplit Spliting:\")\n",
        "    print('Train index: %s | test index: %s' % (train_idx, test_idx))"
      ],
      "execution_count": null,
      "outputs": [
        {
          "output_type": "stream",
          "name": "stdout",
          "text": [
            "StratifiedShuffleSplit Spliting:\n",
            "Train index: [8 2 3 0 6 7] | test index: [1 5 4]\n",
            "StratifiedShuffleSplit Spliting:\n",
            "Train index: [3 1 6 2 7 5] | test index: [8 0 4]\n",
            "StratifiedShuffleSplit Spliting:\n",
            "Train index: [1 8 2 6 0 4] | test index: [7 3 5]\n"
          ]
        }
      ]
    },
    {
      "cell_type": "markdown",
      "metadata": {
        "id": "x0rzYFt-SPuD"
      },
      "source": [
        "## Stratified Group KFold"
      ]
    },
    {
      "cell_type": "code",
      "metadata": {
        "id": "a9sdIBDOgeYJ"
      },
      "source": [
        "import numpy as np\n",
        "import pandas as pd\n",
        "import random\n",
        "from sklearn.model_selection import GroupKFold\n",
        "from collections import Counter, defaultdict\n",
        "from sklearn.datasets import load_iris\n",
        "\n",
        "def read_data():\n",
        "    iris = load_iris()\n",
        "    df = pd.DataFrame(iris.data, columns=iris.feature_names)\n",
        "    df['target'] = iris.target\n",
        "\n",
        "    #新定义一个ID列\n",
        "    list_id = ['A', 'B', 'C', 'D', 'E']\n",
        "    df['ID'] = np.random.choice(list_id, len(df))\n",
        "\n",
        "    features = iris.feature_names\n",
        "    return df, features\n",
        "\n",
        "df, features = read_data()"
      ],
      "execution_count": 2,
      "outputs": []
    },
    {
      "cell_type": "code",
      "metadata": {
        "colab": {
          "base_uri": "https://localhost:8080/",
          "height": 205
        },
        "id": "v5upr0EVSLXi",
        "outputId": "096b8c5b-d010-4276-b326-8383e1a9c513"
      },
      "source": [
        "df.sample(5)"
      ],
      "execution_count": 4,
      "outputs": [
        {
          "output_type": "execute_result",
          "data": {
            "text/html": [
              "<div>\n",
              "<style scoped>\n",
              "    .dataframe tbody tr th:only-of-type {\n",
              "        vertical-align: middle;\n",
              "    }\n",
              "\n",
              "    .dataframe tbody tr th {\n",
              "        vertical-align: top;\n",
              "    }\n",
              "\n",
              "    .dataframe thead th {\n",
              "        text-align: right;\n",
              "    }\n",
              "</style>\n",
              "<table border=\"1\" class=\"dataframe\">\n",
              "  <thead>\n",
              "    <tr style=\"text-align: right;\">\n",
              "      <th></th>\n",
              "      <th>sepal length (cm)</th>\n",
              "      <th>sepal width (cm)</th>\n",
              "      <th>petal length (cm)</th>\n",
              "      <th>petal width (cm)</th>\n",
              "      <th>target</th>\n",
              "      <th>ID</th>\n",
              "    </tr>\n",
              "  </thead>\n",
              "  <tbody>\n",
              "    <tr>\n",
              "      <th>66</th>\n",
              "      <td>5.6</td>\n",
              "      <td>3.0</td>\n",
              "      <td>4.5</td>\n",
              "      <td>1.5</td>\n",
              "      <td>1</td>\n",
              "      <td>A</td>\n",
              "    </tr>\n",
              "    <tr>\n",
              "      <th>118</th>\n",
              "      <td>7.7</td>\n",
              "      <td>2.6</td>\n",
              "      <td>6.9</td>\n",
              "      <td>2.3</td>\n",
              "      <td>2</td>\n",
              "      <td>C</td>\n",
              "    </tr>\n",
              "    <tr>\n",
              "      <th>38</th>\n",
              "      <td>4.4</td>\n",
              "      <td>3.0</td>\n",
              "      <td>1.3</td>\n",
              "      <td>0.2</td>\n",
              "      <td>0</td>\n",
              "      <td>E</td>\n",
              "    </tr>\n",
              "    <tr>\n",
              "      <th>37</th>\n",
              "      <td>4.9</td>\n",
              "      <td>3.6</td>\n",
              "      <td>1.4</td>\n",
              "      <td>0.1</td>\n",
              "      <td>0</td>\n",
              "      <td>B</td>\n",
              "    </tr>\n",
              "    <tr>\n",
              "      <th>143</th>\n",
              "      <td>6.8</td>\n",
              "      <td>3.2</td>\n",
              "      <td>5.9</td>\n",
              "      <td>2.3</td>\n",
              "      <td>2</td>\n",
              "      <td>E</td>\n",
              "    </tr>\n",
              "  </tbody>\n",
              "</table>\n",
              "</div>"
            ],
            "text/plain": [
              "     sepal length (cm)  sepal width (cm)  ...  target  ID\n",
              "66                 5.6               3.0  ...       1   A\n",
              "118                7.7               2.6  ...       2   C\n",
              "38                 4.4               3.0  ...       0   E\n",
              "37                 4.9               3.6  ...       0   B\n",
              "143                6.8               3.2  ...       2   E\n",
              "\n",
              "[5 rows x 6 columns]"
            ]
          },
          "metadata": {},
          "execution_count": 4
        }
      ]
    },
    {
      "cell_type": "code",
      "metadata": {
        "colab": {
          "base_uri": "https://localhost:8080/"
        },
        "id": "zJNhWmC0SSbc",
        "outputId": "db602159-e613-4890-c768-7b72522014cf"
      },
      "source": [
        "features"
      ],
      "execution_count": 5,
      "outputs": [
        {
          "output_type": "execute_result",
          "data": {
            "text/plain": [
              "['sepal length (cm)',\n",
              " 'sepal width (cm)',\n",
              " 'petal length (cm)',\n",
              " 'petal width (cm)']"
            ]
          },
          "metadata": {},
          "execution_count": 5
        }
      ]
    },
    {
      "cell_type": "code",
      "metadata": {
        "id": "nqO_0DsLnTp9"
      },
      "source": [
        "X = df.drop(['target'], axis=1)\n",
        "y = df['target']"
      ],
      "execution_count": 49,
      "outputs": []
    },
    {
      "cell_type": "code",
      "metadata": {
        "id": "vgRhP2ITngKJ"
      },
      "source": [
        "groups=X['ID']"
      ],
      "execution_count": 50,
      "outputs": []
    },
    {
      "cell_type": "code",
      "metadata": {
        "colab": {
          "base_uri": "https://localhost:8080/"
        },
        "id": "qItGvIUKnxx8",
        "outputId": "fd6007f5-d1a2-4448-a5ff-c7b3b1e8558f"
      },
      "source": [
        "unique_num = np.max(y) + 1\n",
        "y_counts_per_group = defaultdict(lambda: np.zeros(unique_num))\n",
        "y_counts_per_group"
      ],
      "execution_count": 51,
      "outputs": [
        {
          "output_type": "execute_result",
          "data": {
            "text/plain": [
              "defaultdict(<function __main__.<lambda>>, {})"
            ]
          },
          "metadata": {},
          "execution_count": 51
        }
      ]
    },
    {
      "cell_type": "code",
      "metadata": {
        "colab": {
          "base_uri": "https://localhost:8080/"
        },
        "id": "5PaHDISgnjK-",
        "outputId": "31835542-672b-4bea-f526-192b2f578fee"
      },
      "source": [
        "for label, g in zip(y, groups):\n",
        "    print(label, g)\n",
        "    y_counts_per_group[g][label] += 1\n",
        "    "
      ],
      "execution_count": 52,
      "outputs": [
        {
          "output_type": "stream",
          "name": "stdout",
          "text": [
            "0 A\n",
            "0 E\n",
            "0 E\n",
            "0 C\n",
            "0 C\n",
            "0 C\n",
            "0 A\n",
            "0 E\n",
            "0 E\n",
            "0 B\n",
            "0 C\n",
            "0 C\n",
            "0 B\n",
            "0 B\n",
            "0 D\n",
            "0 E\n",
            "0 B\n",
            "0 B\n",
            "0 D\n",
            "0 E\n",
            "0 B\n",
            "0 A\n",
            "0 C\n",
            "0 B\n",
            "0 E\n",
            "0 C\n",
            "0 D\n",
            "0 B\n",
            "0 D\n",
            "0 E\n",
            "0 C\n",
            "0 C\n",
            "0 C\n",
            "0 D\n",
            "0 E\n",
            "0 C\n",
            "0 E\n",
            "0 B\n",
            "0 E\n",
            "0 C\n",
            "0 D\n",
            "0 A\n",
            "0 B\n",
            "0 A\n",
            "0 D\n",
            "0 D\n",
            "0 D\n",
            "0 B\n",
            "0 E\n",
            "0 C\n",
            "1 B\n",
            "1 E\n",
            "1 B\n",
            "1 C\n",
            "1 D\n",
            "1 B\n",
            "1 C\n",
            "1 B\n",
            "1 C\n",
            "1 C\n",
            "1 E\n",
            "1 E\n",
            "1 C\n",
            "1 D\n",
            "1 E\n",
            "1 D\n",
            "1 A\n",
            "1 C\n",
            "1 D\n",
            "1 D\n",
            "1 D\n",
            "1 B\n",
            "1 D\n",
            "1 A\n",
            "1 B\n",
            "1 A\n",
            "1 D\n",
            "1 E\n",
            "1 D\n",
            "1 B\n",
            "1 C\n",
            "1 A\n",
            "1 A\n",
            "1 E\n",
            "1 B\n",
            "1 A\n",
            "1 D\n",
            "1 A\n",
            "1 D\n",
            "1 B\n",
            "1 E\n",
            "1 B\n",
            "1 B\n",
            "1 E\n",
            "1 B\n",
            "1 C\n",
            "1 A\n",
            "1 E\n",
            "1 E\n",
            "1 A\n",
            "2 D\n",
            "2 B\n",
            "2 E\n",
            "2 B\n",
            "2 D\n",
            "2 A\n",
            "2 E\n",
            "2 C\n",
            "2 B\n",
            "2 D\n",
            "2 C\n",
            "2 D\n",
            "2 C\n",
            "2 E\n",
            "2 E\n",
            "2 B\n",
            "2 D\n",
            "2 B\n",
            "2 C\n",
            "2 B\n",
            "2 E\n",
            "2 C\n",
            "2 A\n",
            "2 D\n",
            "2 B\n",
            "2 B\n",
            "2 E\n",
            "2 B\n",
            "2 E\n",
            "2 E\n",
            "2 E\n",
            "2 E\n",
            "2 D\n",
            "2 A\n",
            "2 E\n",
            "2 C\n",
            "2 A\n",
            "2 C\n",
            "2 A\n",
            "2 A\n",
            "2 A\n",
            "2 D\n",
            "2 B\n",
            "2 E\n",
            "2 D\n",
            "2 C\n",
            "2 A\n",
            "2 D\n",
            "2 D\n",
            "2 E\n"
          ]
        }
      ]
    },
    {
      "cell_type": "code",
      "metadata": {
        "colab": {
          "base_uri": "https://localhost:8080/"
        },
        "id": "3vHRRNMynplp",
        "outputId": "4962aefe-efb6-4315-f0db-75a9a9f0e0bb"
      },
      "source": [
        "y_counts_per_group"
      ],
      "execution_count": 53,
      "outputs": [
        {
          "output_type": "execute_result",
          "data": {
            "text/plain": [
              "defaultdict(<function __main__.<lambda>>,\n",
              "            {'A': array([5., 9., 8.]),\n",
              "             'B': array([11., 12., 10.]),\n",
              "             'C': array([13.,  8.,  8.]),\n",
              "             'D': array([ 9., 11., 11.]),\n",
              "             'E': array([12., 10., 13.])})"
            ]
          },
          "metadata": {},
          "execution_count": 53
        }
      ]
    },
    {
      "cell_type": "code",
      "metadata": {
        "colab": {
          "base_uri": "https://localhost:8080/"
        },
        "id": "lUgf1MYH0-oY",
        "outputId": "efe1d835-497e-4728-985e-2214d4e43aec"
      },
      "source": [
        "y_counts_per_group['A']"
      ],
      "execution_count": 54,
      "outputs": [
        {
          "output_type": "execute_result",
          "data": {
            "text/plain": [
              "array([5., 9., 8.])"
            ]
          },
          "metadata": {},
          "execution_count": 54
        }
      ]
    },
    {
      "cell_type": "code",
      "metadata": {
        "colab": {
          "base_uri": "https://localhost:8080/"
        },
        "id": "HJWQ7vyg4Tag",
        "outputId": "41080e57-97a1-4bf9-93d0-cedefce43388"
      },
      "source": [
        "y_counts_train = np.zeros(np.max(y) + 1)\n",
        "y_counts_train"
      ],
      "execution_count": 55,
      "outputs": [
        {
          "output_type": "execute_result",
          "data": {
            "text/plain": [
              "array([0., 0., 0.])"
            ]
          },
          "metadata": {},
          "execution_count": 55
        }
      ]
    },
    {
      "cell_type": "code",
      "metadata": {
        "id": "LiW70SK34jBu"
      },
      "source": [
        "y_counts_train += y_counts_per_group['A']"
      ],
      "execution_count": 56,
      "outputs": []
    },
    {
      "cell_type": "code",
      "metadata": {
        "colab": {
          "base_uri": "https://localhost:8080/"
        },
        "id": "VFTfANVg4phK",
        "outputId": "bb2b5289-3643-4daa-c83a-0de52357c498"
      },
      "source": [
        "y_counts_train"
      ],
      "execution_count": 57,
      "outputs": [
        {
          "output_type": "execute_result",
          "data": {
            "text/plain": [
              "array([5., 9., 8.])"
            ]
          },
          "metadata": {},
          "execution_count": 57
        }
      ]
    },
    {
      "cell_type": "code",
      "metadata": {
        "colab": {
          "base_uri": "https://localhost:8080/"
        },
        "id": "Dh0bhJ834rzn",
        "outputId": "4c5f48db-1d8d-46b1-d7a3-f51165f48ec0"
      },
      "source": [
        "y_counts_train += y_counts_per_group['E']\n",
        "y_counts_train"
      ],
      "execution_count": 58,
      "outputs": [
        {
          "output_type": "execute_result",
          "data": {
            "text/plain": [
              "array([17., 19., 21.])"
            ]
          },
          "metadata": {},
          "execution_count": 58
        }
      ]
    },
    {
      "cell_type": "code",
      "metadata": {
        "colab": {
          "base_uri": "https://localhost:8080/"
        },
        "id": "LNXC-34Y6x0w",
        "outputId": "9db5c6e9-133c-446c-d88a-ea932216eef0"
      },
      "source": [
        "y_counts_train"
      ],
      "execution_count": 59,
      "outputs": [
        {
          "output_type": "execute_result",
          "data": {
            "text/plain": [
              "array([17., 19., 21.])"
            ]
          },
          "metadata": {},
          "execution_count": 59
        }
      ]
    },
    {
      "cell_type": "code",
      "metadata": {
        "id": "vQOvuFKr7BP9"
      },
      "source": [
        "id_train = X['ID'].unique()\n",
        "for id in id_train:\n",
        "    y_counts_train += y_counts_per_group[id]"
      ],
      "execution_count": 62,
      "outputs": []
    },
    {
      "cell_type": "code",
      "metadata": {
        "colab": {
          "base_uri": "https://localhost:8080/"
        },
        "id": "Lfv3klu37Tag",
        "outputId": "950d09f6-ea63-4ce6-ab95-54a22cb67d69"
      },
      "source": [
        "y_counts_train"
      ],
      "execution_count": 63,
      "outputs": [
        {
          "output_type": "execute_result",
          "data": {
            "text/plain": [
              "array([67., 69., 71.])"
            ]
          },
          "metadata": {},
          "execution_count": 63
        }
      ]
    },
    {
      "cell_type": "code",
      "metadata": {
        "colab": {
          "base_uri": "https://localhost:8080/"
        },
        "id": "0CdH1_EQ7YYk",
        "outputId": "c0c17662-8757-4d84-bcc5-579d1603b077"
      },
      "source": [
        "num_ratio = y_counts_train / np.max(y_counts_train)\n",
        "num_ratio"
      ],
      "execution_count": 65,
      "outputs": [
        {
          "output_type": "execute_result",
          "data": {
            "text/plain": [
              "array([0.94366197, 0.97183099, 1.        ])"
            ]
          },
          "metadata": {},
          "execution_count": 65
        }
      ]
    },
    {
      "cell_type": "code",
      "metadata": {
        "id": "7c-hOhfM9yhk"
      },
      "source": [
        "def count_y(y, groups):\n",
        "    \"\"\"统计每个group里各个y 数目\"\"\"\n",
        "    unique_num = np.max(y) + 1\n",
        "    #key不存在默认返回 np.zeros(unique_num)\n",
        "    y_counts_per_group = defaultdict(lambda : np.zeros(unique_num))\n",
        "\n",
        "    for label, g  in zip(y, groups):\n",
        "        y_counts_per_group[g][label] += 1\n",
        "\n",
        "    # defaultdict(<function__main__.<lambda>>,\n",
        "    # {'A': array([5., 9., 8.]),\n",
        "    # 'B': array([11., 12., 10.]),\n",
        "    # 'C': array([13., 8., 8.]),\n",
        "    # 'D': array([9., 11., 11.]),\n",
        "    # 'E': array([12., 10., 13.])})\n",
        "    return y_counts_per_group"
      ],
      "execution_count": 68,
      "outputs": []
    },
    {
      "cell_type": "code",
      "metadata": {
        "id": "rUs8WmX__uJU"
      },
      "source": [
        "def StratiiedGroupKFold(X, y, groups, features, k, seed=None):\n",
        "    \"\"\"\n",
        "    StratiiedGroupKFold数据，yeild划分后数据集索引\n",
        "    :param X: 数据集X\n",
        "    :param y: y target\n",
        "    :param groups: 指定其分布划分的groups\n",
        "    :param features: 特征\n",
        "    :param k: n_split\n",
        "    :param seed:\n",
        "    \"\"\"\n",
        "    max_y = np.max(y)\n",
        "    #得到每个groups y的数目的统计字典\n",
        "    y_counts_per_group = count_y(y, groups)\n",
        "    gf = GroupKFold(n_splits=k)\n",
        "    for train_idx, val_idx in gf.split(X, y, groups):\n",
        "        #分别获取train val划分后数据 以及各自对应的ID列类别数目\n",
        "        x_train = X.iloc[train_idx,:]\n",
        "        #id列类别数目\n",
        "        id_train = x_train['ID'].unique()\n",
        "        x_train = x_train[features]\n",
        "\n",
        "        x_val, y_val = X.iloc[val_idx, :], y.iloc[val_idx]\n",
        "        id_val = x_val['ID'].unique()\n",
        "        x_val = x_val[features]\n",
        "\n",
        "        #统计training dataset 和 validation dataset中y中每个类别数目\n",
        "        y_counts_train = np.zeros(max_y + 1)\n",
        "        y_counts_val = np.zeros(max_y + 1)\n",
        "        for id in id_train:\n",
        "            y_counts_train += y_counts_per_group[id]\n",
        "        for id in id_val:\n",
        "            y_counts_val += y_counts_per_group[id]\n",
        "\n",
        "        #train dataset中按ID列统计y类别相对于最大数目的比例\n",
        "        numratio_train = y_counts_train / np.max(y_counts_train)\n",
        "        #stratified 数目: validation dataset对应y_counts_train最大值索引的count数目 * numratio_train向上取整\n",
        "        stratified_count = np.ceil(y_counts_val[np.argmax(y_counts_train)] * numratio_train).astype(int)\n",
        "\n",
        "        val_idx = np.array([])\n",
        "        np.random.rand(seed)\n",
        "        for num in range(max_y + 1):\n",
        "            val_idx = np.append(val_idx, np.random.choice(y_val[y_val==num].index, stratified_count[num]))\n",
        "        val_idx = val_idx.astype(int)\n",
        "\n",
        "        yield train_idx, val_idx"
      ],
      "execution_count": 85,
      "outputs": []
    },
    {
      "cell_type": "code",
      "metadata": {
        "id": "sbyqnz66_4Uz"
      },
      "source": [
        "def get_distribution(y_vals):\n",
        "    \"\"\"返回个y各类别的占比\"\"\"\n",
        "    y_distribut = Counter(y_vals)\n",
        "    y_vals_sum = sum(y_distribut.values())\n",
        "    return [f'{y_distribut[i]/y_vals_sum:.2%}' for i in range(np.max(y_vals) + 1)]"
      ],
      "execution_count": 86,
      "outputs": []
    },
    {
      "cell_type": "code",
      "metadata": {
        "colab": {
          "base_uri": "https://localhost:8080/"
        },
        "id": "mGY17x6R_9VL",
        "outputId": "71b89f72-e7c0-4e3c-dc24-545c8c5d093e"
      },
      "source": [
        "X = df.drop('target', axis=1)\n",
        "y = df['target']\n",
        "groups = df['ID']\n",
        "\n",
        "distribution = [get_distribution(y)]\n",
        "index = ['all dataset']\n",
        "\n",
        "#看看划分情况\n",
        "for fold, (train_idx, val_idx) in enumerate(StratiiedGroupKFold(X, y, groups, features, k=3, seed=2020)):\n",
        "    print(f'Train ID - fold {fold:1d}:{groups[train_idx].unique()}\\\n",
        "       Test ID - fold {fold:1d}:{groups[val_idx].unique()}')\n",
        "\n",
        "    distribution.append(get_distribution(y[train_idx]))\n",
        "    index.append(f'train set - fold{fold:1d}')\n",
        "    distribution.append(get_distribution(y[val_idx]))\n",
        "    index.append(f'valid set - fold{fold:1d}')\n",
        "print(pd.DataFrame(distribution, index=index, columns={f' Label{l:2d}' for l in range(np.max(y)+1)}))"
      ],
      "execution_count": 90,
      "outputs": [
        {
          "output_type": "stream",
          "name": "stdout",
          "text": [
            "Train ID - fold 0:['A' 'C' 'B' 'D']       Test ID - fold 0:['E']\n",
            "Train ID - fold 1:['E' 'C' 'D']       Test ID - fold 1:['B' 'A']\n",
            "Train ID - fold 2:['A' 'E' 'B']       Test ID - fold 2:['D' 'C']\n",
            "                   Label 1  Label 2  Label 0\n",
            "all dataset         33.33%   33.33%   33.33%\n",
            "train set - fold0   33.04%   34.78%   32.17%\n",
            "valid set - fold0   33.33%   33.33%   33.33%\n",
            "train set - fold1   35.79%   30.53%   33.68%\n",
            "valid set - fold1   34.78%   30.43%   34.78%\n",
            "train set - fold2   31.11%   34.44%   34.44%\n",
            "valid set - fold2   32.14%   33.93%   33.93%\n"
          ]
        }
      ]
    },
    {
      "cell_type": "code",
      "metadata": {
        "colab": {
          "base_uri": "https://localhost:8080/",
          "height": 410
        },
        "id": "bwfXIlAlGOb7",
        "outputId": "6af6a0d6-dd91-45ae-af3c-55a2de92f933"
      },
      "source": [
        "train_x = pd.read_csv('/content/train.csv')\n",
        "train_y = train_x.AdoptionSpeed.values\n",
        "groups = np.array(train_x.RescuerID.values)\n",
        "\n",
        "\n",
        "def get_distribution(y_vals):\n",
        "    y_distr = Counter(y_vals)\n",
        "    y_vals_sum = sum(y_distr.values())\n",
        "    return [f'{y_distr[i] / y_vals_sum:.2%}' for i in range(np.max(y_vals) + 1)]\n",
        "\n",
        "\n",
        "def stratified_group_k_fold(X, y, groups, k, seed=None):\n",
        "    labels_num = np.max(y) + 1\n",
        "    y_counts_per_group = defaultdict(lambda: np.zeros(labels_num))\n",
        "    y_distr = Counter()\n",
        "    for label, g in zip(y, groups):\n",
        "        y_counts_per_group[g][label] += 1\n",
        "        y_distr[label] += 1\n",
        "\n",
        "    y_counts_per_fold = defaultdict(lambda: np.zeros(labels_num))\n",
        "    groups_per_fold = defaultdict(set)\n",
        "\n",
        "    def eval_y_counts_per_fold(y_counts, fold):\n",
        "        y_counts_per_fold[fold] += y_counts\n",
        "        std_per_label = []\n",
        "        for label in range(labels_num):\n",
        "            label_std = np.std([y_counts_per_fold[i][label] / y_distr[label] for i in range(k)])\n",
        "            std_per_label.append(label_std)\n",
        "        y_counts_per_fold[fold] -= y_counts\n",
        "        return np.mean(std_per_label)\n",
        "\n",
        "    groups_and_y_counts = list(y_counts_per_group.items())\n",
        "    random.Random(seed).shuffle(groups_and_y_counts)\n",
        "\n",
        "    for g, y_counts in sorted(groups_and_y_counts, key=lambda x: -np.std(x[1])):\n",
        "        best_fold = None\n",
        "        min_eval = None\n",
        "        for i in range(k):\n",
        "            fold_eval = eval_y_counts_per_fold(y_counts, i)\n",
        "            if min_eval is None or fold_eval < min_eval:\n",
        "                min_eval = fold_eval\n",
        "                best_fold = i\n",
        "        y_counts_per_fold[best_fold] += y_counts\n",
        "        groups_per_fold[best_fold].add(g)\n",
        "\n",
        "    all_groups = set(groups)\n",
        "    for i in range(k):\n",
        "        train_groups = all_groups - groups_per_fold[i]\n",
        "        test_groups = groups_per_fold[i]\n",
        "\n",
        "        train_indices = [i for i, g in enumerate(groups) if g in train_groups]\n",
        "        test_indices = [i for i, g in enumerate(groups) if g in test_groups]\n",
        "\n",
        "        yield train_indices, test_indices\n",
        "\n",
        "\n",
        "distrs = [get_distribution(train_y)]\n",
        "index = ['training set']\n",
        "# from IPython import display, html\n",
        "for fold_ind, (dev_ind, val_ind) in enumerate(stratified_group_k_fold(train_x, train_y, groups, k=5)):\n",
        "    dev_y, val_y = train_y[dev_ind], train_y[val_ind]\n",
        "    dev_groups, val_groups = groups[dev_ind], groups[val_ind]\n",
        "\n",
        "    assert len(set(dev_groups) & set(val_groups)) == 0\n",
        "\n",
        "    distrs.append(get_distribution(dev_y))\n",
        "    index.append(f'development set - fold {fold_ind:<1d}')\n",
        "    distrs.append(get_distribution(val_y))\n",
        "    index.append(f'validation set - fold {fold_ind:<1d}')\n",
        "\n",
        "print('Distribution per class:')\n",
        "pd.DataFrame(distrs, index=index, columns=[f'Label {l:2d}' for l in range(np.max(train_y) + 1)])"
      ],
      "execution_count": 96,
      "outputs": [
        {
          "output_type": "stream",
          "name": "stdout",
          "text": [
            "Distribution per class:\n"
          ]
        },
        {
          "output_type": "execute_result",
          "data": {
            "text/html": [
              "<div>\n",
              "<style scoped>\n",
              "    .dataframe tbody tr th:only-of-type {\n",
              "        vertical-align: middle;\n",
              "    }\n",
              "\n",
              "    .dataframe tbody tr th {\n",
              "        vertical-align: top;\n",
              "    }\n",
              "\n",
              "    .dataframe thead th {\n",
              "        text-align: right;\n",
              "    }\n",
              "</style>\n",
              "<table border=\"1\" class=\"dataframe\">\n",
              "  <thead>\n",
              "    <tr style=\"text-align: right;\">\n",
              "      <th></th>\n",
              "      <th>Label  0</th>\n",
              "      <th>Label  1</th>\n",
              "      <th>Label  2</th>\n",
              "      <th>Label  3</th>\n",
              "      <th>Label  4</th>\n",
              "    </tr>\n",
              "  </thead>\n",
              "  <tbody>\n",
              "    <tr>\n",
              "      <th>training set</th>\n",
              "      <td>2.73%</td>\n",
              "      <td>20.61%</td>\n",
              "      <td>26.93%</td>\n",
              "      <td>21.74%</td>\n",
              "      <td>27.99%</td>\n",
              "    </tr>\n",
              "    <tr>\n",
              "      <th>development set - fold 0</th>\n",
              "      <td>2.74%</td>\n",
              "      <td>20.61%</td>\n",
              "      <td>26.93%</td>\n",
              "      <td>21.74%</td>\n",
              "      <td>27.99%</td>\n",
              "    </tr>\n",
              "    <tr>\n",
              "      <th>validation set - fold 0</th>\n",
              "      <td>2.71%</td>\n",
              "      <td>20.61%</td>\n",
              "      <td>26.92%</td>\n",
              "      <td>21.74%</td>\n",
              "      <td>28.02%</td>\n",
              "    </tr>\n",
              "    <tr>\n",
              "      <th>development set - fold 1</th>\n",
              "      <td>2.73%</td>\n",
              "      <td>20.61%</td>\n",
              "      <td>26.93%</td>\n",
              "      <td>21.74%</td>\n",
              "      <td>27.99%</td>\n",
              "    </tr>\n",
              "    <tr>\n",
              "      <th>validation set - fold 1</th>\n",
              "      <td>2.74%</td>\n",
              "      <td>20.62%</td>\n",
              "      <td>26.93%</td>\n",
              "      <td>21.72%</td>\n",
              "      <td>27.99%</td>\n",
              "    </tr>\n",
              "    <tr>\n",
              "      <th>development set - fold 2</th>\n",
              "      <td>2.74%</td>\n",
              "      <td>20.61%</td>\n",
              "      <td>26.93%</td>\n",
              "      <td>21.74%</td>\n",
              "      <td>27.99%</td>\n",
              "    </tr>\n",
              "    <tr>\n",
              "      <th>validation set - fold 2</th>\n",
              "      <td>2.71%</td>\n",
              "      <td>20.61%</td>\n",
              "      <td>26.92%</td>\n",
              "      <td>21.74%</td>\n",
              "      <td>28.02%</td>\n",
              "    </tr>\n",
              "    <tr>\n",
              "      <th>development set - fold 3</th>\n",
              "      <td>2.73%</td>\n",
              "      <td>20.61%</td>\n",
              "      <td>26.92%</td>\n",
              "      <td>21.74%</td>\n",
              "      <td>28.00%</td>\n",
              "    </tr>\n",
              "    <tr>\n",
              "      <th>validation set - fold 3</th>\n",
              "      <td>2.76%</td>\n",
              "      <td>20.61%</td>\n",
              "      <td>26.93%</td>\n",
              "      <td>21.74%</td>\n",
              "      <td>27.96%</td>\n",
              "    </tr>\n",
              "    <tr>\n",
              "      <th>development set - fold 4</th>\n",
              "      <td>2.73%</td>\n",
              "      <td>20.61%</td>\n",
              "      <td>26.92%</td>\n",
              "      <td>21.74%</td>\n",
              "      <td>28.00%</td>\n",
              "    </tr>\n",
              "    <tr>\n",
              "      <th>validation set - fold 4</th>\n",
              "      <td>2.76%</td>\n",
              "      <td>20.61%</td>\n",
              "      <td>26.93%</td>\n",
              "      <td>21.74%</td>\n",
              "      <td>27.96%</td>\n",
              "    </tr>\n",
              "  </tbody>\n",
              "</table>\n",
              "</div>"
            ],
            "text/plain": [
              "                         Label  0 Label  1 Label  2 Label  3 Label  4\n",
              "training set                2.73%   20.61%   26.93%   21.74%   27.99%\n",
              "development set - fold 0    2.74%   20.61%   26.93%   21.74%   27.99%\n",
              "validation set - fold 0     2.71%   20.61%   26.92%   21.74%   28.02%\n",
              "development set - fold 1    2.73%   20.61%   26.93%   21.74%   27.99%\n",
              "validation set - fold 1     2.74%   20.62%   26.93%   21.72%   27.99%\n",
              "development set - fold 2    2.74%   20.61%   26.93%   21.74%   27.99%\n",
              "validation set - fold 2     2.71%   20.61%   26.92%   21.74%   28.02%\n",
              "development set - fold 3    2.73%   20.61%   26.92%   21.74%   28.00%\n",
              "validation set - fold 3     2.76%   20.61%   26.93%   21.74%   27.96%\n",
              "development set - fold 4    2.73%   20.61%   26.92%   21.74%   28.00%\n",
              "validation set - fold 4     2.76%   20.61%   26.93%   21.74%   27.96%"
            ]
          },
          "metadata": {},
          "execution_count": 96
        }
      ]
    },
    {
      "cell_type": "markdown",
      "metadata": {
        "id": "VxowOb7IQOb_"
      },
      "source": [
        "- [stratified-group-k-fold-cross-validation](https://www.kaggle.com/jakubwasikowski/stratified-group-k-fold-cross-validation)"
      ]
    }
  ]
}