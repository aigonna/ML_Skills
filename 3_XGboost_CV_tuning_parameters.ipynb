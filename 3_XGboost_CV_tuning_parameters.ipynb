{
  "nbformat": 4,
  "nbformat_minor": 0,
  "metadata": {
    "colab": {
      "name": "3.XGboost CV tuning parameters.ipynb",
      "provenance": [],
      "machine_shape": "hm",
      "authorship_tag": "ABX9TyO/xdzhSfTWu5RJKw3qQy97",
      "include_colab_link": true
    },
    "kernelspec": {
      "name": "python3",
      "display_name": "Python 3"
    },
    "language_info": {
      "name": "python"
    },
    "accelerator": "GPU"
  },
  "cells": [
    {
      "cell_type": "markdown",
      "metadata": {
        "id": "view-in-github",
        "colab_type": "text"
      },
      "source": [
        "<a href=\"https://colab.research.google.com/github/aigonna/ML_Skills/blob/main/3_XGboost_CV_tuning_parameters.ipynb\" target=\"_parent\"><img src=\"https://colab.research.google.com/assets/colab-badge.svg\" alt=\"Open In Colab\"/></a>"
      ]
    },
    {
      "cell_type": "code",
      "metadata": {
        "colab": {
          "base_uri": "https://localhost:8080/"
        },
        "id": "fyVR3rCVgHVB",
        "outputId": "1fac6228-4d59-4c37-f806-5e02d1fc7daf"
      },
      "source": [
        "import os\n",
        "from google.colab import drive\n",
        "drive.mount('/content/drive', force_remount=True)"
      ],
      "execution_count": 1,
      "outputs": [
        {
          "output_type": "stream",
          "text": [
            "Mounted at /content/drive\n"
          ],
          "name": "stdout"
        }
      ]
    },
    {
      "cell_type": "code",
      "metadata": {
        "id": "AonnSDjygOEv"
      },
      "source": [
        "cp -r /content/drive/Shareddrives/mm/kaggles/tatanic/data /content/"
      ],
      "execution_count": 2,
      "outputs": []
    },
    {
      "cell_type": "code",
      "metadata": {
        "id": "RDIBfzuZgZfC"
      },
      "source": [
        "import os\n",
        "import time\n",
        "import re\n",
        "\n",
        "# Installed libraries\n",
        "import numpy as np\n",
        "import pandas as pd\n",
        "from sklearn.metrics import accuracy_score, f1_score\n",
        "from sklearn.model_selection import train_test_split, GridSearchCV, KFold\n",
        "\n",
        "import xgboost as xgb\n",
        "from pathlib import Path"
      ],
      "execution_count": 22,
      "outputs": []
    },
    {
      "cell_type": "code",
      "metadata": {
        "colab": {
          "base_uri": "https://localhost:8080/",
          "height": 205
        },
        "id": "ecWvJS4HimWW",
        "outputId": "eeddb8b5-3750-47a2-bb65-dff153c67b97"
      },
      "source": [
        "data_dir = Path(\"/content/data\")\n",
        "\n",
        "train_data = pd.read_csv(data_dir/'train.csv')\n",
        "test_data = pd.read_csv(data_dir/'test.csv')\n",
        "sample = pd.read_csv(data_dir/'gender_submission.csv')\n",
        "train_data.head()"
      ],
      "execution_count": 4,
      "outputs": [
        {
          "output_type": "execute_result",
          "data": {
            "text/html": [
              "<div>\n",
              "<style scoped>\n",
              "    .dataframe tbody tr th:only-of-type {\n",
              "        vertical-align: middle;\n",
              "    }\n",
              "\n",
              "    .dataframe tbody tr th {\n",
              "        vertical-align: top;\n",
              "    }\n",
              "\n",
              "    .dataframe thead th {\n",
              "        text-align: right;\n",
              "    }\n",
              "</style>\n",
              "<table border=\"1\" class=\"dataframe\">\n",
              "  <thead>\n",
              "    <tr style=\"text-align: right;\">\n",
              "      <th></th>\n",
              "      <th>PassengerId</th>\n",
              "      <th>Survived</th>\n",
              "      <th>Pclass</th>\n",
              "      <th>Name</th>\n",
              "      <th>Sex</th>\n",
              "      <th>Age</th>\n",
              "      <th>SibSp</th>\n",
              "      <th>Parch</th>\n",
              "      <th>Ticket</th>\n",
              "      <th>Fare</th>\n",
              "      <th>Cabin</th>\n",
              "      <th>Embarked</th>\n",
              "    </tr>\n",
              "  </thead>\n",
              "  <tbody>\n",
              "    <tr>\n",
              "      <th>0</th>\n",
              "      <td>1</td>\n",
              "      <td>0</td>\n",
              "      <td>3</td>\n",
              "      <td>Braund, Mr. Owen Harris</td>\n",
              "      <td>male</td>\n",
              "      <td>22.0</td>\n",
              "      <td>1</td>\n",
              "      <td>0</td>\n",
              "      <td>A/5 21171</td>\n",
              "      <td>7.2500</td>\n",
              "      <td>NaN</td>\n",
              "      <td>S</td>\n",
              "    </tr>\n",
              "    <tr>\n",
              "      <th>1</th>\n",
              "      <td>2</td>\n",
              "      <td>1</td>\n",
              "      <td>1</td>\n",
              "      <td>Cumings, Mrs. John Bradley (Florence Briggs Th...</td>\n",
              "      <td>female</td>\n",
              "      <td>38.0</td>\n",
              "      <td>1</td>\n",
              "      <td>0</td>\n",
              "      <td>PC 17599</td>\n",
              "      <td>71.2833</td>\n",
              "      <td>C85</td>\n",
              "      <td>C</td>\n",
              "    </tr>\n",
              "    <tr>\n",
              "      <th>2</th>\n",
              "      <td>3</td>\n",
              "      <td>1</td>\n",
              "      <td>3</td>\n",
              "      <td>Heikkinen, Miss. Laina</td>\n",
              "      <td>female</td>\n",
              "      <td>26.0</td>\n",
              "      <td>0</td>\n",
              "      <td>0</td>\n",
              "      <td>STON/O2. 3101282</td>\n",
              "      <td>7.9250</td>\n",
              "      <td>NaN</td>\n",
              "      <td>S</td>\n",
              "    </tr>\n",
              "    <tr>\n",
              "      <th>3</th>\n",
              "      <td>4</td>\n",
              "      <td>1</td>\n",
              "      <td>1</td>\n",
              "      <td>Futrelle, Mrs. Jacques Heath (Lily May Peel)</td>\n",
              "      <td>female</td>\n",
              "      <td>35.0</td>\n",
              "      <td>1</td>\n",
              "      <td>0</td>\n",
              "      <td>113803</td>\n",
              "      <td>53.1000</td>\n",
              "      <td>C123</td>\n",
              "      <td>S</td>\n",
              "    </tr>\n",
              "    <tr>\n",
              "      <th>4</th>\n",
              "      <td>5</td>\n",
              "      <td>0</td>\n",
              "      <td>3</td>\n",
              "      <td>Allen, Mr. William Henry</td>\n",
              "      <td>male</td>\n",
              "      <td>35.0</td>\n",
              "      <td>0</td>\n",
              "      <td>0</td>\n",
              "      <td>373450</td>\n",
              "      <td>8.0500</td>\n",
              "      <td>NaN</td>\n",
              "      <td>S</td>\n",
              "    </tr>\n",
              "  </tbody>\n",
              "</table>\n",
              "</div>"
            ],
            "text/plain": [
              "   PassengerId  Survived  Pclass  ...     Fare Cabin  Embarked\n",
              "0            1         0       3  ...   7.2500   NaN         S\n",
              "1            2         1       1  ...  71.2833   C85         C\n",
              "2            3         1       3  ...   7.9250   NaN         S\n",
              "3            4         1       1  ...  53.1000  C123         S\n",
              "4            5         0       3  ...   8.0500   NaN         S\n",
              "\n",
              "[5 rows x 12 columns]"
            ]
          },
          "metadata": {},
          "execution_count": 4
        }
      ]
    },
    {
      "cell_type": "code",
      "metadata": {
        "colab": {
          "base_uri": "https://localhost:8080/"
        },
        "id": "XaRZ_9EPiu81",
        "outputId": "42324167-0072-4b93-9bc8-4a358665cf03"
      },
      "source": [
        "train_data.shape"
      ],
      "execution_count": 5,
      "outputs": [
        {
          "output_type": "execute_result",
          "data": {
            "text/plain": [
              "(891, 12)"
            ]
          },
          "metadata": {},
          "execution_count": 5
        }
      ]
    },
    {
      "cell_type": "code",
      "metadata": {
        "id": "Rb_TWBX8imvs"
      },
      "source": [
        "def get_title(name):\n",
        "    title_search = re.search(' ([A-Za-z]+)\\.', name)  # 搜索字母后接.像Mr.这种敬称\n",
        "    # If the title exists, extract and return it.\n",
        "    if title_search:\n",
        "        return title_search.group(1)\n",
        "    return \"\"\n",
        "\n",
        "\n",
        "def create_extra_features(data):\n",
        "    data['Ticket_type'] = data['Ticket'].map(lambda x: x[0:3])  # Ticket_type只要Ticket前3字符\n",
        "    data['Name_Words_Count'] = data['Name'].map(lambda x: len(x.split()))  # name 词数\n",
        "    # 如果不nan就是有Cabin,转换为1,0int型数据\n",
        "    data['Has_Cabin'] = data[\"Cabin\"].map(lambda x: 1 - int(type(x) == float))\n",
        "    data['FamilySize'] = data['SibSp'] + data['Parch'] + 1\n",
        "\n",
        "    \n",
        "    data['Fare'] = data['Fare'].fillna(data['Fare'].mean()).astype('int')\n",
        "    data['Age'] = data['Age'].fillna(data['Age'].mean()).astype('int')\n",
        "\n",
        "    data['Title'] = data['Name'].apply(get_title).replace(\n",
        "        ['Lady', 'Countess', 'Capt', 'Col', 'Don', 'Dr', 'Major', 'Rev', 'Sir', 'Jonkheer', 'Dona'], 'Rare')\n",
        "    data['Title'] = data['Title'].replace('Mlle', 'Miss')\n",
        "    data['Title'] = data['Title'].replace('Ms', 'Miss')\n",
        "    data['Title'] = data['Title'].replace('Mme', 'Mrs')\n",
        "    data['Title'] = data['Title'].map({\"Mr\": 1, \"Miss\": 2, \"Mrs\": 3, \"Master\": 4, \"Rare\": 5}).fillna(0)\n",
        "    data['Sex'] = data['Sex'].map({'female': 1, 'male':0}).astype(int)\n",
        "    data['Embarked'] = data['Embarked'].map({\"C\":0,\"Q\":1,\"S\":2}).fillna(0).astype(int)\n",
        "\n",
        "    return data"
      ],
      "execution_count": 6,
      "outputs": []
    },
    {
      "cell_type": "code",
      "metadata": {
        "id": "YSbwveTfiq9B"
      },
      "source": [
        "train_data = create_extra_features(train_data)\n",
        "test_data = create_extra_features(test_data)"
      ],
      "execution_count": 7,
      "outputs": []
    },
    {
      "cell_type": "code",
      "metadata": {
        "id": "4gdxtqOijAlL"
      },
      "source": [
        "train_data.drop(['PassengerId', 'Name', 'Ticket', 'Ticket_type', 'Cabin'], axis=1, inplace=True)\n",
        "test_data.drop(['PassengerId', 'Name', 'Ticket', 'Ticket_type', 'Cabin'], axis=1, inplace=True)\n",
        "X = train_data.drop(['Survived'], axis=1, inplace=False)\n",
        "y = train_data['Survived']"
      ],
      "execution_count": 8,
      "outputs": []
    },
    {
      "cell_type": "code",
      "metadata": {
        "id": "0BlOdBGjjEcn"
      },
      "source": [
        "def f1_metric(y_true, y_pred):\n",
        "    return f1_score(y_true, (y_pred > 0.5).astype(int))"
      ],
      "execution_count": 9,
      "outputs": []
    },
    {
      "cell_type": "markdown",
      "metadata": {
        "id": "3NOFM9uMZdlG"
      },
      "source": [
        "##1.先调n_estimators"
      ]
    },
    {
      "cell_type": "code",
      "metadata": {
        "id": "Pn6MdRHLjHUa"
      },
      "source": [
        "SEED = 2020\n",
        "cv_params = {'n_estimators': [50, 100, 200, 300, 500, 700]}\n",
        "fixed_params = {'eta': 1e-4,\n",
        "                'max_depth': 8,\n",
        "                'min_child_weight': 1,\n",
        "                'subsample': 0.8,\n",
        "                'colsample_bytree': 0.8,\n",
        "                'reg_lambda': 0.1,\n",
        "                'reg_alpha': 0.1,\n",
        "                'gamma': 0.1,\n",
        "                'seed':SEED,\n",
        "                'tree_method': 'gpu_hist',\n",
        "                'predictor': 'gpu_predictor'\n",
        "                }"
      ],
      "execution_count": 10,
      "outputs": []
    },
    {
      "cell_type": "code",
      "metadata": {
        "id": "uiH78NbIk29g",
        "colab": {
          "base_uri": "https://localhost:8080/"
        },
        "outputId": "cea375cc-f380-4f0a-e97c-59803dbf13e6"
      },
      "source": [
        "model = xgb.XGBClassifier(**fixed_params)\n",
        "optimized_XGB = GridSearchCV(estimator=model, param_grid=cv_params, scoring='roc_auc', cv=5, verbose=1, n_jobs=-1, )\n",
        "optimized_XGB.fit(X, y)"
      ],
      "execution_count": 11,
      "outputs": [
        {
          "output_type": "stream",
          "text": [
            "Fitting 5 folds for each of 6 candidates, totalling 30 fits\n"
          ],
          "name": "stdout"
        },
        {
          "output_type": "stream",
          "text": [
            "[Parallel(n_jobs=-1)]: Using backend LokyBackend with 4 concurrent workers.\n",
            "[Parallel(n_jobs=-1)]: Done  30 out of  30 | elapsed:  1.2min finished\n"
          ],
          "name": "stderr"
        },
        {
          "output_type": "execute_result",
          "data": {
            "text/plain": [
              "GridSearchCV(cv=5, error_score=nan,\n",
              "             estimator=XGBClassifier(base_score=0.5, booster='gbtree',\n",
              "                                     colsample_bylevel=1, colsample_bynode=1,\n",
              "                                     colsample_bytree=0.8, eta=0.0001,\n",
              "                                     gamma=0.1, learning_rate=0.1,\n",
              "                                     max_delta_step=0, max_depth=8,\n",
              "                                     min_child_weight=1, missing=None,\n",
              "                                     n_estimators=100, n_jobs=1, nthread=None,\n",
              "                                     objective='binary:logistic',\n",
              "                                     predictor='gpu_predictor', random_state=0,\n",
              "                                     reg_alpha=0.1, reg_lambda=0.1,\n",
              "                                     scale_pos_weight=1, seed=2020, silent=None,\n",
              "                                     subsample=0.8, tree_method='gpu_hist',\n",
              "                                     verbosity=1),\n",
              "             iid='deprecated', n_jobs=-1,\n",
              "             param_grid={'n_estimators': [50, 100, 200, 300, 500, 700]},\n",
              "             pre_dispatch='2*n_jobs', refit=True, return_train_score=False,\n",
              "             scoring='roc_auc', verbose=1)"
            ]
          },
          "metadata": {},
          "execution_count": 11
        }
      ]
    },
    {
      "cell_type": "code",
      "metadata": {
        "colab": {
          "base_uri": "https://localhost:8080/"
        },
        "id": "_O64ER2yXoiw",
        "outputId": "e0e00f6a-fd0a-496b-b56e-2a0c96cc5c9b"
      },
      "source": [
        "cv_result = optimized_XGB.cv_results_\n",
        "print(\"每轮结果:\", cv_result)\n",
        "print(\"参数最佳值{}\".format(optimized_XGB.best_params_))\n",
        "print(\"最佳参数时模型分数:{}\".format(optimized_XGB.best_score_))"
      ],
      "execution_count": 12,
      "outputs": [
        {
          "output_type": "stream",
          "text": [
            "每轮结果: {'mean_fit_time': array([ 2.51054478,  3.47501941,  6.49996791,  9.39237518, 14.83499751,\n",
            "       17.15951338]), 'std_fit_time': array([0.36991085, 0.0988221 , 0.20566824, 0.23797885, 0.38571457,\n",
            "       3.348788  ]), 'mean_score_time': array([0.00460768, 0.00748944, 0.00533576, 0.00774097, 0.01062379,\n",
            "       0.00810347]), 'std_score_time': array([0.0002009 , 0.00233454, 0.00010953, 0.0012977 , 0.00260538,\n",
            "       0.00257486]), 'param_n_estimators': masked_array(data=[50, 100, 200, 300, 500, 700],\n",
            "             mask=[False, False, False, False, False, False],\n",
            "       fill_value='?',\n",
            "            dtype=object), 'params': [{'n_estimators': 50}, {'n_estimators': 100}, {'n_estimators': 200}, {'n_estimators': 300}, {'n_estimators': 500}, {'n_estimators': 700}], 'split0_test_score': array([0.87068511, 0.87160738, 0.8671278 , 0.86475626, 0.86488801,\n",
            "       0.86291173]), 'split1_test_score': array([0.8138369 , 0.81330214, 0.81717914, 0.8177139 , 0.81450535,\n",
            "       0.81610963]), 'split2_test_score': array([0.90127005, 0.89699198, 0.89993316, 0.90180481, 0.9019385 ,\n",
            "       0.89766043]), 'split3_test_score': array([0.8540107 , 0.86296791, 0.86176471, 0.85868984, 0.85227273,\n",
            "       0.84545455]), 'split4_test_score': array([0.91304348, 0.90692727, 0.89602446, 0.89695519, 0.89642335,\n",
            "       0.89456189]), 'mean_test_score': array([0.87056925, 0.87035934, 0.86840585, 0.867984  , 0.86600559,\n",
            "       0.86333964]), 'std_test_score': array([0.03532523, 0.03273599, 0.02975457, 0.03035477, 0.03180733,\n",
            "       0.03067077]), 'rank_test_score': array([1, 2, 3, 4, 5, 6], dtype=int32)}\n",
            "参数最佳值{'n_estimators': 50}\n",
            "最佳参数时模型分数:0.8705692474618306\n"
          ],
          "name": "stdout"
        }
      ]
    },
    {
      "cell_type": "markdown",
      "metadata": {
        "id": "HIacXcp6Y7Kv"
      },
      "source": [
        "- 现在还可把n_estimators 更细致调一调\n",
        "\n",
        "\n",
        "\n"
      ]
    },
    {
      "cell_type": "code",
      "metadata": {
        "id": "z-53jsSiZ7PB"
      },
      "source": [
        "SEED = 2020\n",
        "cv_params = {'n_estimators': [50, 100, 150, 200]}\n",
        "fixed_params = {'eta': 1e-4,\n",
        "                'max_depth': 8,\n",
        "                'min_child_weight': 1,\n",
        "                'subsample': 0.8,\n",
        "                'colsample_bytree': 0.8,\n",
        "                'reg_lambda': 0.1,\n",
        "                'reg_alpha': 0.1,\n",
        "                'gamma': 0.1,\n",
        "                'seed':SEED,\n",
        "                'tree_method': 'gpu_hist',\n",
        "                'predictor': 'gpu_predictor'\n",
        "                }\n"
      ],
      "execution_count": 16,
      "outputs": []
    },
    {
      "cell_type": "code",
      "metadata": {
        "colab": {
          "base_uri": "https://localhost:8080/"
        },
        "id": "Ur4xlFKtaMw1",
        "outputId": "3ba14bb4-fcd8-42c6-cb73-764f3427bf7d"
      },
      "source": [
        "model = xgb.XGBClassifier(**fixed_params)\n",
        "optimized_XGB = GridSearchCV(estimator=model, param_grid=cv_params, scoring='roc_auc', cv=5, verbose=1, n_jobs=-1, )\n",
        "optimized_XGB.fit(X, y)"
      ],
      "execution_count": 17,
      "outputs": [
        {
          "output_type": "stream",
          "text": [
            "Fitting 5 folds for each of 4 candidates, totalling 20 fits\n"
          ],
          "name": "stdout"
        },
        {
          "output_type": "stream",
          "text": [
            "[Parallel(n_jobs=-1)]: Using backend LokyBackend with 4 concurrent workers.\n",
            "[Parallel(n_jobs=-1)]: Done  20 out of  20 | elapsed:   21.3s finished\n"
          ],
          "name": "stderr"
        },
        {
          "output_type": "execute_result",
          "data": {
            "text/plain": [
              "GridSearchCV(cv=5, error_score=nan,\n",
              "             estimator=XGBClassifier(base_score=0.5, booster='gbtree',\n",
              "                                     colsample_bylevel=1, colsample_bynode=1,\n",
              "                                     colsample_bytree=0.8, eta=0.0001,\n",
              "                                     gamma=0.1, learning_rate=0.1,\n",
              "                                     max_delta_step=0, max_depth=8,\n",
              "                                     min_child_weight=1, missing=None,\n",
              "                                     n_estimators=100, n_jobs=1, nthread=None,\n",
              "                                     objective='binary:logistic',\n",
              "                                     predictor='gpu_predictor', random_state=0,\n",
              "                                     reg_alpha=0.1, reg_lambda=0.1,\n",
              "                                     scale_pos_weight=1, seed=2020, silent=None,\n",
              "                                     subsample=0.8, tree_method='gpu_hist',\n",
              "                                     verbosity=1),\n",
              "             iid='deprecated', n_jobs=-1,\n",
              "             param_grid={'n_estimators': [50, 100, 150, 200]},\n",
              "             pre_dispatch='2*n_jobs', refit=True, return_train_score=False,\n",
              "             scoring='roc_auc', verbose=1)"
            ]
          },
          "metadata": {},
          "execution_count": 17
        }
      ]
    },
    {
      "cell_type": "code",
      "metadata": {
        "colab": {
          "base_uri": "https://localhost:8080/"
        },
        "id": "j4oUZd26aNme",
        "outputId": "6eb1c62c-73a0-4461-a27b-125c19d8574d"
      },
      "source": [
        "cv_result = optimized_XGB.cv_results_\n",
        "print(\"每轮结果:\", cv_result)\n",
        "print(\"参数最佳值{}\".format(optimized_XGB.best_params_))\n",
        "print(\"最佳参数时模型分数:{}\".format(optimized_XGB.best_score_))"
      ],
      "execution_count": 18,
      "outputs": [
        {
          "output_type": "stream",
          "text": [
            "每轮结果: {'mean_fit_time': array([1.97086782, 3.47999945, 5.0122467 , 5.73091154]), 'std_fit_time': array([0.03435313, 0.10213554, 0.15638116, 0.75338172]), 'mean_score_time': array([0.00501428, 0.00728388, 0.00750213, 0.00423846]), 'std_score_time': array([0.00109571, 0.00188978, 0.00133593, 0.00098611]), 'param_n_estimators': masked_array(data=[50, 100, 150, 200],\n",
            "             mask=[False, False, False, False],\n",
            "       fill_value='?',\n",
            "            dtype=object), 'params': [{'n_estimators': 50}, {'n_estimators': 100}, {'n_estimators': 150}, {'n_estimators': 200}], 'split0_test_score': array([0.87068511, 0.87160738, 0.87147563, 0.8671278 ]), 'split1_test_score': array([0.8138369 , 0.81330214, 0.81610963, 0.81717914]), 'split2_test_score': array([0.90127005, 0.89699198, 0.89725936, 0.89993316]), 'split3_test_score': array([0.8540107 , 0.86296791, 0.86390374, 0.86176471]), 'split4_test_score': array([0.91304348, 0.90692727, 0.89868369, 0.89602446]), 'mean_test_score': array([0.87056925, 0.87035934, 0.86948641, 0.86840585]), 'std_test_score': array([0.03532523, 0.03273599, 0.03002673, 0.02975457]), 'rank_test_score': array([1, 2, 3, 4], dtype=int32)}\n",
            "参数最佳值{'n_estimators': 50}\n",
            "最佳参数时模型分数:0.8705692474618306\n"
          ],
          "name": "stdout"
        }
      ]
    },
    {
      "cell_type": "markdown",
      "metadata": {
        "id": "96dWqTfhaTCA"
      },
      "source": [
        "##2.再来调eta"
      ]
    },
    {
      "cell_type": "code",
      "metadata": {
        "id": "QTSLpTNKaY1P"
      },
      "source": [
        "SEED = 2020\n",
        "cv_params = {'eta': [1e-4, 5e-3, 1e-3, 5e-2, 1e-2, 0.1]}\n",
        "fixed_params = {\n",
        "        'n_estimators': 50,\n",
        "        'max_depth': 8,\n",
        "        'min_child_weight': 1,\n",
        "        'subsample': 0.8,\n",
        "        'colsample_bytree': 0.8,\n",
        "        'reg_lambda': 0.1,\n",
        "        'reg_alpha': 0.1,\n",
        "        'gamma': 0.1,\n",
        "        'seed':SEED,\n",
        "        'tree_method': 'gpu_hist',\n",
        "        'predictor': 'gpu_predictor'\n",
        "        }"
      ],
      "execution_count": 48,
      "outputs": []
    },
    {
      "cell_type": "code",
      "metadata": {
        "colab": {
          "base_uri": "https://localhost:8080/"
        },
        "id": "lXzwejiacB-W",
        "outputId": "920386be-423d-4fad-9d05-949abe3b018d"
      },
      "source": [
        "model = xgb.XGBClassifier(**fixed_params)\n",
        "optimized_XGB = GridSearchCV(estimator=model, param_grid=cv_params, scoring='roc_auc', cv=5, verbose=1, n_jobs=-1, )\n",
        "optimized_XGB.fit(X, y)"
      ],
      "execution_count": 49,
      "outputs": [
        {
          "output_type": "stream",
          "text": [
            "Fitting 5 folds for each of 6 candidates, totalling 30 fits\n"
          ],
          "name": "stdout"
        },
        {
          "output_type": "stream",
          "text": [
            "[Parallel(n_jobs=-1)]: Using backend LokyBackend with 2 concurrent workers.\n",
            "[Parallel(n_jobs=-1)]: Done  30 out of  30 | elapsed:   12.1s finished\n"
          ],
          "name": "stderr"
        },
        {
          "output_type": "execute_result",
          "data": {
            "text/plain": [
              "GridSearchCV(cv=5, error_score=nan,\n",
              "             estimator=XGBClassifier(base_score=0.5, booster='gbtree',\n",
              "                                     colsample_bylevel=1, colsample_bynode=1,\n",
              "                                     colsample_bytree=0.8, gamma=0.1,\n",
              "                                     learning_rate=0.1, max_delta_step=0,\n",
              "                                     max_depth=8, min_child_weight=1,\n",
              "                                     missing=None, n_estimators=50, n_jobs=1,\n",
              "                                     nthread=None, objective='binary:logistic',\n",
              "                                     predictor='gpu_predictor', random_state=0,\n",
              "                                     reg_alpha=0.1, reg_lambda=0.1,\n",
              "                                     scale_pos_weight=1, seed=2020, silent=None,\n",
              "                                     subsample=0.8, tree_method='gpu_hist',\n",
              "                                     verbosity=1),\n",
              "             iid='deprecated', n_jobs=-1,\n",
              "             param_grid={'eta': [0.0001, 0.005, 0.001, 0.05, 0.01, 0.1]},\n",
              "             pre_dispatch='2*n_jobs', refit=True, return_train_score=False,\n",
              "             scoring='roc_auc', verbose=1)"
            ]
          },
          "metadata": {},
          "execution_count": 49
        }
      ]
    },
    {
      "cell_type": "code",
      "metadata": {
        "colab": {
          "base_uri": "https://localhost:8080/"
        },
        "id": "1DMLwOnWdns4",
        "outputId": "4228884c-0f4a-4b1a-b05f-c90616ed0674"
      },
      "source": [
        "cv_result = optimized_XGB.cv_results_\n",
        "print(\"每轮结果:\", cv_result)\n",
        "print(\"参数最佳值{}\".format(optimized_XGB.best_params_))\n",
        "print(\"最佳参数时模型分数:{}\".format(optimized_XGB.best_score_))"
      ],
      "execution_count": 50,
      "outputs": [
        {
          "output_type": "stream",
          "text": [
            "每轮结果: {'mean_fit_time': array([0.78393226, 0.79432197, 0.78639483, 0.78861899, 0.78311682,\n",
            "       0.79058104]), 'std_fit_time': array([0.03190882, 0.01153002, 0.03931565, 0.01593621, 0.02149259,\n",
            "       0.01677429]), 'mean_score_time': array([0.00556259, 0.00541902, 0.00622802, 0.00527864, 0.00539079,\n",
            "       0.00454397]), 'std_score_time': array([0.00057804, 0.00082089, 0.00103792, 0.00071185, 0.00080593,\n",
            "       0.00078153]), 'param_eta': masked_array(data=[0.0001, 0.005, 0.001, 0.05, 0.01, 0.1],\n",
            "             mask=[False, False, False, False, False, False],\n",
            "       fill_value='?',\n",
            "            dtype=object), 'params': [{'eta': 0.0001}, {'eta': 0.005}, {'eta': 0.001}, {'eta': 0.05}, {'eta': 0.01}, {'eta': 0.1}], 'split0_test_score': array([0.87068511, 0.87068511, 0.87068511, 0.87068511, 0.87068511,\n",
            "       0.87068511]), 'split1_test_score': array([0.8138369, 0.8138369, 0.8138369, 0.8138369, 0.8138369, 0.8138369]), 'split2_test_score': array([0.90127005, 0.90127005, 0.90127005, 0.90127005, 0.90127005,\n",
            "       0.90127005]), 'split3_test_score': array([0.8540107, 0.8540107, 0.8540107, 0.8540107, 0.8540107, 0.8540107]), 'split4_test_score': array([0.91304348, 0.91304348, 0.91304348, 0.91304348, 0.91304348,\n",
            "       0.91304348]), 'mean_test_score': array([0.87056925, 0.87056925, 0.87056925, 0.87056925, 0.87056925,\n",
            "       0.87056925]), 'std_test_score': array([0.03532523, 0.03532523, 0.03532523, 0.03532523, 0.03532523,\n",
            "       0.03532523]), 'rank_test_score': array([1, 1, 1, 1, 1, 1], dtype=int32)}\n",
            "参数最佳值{'eta': 0.0001}\n",
            "最佳参数时模型分数:0.8705692474618306\n"
          ],
          "name": "stdout"
        }
      ]
    },
    {
      "cell_type": "markdown",
      "metadata": {
        "id": "-40KkXl4mLXA"
      },
      "source": [
        "##3.调节max_depth"
      ]
    },
    {
      "cell_type": "code",
      "metadata": {
        "id": "KQdpd8FymeMl"
      },
      "source": [
        "SEED = 2020\n",
        "cv_params = {'max_depth': [3, 5, 7, 9, 11, 13, 15]}\n",
        "fixed_params = {\n",
        "        'eta': 1e-4,\n",
        "        'n_estimators': 50,\n",
        "        # 'max_depth': 8,\n",
        "        'min_child_weight': 1,\n",
        "        'subsample': 0.8,\n",
        "        'colsample_bytree': 0.8,\n",
        "        'reg_lambda': 0.1,\n",
        "        'reg_alpha': 0.1,\n",
        "        'gamma': 0.1,\n",
        "        'seed':SEED,\n",
        "        'tree_method': 'gpu_hist',\n",
        "        'predictor': 'gpu_predictor'\n",
        "        }"
      ],
      "execution_count": 51,
      "outputs": []
    },
    {
      "cell_type": "code",
      "metadata": {
        "colab": {
          "base_uri": "https://localhost:8080/"
        },
        "id": "-gWo4r3ImxCH",
        "outputId": "2fd3c9fc-ef2c-4a9b-d4a9-0ae56353b285"
      },
      "source": [
        "model = xgb.XGBClassifier(**fixed_params)\n",
        "optimized_XGB = GridSearchCV(estimator=model, param_grid=cv_params, scoring='roc_auc', cv=5, verbose=1, n_jobs=-1, )\n",
        "optimized_XGB.fit(X, y)"
      ],
      "execution_count": 52,
      "outputs": [
        {
          "output_type": "stream",
          "text": [
            "Fitting 5 folds for each of 7 candidates, totalling 35 fits\n"
          ],
          "name": "stdout"
        },
        {
          "output_type": "stream",
          "text": [
            "[Parallel(n_jobs=-1)]: Using backend LokyBackend with 2 concurrent workers.\n",
            "[Parallel(n_jobs=-1)]: Done  35 out of  35 | elapsed:   13.5s finished\n"
          ],
          "name": "stderr"
        },
        {
          "output_type": "execute_result",
          "data": {
            "text/plain": [
              "GridSearchCV(cv=5, error_score=nan,\n",
              "             estimator=XGBClassifier(base_score=0.5, booster='gbtree',\n",
              "                                     colsample_bylevel=1, colsample_bynode=1,\n",
              "                                     colsample_bytree=0.8, eta=0.0001,\n",
              "                                     gamma=0.1, learning_rate=0.1,\n",
              "                                     max_delta_step=0, max_depth=3,\n",
              "                                     min_child_weight=1, missing=None,\n",
              "                                     n_estimators=50, n_jobs=1, nthread=None,\n",
              "                                     objective='binary:logistic',\n",
              "                                     predictor='gpu_predictor', random_state=0,\n",
              "                                     reg_alpha=0.1, reg_lambda=0.1,\n",
              "                                     scale_pos_weight=1, seed=2020, silent=None,\n",
              "                                     subsample=0.8, tree_method='gpu_hist',\n",
              "                                     verbosity=1),\n",
              "             iid='deprecated', n_jobs=-1,\n",
              "             param_grid={'max_depth': [3, 5, 7, 9, 11, 13, 15]},\n",
              "             pre_dispatch='2*n_jobs', refit=True, return_train_score=False,\n",
              "             scoring='roc_auc', verbose=1)"
            ]
          },
          "metadata": {},
          "execution_count": 52
        }
      ]
    },
    {
      "cell_type": "code",
      "metadata": {
        "colab": {
          "base_uri": "https://localhost:8080/"
        },
        "id": "_hOqs8Y5mzrC",
        "outputId": "8c0d402a-4b05-43e4-e14f-264bd2f22c1f"
      },
      "source": [
        "cv_result = optimized_XGB.cv_results_\n",
        "print(\"每轮结果:\", cv_result)\n",
        "print(\"参数最佳值{}\".format(optimized_XGB.best_params_))\n",
        "print(\"最佳参数时模型分数:{}\".format(optimized_XGB.best_score_))"
      ],
      "execution_count": 53,
      "outputs": [
        {
          "output_type": "stream",
          "text": [
            "每轮结果: {'mean_fit_time': array([0.34111514, 0.49554572, 0.68136458, 0.850109  , 0.94185147,\n",
            "       0.98529663, 0.92862816]), 'std_fit_time': array([0.01236393, 0.02044822, 0.01989193, 0.03562242, 0.02319972,\n",
            "       0.043426  , 0.151972  ]), 'mean_score_time': array([0.00752678, 0.00601721, 0.00519514, 0.00505009, 0.00537682,\n",
            "       0.00584059, 0.00517554]), 'std_score_time': array([0.00505329, 0.00065057, 0.00051231, 0.00019179, 0.00043296,\n",
            "       0.00062884, 0.00115313]), 'param_max_depth': masked_array(data=[3, 5, 7, 9, 11, 13, 15],\n",
            "             mask=[False, False, False, False, False, False, False],\n",
            "       fill_value='?',\n",
            "            dtype=object), 'params': [{'max_depth': 3}, {'max_depth': 5}, {'max_depth': 7}, {'max_depth': 9}, {'max_depth': 11}, {'max_depth': 13}, {'max_depth': 15}], 'split0_test_score': array([0.87549407, 0.87793149, 0.87068511, 0.86725955, 0.86884058,\n",
            "       0.87384717, 0.87200264]), 'split1_test_score': array([0.80100267, 0.81470588, 0.81437166, 0.81717914, 0.81316845,\n",
            "       0.81998663, 0.81597594]), 'split2_test_score': array([0.89953209, 0.90033422, 0.90367647, 0.89725936, 0.89645722,\n",
            "       0.89592246, 0.89324866]), 'split3_test_score': array([0.86216578, 0.85026738, 0.8526738 , 0.85601604, 0.85427807,\n",
            "       0.85467914, 0.86550802]), 'split4_test_score': array([0.91989097, 0.91437309, 0.91530382, 0.91729823, 0.90985241,\n",
            "       0.90945353, 0.91503789]), 'mean_test_score': array([0.87161712, 0.87152241, 0.87134217, 0.87100247, 0.86851935,\n",
            "       0.87077779, 0.87235463]), 'std_test_score': array([0.04049782, 0.03574149, 0.03625662, 0.03454931, 0.03392812,\n",
            "       0.03154805, 0.03311791]), 'rank_test_score': array([2, 3, 4, 5, 7, 6, 1], dtype=int32)}\n",
            "参数最佳值{'max_depth': 15}\n",
            "最佳参数时模型分数:0.8723546298528115\n"
          ],
          "name": "stdout"
        }
      ]
    },
    {
      "cell_type": "markdown",
      "metadata": {
        "id": "JBcog1tfm2MR"
      },
      "source": [
        "##4.调节min_child_weight\n",
        "\n",
        "\n"
      ]
    },
    {
      "cell_type": "code",
      "metadata": {
        "id": "9499-TvDnE1t"
      },
      "source": [
        "SEED = 2020\n",
        "cv_params = {'min_child_weight': [1, 3, 5, 7, 9, 11, 13, 15]}\n",
        "fixed_params = {\n",
        "        'eta': 1e-4,\n",
        "        'n_estimators': 50,\n",
        "        'max_depth': 15,\n",
        "        # 'min_child_weight': 1,\n",
        "        'subsample': 0.8,\n",
        "        'colsample_bytree': 0.8,\n",
        "        'reg_lambda': 0.1,\n",
        "        'reg_alpha': 0.1,\n",
        "        'gamma': 0.1,\n",
        "        'seed':SEED,\n",
        "        'tree_method': 'gpu_hist',\n",
        "        'predictor': 'gpu_predictor'\n",
        "        }"
      ],
      "execution_count": 54,
      "outputs": []
    },
    {
      "cell_type": "code",
      "metadata": {
        "colab": {
          "base_uri": "https://localhost:8080/"
        },
        "id": "NJ7XhqkJnP0N",
        "outputId": "a257f3bc-1192-4d0a-ae17-60327710c105"
      },
      "source": [
        "model = xgb.XGBClassifier(**fixed_params)\n",
        "optimized_XGB = GridSearchCV(estimator=model, param_grid=cv_params, scoring='roc_auc', cv=5, verbose=1, n_jobs=-1, )\n",
        "optimized_XGB.fit(X, y)"
      ],
      "execution_count": 55,
      "outputs": [
        {
          "output_type": "stream",
          "text": [
            "Fitting 5 folds for each of 8 candidates, totalling 40 fits\n"
          ],
          "name": "stdout"
        },
        {
          "output_type": "stream",
          "text": [
            "[Parallel(n_jobs=-1)]: Using backend LokyBackend with 2 concurrent workers.\n",
            "[Parallel(n_jobs=-1)]: Done  40 out of  40 | elapsed:   11.0s finished\n"
          ],
          "name": "stderr"
        },
        {
          "output_type": "execute_result",
          "data": {
            "text/plain": [
              "GridSearchCV(cv=5, error_score=nan,\n",
              "             estimator=XGBClassifier(base_score=0.5, booster='gbtree',\n",
              "                                     colsample_bylevel=1, colsample_bynode=1,\n",
              "                                     colsample_bytree=0.8, eta=0.0001,\n",
              "                                     gamma=0.1, learning_rate=0.1,\n",
              "                                     max_delta_step=0, max_depth=15,\n",
              "                                     min_child_weight=1, missing=None,\n",
              "                                     n_estimators=50, n_jobs=1, nthread=None,\n",
              "                                     objective='binary:logistic',\n",
              "                                     predictor='gpu_predictor', random_state=0,\n",
              "                                     reg_alpha=0.1, reg_lambda=0.1,\n",
              "                                     scale_pos_weight=1, seed=2020, silent=None,\n",
              "                                     subsample=0.8, tree_method='gpu_hist',\n",
              "                                     verbosity=1),\n",
              "             iid='deprecated', n_jobs=-1,\n",
              "             param_grid={'min_child_weight': [1, 3, 5, 7, 9, 11, 13, 15]},\n",
              "             pre_dispatch='2*n_jobs', refit=True, return_train_score=False,\n",
              "             scoring='roc_auc', verbose=1)"
            ]
          },
          "metadata": {},
          "execution_count": 55
        }
      ]
    },
    {
      "cell_type": "code",
      "metadata": {
        "colab": {
          "base_uri": "https://localhost:8080/"
        },
        "id": "iVtm9Tw2nSJ5",
        "outputId": "3673a159-282f-4736-9a70-018dbee2cce8"
      },
      "source": [
        "cv_result = optimized_XGB.cv_results_\n",
        "print(\"每轮结果:\", cv_result)\n",
        "print(\"参数最佳值{}\".format(optimized_XGB.best_params_))\n",
        "print(\"最佳参数时模型分数:{}\".format(optimized_XGB.best_score_))"
      ],
      "execution_count": 56,
      "outputs": [
        {
          "output_type": "stream",
          "text": [
            "每轮结果: {'mean_fit_time': array([1.02854362, 0.6071228 , 0.50521631, 0.46808972, 0.42857432,\n",
            "       0.41834879, 0.39690003, 0.35146747]), 'std_fit_time': array([0.0605476 , 0.03285861, 0.01796376, 0.01169402, 0.01275798,\n",
            "       0.01065689, 0.01766939, 0.07448436]), 'mean_score_time': array([0.0052206 , 0.00548019, 0.00534625, 0.00483546, 0.00493088,\n",
            "       0.00478988, 0.00476856, 0.00461946]), 'std_score_time': array([0.00050926, 0.00049977, 0.00096154, 0.00061707, 0.00069148,\n",
            "       0.00060287, 0.00054449, 0.00089622]), 'param_min_child_weight': masked_array(data=[1, 3, 5, 7, 9, 11, 13, 15],\n",
            "             mask=[False, False, False, False, False, False, False, False],\n",
            "       fill_value='?',\n",
            "            dtype=object), 'params': [{'min_child_weight': 1}, {'min_child_weight': 3}, {'min_child_weight': 5}, {'min_child_weight': 7}, {'min_child_weight': 9}, {'min_child_weight': 11}, {'min_child_weight': 13}, {'min_child_weight': 15}], 'split0_test_score': array([0.87200264, 0.878722  , 0.8726614 , 0.86330698, 0.86633729,\n",
            "       0.86245059, 0.86245059, 0.85843215]), 'split1_test_score': array([0.81597594, 0.81637701, 0.82252674, 0.82279412, 0.81965241,\n",
            "       0.81423797, 0.81356952, 0.81450535]), 'split2_test_score': array([0.89324866, 0.89886364, 0.89812834, 0.89391711, 0.8921123 ,\n",
            "       0.89010695, 0.8894385 , 0.88937166]), 'split3_test_score': array([0.86550802, 0.87887701, 0.87513369, 0.87245989, 0.87005348,\n",
            "       0.86437166, 0.87018717, 0.86911765]), 'split4_test_score': array([0.91503789, 0.91769711, 0.90799096, 0.9109161 , 0.90779152,\n",
            "       0.90838984, 0.90539822, 0.90087754]), 'mean_test_score': array([0.87235463, 0.87810735, 0.87528823, 0.87267884, 0.8711894 ,\n",
            "       0.8679114 , 0.8682088 , 0.86646087]), 'std_test_score': array([0.03311791, 0.03408747, 0.02960351, 0.02996504, 0.02986094,\n",
            "       0.03179413, 0.03116496, 0.02993428]), 'rank_test_score': array([4, 1, 2, 3, 5, 7, 6, 8], dtype=int32)}\n",
            "参数最佳值{'min_child_weight': 3}\n",
            "最佳参数时模型分数:0.8781073528878499\n"
          ],
          "name": "stdout"
        }
      ]
    },
    {
      "cell_type": "markdown",
      "metadata": {
        "id": "2ZWdogNrnVcq"
      },
      "source": [
        "##5.调节subsample和colsample_bytree"
      ]
    },
    {
      "cell_type": "code",
      "metadata": {
        "id": "m3SYREQlncK8"
      },
      "source": [
        "SEED = 2020\n",
        "cv_params = {'subsample': [0.3, 0.5, 0.6, 0.7, 0.8, 0.9]}\n",
        "fixed_params = {\n",
        "        'eta': 1e-4,\n",
        "        'n_estimators': 50,\n",
        "        'max_depth': 15,\n",
        "        'min_child_weight': 3,\n",
        "        # 'subsample': 0.8,\n",
        "        'colsample_bytree': 0.8,\n",
        "        'reg_lambda': 0.1,\n",
        "        'reg_alpha': 0.1,\n",
        "        'gamma': 0.1,\n",
        "        'seed':SEED,\n",
        "        'tree_method': 'gpu_hist',\n",
        "        'predictor': 'gpu_predictor'\n",
        "        }"
      ],
      "execution_count": 57,
      "outputs": []
    },
    {
      "cell_type": "code",
      "metadata": {
        "colab": {
          "base_uri": "https://localhost:8080/"
        },
        "id": "NX61QsAQn1UD",
        "outputId": "6007ee1e-5cb7-4300-c551-5be6936ebe44"
      },
      "source": [
        "model = xgb.XGBClassifier(**fixed_params)\n",
        "optimized_XGB = GridSearchCV(estimator=model, param_grid=cv_params, scoring='roc_auc', cv=5, verbose=1, n_jobs=-1, )\n",
        "optimized_XGB.fit(X, y)"
      ],
      "execution_count": 58,
      "outputs": [
        {
          "output_type": "stream",
          "text": [
            "Fitting 5 folds for each of 6 candidates, totalling 30 fits\n"
          ],
          "name": "stdout"
        },
        {
          "output_type": "stream",
          "text": [
            "[Parallel(n_jobs=-1)]: Using backend LokyBackend with 2 concurrent workers.\n",
            "[Parallel(n_jobs=-1)]: Done  30 out of  30 | elapsed:    8.7s finished\n"
          ],
          "name": "stderr"
        },
        {
          "output_type": "execute_result",
          "data": {
            "text/plain": [
              "GridSearchCV(cv=5, error_score=nan,\n",
              "             estimator=XGBClassifier(base_score=0.5, booster='gbtree',\n",
              "                                     colsample_bylevel=1, colsample_bynode=1,\n",
              "                                     colsample_bytree=0.8, eta=0.0001,\n",
              "                                     gamma=0.1, learning_rate=0.1,\n",
              "                                     max_delta_step=0, max_depth=15,\n",
              "                                     min_child_weight=3, missing=None,\n",
              "                                     n_estimators=50, n_jobs=1, nthread=None,\n",
              "                                     objective='binary:logistic',\n",
              "                                     predictor='gpu_predictor', random_state=0,\n",
              "                                     reg_alpha=0.1, reg_lambda=0.1,\n",
              "                                     scale_pos_weight=1, seed=2020, silent=None,\n",
              "                                     subsample=1, tree_method='gpu_hist',\n",
              "                                     verbosity=1),\n",
              "             iid='deprecated', n_jobs=-1,\n",
              "             param_grid={'subsample': [0.3, 0.5, 0.6, 0.7, 0.8, 0.9]},\n",
              "             pre_dispatch='2*n_jobs', refit=True, return_train_score=False,\n",
              "             scoring='roc_auc', verbose=1)"
            ]
          },
          "metadata": {},
          "execution_count": 58
        }
      ]
    },
    {
      "cell_type": "code",
      "metadata": {
        "colab": {
          "base_uri": "https://localhost:8080/"
        },
        "id": "4sngHf-fn41H",
        "outputId": "b65fe35d-5892-4bb1-bae4-e9cdf4e11a92"
      },
      "source": [
        "cv_result = optimized_XGB.cv_results_\n",
        "print(\"每轮结果:\", cv_result)\n",
        "print(\"参数最佳值{}\".format(optimized_XGB.best_params_))\n",
        "print(\"最佳参数时模型分数:{}\".format(optimized_XGB.best_score_))"
      ],
      "execution_count": 59,
      "outputs": [
        {
          "output_type": "stream",
          "text": [
            "每轮结果: {'mean_fit_time': array([0.43708768, 0.52094293, 0.54455209, 0.58706832, 0.62721395,\n",
            "       0.60642319]), 'std_fit_time': array([0.01049597, 0.02297427, 0.01201353, 0.02792849, 0.00807993,\n",
            "       0.08976797]), 'mean_score_time': array([0.00647306, 0.00596566, 0.00530581, 0.00672669, 0.00521293,\n",
            "       0.0047245 ]), 'std_score_time': array([0.00263034, 0.00051566, 0.00041786, 0.00120522, 0.00035705,\n",
            "       0.00094035]), 'param_subsample': masked_array(data=[0.3, 0.5, 0.6, 0.7, 0.8, 0.9],\n",
            "             mask=[False, False, False, False, False, False],\n",
            "       fill_value='?',\n",
            "            dtype=object), 'params': [{'subsample': 0.3}, {'subsample': 0.5}, {'subsample': 0.6}, {'subsample': 0.7}, {'subsample': 0.8}, {'subsample': 0.9}], 'split0_test_score': array([0.85592885, 0.86963109, 0.87239789, 0.87147563, 0.878722  ,\n",
            "       0.87964427]), 'split1_test_score': array([0.82045455, 0.81463904, 0.82339572, 0.81878342, 0.81637701,\n",
            "       0.81838235]), 'split2_test_score': array([0.89324866, 0.89552139, 0.89886364, 0.89886364, 0.89886364,\n",
            "       0.90274064]), 'split3_test_score': array([0.87005348, 0.8657754 , 0.86149733, 0.87393048, 0.87887701,\n",
            "       0.86791444]), 'split4_test_score': array([0.89855072, 0.9102513 , 0.91517085, 0.91703231, 0.91769711,\n",
            "       0.91397421]), 'mean_test_score': array([0.86764725, 0.87116364, 0.87426509, 0.8760171 , 0.87810735,\n",
            "       0.87653118]), 'std_test_score': array([0.02821602, 0.03270339, 0.03172559, 0.03318097, 0.03408747,\n",
            "       0.03332909]), 'rank_test_score': array([6, 5, 4, 3, 1, 2], dtype=int32)}\n",
            "参数最佳值{'subsample': 0.8}\n",
            "最佳参数时模型分数:0.8781073528878499\n"
          ],
          "name": "stdout"
        }
      ]
    },
    {
      "cell_type": "code",
      "metadata": {
        "id": "WZIJ4xNkn7Hf"
      },
      "source": [
        "SEED = 2020\n",
        "cv_params = {'colsample_bytree': [0.3, 0.5, 0.6, 0.7, 0.8, 0.9]}\n",
        "fixed_params = {\n",
        "        'eta': 1e-4,\n",
        "        'n_estimators': 50,\n",
        "        'max_depth': 15,\n",
        "        'min_child_weight': 3,\n",
        "        'subsample': 0.8,\n",
        "        # 'colsample_bytree': 0.8,\n",
        "        'reg_lambda': 0.1,\n",
        "        'reg_alpha': 0.1,\n",
        "        'gamma': 0.1,\n",
        "        'seed':SEED,\n",
        "        'tree_method': 'gpu_hist',\n",
        "        'predictor': 'gpu_predictor'\n",
        "        }"
      ],
      "execution_count": 61,
      "outputs": []
    },
    {
      "cell_type": "code",
      "metadata": {
        "colab": {
          "base_uri": "https://localhost:8080/"
        },
        "id": "2Ok_IQFgoEah",
        "outputId": "7ce77031-cb9d-4d3a-eedf-db093be8175e"
      },
      "source": [
        "model = xgb.XGBClassifier(**fixed_params)\n",
        "optimized_XGB = GridSearchCV(estimator=model, param_grid=cv_params, scoring='roc_auc', cv=5, verbose=1, n_jobs=-1, )\n",
        "optimized_XGB.fit(X, y)"
      ],
      "execution_count": 62,
      "outputs": [
        {
          "output_type": "stream",
          "text": [
            "Fitting 5 folds for each of 6 candidates, totalling 30 fits\n"
          ],
          "name": "stdout"
        },
        {
          "output_type": "stream",
          "text": [
            "[Parallel(n_jobs=-1)]: Using backend LokyBackend with 2 concurrent workers.\n",
            "[Parallel(n_jobs=-1)]: Done  30 out of  30 | elapsed:    9.2s finished\n"
          ],
          "name": "stderr"
        },
        {
          "output_type": "execute_result",
          "data": {
            "text/plain": [
              "GridSearchCV(cv=5, error_score=nan,\n",
              "             estimator=XGBClassifier(base_score=0.5, booster='gbtree',\n",
              "                                     colsample_bylevel=1, colsample_bynode=1,\n",
              "                                     colsample_bytree=1, eta=0.0001, gamma=0.1,\n",
              "                                     learning_rate=0.1, max_delta_step=0,\n",
              "                                     max_depth=15, min_child_weight=3,\n",
              "                                     missing=None, n_estimators=50, n_jobs=1,\n",
              "                                     nthread=None, objective='binary:logistic',\n",
              "                                     predictor='gpu_predictor', random_state=0,\n",
              "                                     reg_alpha=0.1, reg_lambda=0.1,\n",
              "                                     scale_pos_weight=1, seed=2020, silent=None,\n",
              "                                     subsample=0.8, tree_method='gpu_hist',\n",
              "                                     verbosity=1),\n",
              "             iid='deprecated', n_jobs=-1,\n",
              "             param_grid={'colsample_bytree': [0.3, 0.5, 0.6, 0.7, 0.8, 0.9]},\n",
              "             pre_dispatch='2*n_jobs', refit=True, return_train_score=False,\n",
              "             scoring='roc_auc', verbose=1)"
            ]
          },
          "metadata": {},
          "execution_count": 62
        }
      ]
    },
    {
      "cell_type": "code",
      "metadata": {
        "colab": {
          "base_uri": "https://localhost:8080/"
        },
        "id": "go1xQlfGoIQ9",
        "outputId": "0cea5d9d-a45d-4484-e852-4c3881e0d305"
      },
      "source": [
        "cv_result = optimized_XGB.cv_results_\n",
        "print(\"每轮结果:\", cv_result)\n",
        "print(\"参数最佳值{}\".format(optimized_XGB.best_params_))\n",
        "print(\"最佳参数时模型分数:{}\".format(optimized_XGB.best_score_))"
      ],
      "execution_count": 63,
      "outputs": [
        {
          "output_type": "stream",
          "text": [
            "每轮结果: {'mean_fit_time': array([0.55026426, 0.59251771, 0.60416899, 0.60876675, 0.6167788 ,\n",
            "       0.57918034]), 'std_fit_time': array([0.01694185, 0.02190984, 0.00455646, 0.00988367, 0.00929614,\n",
            "       0.07615666]), 'mean_score_time': array([0.00577297, 0.00568962, 0.00548048, 0.00547042, 0.00570989,\n",
            "       0.00556664]), 'std_score_time': array([0.00141506, 0.0008376 , 0.00045586, 0.00057581, 0.00052207,\n",
            "       0.00153038]), 'param_colsample_bytree': masked_array(data=[0.3, 0.5, 0.6, 0.7, 0.8, 0.9],\n",
            "             mask=[False, False, False, False, False, False],\n",
            "       fill_value='?',\n",
            "            dtype=object), 'params': [{'colsample_bytree': 0.3}, {'colsample_bytree': 0.5}, {'colsample_bytree': 0.6}, {'colsample_bytree': 0.7}, {'colsample_bytree': 0.8}, {'colsample_bytree': 0.9}], 'split0_test_score': array([0.86805007, 0.87160738, 0.87147563, 0.87503294, 0.878722  ,\n",
            "       0.88043478]), 'split1_test_score': array([0.81530749, 0.82052139, 0.81898396, 0.81731283, 0.81637701,\n",
            "       0.82386364]), 'split2_test_score': array([0.89231283, 0.90180481, 0.90354278, 0.89966578, 0.89886364,\n",
            "       0.89979947]), 'split3_test_score': array([0.86203209, 0.86925134, 0.8697861 , 0.87286096, 0.87887701,\n",
            "       0.86938503]), 'split4_test_score': array([0.91650047, 0.91197979, 0.91530382, 0.91450605, 0.91769711,\n",
            "       0.90599654]), 'mean_test_score': array([0.87084059, 0.87503294, 0.87581846, 0.87587571, 0.87810735,\n",
            "       0.87589589]), 'std_test_score': array([0.03380883, 0.03193266, 0.03350565, 0.03315925, 0.03408747,\n",
            "       0.02914714]), 'rank_test_score': array([6, 5, 4, 3, 1, 2], dtype=int32)}\n",
            "参数最佳值{'colsample_bytree': 0.8}\n",
            "最佳参数时模型分数:0.8781073528878499\n"
          ],
          "name": "stdout"
        }
      ]
    },
    {
      "cell_type": "markdown",
      "metadata": {
        "id": "I_Hb9hTLoOGt"
      },
      "source": [
        "##6.调节lambda和alpha"
      ]
    },
    {
      "cell_type": "code",
      "metadata": {
        "id": "F2Z0QXtHoXz3"
      },
      "source": [
        "SEED = 2020\n",
        "cv_params = {'reg_lambda': [0.01, 0.1, 10, 50, 100]}\n",
        "fixed_params = {\n",
        "        'eta': 1e-4,\n",
        "        'n_estimators': 50,\n",
        "        'max_depth': 15,\n",
        "        'min_child_weight': 3,\n",
        "        'subsample': 0.8,\n",
        "        'colsample_bytree': 0.8,\n",
        "        # 'reg_lambda': 0.1,\n",
        "        'reg_alpha': 0.1,\n",
        "        'gamma': 0.1,\n",
        "        'seed':SEED,\n",
        "        'tree_method': 'gpu_hist',\n",
        "        'predictor': 'gpu_predictor'\n",
        "        }"
      ],
      "execution_count": 64,
      "outputs": []
    },
    {
      "cell_type": "code",
      "metadata": {
        "colab": {
          "base_uri": "https://localhost:8080/"
        },
        "id": "wkcz9Jd3onuL",
        "outputId": "e56d6916-070f-4739-a35b-7b42b02ace19"
      },
      "source": [
        "model = xgb.XGBClassifier(**fixed_params)\n",
        "optimized_XGB = GridSearchCV(estimator=model, param_grid=cv_params, scoring='roc_auc', cv=5, verbose=1, n_jobs=-1, )\n",
        "optimized_XGB.fit(X, y)"
      ],
      "execution_count": 65,
      "outputs": [
        {
          "output_type": "stream",
          "text": [
            "Fitting 5 folds for each of 5 candidates, totalling 25 fits\n"
          ],
          "name": "stdout"
        },
        {
          "output_type": "stream",
          "text": [
            "[Parallel(n_jobs=-1)]: Using backend LokyBackend with 2 concurrent workers.\n",
            "[Parallel(n_jobs=-1)]: Done  25 out of  25 | elapsed:    6.7s finished\n"
          ],
          "name": "stderr"
        },
        {
          "output_type": "execute_result",
          "data": {
            "text/plain": [
              "GridSearchCV(cv=5, error_score=nan,\n",
              "             estimator=XGBClassifier(base_score=0.5, booster='gbtree',\n",
              "                                     colsample_bylevel=1, colsample_bynode=1,\n",
              "                                     colsample_bytree=0.8, eta=0.0001,\n",
              "                                     gamma=0.1, learning_rate=0.1,\n",
              "                                     max_delta_step=0, max_depth=15,\n",
              "                                     min_child_weight=3, missing=None,\n",
              "                                     n_estimators=50, n_jobs=1, nthread=None,\n",
              "                                     objective='binary:logistic',\n",
              "                                     predictor='gpu_predictor', random_state=0,\n",
              "                                     reg_alpha=0.1, reg_lambda=1,\n",
              "                                     scale_pos_weight=1, seed=2020, silent=None,\n",
              "                                     subsample=0.8, tree_method='gpu_hist',\n",
              "                                     verbosity=1),\n",
              "             iid='deprecated', n_jobs=-1,\n",
              "             param_grid={'reg_lambda': [0.01, 0.1, 10, 50, 100]},\n",
              "             pre_dispatch='2*n_jobs', refit=True, return_train_score=False,\n",
              "             scoring='roc_auc', verbose=1)"
            ]
          },
          "metadata": {},
          "execution_count": 65
        }
      ]
    },
    {
      "cell_type": "code",
      "metadata": {
        "colab": {
          "base_uri": "https://localhost:8080/"
        },
        "id": "F2wOwvIZop6Q",
        "outputId": "ae83cdfb-260b-41d3-937b-788d1836f0a8"
      },
      "source": [
        "cv_result = optimized_XGB.cv_results_\n",
        "print(\"每轮结果:\", cv_result)\n",
        "print(\"参数最佳值{}\".format(optimized_XGB.best_params_))\n",
        "print(\"最佳参数时模型分数:{}\".format(optimized_XGB.best_score_))"
      ],
      "execution_count": 66,
      "outputs": [
        {
          "output_type": "stream",
          "text": [
            "每轮结果: {'mean_fit_time': array([0.64272504, 0.62641859, 0.48316941, 0.41912675, 0.36391215]), 'std_fit_time': array([0.0339422 , 0.01794728, 0.02095507, 0.01671348, 0.08484494]), 'mean_score_time': array([0.00590215, 0.00538368, 0.005235  , 0.00487971, 0.00475225]), 'std_score_time': array([0.00140502, 0.0007724 , 0.00086332, 0.00081788, 0.00092795]), 'param_reg_lambda': masked_array(data=[0.01, 0.1, 10, 50, 100],\n",
            "             mask=[False, False, False, False, False],\n",
            "       fill_value='?',\n",
            "            dtype=object), 'params': [{'reg_lambda': 0.01}, {'reg_lambda': 0.1}, {'reg_lambda': 10}, {'reg_lambda': 50}, {'reg_lambda': 100}], 'split0_test_score': array([0.87055336, 0.878722  , 0.86455863, 0.86772069, 0.86791831]), 'split1_test_score': array([0.82025401, 0.81637701, 0.81584225, 0.81276738, 0.82372995]), 'split2_test_score': array([0.90233957, 0.89886364, 0.89318182, 0.88850267, 0.8822861 ]), 'split3_test_score': array([0.87459893, 0.87887701, 0.87486631, 0.85989305, 0.86089572]), 'split4_test_score': array([0.91184683, 0.91769711, 0.90985241, 0.90167531, 0.89595798]), 'mean_test_score': array([0.87591854, 0.87810735, 0.87166028, 0.86611182, 0.86615761]), 'std_test_score': array([0.03199368, 0.03408747, 0.03193174, 0.03050575, 0.02440936]), 'rank_test_score': array([2, 1, 3, 5, 4], dtype=int32)}\n",
            "参数最佳值{'reg_lambda': 0.1}\n",
            "最佳参数时模型分数:0.8781073528878499\n"
          ],
          "name": "stdout"
        }
      ]
    },
    {
      "cell_type": "code",
      "metadata": {
        "id": "ldxoShCGotdy"
      },
      "source": [
        "SEED = 2020\n",
        "cv_params = {'reg_alpha': [0.01, 0.1, 10, 50, 100]}\n",
        "fixed_params = {\n",
        "        'eta': 1e-4,\n",
        "        'n_estimators': 50,\n",
        "        'max_depth': 15,\n",
        "        'min_child_weight': 3,\n",
        "        'subsample': 0.8,\n",
        "        'colsample_bytree': 0.8,\n",
        "        'reg_lambda': 0.1,\n",
        "        # 'reg_alpha': 0.1,\n",
        "        'gamma': 0.1,\n",
        "        'seed':SEED,\n",
        "        'tree_method': 'gpu_hist',\n",
        "        'predictor': 'gpu_predictor'\n",
        "        }"
      ],
      "execution_count": 67,
      "outputs": []
    },
    {
      "cell_type": "code",
      "metadata": {
        "colab": {
          "base_uri": "https://localhost:8080/"
        },
        "id": "ywxUpYzCo7dB",
        "outputId": "56570776-5aad-4b53-9224-42c9a8c6aa96"
      },
      "source": [
        "model = xgb.XGBClassifier(**fixed_params)\n",
        "optimized_XGB = GridSearchCV(estimator=model, param_grid=cv_params, scoring='roc_auc', cv=5, verbose=1, n_jobs=-1, )\n",
        "optimized_XGB.fit(X, y)"
      ],
      "execution_count": 68,
      "outputs": [
        {
          "output_type": "stream",
          "text": [
            "Fitting 5 folds for each of 5 candidates, totalling 25 fits\n"
          ],
          "name": "stdout"
        },
        {
          "output_type": "stream",
          "text": [
            "[Parallel(n_jobs=-1)]: Using backend LokyBackend with 2 concurrent workers.\n",
            "[Parallel(n_jobs=-1)]: Done  25 out of  25 | elapsed:    6.0s finished\n"
          ],
          "name": "stderr"
        },
        {
          "output_type": "execute_result",
          "data": {
            "text/plain": [
              "GridSearchCV(cv=5, error_score=nan,\n",
              "             estimator=XGBClassifier(base_score=0.5, booster='gbtree',\n",
              "                                     colsample_bylevel=1, colsample_bynode=1,\n",
              "                                     colsample_bytree=0.8, eta=0.0001,\n",
              "                                     gamma=0.1, learning_rate=0.1,\n",
              "                                     max_delta_step=0, max_depth=15,\n",
              "                                     min_child_weight=3, missing=None,\n",
              "                                     n_estimators=50, n_jobs=1, nthread=None,\n",
              "                                     objective='binary:logistic',\n",
              "                                     predictor='gpu_predictor', random_state=0,\n",
              "                                     reg_alpha=0, reg_lambda=0.1,\n",
              "                                     scale_pos_weight=1, seed=2020, silent=None,\n",
              "                                     subsample=0.8, tree_method='gpu_hist',\n",
              "                                     verbosity=1),\n",
              "             iid='deprecated', n_jobs=-1,\n",
              "             param_grid={'reg_alpha': [0.01, 0.1, 10, 50, 100]},\n",
              "             pre_dispatch='2*n_jobs', refit=True, return_train_score=False,\n",
              "             scoring='roc_auc', verbose=1)"
            ]
          },
          "metadata": {},
          "execution_count": 68
        }
      ]
    },
    {
      "cell_type": "code",
      "metadata": {
        "colab": {
          "base_uri": "https://localhost:8080/"
        },
        "id": "fkY7If65o9oG",
        "outputId": "e3e89c08-6b5b-49fa-b8b3-a561309afa8c"
      },
      "source": [
        "cv_result = optimized_XGB.cv_results_\n",
        "print(\"每轮结果:\", cv_result)\n",
        "print(\"参数最佳值{}\".format(optimized_XGB.best_params_))\n",
        "print(\"最佳参数时模型分数:{}\".format(optimized_XGB.best_score_))"
      ],
      "execution_count": 69,
      "outputs": [
        {
          "output_type": "stream",
          "text": [
            "每轮结果: {'mean_fit_time': array([0.63597422, 0.62608085, 0.3942028 , 0.34525862, 0.28737803]), 'std_fit_time': array([0.01477973, 0.01032729, 0.01537306, 0.01516913, 0.0484985 ]), 'mean_score_time': array([0.00603008, 0.00536957, 0.00480642, 0.00484819, 0.00459123]), 'std_score_time': array([0.00097383, 0.00071669, 0.00055792, 0.00038274, 0.00098055]), 'param_reg_alpha': masked_array(data=[0.01, 0.1, 10, 50, 100],\n",
            "             mask=[False, False, False, False, False],\n",
            "       fill_value='?',\n",
            "            dtype=object), 'params': [{'reg_alpha': 0.01}, {'reg_alpha': 0.1}, {'reg_alpha': 10}, {'reg_alpha': 50}, {'reg_alpha': 100}], 'split0_test_score': array([0.87714097, 0.878722  , 0.86936759, 0.8583004 , 0.82602108]), 'split1_test_score': array([0.81276738, 0.81637701, 0.81537433, 0.81590909, 0.81477273]), 'split2_test_score': array([0.89872995, 0.89886364, 0.88629679, 0.84766043, 0.82152406]), 'split3_test_score': array([0.87727273, 0.87887701, 0.85828877, 0.82600267, 0.75534759]), 'split4_test_score': array([0.91251163, 0.91769711, 0.89629039, 0.86537694, 0.8440367 ]), 'mean_test_score': array([0.87568453, 0.87810735, 0.86512357, 0.84264991, 0.81234043]), 'std_test_score': array([0.03420684, 0.03408747, 0.02814032, 0.0188614 , 0.03010067]), 'rank_test_score': array([2, 1, 3, 4, 5], dtype=int32)}\n",
            "参数最佳值{'reg_alpha': 0.1}\n",
            "最佳参数时模型分数:0.8781073528878499\n"
          ],
          "name": "stdout"
        }
      ]
    },
    {
      "cell_type": "code",
      "metadata": {
        "id": "Bq8tQ6--pAtz"
      },
      "source": [
        "SEED = 2020\n",
        "cv_params = {'gamma': [0.01, 0.1, 5, 10, 20]}\n",
        "fixed_params = {\n",
        "        'eta': 1e-4,\n",
        "        'n_estimators': 50,\n",
        "        'max_depth': 15,\n",
        "        'min_child_weight': 3,\n",
        "        'subsample': 0.8,\n",
        "        'colsample_bytree': 0.8,\n",
        "        'reg_lambda': 0.1,\n",
        "        'reg_alpha': 0.1,\n",
        "        # 'gamma': 0.1,\n",
        "        'seed':SEED,\n",
        "        'tree_method': 'gpu_hist',\n",
        "        'predictor': 'gpu_predictor'\n",
        "        }"
      ],
      "execution_count": 70,
      "outputs": []
    },
    {
      "cell_type": "code",
      "metadata": {
        "colab": {
          "base_uri": "https://localhost:8080/"
        },
        "id": "C6NgMsNDpPg_",
        "outputId": "72b2c463-2949-4e84-d965-24f210fa5451"
      },
      "source": [
        "model = xgb.XGBClassifier(**fixed_params)\n",
        "optimized_XGB = GridSearchCV(estimator=model, param_grid=cv_params, scoring='roc_auc', cv=5, verbose=1, n_jobs=-1, )\n",
        "optimized_XGB.fit(X, y)"
      ],
      "execution_count": 71,
      "outputs": [
        {
          "output_type": "stream",
          "text": [
            "Fitting 5 folds for each of 5 candidates, totalling 25 fits\n"
          ],
          "name": "stdout"
        },
        {
          "output_type": "stream",
          "text": [
            "[Parallel(n_jobs=-1)]: Using backend LokyBackend with 2 concurrent workers.\n",
            "[Parallel(n_jobs=-1)]: Done  25 out of  25 | elapsed:    7.9s finished\n"
          ],
          "name": "stderr"
        },
        {
          "output_type": "execute_result",
          "data": {
            "text/plain": [
              "GridSearchCV(cv=5, error_score=nan,\n",
              "             estimator=XGBClassifier(base_score=0.5, booster='gbtree',\n",
              "                                     colsample_bylevel=1, colsample_bynode=1,\n",
              "                                     colsample_bytree=0.8, eta=0.0001, gamma=0,\n",
              "                                     learning_rate=0.1, max_delta_step=0,\n",
              "                                     max_depth=15, min_child_weight=3,\n",
              "                                     missing=None, n_estimators=50, n_jobs=1,\n",
              "                                     nthread=None, objective='binary:logistic',\n",
              "                                     predictor='gpu_predictor', random_state=0,\n",
              "                                     reg_alpha=0.1, reg_lambda=0.1,\n",
              "                                     scale_pos_weight=1, seed=2020, silent=None,\n",
              "                                     subsample=0.8, tree_method='gpu_hist',\n",
              "                                     verbosity=1),\n",
              "             iid='deprecated', n_jobs=-1,\n",
              "             param_grid={'gamma': [0.01, 0.1, 5, 10, 20]},\n",
              "             pre_dispatch='2*n_jobs', refit=True, return_train_score=False,\n",
              "             scoring='roc_auc', verbose=1)"
            ]
          },
          "metadata": {},
          "execution_count": 71
        }
      ]
    },
    {
      "cell_type": "code",
      "metadata": {
        "colab": {
          "base_uri": "https://localhost:8080/"
        },
        "id": "DK_P2UA2pRg_",
        "outputId": "c9aabf3b-6d36-4f68-e79f-9e11a5ebd001"
      },
      "source": [
        "cv_result = optimized_XGB.cv_results_\n",
        "print(\"每轮结果:\", cv_result)\n",
        "print(\"参数最佳值{}\".format(optimized_XGB.best_params_))\n",
        "print(\"最佳参数时模型分数:{}\".format(optimized_XGB.best_score_))"
      ],
      "execution_count": 72,
      "outputs": [
        {
          "output_type": "stream",
          "text": [
            "每轮结果: {'mean_fit_time': array([0.62123842, 0.62062287, 0.63552232, 0.62420659, 0.55225496]), 'std_fit_time': array([0.04079127, 0.01526135, 0.01708355, 0.03024109, 0.11191989]), 'mean_score_time': array([0.00608149, 0.00545659, 0.00532842, 0.00533862, 0.00491285]), 'std_score_time': array([0.00124101, 0.00090832, 0.00056707, 0.00057685, 0.0011712 ]), 'param_gamma': masked_array(data=[0.01, 0.1, 5, 10, 20],\n",
            "             mask=[False, False, False, False, False],\n",
            "       fill_value='?',\n",
            "            dtype=object), 'params': [{'gamma': 0.01}, {'gamma': 0.1}, {'gamma': 5}, {'gamma': 10}, {'gamma': 20}], 'split0_test_score': array([0.878722, 0.878722, 0.878722, 0.878722, 0.878722]), 'split1_test_score': array([0.81637701, 0.81637701, 0.81637701, 0.81637701, 0.81637701]), 'split2_test_score': array([0.89886364, 0.89886364, 0.89886364, 0.89886364, 0.89886364]), 'split3_test_score': array([0.87887701, 0.87887701, 0.87887701, 0.87887701, 0.87887701]), 'split4_test_score': array([0.91769711, 0.91769711, 0.91769711, 0.91769711, 0.91769711]), 'mean_test_score': array([0.87810735, 0.87810735, 0.87810735, 0.87810735, 0.87810735]), 'std_test_score': array([0.03408747, 0.03408747, 0.03408747, 0.03408747, 0.03408747]), 'rank_test_score': array([1, 1, 1, 1, 1], dtype=int32)}\n",
            "参数最佳值{'gamma': 0.01}\n",
            "最佳参数时模型分数:0.8781073528878499\n"
          ],
          "name": "stdout"
        }
      ]
    },
    {
      "cell_type": "markdown",
      "metadata": {
        "id": "icGH3CsxsAQ_"
      },
      "source": [
        "##7.最终参数"
      ]
    },
    {
      "cell_type": "code",
      "metadata": {
        "id": "ZqHwZMfWpVY0"
      },
      "source": [
        "SEED = 2020\n",
        "\n",
        "fixed_params = {\n",
        "        'eta': 1e-4,\n",
        "        'n_estimators': 50,\n",
        "        'max_depth': 15,\n",
        "        'min_child_weight': 3,\n",
        "        'subsample': 0.8,\n",
        "        'colsample_bytree': 0.8,\n",
        "        'reg_lambda': 0.1,\n",
        "        'reg_alpha': 0.1,\n",
        "        'gamma': 0.01,\n",
        "        'seed':SEED,\n",
        "        'tree_method': 'gpu_hist',\n",
        "        'predictor': 'gpu_predictor'\n",
        "        }"
      ],
      "execution_count": 23,
      "outputs": []
    },
    {
      "cell_type": "code",
      "metadata": {
        "colab": {
          "base_uri": "https://localhost:8080/"
        },
        "id": "9x08dOtKsDys",
        "outputId": "a6e777f5-a21d-4769-8b7e-115d988e6d85"
      },
      "source": [
        "n_splits = 10\n",
        "test_preds = None\n",
        "kf_f1 = [] #每个分fold的验证集f1列表\n",
        "\n",
        "for fold, (train_idx, valid_idx) in enumerate(KFold(n_splits=n_splits, shuffle=True).split(X, y)):\n",
        "    X_train, y_train = X.iloc[train_idx], y.iloc[train_idx]\n",
        "    X_val, y_val = X.iloc[valid_idx], y.iloc[valid_idx]\n",
        "\n",
        "    model = xgb.XGBClassifier(**fixed_params)\n",
        "    model.fit(X_train, y_train,\n",
        "              eval_set=[(X_val, y_val)],\n",
        "              eval_metric='error', verbose=False)\n",
        "\n",
        "    valid_pred = model.predict(X_val)\n",
        "    f1 = f1_metric(y_val, valid_pred)\n",
        "    print(f'kFold {fold + 1} / {n_splits} f1:{f1:.4f}')\n",
        "    kf_f1.append(f1)\n",
        "\n",
        "    if test_preds is None:\n",
        "        test_preds = model.predict(test_data)\n",
        "    else:\n",
        "        test_preds += model.predict(test_data)\n",
        "\n"
      ],
      "execution_count": 24,
      "outputs": [
        {
          "output_type": "stream",
          "text": [
            "kFold 1 / 10 f1:0.7576\n",
            "kFold 2 / 10 f1:0.7273\n",
            "kFold 3 / 10 f1:0.8837\n",
            "kFold 4 / 10 f1:0.7733\n",
            "kFold 5 / 10 f1:0.7692\n",
            "kFold 6 / 10 f1:0.8358\n",
            "kFold 7 / 10 f1:0.6800\n",
            "kFold 8 / 10 f1:0.6383\n",
            "kFold 9 / 10 f1:0.7368\n",
            "kFold 10 / 10 f1:0.7246\n"
          ],
          "name": "stdout"
        }
      ]
    },
    {
      "cell_type": "code",
      "metadata": {
        "colab": {
          "base_uri": "https://localhost:8080/"
        },
        "id": "VIs1cRIisP1W",
        "outputId": "76f19231-5d17-4ab5-eb9b-67913401c1df"
      },
      "source": [
        "test_preds = test_preds / n_splits\n",
        "print(f'Average KFold f1 score :{np.mean(np.array(kf_f1)):.5f}')\n",
        "sample['Survived'] = (test_preds > 0.5).astype(int)\n",
        "sample.to_csv('/content/xgb_CV_tuning.csv', index=False)"
      ],
      "execution_count": 26,
      "outputs": [
        {
          "output_type": "stream",
          "text": [
            "Average KFold f1 score :0.75267\n"
          ],
          "name": "stdout"
        }
      ]
    },
    {
      "cell_type": "code",
      "metadata": {
        "id": "qAwnEsjks1if"
      },
      "source": [
        "!rm -f /root/.kaggle/kaggle.json\n",
        "!mkdir /root/.kaggle/\n",
        "!cp /content/drive/MyDrive/kaggle.json /root/.kaggle/kaggle.json"
      ],
      "execution_count": 27,
      "outputs": []
    },
    {
      "cell_type": "code",
      "metadata": {
        "colab": {
          "base_uri": "https://localhost:8080/"
        },
        "id": "KptwIrrZsgC-",
        "outputId": "8815e58a-39ec-42a1-89eb-0265f24e7e15"
      },
      "source": [
        "!kaggle competitions submit -c titanic -f /content/xgb_CV_tuning.csv -m \"optuna_CV_tuning\""
      ],
      "execution_count": 28,
      "outputs": [
        {
          "output_type": "stream",
          "text": [
            "Warning: Looks like you're using an outdated API Version, please consider updating (server 1.5.12 / client 1.5.4)\n",
            "100% 2.77k/2.77k [00:03<00:00, 868B/s]\n",
            "Successfully submitted to Titanic - Machine Learning from Disaster"
          ],
          "name": "stdout"
        }
      ]
    },
    {
      "cell_type": "code",
      "metadata": {
        "id": "E1ylij-4s73d"
      },
      "source": [
        ""
      ],
      "execution_count": null,
      "outputs": []
    }
  ]
}