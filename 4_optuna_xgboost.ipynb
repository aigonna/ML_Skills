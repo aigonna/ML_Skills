{
  "nbformat": 4,
  "nbformat_minor": 0,
  "metadata": {
    "accelerator": "GPU",
    "colab": {
      "name": "4.optuna_xgboost.ipynb",
      "provenance": [],
      "machine_shape": "hm",
      "authorship_tag": "ABX9TyODGi8Lw0qP5Vj4e4nYS/4s",
      "include_colab_link": true
    },
    "kernelspec": {
      "display_name": "Python 3",
      "name": "python3"
    },
    "language_info": {
      "name": "python"
    }
  },
  "cells": [
    {
      "cell_type": "markdown",
      "metadata": {
        "id": "view-in-github",
        "colab_type": "text"
      },
      "source": [
        "<a href=\"https://colab.research.google.com/github/aigonna/ML_Skills/blob/main/4_optuna_xgboost.ipynb\" target=\"_parent\"><img src=\"https://colab.research.google.com/assets/colab-badge.svg\" alt=\"Open In Colab\"/></a>"
      ]
    },
    {
      "cell_type": "code",
      "metadata": {
        "colab": {
          "base_uri": "https://localhost:8080/"
        },
        "id": "IFHmCWlwIt2R",
        "outputId": "29f98187-f2be-4891-d70e-d60a1bdb7f0e"
      },
      "source": [
        "import os\n",
        "from google.colab import drive\n",
        "drive.mount('/content/drive', force_remount=True)"
      ],
      "execution_count": null,
      "outputs": [
        {
          "output_type": "stream",
          "text": [
            "Mounted at /content/drive\n"
          ],
          "name": "stdout"
        }
      ]
    },
    {
      "cell_type": "code",
      "metadata": {
        "id": "Vq6gIvgQI6N9"
      },
      "source": [
        "cp -r /content/drive/Shareddrives/mm/kaggles/tatanic/data /content/"
      ],
      "execution_count": null,
      "outputs": []
    },
    {
      "cell_type": "code",
      "metadata": {
        "colab": {
          "base_uri": "https://localhost:8080/"
        },
        "id": "Z8wiQGCDJWGC",
        "outputId": "8f01a2fe-0c1b-47fd-a747-bb44d081136d"
      },
      "source": [
        "pip install optuna"
      ],
      "execution_count": null,
      "outputs": [
        {
          "output_type": "stream",
          "text": [
            "Collecting optuna\n",
            "  Downloading optuna-2.9.1-py3-none-any.whl (302 kB)\n",
            "\u001b[?25l\r\u001b[K     |█                               | 10 kB 33.3 MB/s eta 0:00:01\r\u001b[K     |██▏                             | 20 kB 31.1 MB/s eta 0:00:01\r\u001b[K     |███▎                            | 30 kB 18.8 MB/s eta 0:00:01\r\u001b[K     |████▎                           | 40 kB 15.7 MB/s eta 0:00:01\r\u001b[K     |█████▍                          | 51 kB 8.1 MB/s eta 0:00:01\r\u001b[K     |██████▌                         | 61 kB 8.5 MB/s eta 0:00:01\r\u001b[K     |███████▋                        | 71 kB 7.8 MB/s eta 0:00:01\r\u001b[K     |████████▋                       | 81 kB 8.7 MB/s eta 0:00:01\r\u001b[K     |█████████▊                      | 92 kB 9.6 MB/s eta 0:00:01\r\u001b[K     |██████████▉                     | 102 kB 7.8 MB/s eta 0:00:01\r\u001b[K     |████████████                    | 112 kB 7.8 MB/s eta 0:00:01\r\u001b[K     |█████████████                   | 122 kB 7.8 MB/s eta 0:00:01\r\u001b[K     |██████████████                  | 133 kB 7.8 MB/s eta 0:00:01\r\u001b[K     |███████████████▏                | 143 kB 7.8 MB/s eta 0:00:01\r\u001b[K     |████████████████▎               | 153 kB 7.8 MB/s eta 0:00:01\r\u001b[K     |█████████████████▎              | 163 kB 7.8 MB/s eta 0:00:01\r\u001b[K     |██████████████████▍             | 174 kB 7.8 MB/s eta 0:00:01\r\u001b[K     |███████████████████▌            | 184 kB 7.8 MB/s eta 0:00:01\r\u001b[K     |████████████████████▋           | 194 kB 7.8 MB/s eta 0:00:01\r\u001b[K     |█████████████████████▋          | 204 kB 7.8 MB/s eta 0:00:01\r\u001b[K     |██████████████████████▊         | 215 kB 7.8 MB/s eta 0:00:01\r\u001b[K     |███████████████████████▉        | 225 kB 7.8 MB/s eta 0:00:01\r\u001b[K     |█████████████████████████       | 235 kB 7.8 MB/s eta 0:00:01\r\u001b[K     |██████████████████████████      | 245 kB 7.8 MB/s eta 0:00:01\r\u001b[K     |███████████████████████████     | 256 kB 7.8 MB/s eta 0:00:01\r\u001b[K     |████████████████████████████▏   | 266 kB 7.8 MB/s eta 0:00:01\r\u001b[K     |█████████████████████████████▎  | 276 kB 7.8 MB/s eta 0:00:01\r\u001b[K     |██████████████████████████████▎ | 286 kB 7.8 MB/s eta 0:00:01\r\u001b[K     |███████████████████████████████▍| 296 kB 7.8 MB/s eta 0:00:01\r\u001b[K     |████████████████████████████████| 302 kB 7.8 MB/s \n",
            "\u001b[?25hCollecting cliff\n",
            "  Downloading cliff-3.9.0-py3-none-any.whl (80 kB)\n",
            "\u001b[?25l\r\u001b[K     |████                            | 10 kB 53.2 MB/s eta 0:00:01\r\u001b[K     |████████                        | 20 kB 53.2 MB/s eta 0:00:01\r\u001b[K     |████████████▏                   | 30 kB 60.5 MB/s eta 0:00:01\r\u001b[K     |████████████████▏               | 40 kB 60.5 MB/s eta 0:00:01\r\u001b[K     |████████████████████▎           | 51 kB 64.2 MB/s eta 0:00:01\r\u001b[K     |████████████████████████▎       | 61 kB 66.1 MB/s eta 0:00:01\r\u001b[K     |████████████████████████████▍   | 71 kB 66.7 MB/s eta 0:00:01\r\u001b[K     |████████████████████████████████| 80 kB 11.6 MB/s \n",
            "\u001b[?25hCollecting cmaes>=0.8.2\n",
            "  Downloading cmaes-0.8.2-py3-none-any.whl (15 kB)\n",
            "Requirement already satisfied: sqlalchemy>=1.1.0 in /usr/local/lib/python3.7/dist-packages (from optuna) (1.4.22)\n",
            "Requirement already satisfied: packaging>=20.0 in /usr/local/lib/python3.7/dist-packages (from optuna) (21.0)\n",
            "Collecting alembic\n",
            "  Downloading alembic-1.6.5-py2.py3-none-any.whl (164 kB)\n",
            "\u001b[K     |████████████████████████████████| 164 kB 90.3 MB/s \n",
            "\u001b[?25hCollecting colorlog\n",
            "  Downloading colorlog-6.4.1-py2.py3-none-any.whl (11 kB)\n",
            "Requirement already satisfied: numpy in /usr/local/lib/python3.7/dist-packages (from optuna) (1.19.5)\n",
            "Requirement already satisfied: PyYAML in /usr/local/lib/python3.7/dist-packages (from optuna) (3.13)\n",
            "Requirement already satisfied: tqdm in /usr/local/lib/python3.7/dist-packages (from optuna) (4.62.0)\n",
            "Requirement already satisfied: scipy!=1.4.0 in /usr/local/lib/python3.7/dist-packages (from optuna) (1.4.1)\n",
            "Requirement already satisfied: pyparsing>=2.0.2 in /usr/local/lib/python3.7/dist-packages (from packaging>=20.0->optuna) (2.4.7)\n",
            "Requirement already satisfied: importlib-metadata in /usr/local/lib/python3.7/dist-packages (from sqlalchemy>=1.1.0->optuna) (4.6.4)\n",
            "Requirement already satisfied: greenlet!=0.4.17 in /usr/local/lib/python3.7/dist-packages (from sqlalchemy>=1.1.0->optuna) (1.1.1)\n",
            "Collecting Mako\n",
            "  Downloading Mako-1.1.5-py2.py3-none-any.whl (75 kB)\n",
            "\u001b[K     |████████████████████████████████| 75 kB 5.9 MB/s \n",
            "\u001b[?25hRequirement already satisfied: python-dateutil in /usr/local/lib/python3.7/dist-packages (from alembic->optuna) (2.8.2)\n",
            "Collecting python-editor>=0.3\n",
            "  Downloading python_editor-1.0.4-py3-none-any.whl (4.9 kB)\n",
            "Collecting pbr!=2.1.0,>=2.0.0\n",
            "  Downloading pbr-5.6.0-py2.py3-none-any.whl (111 kB)\n",
            "\u001b[K     |████████████████████████████████| 111 kB 89.0 MB/s \n",
            "\u001b[?25hRequirement already satisfied: PrettyTable>=0.7.2 in /usr/local/lib/python3.7/dist-packages (from cliff->optuna) (2.1.0)\n",
            "Collecting cmd2>=1.0.0\n",
            "  Downloading cmd2-2.1.2-py3-none-any.whl (141 kB)\n",
            "\u001b[K     |████████████████████████████████| 141 kB 83.2 MB/s \n",
            "\u001b[?25hCollecting autopage>=0.4.0\n",
            "  Downloading autopage-0.4.0-py3-none-any.whl (20 kB)\n",
            "Collecting stevedore>=2.0.1\n",
            "  Downloading stevedore-3.4.0-py3-none-any.whl (49 kB)\n",
            "\u001b[K     |████████████████████████████████| 49 kB 8.0 MB/s \n",
            "\u001b[?25hCollecting colorama>=0.3.7\n",
            "  Downloading colorama-0.4.4-py2.py3-none-any.whl (16 kB)\n",
            "Requirement already satisfied: wcwidth>=0.1.7 in /usr/local/lib/python3.7/dist-packages (from cmd2>=1.0.0->cliff->optuna) (0.2.5)\n",
            "Requirement already satisfied: typing-extensions in /usr/local/lib/python3.7/dist-packages (from cmd2>=1.0.0->cliff->optuna) (3.7.4.3)\n",
            "Requirement already satisfied: attrs>=16.3.0 in /usr/local/lib/python3.7/dist-packages (from cmd2>=1.0.0->cliff->optuna) (21.2.0)\n",
            "Collecting pyperclip>=1.6\n",
            "  Downloading pyperclip-1.8.2.tar.gz (20 kB)\n",
            "Requirement already satisfied: zipp>=0.5 in /usr/local/lib/python3.7/dist-packages (from importlib-metadata->sqlalchemy>=1.1.0->optuna) (3.5.0)\n",
            "Requirement already satisfied: MarkupSafe>=0.9.2 in /usr/local/lib/python3.7/dist-packages (from Mako->alembic->optuna) (2.0.1)\n",
            "Requirement already satisfied: six>=1.5 in /usr/local/lib/python3.7/dist-packages (from python-dateutil->alembic->optuna) (1.15.0)\n",
            "Building wheels for collected packages: pyperclip\n",
            "  Building wheel for pyperclip (setup.py) ... \u001b[?25l\u001b[?25hdone\n",
            "  Created wheel for pyperclip: filename=pyperclip-1.8.2-py3-none-any.whl size=11136 sha256=55689d8698194ccbe9bb25fe672a82433845c61409a9fdc28dc37ae57f9931bc\n",
            "  Stored in directory: /root/.cache/pip/wheels/9f/18/84/8f69f8b08169c7bae2dde6bd7daf0c19fca8c8e500ee620a28\n",
            "Successfully built pyperclip\n",
            "Installing collected packages: pyperclip, pbr, colorama, stevedore, python-editor, Mako, cmd2, autopage, colorlog, cmaes, cliff, alembic, optuna\n",
            "Successfully installed Mako-1.1.5 alembic-1.6.5 autopage-0.4.0 cliff-3.9.0 cmaes-0.8.2 cmd2-2.1.2 colorama-0.4.4 colorlog-6.4.1 optuna-2.9.1 pbr-5.6.0 pyperclip-1.8.2 python-editor-1.0.4 stevedore-3.4.0\n"
          ],
          "name": "stdout"
        }
      ]
    },
    {
      "cell_type": "code",
      "metadata": {
        "id": "tDjsAK3ZJOj_"
      },
      "source": [
        "import os\n",
        "import time\n",
        "import re\n",
        "\n",
        "# Installed libraries\n",
        "import numpy as np\n",
        "import pandas as pd\n",
        "from sklearn.metrics import accuracy_score, f1_score\n",
        "from sklearn.model_selection import train_test_split, KFold\n",
        "\n",
        "import xgboost as xgb\n",
        "import optuna\n",
        "from optuna.samplers import TPESampler\n",
        "\n",
        "from pathlib import Path\n"
      ],
      "execution_count": null,
      "outputs": []
    },
    {
      "cell_type": "code",
      "metadata": {
        "colab": {
          "base_uri": "https://localhost:8080/",
          "height": 205
        },
        "id": "nS7Vbu55KGME",
        "outputId": "ebbf9632-0163-4e80-b915-ccb9b4d64863"
      },
      "source": [
        "data_dir = Path(\"/content/data\")\n",
        "\n",
        "train_data = pd.read_csv(data_dir/'train.csv')\n",
        "test_data = pd.read_csv(data_dir/'test.csv')\n",
        "sample = pd.read_csv(data_dir/'gender_submission.csv')\n",
        "train_data.head()"
      ],
      "execution_count": null,
      "outputs": [
        {
          "output_type": "execute_result",
          "data": {
            "text/html": [
              "<div>\n",
              "<style scoped>\n",
              "    .dataframe tbody tr th:only-of-type {\n",
              "        vertical-align: middle;\n",
              "    }\n",
              "\n",
              "    .dataframe tbody tr th {\n",
              "        vertical-align: top;\n",
              "    }\n",
              "\n",
              "    .dataframe thead th {\n",
              "        text-align: right;\n",
              "    }\n",
              "</style>\n",
              "<table border=\"1\" class=\"dataframe\">\n",
              "  <thead>\n",
              "    <tr style=\"text-align: right;\">\n",
              "      <th></th>\n",
              "      <th>PassengerId</th>\n",
              "      <th>Survived</th>\n",
              "      <th>Pclass</th>\n",
              "      <th>Name</th>\n",
              "      <th>Sex</th>\n",
              "      <th>Age</th>\n",
              "      <th>SibSp</th>\n",
              "      <th>Parch</th>\n",
              "      <th>Ticket</th>\n",
              "      <th>Fare</th>\n",
              "      <th>Cabin</th>\n",
              "      <th>Embarked</th>\n",
              "    </tr>\n",
              "  </thead>\n",
              "  <tbody>\n",
              "    <tr>\n",
              "      <th>0</th>\n",
              "      <td>1</td>\n",
              "      <td>0</td>\n",
              "      <td>3</td>\n",
              "      <td>Braund, Mr. Owen Harris</td>\n",
              "      <td>male</td>\n",
              "      <td>22.0</td>\n",
              "      <td>1</td>\n",
              "      <td>0</td>\n",
              "      <td>A/5 21171</td>\n",
              "      <td>7.2500</td>\n",
              "      <td>NaN</td>\n",
              "      <td>S</td>\n",
              "    </tr>\n",
              "    <tr>\n",
              "      <th>1</th>\n",
              "      <td>2</td>\n",
              "      <td>1</td>\n",
              "      <td>1</td>\n",
              "      <td>Cumings, Mrs. John Bradley (Florence Briggs Th...</td>\n",
              "      <td>female</td>\n",
              "      <td>38.0</td>\n",
              "      <td>1</td>\n",
              "      <td>0</td>\n",
              "      <td>PC 17599</td>\n",
              "      <td>71.2833</td>\n",
              "      <td>C85</td>\n",
              "      <td>C</td>\n",
              "    </tr>\n",
              "    <tr>\n",
              "      <th>2</th>\n",
              "      <td>3</td>\n",
              "      <td>1</td>\n",
              "      <td>3</td>\n",
              "      <td>Heikkinen, Miss. Laina</td>\n",
              "      <td>female</td>\n",
              "      <td>26.0</td>\n",
              "      <td>0</td>\n",
              "      <td>0</td>\n",
              "      <td>STON/O2. 3101282</td>\n",
              "      <td>7.9250</td>\n",
              "      <td>NaN</td>\n",
              "      <td>S</td>\n",
              "    </tr>\n",
              "    <tr>\n",
              "      <th>3</th>\n",
              "      <td>4</td>\n",
              "      <td>1</td>\n",
              "      <td>1</td>\n",
              "      <td>Futrelle, Mrs. Jacques Heath (Lily May Peel)</td>\n",
              "      <td>female</td>\n",
              "      <td>35.0</td>\n",
              "      <td>1</td>\n",
              "      <td>0</td>\n",
              "      <td>113803</td>\n",
              "      <td>53.1000</td>\n",
              "      <td>C123</td>\n",
              "      <td>S</td>\n",
              "    </tr>\n",
              "    <tr>\n",
              "      <th>4</th>\n",
              "      <td>5</td>\n",
              "      <td>0</td>\n",
              "      <td>3</td>\n",
              "      <td>Allen, Mr. William Henry</td>\n",
              "      <td>male</td>\n",
              "      <td>35.0</td>\n",
              "      <td>0</td>\n",
              "      <td>0</td>\n",
              "      <td>373450</td>\n",
              "      <td>8.0500</td>\n",
              "      <td>NaN</td>\n",
              "      <td>S</td>\n",
              "    </tr>\n",
              "  </tbody>\n",
              "</table>\n",
              "</div>"
            ],
            "text/plain": [
              "   PassengerId  Survived  Pclass  ...     Fare Cabin  Embarked\n",
              "0            1         0       3  ...   7.2500   NaN         S\n",
              "1            2         1       1  ...  71.2833   C85         C\n",
              "2            3         1       3  ...   7.9250   NaN         S\n",
              "3            4         1       1  ...  53.1000  C123         S\n",
              "4            5         0       3  ...   8.0500   NaN         S\n",
              "\n",
              "[5 rows x 12 columns]"
            ]
          },
          "metadata": {},
          "execution_count": 5
        }
      ]
    },
    {
      "cell_type": "markdown",
      "metadata": {
        "id": "BVXv4VvWJhwl"
      },
      "source": [
        "## 1.预处理数据"
      ]
    },
    {
      "cell_type": "code",
      "metadata": {
        "id": "EVJgh0S8JUxc"
      },
      "source": [
        "def get_title(name):\n",
        "    title_search = re.search(' ([A-Za-z]+)\\.', name)  # 搜索字母后接.像Mr.这种敬称\n",
        "    # If the title exists, extract and return it.\n",
        "    if title_search:\n",
        "        return title_search.group(1)\n",
        "    return \"\"\n",
        "\n",
        "\n",
        "def create_extra_features(data):\n",
        "    data['Ticket_type'] = data['Ticket'].map(lambda x: x[0:3])  # Ticket_type只要Ticket前3字符\n",
        "    data['Name_Words_Count'] = data['Name'].map(lambda x: len(x.split()))  # name 词数\n",
        "    # 如果不nan就是有Cabin,转换为1,0int型数据\n",
        "    data['Has_Cabin'] = data[\"Cabin\"].map(lambda x: 1 - int(type(x) == float))\n",
        "    data['FamilySize'] = data['SibSp'] + data['Parch'] + 1\n",
        "\n",
        "    \n",
        "    data['Fare'] = data['Fare'].fillna(data['Fare'].mean()).astype('int')\n",
        "    data['Age'] = data['Age'].fillna(data['Age'].mean()).astype('int')\n",
        "\n",
        "    data['Title'] = data['Name'].apply(get_title).replace(\n",
        "        ['Lady', 'Countess', 'Capt', 'Col', 'Don', 'Dr', 'Major', 'Rev', 'Sir', 'Jonkheer', 'Dona'], 'Rare')\n",
        "    data['Title'] = data['Title'].replace('Mlle', 'Miss')\n",
        "    data['Title'] = data['Title'].replace('Ms', 'Miss')\n",
        "    data['Title'] = data['Title'].replace('Mme', 'Mrs')\n",
        "    data['Title'] = data['Title'].map({\"Mr\": 1, \"Miss\": 2, \"Mrs\": 3, \"Master\": 4, \"Rare\": 5}).fillna(0)\n",
        "    data['Sex'] = data['Sex'].map({'female': 1, 'male':0}).astype(int)\n",
        "    data['Embarked'] = data['Embarked'].map({\"C\":0,\"Q\":1,\"S\":2}).fillna(0).astype(int)\n",
        "\n",
        "    return data"
      ],
      "execution_count": null,
      "outputs": []
    },
    {
      "cell_type": "code",
      "metadata": {
        "id": "QEt8-0TbJe-d"
      },
      "source": [
        "train_data = create_extra_features(train_data)\n",
        "test_data = create_extra_features(test_data)"
      ],
      "execution_count": null,
      "outputs": []
    },
    {
      "cell_type": "code",
      "metadata": {
        "id": "qnX6TVNgJtGi"
      },
      "source": [
        "train_data.drop(['PassengerId', 'Name', 'Ticket', 'Ticket_type', 'Cabin'], axis=1, inplace=True)\n",
        "test_data.drop(['PassengerId', 'Name', 'Ticket', 'Ticket_type', 'Cabin'], axis=1, inplace=True)\n",
        "X = train_data.drop(['Survived'], axis=1, inplace=False)\n",
        "y = train_data['Survived']"
      ],
      "execution_count": null,
      "outputs": []
    },
    {
      "cell_type": "code",
      "metadata": {
        "id": "pJy3m5DoJlny"
      },
      "source": [
        "def f1_metric(y_true, y_pred):\n",
        "    return f1_score(y_true, (y_pred > 0.5).astype(int))\n"
      ],
      "execution_count": null,
      "outputs": []
    },
    {
      "cell_type": "code",
      "metadata": {
        "colab": {
          "base_uri": "https://localhost:8080/"
        },
        "id": "ZF3tYRRlSXO5",
        "outputId": "38c752d3-1463-4a1f-fd2a-9d9d89781c9a"
      },
      "source": [
        "X.head(), test_data.shape"
      ],
      "execution_count": null,
      "outputs": [
        {
          "output_type": "execute_result",
          "data": {
            "text/plain": [
              "(   Pclass  Sex  Age  SibSp  ...  Name_Words_Count  Has_Cabin  FamilySize  Title\n",
              " 0       3    0   22      1  ...                 4          0           2      1\n",
              " 1       1    1   38      1  ...                 7          1           2      3\n",
              " 2       3    1   26      0  ...                 3          0           1      2\n",
              " 3       1    1   35      1  ...                 7          1           2      3\n",
              " 4       3    0   35      0  ...                 4          0           1      1\n",
              " \n",
              " [5 rows x 11 columns], (418, 11))"
            ]
          },
          "metadata": {},
          "execution_count": 35
        }
      ]
    },
    {
      "cell_type": "code",
      "metadata": {
        "id": "z0DcBBuhLSzt"
      },
      "source": [
        "def objective(trial):\n",
        "    X_train, X_valid, y_train, y_valid = train_test_split(X, y,\n",
        "                                test_size=0.2,\n",
        "                                stratify=y,\n",
        "                                random_state=2020)\n",
        "    params = {\n",
        "        'n_estimators': trial.suggest_int('n_estimator', 100, 2500, 200),\n",
        "        'eta': trial.suggest_loguniform('eta', 1e-6, 1e-3), #从1e-6～1e-3的log uniform分布里选\n",
        "        'max_depth': trial.suggest_int('max_depth', 5, 25, 1),\n",
        "        'min_child_weight': trial.suggest_int('min_child_weight', 1, 35, 2),\n",
        "        'subsample': trial.suggest_discrete_uniform('subsample', 0.5, 0.9, 0.1),\n",
        "        'colsample_bytree': trial.suggest_discrete_uniform('colsample_by_tree', 0.5, 0.9, 0.1),\n",
        "        'reg_lambda': trial.suggest_discrete_uniform('reg_lambda', 0.001, 20.001, 0.1),\n",
        "        'reg_alpha': trial.suggest_discrete_uniform('reg_alpha', 0.001, 20.001, 0.1),\n",
        "        'gamma': trial.suggest_loguniform('gamma', 1e-5, 10),\n",
        "    }\n",
        "    classifer = xgb.XGBClassifier(\n",
        "        objective='binary:logistic',\n",
        "        tree_method='gpu_hist',\n",
        "        n_jobs=-1,\n",
        "        **params,\n",
        "    )\n",
        "\n",
        "    classifer.fit(X_train, y_train, eval_set=[(X_valid, y_valid)],\\\n",
        "                  eval_metric=\"error\", verbose=False)\n",
        "\n",
        "    return f1_metric(y_valid, classifer.predict(X_valid))"
      ],
      "execution_count": null,
      "outputs": []
    },
    {
      "cell_type": "code",
      "metadata": {
        "colab": {
          "base_uri": "https://localhost:8080/"
        },
        "id": "46W45MNvLVcw",
        "outputId": "edfb4e3b-7138-4d36-996a-dca519ac7766"
      },
      "source": [
        "training_time = 1*60*60\n",
        "\n",
        "study = optuna.create_study(direction='maximize', study_name='XGBClassifier', sampler=TPESampler())\n",
        "study.optimize(objective, timeout=training_time)"
      ],
      "execution_count": null,
      "outputs": [
        {
          "output_type": "stream",
          "text": [
            "\u001b[32m[I 2021-08-29 04:52:05,734]\u001b[0m A new study created in memory with name: XGBClassifier\u001b[0m\n",
            "\u001b[32m[I 2021-08-29 04:52:12,506]\u001b[0m Trial 0 finished with value: 0.7669172932330827 and parameters: {'n_estimator': 2500, 'eta': 5.985414607869781e-06, 'max_depth': 17, 'min_child_weight': 19, 'subsample': 0.6, 'colsample_by_tree': 0.5, 'reg_lambda': 3.201, 'reg_alpha': 3.501, 'gamma': 4.744828656690232e-05}. Best is trial 0 with value: 0.7669172932330827.\u001b[0m\n",
            "\u001b[32m[I 2021-08-29 04:52:13,916]\u001b[0m Trial 1 finished with value: 0.7647058823529411 and parameters: {'n_estimator': 700, 'eta': 0.0004946553084328892, 'max_depth': 5, 'min_child_weight': 21, 'subsample': 0.7, 'colsample_by_tree': 0.5, 'reg_lambda': 11.901, 'reg_alpha': 2.201, 'gamma': 3.486498758330956e-05}. Best is trial 0 with value: 0.7669172932330827.\u001b[0m\n",
            "\u001b[32m[I 2021-08-29 04:52:18,387]\u001b[0m Trial 2 finished with value: 0.7777777777777778 and parameters: {'n_estimator': 2300, 'eta': 1.4475851872725162e-06, 'max_depth': 5, 'min_child_weight': 17, 'subsample': 0.8, 'colsample_by_tree': 0.8, 'reg_lambda': 7.501, 'reg_alpha': 4.7010000000000005, 'gamma': 3.835675683315801e-05}. Best is trial 2 with value: 0.7777777777777778.\u001b[0m\n",
            "\u001b[32m[I 2021-08-29 04:52:20,289]\u001b[0m Trial 3 finished with value: 0.7428571428571428 and parameters: {'n_estimator': 100, 'eta': 9.233626812376137e-06, 'max_depth': 21, 'min_child_weight': 23, 'subsample': 0.5, 'colsample_by_tree': 0.9, 'reg_lambda': 19.801000000000002, 'reg_alpha': 6.301000000000001, 'gamma': 0.00011775880578459212}. Best is trial 2 with value: 0.7777777777777778.\u001b[0m\n",
            "\u001b[32m[I 2021-08-29 04:52:25,783]\u001b[0m Trial 4 finished with value: 0.7445255474452556 and parameters: {'n_estimator': 300, 'eta': 0.0008184401372433461, 'max_depth': 21, 'min_child_weight': 5, 'subsample': 0.9, 'colsample_by_tree': 0.7, 'reg_lambda': 8.501, 'reg_alpha': 19.501, 'gamma': 0.03511158720907409}. Best is trial 2 with value: 0.7777777777777778.\u001b[0m\n",
            "\u001b[32m[I 2021-08-29 04:52:27,023]\u001b[0m Trial 5 finished with value: 0.7794117647058824 and parameters: {'n_estimator': 500, 'eta': 0.0007358644233027319, 'max_depth': 16, 'min_child_weight': 27, 'subsample': 0.9, 'colsample_by_tree': 0.6, 'reg_lambda': 13.401, 'reg_alpha': 3.601, 'gamma': 4.437865145602338e-05}. Best is trial 5 with value: 0.7794117647058824.\u001b[0m\n",
            "\u001b[32m[I 2021-08-29 04:52:50,399]\u001b[0m Trial 6 finished with value: 0.748201438848921 and parameters: {'n_estimator': 2500, 'eta': 2.392983762988976e-06, 'max_depth': 20, 'min_child_weight': 15, 'subsample': 0.5, 'colsample_by_tree': 0.6, 'reg_lambda': 1.101, 'reg_alpha': 11.901, 'gamma': 0.21828975608089743}. Best is trial 5 with value: 0.7794117647058824.\u001b[0m\n",
            "\u001b[32m[I 2021-08-29 04:52:56,458]\u001b[0m Trial 7 finished with value: 0.7313432835820897 and parameters: {'n_estimator': 2300, 'eta': 6.352946030744888e-05, 'max_depth': 17, 'min_child_weight': 1, 'subsample': 0.5, 'colsample_by_tree': 0.8, 'reg_lambda': 8.600999999999999, 'reg_alpha': 16.201, 'gamma': 1.3092177413756074e-05}. Best is trial 5 with value: 0.7794117647058824.\u001b[0m\n",
            "\u001b[32m[I 2021-08-29 04:52:56,715]\u001b[0m Trial 8 finished with value: 0.7391304347826085 and parameters: {'n_estimator': 100, 'eta': 0.0001276476261403878, 'max_depth': 13, 'min_child_weight': 19, 'subsample': 0.8, 'colsample_by_tree': 0.8, 'reg_lambda': 14.401, 'reg_alpha': 9.801, 'gamma': 0.08380129469977333}. Best is trial 5 with value: 0.7794117647058824.\u001b[0m\n",
            "\u001b[32m[I 2021-08-29 04:53:05,254]\u001b[0m Trial 9 finished with value: 0.7445255474452556 and parameters: {'n_estimator': 1700, 'eta': 8.931840189756943e-06, 'max_depth': 19, 'min_child_weight': 33, 'subsample': 0.7, 'colsample_by_tree': 0.8, 'reg_lambda': 1.001, 'reg_alpha': 1.701, 'gamma': 0.00011968676516245646}. Best is trial 5 with value: 0.7794117647058824.\u001b[0m\n",
            "\u001b[32m[I 2021-08-29 04:58:07,328]\u001b[0m Trial 10 finished with value: 0.7659574468085107 and parameters: {'n_estimator': 1100, 'eta': 0.0001519662794079251, 'max_depth': 25, 'min_child_weight': 33, 'subsample': 0.9, 'colsample_by_tree': 0.6, 'reg_lambda': 17.201, 'reg_alpha': 8.301, 'gamma': 7.593444487724673}. Best is trial 5 with value: 0.7794117647058824.\u001b[0m\n",
            "\u001b[32m[I 2021-08-29 04:58:10,596]\u001b[0m Trial 11 finished with value: 0.7536231884057971 and parameters: {'n_estimator': 1700, 'eta': 1.4565728681521885e-06, 'max_depth': 11, 'min_child_weight': 27, 'subsample': 0.8, 'colsample_by_tree': 0.7, 'reg_lambda': 6.501, 'reg_alpha': 5.501, 'gamma': 0.0016449499085735447}. Best is trial 5 with value: 0.7794117647058824.\u001b[0m\n",
            "\u001b[32m[I 2021-08-29 04:58:12,515]\u001b[0m Trial 12 finished with value: 0.7656250000000001 and parameters: {'n_estimator': 900, 'eta': 2.894133518465181e-05, 'max_depth': 8, 'min_child_weight': 11, 'subsample': 0.8, 'colsample_by_tree': 0.6, 'reg_lambda': 13.101, 'reg_alpha': 0.401, 'gamma': 0.0017811518514774468}. Best is trial 5 with value: 0.7794117647058824.\u001b[0m\n",
            "\u001b[32m[I 2021-08-29 04:58:15,757]\u001b[0m Trial 13 finished with value: 0.7669172932330827 and parameters: {'n_estimator': 1700, 'eta': 2.1974136340374608e-05, 'max_depth': 11, 'min_child_weight': 27, 'subsample': 0.9, 'colsample_by_tree': 0.9, 'reg_lambda': 5.301000000000001, 'reg_alpha': 5.601000000000001, 'gamma': 0.0010647566684660898}. Best is trial 5 with value: 0.7794117647058824.\u001b[0m\n",
            "\u001b[32m[I 2021-08-29 04:58:16,757]\u001b[0m Trial 14 finished with value: 0.75 and parameters: {'n_estimator': 500, 'eta': 0.0002444337720974147, 'max_depth': 5, 'min_child_weight': 13, 'subsample': 0.8, 'colsample_by_tree': 0.7, 'reg_lambda': 10.801, 'reg_alpha': 12.501, 'gamma': 0.0005651776214135175}. Best is trial 5 with value: 0.7794117647058824.\u001b[0m\n",
            "\u001b[32m[I 2021-08-29 04:58:19,426]\u001b[0m Trial 15 finished with value: 0.7786259541984734 and parameters: {'n_estimator': 1300, 'eta': 1.0506487553503054e-06, 'max_depth': 14, 'min_child_weight': 27, 'subsample': 0.9, 'colsample_by_tree': 0.8, 'reg_lambda': 14.601, 'reg_alpha': 4.601000000000001, 'gamma': 1.0125052455138056e-05}. Best is trial 5 with value: 0.7794117647058824.\u001b[0m\n",
            "\u001b[32m[I 2021-08-29 04:58:22,417]\u001b[0m Trial 16 finished with value: 0.7681159420289855 and parameters: {'n_estimator': 1500, 'eta': 6.0925276713703055e-05, 'max_depth': 14, 'min_child_weight': 27, 'subsample': 0.9, 'colsample_by_tree': 0.6, 'reg_lambda': 15.501, 'reg_alpha': 7.601000000000001, 'gamma': 1.0461389198618241e-05}. Best is trial 5 with value: 0.7794117647058824.\u001b[0m\n",
            "\u001b[32m[I 2021-08-29 04:58:25,489]\u001b[0m Trial 17 finished with value: 0.7299270072992701 and parameters: {'n_estimator': 1300, 'eta': 3.7489690631637337e-06, 'max_depth': 16, 'min_child_weight': 35, 'subsample': 0.6, 'colsample_by_tree': 0.9, 'reg_lambda': 17.001, 'reg_alpha': 0.001, 'gamma': 0.006134089451210041}. Best is trial 5 with value: 0.7794117647058824.\u001b[0m\n",
            "\u001b[32m[I 2021-08-29 04:58:26,909]\u001b[0m Trial 18 finished with value: 0.7611940298507462 and parameters: {'n_estimator': 700, 'eta': 1.7016914863045578e-05, 'max_depth': 12, 'min_child_weight': 29, 'subsample': 0.9, 'colsample_by_tree': 0.5, 'reg_lambda': 19.701000000000004, 'reg_alpha': 2.9010000000000002, 'gamma': 0.00048257020472695613}. Best is trial 5 with value: 0.7794117647058824.\u001b[0m\n",
            "\u001b[32m[I 2021-08-29 05:03:28,500]\u001b[0m Trial 19 finished with value: 0.748201438848921 and parameters: {'n_estimator': 1100, 'eta': 0.0003239033026868732, 'max_depth': 25, 'min_child_weight': 23, 'subsample': 0.7, 'colsample_by_tree': 0.7, 'reg_lambda': 12.801, 'reg_alpha': 11.201, 'gamma': 3.4209680113636574}. Best is trial 5 with value: 0.7794117647058824.\u001b[0m\n",
            "\u001b[32m[I 2021-08-29 05:03:32,382]\u001b[0m Trial 20 finished with value: 0.7246376811594203 and parameters: {'n_estimator': 2100, 'eta': 5.4134130764803615e-05, 'max_depth': 10, 'min_child_weight': 31, 'subsample': 0.9, 'colsample_by_tree': 0.8, 'reg_lambda': 10.501, 'reg_alpha': 14.401, 'gamma': 0.0073398689172223105}. Best is trial 5 with value: 0.7794117647058824.\u001b[0m\n",
            "\u001b[32m[I 2021-08-29 05:03:36,623]\u001b[0m Trial 21 finished with value: 0.7716535433070866 and parameters: {'n_estimator': 2100, 'eta': 1.1233508754822607e-06, 'max_depth': 8, 'min_child_weight': 9, 'subsample': 0.8, 'colsample_by_tree': 0.8, 'reg_lambda': 7.901000000000001, 'reg_alpha': 3.9010000000000002, 'gamma': 0.00014826619532411144}. Best is trial 5 with value: 0.7794117647058824.\u001b[0m\n",
            "\u001b[32m[I 2021-08-29 05:03:40,746]\u001b[0m Trial 22 finished with value: 0.7777777777777778 and parameters: {'n_estimator': 1900, 'eta': 2.286193059724241e-06, 'max_depth': 15, 'min_child_weight': 15, 'subsample': 0.8, 'colsample_by_tree': 0.8, 'reg_lambda': 14.501, 'reg_alpha': 4.7010000000000005, 'gamma': 3.3447079599125793e-05}. Best is trial 5 with value: 0.7794117647058824.\u001b[0m\n",
            "\u001b[32m[I 2021-08-29 05:03:44,721]\u001b[0m Trial 23 finished with value: 0.7538461538461538 and parameters: {'n_estimator': 1900, 'eta': 2.656875689408866e-06, 'max_depth': 15, 'min_child_weight': 23, 'subsample': 0.9, 'colsample_by_tree': 0.9, 'reg_lambda': 15.001, 'reg_alpha': 7.101000000000001, 'gamma': 1.117353576255371e-05}. Best is trial 5 with value: 0.7794117647058824.\u001b[0m\n",
            "\u001b[32m[I 2021-08-29 05:03:47,179]\u001b[0m Trial 24 finished with value: 0.7571428571428571 and parameters: {'n_estimator': 1300, 'eta': 1.1005277083033371e-06, 'max_depth': 8, 'min_child_weight': 25, 'subsample': 0.8, 'colsample_by_tree': 0.7, 'reg_lambda': 5.301000000000001, 'reg_alpha': 9.301, 'gamma': 0.00019315950277559322}. Best is trial 5 with value: 0.7794117647058824.\u001b[0m\n",
            "\u001b[32m[I 2021-08-29 05:03:50,425]\u001b[0m Trial 25 finished with value: 0.7596899224806202 and parameters: {'n_estimator': 900, 'eta': 4.372818147234881e-06, 'max_depth': 18, 'min_child_weight': 15, 'subsample': 0.9, 'colsample_by_tree': 0.6, 'reg_lambda': 16.501, 'reg_alpha': 1.901, 'gamma': 3.768709415765572e-05}. Best is trial 5 with value: 0.7794117647058824.\u001b[0m\n",
            "\u001b[32m[I 2021-08-29 05:03:53,683]\u001b[0m Trial 26 finished with value: 0.7596899224806202 and parameters: {'n_estimator': 1500, 'eta': 1.4402773574517477e-05, 'max_depth': 14, 'min_child_weight': 7, 'subsample': 0.8, 'colsample_by_tree': 0.8, 'reg_lambda': 13.701, 'reg_alpha': 4.2010000000000005, 'gamma': 0.0004081926517274402}. Best is trial 5 with value: 0.7794117647058824.\u001b[0m\n",
            "\u001b[32m[I 2021-08-29 05:03:54,788]\u001b[0m Trial 27 finished with value: 0.7605633802816901 and parameters: {'n_estimator': 500, 'eta': 2.404562228658886e-06, 'max_depth': 15, 'min_child_weight': 31, 'subsample': 0.9, 'colsample_by_tree': 0.7, 'reg_lambda': 18.001, 'reg_alpha': 8.401, 'gamma': 6.709976678523821e-05}. Best is trial 5 with value: 0.7794117647058824.\u001b[0m\n",
            "\u001b[32m[I 2021-08-29 05:03:58,326]\u001b[0m Trial 28 finished with value: 0.7555555555555555 and parameters: {'n_estimator': 1500, 'eta': 7.357051263175091e-06, 'max_depth': 16, 'min_child_weight': 21, 'subsample': 0.8, 'colsample_by_tree': 0.9, 'reg_lambda': 11.601, 'reg_alpha': 6.101000000000001, 'gamma': 0.5622074162534846}. Best is trial 5 with value: 0.7794117647058824.\u001b[0m\n",
            "\u001b[32m[I 2021-08-29 05:06:51,772]\u001b[0m Trial 29 finished with value: 0.7462686567164178 and parameters: {'n_estimator': 2500, 'eta': 4.935412281285549e-06, 'max_depth': 23, 'min_child_weight': 19, 'subsample': 0.7, 'colsample_by_tree': 0.5, 'reg_lambda': 4.2010000000000005, 'reg_alpha': 3.801, 'gamma': 2.6500860864035575e-05}. Best is trial 5 with value: 0.7794117647058824.\u001b[0m\n",
            "\u001b[32m[I 2021-08-29 05:06:58,350]\u001b[0m Trial 30 finished with value: 0.7518796992481203 and parameters: {'n_estimator': 1900, 'eta': 0.0008268404677779896, 'max_depth': 18, 'min_child_weight': 17, 'subsample': 0.6, 'colsample_by_tree': 0.8, 'reg_lambda': 15.501, 'reg_alpha': 0.7010000000000001, 'gamma': 0.00025660458376109893}. Best is trial 5 with value: 0.7794117647058824.\u001b[0m\n",
            "\u001b[32m[I 2021-08-29 05:07:02,941]\u001b[0m Trial 31 finished with value: 0.7777777777777778 and parameters: {'n_estimator': 2300, 'eta': 1.7275306683423242e-06, 'max_depth': 13, 'min_child_weight': 17, 'subsample': 0.8, 'colsample_by_tree': 0.8, 'reg_lambda': 9.501, 'reg_alpha': 5.001, 'gamma': 6.22378354264195e-05}. Best is trial 5 with value: 0.7794117647058824.\u001b[0m\n",
            "\u001b[32m[I 2021-08-29 05:07:07,319]\u001b[0m Trial 32 finished with value: 0.75 and parameters: {'n_estimator': 2100, 'eta': 1.8819388425178635e-06, 'max_depth': 13, 'min_child_weight': 13, 'subsample': 0.9, 'colsample_by_tree': 0.8, 'reg_lambda': 9.901, 'reg_alpha': 2.9010000000000002, 'gamma': 6.070559950322304e-05}. Best is trial 5 with value: 0.7794117647058824.\u001b[0m\n",
            "\u001b[32m[I 2021-08-29 05:07:11,764]\u001b[0m Trial 33 finished with value: 0.7462686567164178 and parameters: {'n_estimator': 2300, 'eta': 3.3121640737705017e-06, 'max_depth': 5, 'min_child_weight': 21, 'subsample': 0.7, 'colsample_by_tree': 0.9, 'reg_lambda': 12.201, 'reg_alpha': 4.601000000000001, 'gamma': 1.8785626595706864e-05}. Best is trial 5 with value: 0.7794117647058824.\u001b[0m\n",
            "\u001b[32m[I 2021-08-29 05:07:16,146]\u001b[0m Trial 34 finished with value: 0.7596899224806202 and parameters: {'n_estimator': 2300, 'eta': 1.548911957294475e-06, 'max_depth': 9, 'min_child_weight': 17, 'subsample': 0.8, 'colsample_by_tree': 0.8, 'reg_lambda': 9.501, 'reg_alpha': 6.501, 'gamma': 5.1291451128687494e-05}. Best is trial 5 with value: 0.7794117647058824.\u001b[0m\n",
            "\u001b[32m[I 2021-08-29 05:07:16,805]\u001b[0m Trial 35 finished with value: 0.7727272727272727 and parameters: {'n_estimator': 300, 'eta': 1.0332987797656266e-06, 'max_depth': 6, 'min_child_weight': 25, 'subsample': 0.9, 'colsample_by_tree': 0.7, 'reg_lambda': 7.2010000000000005, 'reg_alpha': 1.901, 'gamma': 7.383545519237575e-05}. Best is trial 5 with value: 0.7794117647058824.\u001b[0m\n",
            "\u001b[32m[I 2021-08-29 05:07:23,545]\u001b[0m Trial 36 finished with value: 0.7611940298507462 and parameters: {'n_estimator': 2500, 'eta': 5.731511689825989e-06, 'max_depth': 17, 'min_child_weight': 19, 'subsample': 0.7, 'colsample_by_tree': 0.5, 'reg_lambda': 11.701, 'reg_alpha': 5.401000000000001, 'gamma': 0.02178446734721129}. Best is trial 5 with value: 0.7794117647058824.\u001b[0m\n",
            "\u001b[32m[I 2021-08-29 05:07:39,896]\u001b[0m Trial 37 finished with value: 0.7611940298507462 and parameters: {'n_estimator': 900, 'eta': 1.2521289280634565e-05, 'max_depth': 21, 'min_child_weight': 25, 'subsample': 0.8, 'colsample_by_tree': 0.8, 'reg_lambda': 2.4010000000000002, 'reg_alpha': 3.001, 'gamma': 2.011983753946489e-05}. Best is trial 5 with value: 0.7794117647058824.\u001b[0m\n",
            "\u001b[32m[I 2021-08-29 05:07:44,559]\u001b[0m Trial 38 finished with value: 0.7727272727272727 and parameters: {'n_estimator': 2300, 'eta': 0.00039331216928296416, 'max_depth': 13, 'min_child_weight': 21, 'subsample': 0.9, 'colsample_by_tree': 0.7, 'reg_lambda': 8.501, 'reg_alpha': 1.301, 'gamma': 0.0033686756422527378}. Best is trial 5 with value: 0.7794117647058824.\u001b[0m\n",
            "\u001b[32m[I 2021-08-29 05:07:48,184]\u001b[0m Trial 39 finished with value: 0.7571428571428571 and parameters: {'n_estimator': 700, 'eta': 1.5419142687821374e-06, 'max_depth': 19, 'min_child_weight': 29, 'subsample': 0.6, 'colsample_by_tree': 0.9, 'reg_lambda': 6.301000000000001, 'reg_alpha': 7.501, 'gamma': 0.00011149658998911348}. Best is trial 5 with value: 0.7794117647058824.\u001b[0m\n",
            "\u001b[32m[I 2021-08-29 05:09:04,378]\u001b[0m Trial 40 finished with value: 0.7575757575757576 and parameters: {'n_estimator': 1100, 'eta': 0.00012285001262529377, 'max_depth': 23, 'min_child_weight': 3, 'subsample': 0.8, 'colsample_by_tree': 0.6, 'reg_lambda': 9.100999999999999, 'reg_alpha': 11.001, 'gamma': 0.0002749155992898823}. Best is trial 5 with value: 0.7794117647058824.\u001b[0m\n",
            "\u001b[32m[I 2021-08-29 05:09:08,975]\u001b[0m Trial 41 finished with value: 0.7777777777777778 and parameters: {'n_estimator': 1900, 'eta': 2.048127401499246e-06, 'max_depth': 16, 'min_child_weight': 15, 'subsample': 0.8, 'colsample_by_tree': 0.8, 'reg_lambda': 13.601, 'reg_alpha': 4.401000000000001, 'gamma': 3.280056571144845e-05}. Best is trial 5 with value: 0.7794117647058824.\u001b[0m\n",
            "\u001b[32m[I 2021-08-29 05:09:13,737]\u001b[0m Trial 42 finished with value: 0.7445255474452556 and parameters: {'n_estimator': 2100, 'eta': 2.981360920142591e-06, 'max_depth': 16, 'min_child_weight': 13, 'subsample': 0.8, 'colsample_by_tree': 0.8, 'reg_lambda': 13.701, 'reg_alpha': 18.901000000000003, 'gamma': 2.1590957142555072e-05}. Best is trial 5 with value: 0.7794117647058824.\u001b[0m\n",
            "\u001b[32m[I 2021-08-29 05:09:18,756]\u001b[0m Trial 43 finished with value: 0.75 and parameters: {'n_estimator': 2500, 'eta': 1.6744159987984349e-06, 'max_depth': 14, 'min_child_weight': 17, 'subsample': 0.9, 'colsample_by_tree': 0.8, 'reg_lambda': 14.501, 'reg_alpha': 5.2010000000000005, 'gamma': 0.00010706235693085197}. Best is trial 5 with value: 0.7794117647058824.\u001b[0m\n",
            "\u001b[32m[I 2021-08-29 05:09:19,033]\u001b[0m Trial 44 finished with value: 0.7445255474452556 and parameters: {'n_estimator': 100, 'eta': 1.0262098052875754e-06, 'max_depth': 12, 'min_child_weight': 15, 'subsample': 0.8, 'colsample_by_tree': 0.8, 'reg_lambda': 11.001, 'reg_alpha': 6.501, 'gamma': 3.5529290754768106e-05}. Best is trial 5 with value: 0.7794117647058824.\u001b[0m\n",
            "\u001b[32m[I 2021-08-29 05:09:25,786]\u001b[0m Trial 45 finished with value: 0.75 and parameters: {'n_estimator': 1900, 'eta': 0.0006064334964806135, 'max_depth': 18, 'min_child_weight': 11, 'subsample': 0.7, 'colsample_by_tree': 0.7, 'reg_lambda': 15.901, 'reg_alpha': 3.201, 'gamma': 1.3140114441425874e-05}. Best is trial 5 with value: 0.7794117647058824.\u001b[0m\n",
            "\u001b[32m[I 2021-08-29 05:09:29,340]\u001b[0m Trial 46 finished with value: 0.7819548872180452 and parameters: {'n_estimator': 1700, 'eta': 2.4070478783659303e-06, 'max_depth': 15, 'min_child_weight': 11, 'subsample': 0.9, 'colsample_by_tree': 0.8, 'reg_lambda': 18.201, 'reg_alpha': 8.701, 'gamma': 3.259811810138781e-05}. Best is trial 46 with value: 0.7819548872180452.\u001b[0m\n",
            "\u001b[32m[I 2021-08-29 05:09:45,489]\u001b[0m Trial 47 finished with value: 0.7669172932330827 and parameters: {'n_estimator': 1700, 'eta': 8.777769400262213e-06, 'max_depth': 20, 'min_child_weight': 9, 'subsample': 0.9, 'colsample_by_tree': 0.9, 'reg_lambda': 17.701, 'reg_alpha': 8.301, 'gamma': 1.696185793349232e-05}. Best is trial 46 with value: 0.7819548872180452.\u001b[0m\n",
            "\u001b[32m[I 2021-08-29 05:09:48,955]\u001b[0m Trial 48 finished with value: 0.7445255474452556 and parameters: {'n_estimator': 1300, 'eta': 4.03583981971438e-06, 'max_depth': 17, 'min_child_weight': 11, 'subsample': 0.9, 'colsample_by_tree': 0.6, 'reg_lambda': 18.901000000000003, 'reg_alpha': 13.701, 'gamma': 3.137506272903413e-05}. Best is trial 46 with value: 0.7819548872180452.\u001b[0m\n",
            "\u001b[32m[I 2021-08-29 05:09:52,502]\u001b[0m Trial 49 finished with value: 0.7575757575757576 and parameters: {'n_estimator': 1700, 'eta': 3.57684291827158e-05, 'max_depth': 15, 'min_child_weight': 5, 'subsample': 0.9, 'colsample_by_tree': 0.8, 'reg_lambda': 20.001, 'reg_alpha': 8.901, 'gamma': 0.0008409990189838223}. Best is trial 46 with value: 0.7819548872180452.\u001b[0m\n",
            "\u001b[32m[I 2021-08-29 05:09:55,427]\u001b[0m Trial 50 finished with value: 0.7575757575757576 and parameters: {'n_estimator': 1500, 'eta': 2.450014813423569e-06, 'max_depth': 12, 'min_child_weight': 35, 'subsample': 0.9, 'colsample_by_tree': 0.7, 'reg_lambda': 16.201, 'reg_alpha': 0.901, 'gamma': 0.0723993051764288}. Best is trial 46 with value: 0.7819548872180452.\u001b[0m\n",
            "\u001b[32m[I 2021-08-29 05:09:59,910]\u001b[0m Trial 51 finished with value: 0.7777777777777778 and parameters: {'n_estimator': 2300, 'eta': 1.544212601440995e-06, 'max_depth': 11, 'min_child_weight': 15, 'subsample': 0.8, 'colsample_by_tree': 0.8, 'reg_lambda': 18.701, 'reg_alpha': 5.401000000000001, 'gamma': 8.359937382978795e-05}. Best is trial 46 with value: 0.7819548872180452.\u001b[0m\n",
            "\u001b[32m[I 2021-08-29 05:10:04,044]\u001b[0m Trial 52 finished with value: 0.7538461538461538 and parameters: {'n_estimator': 2100, 'eta': 1.406734517473843e-06, 'max_depth': 7, 'min_child_weight': 13, 'subsample': 0.5, 'colsample_by_tree': 0.8, 'reg_lambda': 18.001, 'reg_alpha': 2.601, 'gamma': 0.00011002446469092241}. Best is trial 46 with value: 0.7819548872180452.\u001b[0m\n",
            "\u001b[32m[I 2021-08-29 05:10:07,759]\u001b[0m Trial 53 finished with value: 0.7633587786259542 and parameters: {'n_estimator': 1900, 'eta': 2.0859640346774872e-06, 'max_depth': 10, 'min_child_weight': 9, 'subsample': 0.8, 'colsample_by_tree': 0.8, 'reg_lambda': 19.301000000000002, 'reg_alpha': 5.901000000000001, 'gamma': 1.275507774934557e-05}. Best is trial 46 with value: 0.7819548872180452.\u001b[0m\n",
            "\u001b[32m[I 2021-08-29 05:10:12,055]\u001b[0m Trial 54 finished with value: 0.759124087591241 and parameters: {'n_estimator': 2300, 'eta': 1.310479627614731e-06, 'max_depth': 11, 'min_child_weight': 19, 'subsample': 0.9, 'colsample_by_tree': 0.9, 'reg_lambda': 18.701, 'reg_alpha': 10.101, 'gamma': 1.0409665980344948e-05}. Best is trial 46 with value: 0.7819548872180452.\u001b[0m\n",
            "\u001b[32m[I 2021-08-29 05:10:16,856]\u001b[0m Trial 55 finished with value: 0.7538461538461538 and parameters: {'n_estimator': 2500, 'eta': 7.78829188891955e-05, 'max_depth': 13, 'min_child_weight': 23, 'subsample': 0.9, 'colsample_by_tree': 0.8, 'reg_lambda': 17.101000000000003, 'reg_alpha': 7.001, 'gamma': 6.663717778624657e-05}. Best is trial 46 with value: 0.7819548872180452.\u001b[0m\n",
            "\u001b[32m[I 2021-08-29 05:10:17,982]\u001b[0m Trial 56 finished with value: 0.7596899224806202 and parameters: {'n_estimator': 500, 'eta': 3.2247406256812408e-06, 'max_depth': 14, 'min_child_weight': 17, 'subsample': 0.8, 'colsample_by_tree': 0.8, 'reg_lambda': 6.901000000000001, 'reg_alpha': 3.601, 'gamma': 0.0001907446306635087}. Best is trial 46 with value: 0.7819548872180452.\u001b[0m\n",
            "\u001b[32m[I 2021-08-29 05:10:18,719]\u001b[0m Trial 57 finished with value: 0.7786259541984734 and parameters: {'n_estimator': 300, 'eta': 0.00020188845441854771, 'max_depth': 15, 'min_child_weight': 15, 'subsample': 0.7, 'colsample_by_tree': 0.7, 'reg_lambda': 14.701, 'reg_alpha': 2.4010000000000002, 'gamma': 4.02071794710661e-05}. Best is trial 46 with value: 0.7819548872180452.\u001b[0m\n",
            "\u001b[32m[I 2021-08-29 05:10:19,400]\u001b[0m Trial 58 finished with value: 0.7538461538461538 and parameters: {'n_estimator': 300, 'eta': 0.0009932998441175215, 'max_depth': 10, 'min_child_weight': 13, 'subsample': 0.7, 'colsample_by_tree': 0.7, 'reg_lambda': 12.601, 'reg_alpha': 2.4010000000000002, 'gamma': 0.0003379267107790988}. Best is trial 46 with value: 0.7819548872180452.\u001b[0m\n",
            "\u001b[32m[I 2021-08-29 05:10:19,711]\u001b[0m Trial 59 finished with value: 0.7445255474452556 and parameters: {'n_estimator': 100, 'eta': 0.00028597623853820553, 'max_depth': 16, 'min_child_weight': 29, 'subsample': 0.7, 'colsample_by_tree': 0.6, 'reg_lambda': 13.501, 'reg_alpha': 4.401000000000001, 'gamma': 4.278919171333297e-05}. Best is trial 46 with value: 0.7819548872180452.\u001b[0m\n",
            "\u001b[32m[I 2021-08-29 05:10:20,632]\u001b[0m Trial 60 finished with value: 0.7656250000000001 and parameters: {'n_estimator': 300, 'eta': 0.00020589194382494893, 'max_depth': 17, 'min_child_weight': 11, 'subsample': 0.6, 'colsample_by_tree': 0.7, 'reg_lambda': 14.901, 'reg_alpha': 0.001, 'gamma': 0.0006865627664201816}. Best is trial 46 with value: 0.7819548872180452.\u001b[0m\n",
            "\u001b[32m[I 2021-08-29 05:10:23,791]\u001b[0m Trial 61 finished with value: 0.75 and parameters: {'n_estimator': 1300, 'eta': 0.0005219081581185822, 'max_depth': 16, 'min_child_weight': 15, 'subsample': 0.7, 'colsample_by_tree': 0.8, 'reg_lambda': 16.501, 'reg_alpha': 4.101000000000001, 'gamma': 2.6269770092514373e-05}. Best is trial 46 with value: 0.7819548872180452.\u001b[0m\n",
            "\u001b[32m[I 2021-08-29 05:10:24,981]\u001b[0m Trial 62 finished with value: 0.7384615384615385 and parameters: {'n_estimator': 500, 'eta': 0.00017202068104308244, 'max_depth': 15, 'min_child_weight': 17, 'subsample': 0.9, 'colsample_by_tree': 0.8, 'reg_lambda': 11.001, 'reg_alpha': 1.401, 'gamma': 0.00017854559136847947}. Best is trial 46 with value: 0.7819548872180452.\u001b[0m\n",
            "\u001b[32m[I 2021-08-29 05:10:29,684]\u001b[0m Trial 63 finished with value: 0.7716535433070866 and parameters: {'n_estimator': 2300, 'eta': 1.1901165200191906e-06, 'max_depth': 14, 'min_child_weight': 15, 'subsample': 0.8, 'colsample_by_tree': 0.6, 'reg_lambda': 7.7010000000000005, 'reg_alpha': 5.101000000000001, 'gamma': 8.750728544500811e-05}. Best is trial 46 with value: 0.7819548872180452.\u001b[0m\n",
            "\u001b[32m[I 2021-08-29 05:10:31,521]\u001b[0m Trial 64 finished with value: 0.7538461538461538 and parameters: {'n_estimator': 900, 'eta': 9.017065267821944e-05, 'max_depth': 12, 'min_child_weight': 21, 'subsample': 0.8, 'colsample_by_tree': 0.7, 'reg_lambda': 10.201, 'reg_alpha': 3.601, 'gamma': 4.809787665999267e-05}. Best is trial 46 with value: 0.7819548872180452.\u001b[0m\n",
            "\u001b[32m[I 2021-08-29 05:10:35,221]\u001b[0m Trial 65 finished with value: 0.7656250000000001 and parameters: {'n_estimator': 1700, 'eta': 2.220003310487388e-06, 'max_depth': 15, 'min_child_weight': 15, 'subsample': 0.7, 'colsample_by_tree': 0.8, 'reg_lambda': 14.301, 'reg_alpha': 4.7010000000000005, 'gamma': 1.8175212452370788e-05}. Best is trial 46 with value: 0.7819548872180452.\u001b[0m\n",
            "\u001b[32m[I 2021-08-29 05:10:38,861]\u001b[0m Trial 66 finished with value: 0.7596899224806202 and parameters: {'n_estimator': 1500, 'eta': 1.8845503265271054e-06, 'max_depth': 16, 'min_child_weight': 19, 'subsample': 0.9, 'colsample_by_tree': 0.8, 'reg_lambda': 13.101, 'reg_alpha': 2.201, 'gamma': 0.9507421276827379}. Best is trial 46 with value: 0.7819548872180452.\u001b[0m\n",
            "\u001b[32m[I 2021-08-29 05:10:42,990]\u001b[0m Trial 67 finished with value: 0.7692307692307692 and parameters: {'n_estimator': 1900, 'eta': 4.6597182163191955e-05, 'max_depth': 15, 'min_child_weight': 7, 'subsample': 0.8, 'colsample_by_tree': 0.9, 'reg_lambda': 15.201, 'reg_alpha': 5.7010000000000005, 'gamma': 4.033128721626437e-05}. Best is trial 46 with value: 0.7819548872180452.\u001b[0m\n",
            "\u001b[32m[I 2021-08-29 05:10:50,157]\u001b[0m Trial 68 finished with value: 0.7575757575757576 and parameters: {'n_estimator': 2100, 'eta': 2.0391421912712905e-05, 'max_depth': 18, 'min_child_weight': 13, 'subsample': 0.7, 'colsample_by_tree': 0.7, 'reg_lambda': 18.401000000000003, 'reg_alpha': 7.401000000000001, 'gamma': 2.7333505191425572e-05}. Best is trial 46 with value: 0.7819548872180452.\u001b[0m\n",
            "\u001b[32m[I 2021-08-29 05:10:53,998]\u001b[0m Trial 69 finished with value: 0.7575757575757576 and parameters: {'n_estimator': 1900, 'eta': 6.420241449988287e-06, 'max_depth': 14, 'min_child_weight': 11, 'subsample': 0.8, 'colsample_by_tree': 0.5, 'reg_lambda': 14.201, 'reg_alpha': 6.501, 'gamma': 0.0014205319412380175}. Best is trial 46 with value: 0.7819548872180452.\u001b[0m\n",
            "\u001b[32m[I 2021-08-29 05:10:57,559]\u001b[0m Trial 70 finished with value: 0.7794117647058824 and parameters: {'n_estimator': 700, 'eta': 0.0004245354381140935, 'max_depth': 19, 'min_child_weight': 31, 'subsample': 0.9, 'colsample_by_tree': 0.8, 'reg_lambda': 12.201, 'reg_alpha': 3.601, 'gamma': 5.3809138844880084e-05}. Best is trial 46 with value: 0.7819548872180452.\u001b[0m\n",
            "\u001b[32m[I 2021-08-29 05:11:01,117]\u001b[0m Trial 71 finished with value: 0.7681159420289855 and parameters: {'n_estimator': 700, 'eta': 0.00039145539538288076, 'max_depth': 19, 'min_child_weight': 33, 'subsample': 0.9, 'colsample_by_tree': 0.8, 'reg_lambda': 12.001, 'reg_alpha': 3.9010000000000002, 'gamma': 0.00014870429179873285}. Best is trial 46 with value: 0.7819548872180452.\u001b[0m\n",
            "\u001b[32m[I 2021-08-29 05:11:07,817]\u001b[0m Trial 72 finished with value: 0.785185185185185 and parameters: {'n_estimator': 700, 'eta': 0.0008986026887512315, 'max_depth': 20, 'min_child_weight': 31, 'subsample': 0.9, 'colsample_by_tree': 0.8, 'reg_lambda': 12.801, 'reg_alpha': 3.101, 'gamma': 1.6724674069565184e-05}. Best is trial 72 with value: 0.785185185185185.\u001b[0m\n",
            "\u001b[32m[I 2021-08-29 05:11:32,539]\u001b[0m Trial 73 finished with value: 0.785185185185185 and parameters: {'n_estimator': 700, 'eta': 0.0006742376895706951, 'max_depth': 22, 'min_child_weight': 31, 'subsample': 0.9, 'colsample_by_tree': 0.8, 'reg_lambda': 12.601, 'reg_alpha': 3.301, 'gamma': 1.567570188828627e-05}. Best is trial 72 with value: 0.785185185185185.\u001b[0m\n",
            "\u001b[32m[I 2021-08-29 05:12:07,346]\u001b[0m Trial 74 finished with value: 0.7703703703703704 and parameters: {'n_estimator': 500, 'eta': 0.0006948051834253349, 'max_depth': 23, 'min_child_weight': 31, 'subsample': 0.9, 'colsample_by_tree': 0.8, 'reg_lambda': 12.401, 'reg_alpha': 3.201, 'gamma': 1.5271203887640417e-05}. Best is trial 72 with value: 0.785185185185185.\u001b[0m\n",
            "\u001b[32m[I 2021-08-29 05:12:32,050]\u001b[0m Trial 75 finished with value: 0.7703703703703704 and parameters: {'n_estimator': 700, 'eta': 0.00043268326179221064, 'max_depth': 22, 'min_child_weight': 33, 'subsample': 0.9, 'colsample_by_tree': 0.8, 'reg_lambda': 11.501, 'reg_alpha': 1.901, 'gamma': 1.0899909952921622e-05}. Best is trial 72 with value: 0.785185185185185.\u001b[0m\n",
            "\u001b[32m[I 2021-08-29 05:12:36,898]\u001b[0m Trial 76 finished with value: 0.7786259541984734 and parameters: {'n_estimator': 500, 'eta': 0.0009833277193195974, 'max_depth': 20, 'min_child_weight': 27, 'subsample': 0.9, 'colsample_by_tree': 0.8, 'reg_lambda': 13.001, 'reg_alpha': 2.601, 'gamma': 1.956707052978095e-05}. Best is trial 72 with value: 0.785185185185185.\u001b[0m\n",
            "\u001b[32m[I 2021-08-29 05:12:41,686]\u001b[0m Trial 77 finished with value: 0.7692307692307692 and parameters: {'n_estimator': 500, 'eta': 0.0009808278608942032, 'max_depth': 20, 'min_child_weight': 27, 'subsample': 0.9, 'colsample_by_tree': 0.8, 'reg_lambda': 12.901, 'reg_alpha': 0.801, 'gamma': 2.233501307319197e-05}. Best is trial 72 with value: 0.785185185185185.\u001b[0m\n",
            "\u001b[32m[I 2021-08-29 05:13:13,395]\u001b[0m Trial 78 finished with value: 0.7761194029850746 and parameters: {'n_estimator': 900, 'eta': 0.0007013470517748215, 'max_depth': 22, 'min_child_weight': 31, 'subsample': 0.9, 'colsample_by_tree': 0.7, 'reg_lambda': 14.001, 'reg_alpha': 1.401, 'gamma': 4.8095419478635664e-05}. Best is trial 72 with value: 0.785185185185185.\u001b[0m\n",
            "\u001b[32m[I 2021-08-29 05:13:20,088]\u001b[0m Trial 79 finished with value: 0.7786259541984734 and parameters: {'n_estimator': 700, 'eta': 0.0004986865140327712, 'max_depth': 20, 'min_child_weight': 29, 'subsample': 0.9, 'colsample_by_tree': 0.8, 'reg_lambda': 13.401, 'reg_alpha': 2.4010000000000002, 'gamma': 1.5556212127967327e-05}. Best is trial 72 with value: 0.785185185185185.\u001b[0m\n",
            "\u001b[32m[I 2021-08-29 05:13:44,829]\u001b[0m Trial 80 finished with value: 0.7786259541984734 and parameters: {'n_estimator': 700, 'eta': 0.0005261492453766487, 'max_depth': 22, 'min_child_weight': 27, 'subsample': 0.9, 'colsample_by_tree': 0.9, 'reg_lambda': 11.301, 'reg_alpha': 2.801, 'gamma': 1.6242199891912065e-05}. Best is trial 72 with value: 0.785185185185185.\u001b[0m\n",
            "\u001b[32m[I 2021-08-29 05:14:09,590]\u001b[0m Trial 81 finished with value: 0.7786259541984734 and parameters: {'n_estimator': 700, 'eta': 0.0005749484877730372, 'max_depth': 22, 'min_child_weight': 27, 'subsample': 0.9, 'colsample_by_tree': 0.9, 'reg_lambda': 11.401, 'reg_alpha': 2.9010000000000002, 'gamma': 1.551004270209296e-05}. Best is trial 72 with value: 0.785185185185185.\u001b[0m\n",
            "\u001b[32m[I 2021-08-29 05:15:46,329]\u001b[0m Trial 82 finished with value: 0.7761194029850746 and parameters: {'n_estimator': 700, 'eta': 0.0005265741021028521, 'max_depth': 24, 'min_child_weight': 29, 'subsample': 0.9, 'colsample_by_tree': 0.9, 'reg_lambda': 13.101, 'reg_alpha': 2.9010000000000002, 'gamma': 1.6131895019458702e-05}. Best is trial 72 with value: 0.785185185185185.\u001b[0m\n",
            "\u001b[32m[I 2021-08-29 05:15:59,094]\u001b[0m Trial 83 finished with value: 0.7910447761194029 and parameters: {'n_estimator': 700, 'eta': 0.000740769797441306, 'max_depth': 21, 'min_child_weight': 27, 'subsample': 0.9, 'colsample_by_tree': 0.9, 'reg_lambda': 11.101, 'reg_alpha': 3.4010000000000002, 'gamma': 2.2646419765313437e-05}. Best is trial 83 with value: 0.7910447761194029.\u001b[0m\n",
            "\u001b[32m[I 2021-08-29 05:16:15,445]\u001b[0m Trial 84 finished with value: 0.7375886524822696 and parameters: {'n_estimator': 900, 'eta': 0.0007349596900673457, 'max_depth': 21, 'min_child_weight': 29, 'subsample': 0.9, 'colsample_by_tree': 0.9, 'reg_lambda': 11.201, 'reg_alpha': 15.901, 'gamma': 2.6635687191323927e-05}. Best is trial 83 with value: 0.7910447761194029.\u001b[0m\n",
            "\u001b[32m[I 2021-08-29 05:16:54,217]\u001b[0m Trial 85 finished with value: 0.787878787878788 and parameters: {'n_estimator': 1100, 'eta': 0.0008526694666596532, 'max_depth': 22, 'min_child_weight': 27, 'subsample': 0.9, 'colsample_by_tree': 0.9, 'reg_lambda': 10.101, 'reg_alpha': 3.501, 'gamma': 2.2936795989700367e-05}. Best is trial 83 with value: 0.7910447761194029.\u001b[0m\n",
            "\u001b[32m[I 2021-08-29 05:16:59,776]\u001b[0m Trial 86 finished with value: 0.7761194029850746 and parameters: {'n_estimator': 300, 'eta': 0.0003274517267633488, 'max_depth': 21, 'min_child_weight': 25, 'subsample': 0.9, 'colsample_by_tree': 0.9, 'reg_lambda': 12.001, 'reg_alpha': 3.4010000000000002, 'gamma': 5.171740652936587e-05}. Best is trial 83 with value: 0.7910447761194029.\u001b[0m\n",
            "\u001b[32m[I 2021-08-29 05:19:31,687]\u001b[0m Trial 87 finished with value: 0.7819548872180452 and parameters: {'n_estimator': 1100, 'eta': 0.0006090470989035965, 'max_depth': 24, 'min_child_weight': 31, 'subsample': 0.9, 'colsample_by_tree': 0.9, 'reg_lambda': 10.701, 'reg_alpha': 3.9010000000000002, 'gamma': 1.0251853073607333e-05}. Best is trial 83 with value: 0.7910447761194029.\u001b[0m\n",
            "\u001b[32m[I 2021-08-29 05:22:03,479]\u001b[0m Trial 88 finished with value: 0.7819548872180452 and parameters: {'n_estimator': 1100, 'eta': 0.0006550677946873015, 'max_depth': 24, 'min_child_weight': 31, 'subsample': 0.9, 'colsample_by_tree': 0.9, 'reg_lambda': 10.701, 'reg_alpha': 4.101000000000001, 'gamma': 1.1279593317332871e-05}. Best is trial 83 with value: 0.7910447761194029.\u001b[0m\n",
            "\u001b[32m[I 2021-08-29 05:23:19,814]\u001b[0m Trial 89 finished with value: 0.7703703703703704 and parameters: {'n_estimator': 1100, 'eta': 0.0008185929509991642, 'max_depth': 23, 'min_child_weight': 33, 'subsample': 0.9, 'colsample_by_tree': 0.9, 'reg_lambda': 9.201, 'reg_alpha': 3.801, 'gamma': 1.0343149809065593e-05}. Best is trial 83 with value: 0.7910447761194029.\u001b[0m\n",
            "\u001b[32m[I 2021-08-29 05:28:21,492]\u001b[0m Trial 90 finished with value: 0.7761194029850746 and parameters: {'n_estimator': 1100, 'eta': 0.0006451314629508173, 'max_depth': 25, 'min_child_weight': 31, 'subsample': 0.9, 'colsample_by_tree': 0.9, 'reg_lambda': 10.401, 'reg_alpha': 4.801000000000001, 'gamma': 2.305917154380071e-05}. Best is trial 83 with value: 0.7910447761194029.\u001b[0m\n",
            "\u001b[32m[I 2021-08-29 05:30:25,772]\u001b[0m Trial 91 finished with value: 0.7703703703703704 and parameters: {'n_estimator': 900, 'eta': 0.0004294791804635567, 'max_depth': 24, 'min_child_weight': 33, 'subsample': 0.9, 'colsample_by_tree': 0.9, 'reg_lambda': 9.701, 'reg_alpha': 3.4010000000000002, 'gamma': 3.2220370685497874e-05}. Best is trial 83 with value: 0.7910447761194029.\u001b[0m\n",
            "\u001b[32m[I 2021-08-29 05:32:57,865]\u001b[0m Trial 92 finished with value: 0.7669172932330827 and parameters: {'n_estimator': 1100, 'eta': 0.0008615284500256713, 'max_depth': 24, 'min_child_weight': 35, 'subsample': 0.9, 'colsample_by_tree': 0.9, 'reg_lambda': 10.501, 'reg_alpha': 1.801, 'gamma': 2.2304346331546732e-05}. Best is trial 83 with value: 0.7910447761194029.\u001b[0m\n",
            "\u001b[32m[I 2021-08-29 05:33:03,420]\u001b[0m Trial 93 finished with value: 0.7819548872180452 and parameters: {'n_estimator': 1100, 'eta': 0.00035013535653037213, 'max_depth': 19, 'min_child_weight': 31, 'subsample': 0.9, 'colsample_by_tree': 0.9, 'reg_lambda': 8.201, 'reg_alpha': 4.101000000000001, 'gamma': 7.811971329613624e-05}. Best is trial 83 with value: 0.7910447761194029.\u001b[0m\n",
            "\u001b[32m[I 2021-08-29 05:33:08,987]\u001b[0m Trial 94 finished with value: 0.7819548872180452 and parameters: {'n_estimator': 1100, 'eta': 0.00030791131864686504, 'max_depth': 19, 'min_child_weight': 31, 'subsample': 0.9, 'colsample_by_tree': 0.9, 'reg_lambda': 8.901, 'reg_alpha': 4.401000000000001, 'gamma': 6.976711761428989e-05}. Best is trial 83 with value: 0.7910447761194029.\u001b[0m\n",
            "\u001b[32m[I 2021-08-29 05:35:40,884]\u001b[0m Trial 95 finished with value: 0.7703703703703704 and parameters: {'n_estimator': 1100, 'eta': 0.00030910530102169477, 'max_depth': 24, 'min_child_weight': 35, 'subsample': 0.9, 'colsample_by_tree': 0.9, 'reg_lambda': 8.801, 'reg_alpha': 4.2010000000000005, 'gamma': 9.388211635548634e-05}. Best is trial 83 with value: 0.7910447761194029.\u001b[0m\n",
            "\u001b[32m[I 2021-08-29 05:36:04,389]\u001b[0m Trial 96 finished with value: 0.7703703703703704 and parameters: {'n_estimator': 1300, 'eta': 0.00035477614707126034, 'max_depth': 21, 'min_child_weight': 31, 'subsample': 0.9, 'colsample_by_tree': 0.9, 'reg_lambda': 8.201, 'reg_alpha': 6.001, 'gamma': 6.862800782546717e-05}. Best is trial 83 with value: 0.7910447761194029.\u001b[0m\n",
            "\u001b[32m[I 2021-08-29 05:36:08,956]\u001b[0m Trial 97 finished with value: 0.7819548872180452 and parameters: {'n_estimator': 900, 'eta': 0.00028210722479324736, 'max_depth': 19, 'min_child_weight': 31, 'subsample': 0.9, 'colsample_by_tree': 0.9, 'reg_lambda': 9.901, 'reg_alpha': 4.2010000000000005, 'gamma': 3.199973055174271e-05}. Best is trial 83 with value: 0.7910447761194029.\u001b[0m\n",
            "\u001b[32m[I 2021-08-29 05:36:14,524]\u001b[0m Trial 98 finished with value: 0.7761194029850746 and parameters: {'n_estimator': 1100, 'eta': 0.00022724450548662238, 'max_depth': 19, 'min_child_weight': 31, 'subsample': 0.9, 'colsample_by_tree': 0.9, 'reg_lambda': 8.301, 'reg_alpha': 5.001, 'gamma': 0.013023246890055783}. Best is trial 83 with value: 0.7910447761194029.\u001b[0m\n",
            "\u001b[32m[I 2021-08-29 05:37:17,179]\u001b[0m Trial 99 finished with value: 0.7647058823529411 and parameters: {'n_estimator': 900, 'eta': 0.00027442173420228795, 'max_depth': 23, 'min_child_weight': 33, 'subsample': 0.9, 'colsample_by_tree': 0.9, 'reg_lambda': 6.101000000000001, 'reg_alpha': 4.2010000000000005, 'gamma': 3.3206481135483675e-05}. Best is trial 83 with value: 0.7910447761194029.\u001b[0m\n",
            "\u001b[32m[I 2021-08-29 05:38:02,963]\u001b[0m Trial 100 finished with value: 0.7727272727272727 and parameters: {'n_estimator': 1300, 'eta': 0.0006029355663354543, 'max_depth': 22, 'min_child_weight': 29, 'subsample': 0.9, 'colsample_by_tree': 0.9, 'reg_lambda': 9.901, 'reg_alpha': 5.501, 'gamma': 0.002786021556070878}. Best is trial 83 with value: 0.7910447761194029.\u001b[0m\n",
            "\u001b[32m[I 2021-08-29 05:38:08,572]\u001b[0m Trial 101 finished with value: 0.7819548872180452 and parameters: {'n_estimator': 1100, 'eta': 0.0004574739074655405, 'max_depth': 19, 'min_child_weight': 31, 'subsample': 0.9, 'colsample_by_tree': 0.9, 'reg_lambda': 10.701, 'reg_alpha': 3.801, 'gamma': 5.69540681000238e-05}. Best is trial 83 with value: 0.7910447761194029.\u001b[0m\n",
            "\u001b[32m[I 2021-08-29 05:38:12,354]\u001b[0m Trial 102 finished with value: 0.7647058823529411 and parameters: {'n_estimator': 1100, 'eta': 0.00083395940388245, 'max_depth': 18, 'min_child_weight': 33, 'subsample': 0.9, 'colsample_by_tree': 0.9, 'reg_lambda': 9.001, 'reg_alpha': 4.501, 'gamma': 1.2973077377356622e-05}. Best is trial 83 with value: 0.7910447761194029.\u001b[0m\n",
            "\u001b[32m[I 2021-08-29 05:38:16,925]\u001b[0m Trial 103 finished with value: 0.7761194029850746 and parameters: {'n_estimator': 900, 'eta': 0.00047669390003300693, 'max_depth': 19, 'min_child_weight': 31, 'subsample': 0.9, 'colsample_by_tree': 0.9, 'reg_lambda': 10.601, 'reg_alpha': 4.001, 'gamma': 2.6849525226188916e-05}. Best is trial 83 with value: 0.7910447761194029.\u001b[0m\n",
            "\u001b[32m[I 2021-08-29 05:38:27,356]\u001b[0m Trial 104 finished with value: 0.7819548872180452 and parameters: {'n_estimator': 1100, 'eta': 0.0003760778919354642, 'max_depth': 20, 'min_child_weight': 29, 'subsample': 0.9, 'colsample_by_tree': 0.9, 'reg_lambda': 9.401, 'reg_alpha': 3.201, 'gamma': 0.00012689596486175993}. Best is trial 83 with value: 0.7910447761194029.\u001b[0m\n",
            "\u001b[32m[I 2021-08-29 05:38:39,657]\u001b[0m Trial 105 finished with value: 0.7703703703703704 and parameters: {'n_estimator': 1300, 'eta': 0.0003543883763829397, 'max_depth': 20, 'min_child_weight': 29, 'subsample': 0.9, 'colsample_by_tree': 0.9, 'reg_lambda': 9.401, 'reg_alpha': 3.201, 'gamma': 0.0001358010284744192}. Best is trial 83 with value: 0.7910447761194029.\u001b[0m\n",
            "\u001b[32m[I 2021-08-29 05:43:41,460]\u001b[0m Trial 106 finished with value: 0.7669172932330827 and parameters: {'n_estimator': 1100, 'eta': 0.00025864185554905336, 'max_depth': 25, 'min_child_weight': 31, 'subsample': 0.9, 'colsample_by_tree': 0.9, 'reg_lambda': 10.001, 'reg_alpha': 2.201, 'gamma': 0.00025878717219059524}. Best is trial 83 with value: 0.7910447761194029.\u001b[0m\n",
            "\u001b[32m[I 2021-08-29 05:43:57,774]\u001b[0m Trial 107 finished with value: 0.7428571428571428 and parameters: {'n_estimator': 900, 'eta': 0.0006494931607297163, 'max_depth': 21, 'min_child_weight': 29, 'subsample': 0.9, 'colsample_by_tree': 0.9, 'reg_lambda': 10.701, 'reg_alpha': 12.801, 'gamma': 4.2675580181916176e-05}. Best is trial 83 with value: 0.7910447761194029.\u001b[0m\n",
            "\u001b[32m[I 2021-08-29 05:44:00,860]\u001b[0m Trial 108 finished with value: 0.7445255474452556 and parameters: {'n_estimator': 900, 'eta': 0.0001423661010233231, 'max_depth': 18, 'min_child_weight': 25, 'subsample': 0.9, 'colsample_by_tree': 0.9, 'reg_lambda': 7.601000000000001, 'reg_alpha': 10.401, 'gamma': 7.355743959303511e-05}. Best is trial 83 with value: 0.7910447761194029.\u001b[0m\n",
            "\u001b[32m[I 2021-08-29 05:44:20,868]\u001b[0m Trial 109 finished with value: 0.7299270072992701 and parameters: {'n_estimator': 1100, 'eta': 0.0007495665076115997, 'max_depth': 21, 'min_child_weight': 33, 'subsample': 0.5, 'colsample_by_tree': 0.9, 'reg_lambda': 8.701, 'reg_alpha': 4.801000000000001, 'gamma': 1.3258718591561564e-05}. Best is trial 83 with value: 0.7910447761194029.\u001b[0m\n",
            "\u001b[32m[I 2021-08-29 05:44:31,280]\u001b[0m Trial 110 finished with value: 0.7727272727272727 and parameters: {'n_estimator': 1100, 'eta': 0.000582034846494424, 'max_depth': 20, 'min_child_weight': 29, 'subsample': 0.9, 'colsample_by_tree': 0.9, 'reg_lambda': 8.201, 'reg_alpha': 3.601, 'gamma': 1.0180472022264629e-05}. Best is trial 83 with value: 0.7910447761194029.\u001b[0m\n",
            "\u001b[32m[I 2021-08-29 05:44:36,870]\u001b[0m Trial 111 finished with value: 0.7819548872180452 and parameters: {'n_estimator': 1100, 'eta': 0.00048050340861380004, 'max_depth': 19, 'min_child_weight': 31, 'subsample': 0.9, 'colsample_by_tree': 0.9, 'reg_lambda': 9.601, 'reg_alpha': 4.301, 'gamma': 3.308438120846662e-05}. Best is trial 83 with value: 0.7910447761194029.\u001b[0m\n",
            "\u001b[32m[I 2021-08-29 05:44:47,284]\u001b[0m Trial 112 finished with value: 0.7727272727272727 and parameters: {'n_estimator': 1100, 'eta': 0.00046559063035326383, 'max_depth': 20, 'min_child_weight': 31, 'subsample': 0.9, 'colsample_by_tree': 0.9, 'reg_lambda': 10.101, 'reg_alpha': 4.301, 'gamma': 2.0079863721691007e-05}. Best is trial 83 with value: 0.7910447761194029.\u001b[0m\n",
            "\u001b[32m[I 2021-08-29 05:44:53,805]\u001b[0m Trial 113 finished with value: 0.7647058823529411 and parameters: {'n_estimator': 1300, 'eta': 0.0008864135514160298, 'max_depth': 19, 'min_child_weight': 29, 'subsample': 0.9, 'colsample_by_tree': 0.9, 'reg_lambda': 9.501, 'reg_alpha': 6.901000000000001, 'gamma': 5.6787842274235475e-05}. Best is trial 83 with value: 0.7910447761194029.\u001b[0m\n",
            "\u001b[32m[I 2021-08-29 05:44:56,258]\u001b[0m Trial 114 finished with value: 0.759124087591241 and parameters: {'n_estimator': 900, 'eta': 0.0007421322584760317, 'max_depth': 17, 'min_child_weight': 35, 'subsample': 0.9, 'colsample_by_tree': 0.9, 'reg_lambda': 7.101000000000001, 'reg_alpha': 5.301000000000001, 'gamma': 3.465486900650545e-05}. Best is trial 83 with value: 0.7910447761194029.\u001b[0m\n",
            "\u001b[32m[I 2021-08-29 05:45:42,059]\u001b[0m Trial 115 finished with value: 0.7703703703703704 and parameters: {'n_estimator': 1300, 'eta': 0.00035366636112780923, 'max_depth': 22, 'min_child_weight': 33, 'subsample': 0.9, 'colsample_by_tree': 0.9, 'reg_lambda': 11.701, 'reg_alpha': 3.001, 'gamma': 0.00012144260755252512}. Best is trial 83 with value: 0.7910447761194029.\u001b[0m\n",
            "\u001b[32m[I 2021-08-29 05:45:45,462]\u001b[0m Trial 116 finished with value: 0.7559055118110236 and parameters: {'n_estimator': 900, 'eta': 0.0003904832031252641, 'max_depth': 18, 'min_child_weight': 1, 'subsample': 0.9, 'colsample_by_tree': 0.9, 'reg_lambda': 9.100999999999999, 'reg_alpha': 3.801, 'gamma': 7.331150076612185e-05}. Best is trial 83 with value: 0.7910447761194029.\u001b[0m\n",
            "\u001b[32m[I 2021-08-29 05:46:01,815]\u001b[0m Trial 117 finished with value: 0.7669172932330827 and parameters: {'n_estimator': 900, 'eta': 0.00022302160248730067, 'max_depth': 21, 'min_child_weight': 27, 'subsample': 0.9, 'colsample_by_tree': 0.9, 'reg_lambda': 11.001, 'reg_alpha': 8.001, 'gamma': 2.5726024263424238e-05}. Best is trial 83 with value: 0.7910447761194029.\u001b[0m\n",
            "\u001b[32m[I 2021-08-29 05:47:18,062]\u001b[0m Trial 118 finished with value: 0.7761194029850746 and parameters: {'n_estimator': 1100, 'eta': 0.0005493531627163138, 'max_depth': 23, 'min_child_weight': 31, 'subsample': 0.9, 'colsample_by_tree': 0.9, 'reg_lambda': 10.701, 'reg_alpha': 2.601, 'gamma': 3.7364311143276105e-05}. Best is trial 83 with value: 0.7910447761194029.\u001b[0m\n",
            "\u001b[32m[I 2021-08-29 05:50:17,566]\u001b[0m Trial 119 finished with value: 0.7761194029850746 and parameters: {'n_estimator': 1300, 'eta': 0.00046103944049049087, 'max_depth': 24, 'min_child_weight': 31, 'subsample': 0.9, 'colsample_by_tree': 0.9, 'reg_lambda': 9.901, 'reg_alpha': 3.301, 'gamma': 9.753858929318971}. Best is trial 83 with value: 0.7910447761194029.\u001b[0m\n",
            "\u001b[32m[I 2021-08-29 05:50:31,849]\u001b[0m Trial 120 finished with value: 0.7786259541984734 and parameters: {'n_estimator': 1500, 'eta': 0.0006461337227565575, 'max_depth': 20, 'min_child_weight': 29, 'subsample': 0.9, 'colsample_by_tree': 0.9, 'reg_lambda': 8.100999999999999, 'reg_alpha': 1.201, 'gamma': 9.020442476117185e-05}. Best is trial 83 with value: 0.7910447761194029.\u001b[0m\n",
            "\u001b[32m[I 2021-08-29 05:50:37,485]\u001b[0m Trial 121 finished with value: 0.7761194029850746 and parameters: {'n_estimator': 1100, 'eta': 0.0002967932123232527, 'max_depth': 19, 'min_child_weight': 31, 'subsample': 0.9, 'colsample_by_tree': 0.9, 'reg_lambda': 10.301, 'reg_alpha': 4.501, 'gamma': 1.843770778032081e-05}. Best is trial 83 with value: 0.7910447761194029.\u001b[0m\n",
            "\u001b[32m[I 2021-08-29 05:50:41,321]\u001b[0m Trial 122 finished with value: 0.7647058823529411 and parameters: {'n_estimator': 1100, 'eta': 0.0007583536748629658, 'max_depth': 18, 'min_child_weight': 33, 'subsample': 0.9, 'colsample_by_tree': 0.9, 'reg_lambda': 9.701, 'reg_alpha': 5.001, 'gamma': 5.491205969684825e-05}. Best is trial 83 with value: 0.7910447761194029.\u001b[0m\n",
            "\u001b[32m[I 2021-08-29 05:50:46,926]\u001b[0m Trial 123 finished with value: 0.7819548872180452 and parameters: {'n_estimator': 1100, 'eta': 0.0001846659196991745, 'max_depth': 19, 'min_child_weight': 31, 'subsample': 0.9, 'colsample_by_tree': 0.9, 'reg_lambda': 8.701, 'reg_alpha': 3.9010000000000002, 'gamma': 1.408209385147744e-05}. Best is trial 83 with value: 0.7910447761194029.\u001b[0m\n",
            "\u001b[32m[I 2021-08-29 05:50:59,305]\u001b[0m Trial 124 finished with value: 0.7751937984496124 and parameters: {'n_estimator': 1300, 'eta': 0.00018016601908629157, 'max_depth': 20, 'min_child_weight': 27, 'subsample': 0.9, 'colsample_by_tree': 0.9, 'reg_lambda': 8.600999999999999, 'reg_alpha': 2.001, 'gamma': 1.3291803904180751e-05}. Best is trial 83 with value: 0.7910447761194029.\u001b[0m\n",
            "\u001b[32m[I 2021-08-29 05:51:31,161]\u001b[0m Trial 125 finished with value: 0.7727272727272727 and parameters: {'n_estimator': 900, 'eta': 0.00024380845660318024, 'max_depth': 22, 'min_child_weight': 29, 'subsample': 0.9, 'colsample_by_tree': 0.9, 'reg_lambda': 7.7010000000000005, 'reg_alpha': 3.9010000000000002, 'gamma': 2.312156167862492e-05}. Best is trial 83 with value: 0.7910447761194029.\u001b[0m\n",
            "\u001b[32m[I 2021-08-29 05:51:43,865]\u001b[0m Trial 126 finished with value: 0.7647058823529411 and parameters: {'n_estimator': 700, 'eta': 0.0003934430896832186, 'max_depth': 21, 'min_child_weight': 33, 'subsample': 0.9, 'colsample_by_tree': 0.9, 'reg_lambda': 11.701, 'reg_alpha': 3.301, 'gamma': 3.173562506317518e-05}. Best is trial 83 with value: 0.7910447761194029.\u001b[0m\n",
            "\u001b[32m[I 2021-08-29 05:51:49,389]\u001b[0m Trial 127 finished with value: 0.7659574468085107 and parameters: {'n_estimator': 1100, 'eta': 0.000902972321441891, 'max_depth': 19, 'min_child_weight': 31, 'subsample': 0.9, 'colsample_by_tree': 0.9, 'reg_lambda': 9.301, 'reg_alpha': 9.100999999999999, 'gamma': 0.00017322595620375745}. Best is trial 83 with value: 0.7910447761194029.\u001b[0m\n",
            "\u001b[32m[I 2021-08-29 05:51:57,909]\u001b[0m Trial 128 finished with value: 0.7375886524822696 and parameters: {'n_estimator': 900, 'eta': 1.1163415211173005e-05, 'max_depth': 20, 'min_child_weight': 29, 'subsample': 0.9, 'colsample_by_tree': 0.9, 'reg_lambda': 12.601, 'reg_alpha': 19.801000000000002, 'gamma': 4.253378044978647e-05}. Best is trial 83 with value: 0.7910447761194029.\u001b[0m\n",
            "\u001b[32m[I 2021-08-29 05:52:03,505]\u001b[0m Trial 129 finished with value: 0.7703703703703704 and parameters: {'n_estimator': 1100, 'eta': 0.0005429764583383167, 'max_depth': 19, 'min_child_weight': 33, 'subsample': 0.9, 'colsample_by_tree': 0.9, 'reg_lambda': 1.401, 'reg_alpha': 5.801000000000001, 'gamma': 1.4439703087748381e-05}. Best is trial 83 with value: 0.7910447761194029.\u001b[0m\n",
            "\u001b[32m[I 2021-08-29 05:55:15,808]\u001b[0m Trial 130 finished with value: 0.7819548872180452 and parameters: {'n_estimator': 700, 'eta': 0.0006321675492914548, 'max_depth': 25, 'min_child_weight': 27, 'subsample': 0.9, 'colsample_by_tree': 0.9, 'reg_lambda': 11.001, 'reg_alpha': 4.401000000000001, 'gamma': 0.06084554732465334}. Best is trial 83 with value: 0.7910447761194029.\u001b[0m\n"
          ],
          "name": "stderr"
        }
      ]
    },
    {
      "cell_type": "code",
      "metadata": {
        "id": "sOAfw4cRLXtZ",
        "colab": {
          "base_uri": "https://localhost:8080/"
        },
        "outputId": "d2ef60ba-0d42-4807-9798-2f2812d1bc72"
      },
      "source": [
        "print('完成试验次数：', len(study.trials))\n",
        "trail = study.best_trial\n",
        "print('最佳试验:', trail)\n",
        "print('\\tValue: {:.4f}'.format(trail.value))\n",
        "print(\"具体参数如下:\")\n",
        "for k, v in trail.params.items():\n",
        "    print('\\t\\t{}:{}'.format(k, v))"
      ],
      "execution_count": null,
      "outputs": [
        {
          "output_type": "stream",
          "text": [
            "完成试验次数： 131\n",
            "最佳试验: FrozenTrial(number=83, values=[0.7910447761194029], datetime_start=datetime.datetime(2021, 8, 29, 5, 15, 46, 330979), datetime_complete=datetime.datetime(2021, 8, 29, 5, 15, 59, 93714), params={'n_estimator': 700, 'eta': 0.000740769797441306, 'max_depth': 21, 'min_child_weight': 27, 'subsample': 0.9, 'colsample_by_tree': 0.9, 'reg_lambda': 11.101, 'reg_alpha': 3.4010000000000002, 'gamma': 2.2646419765313437e-05}, distributions={'n_estimator': IntUniformDistribution(high=2500, low=100, step=200), 'eta': LogUniformDistribution(high=0.001, low=1e-06), 'max_depth': IntUniformDistribution(high=25, low=5, step=1), 'min_child_weight': IntUniformDistribution(high=35, low=1, step=2), 'subsample': DiscreteUniformDistribution(high=0.9, low=0.5, q=0.1), 'colsample_by_tree': DiscreteUniformDistribution(high=0.9, low=0.5, q=0.1), 'reg_lambda': DiscreteUniformDistribution(high=20.001, low=0.001, q=0.1), 'reg_alpha': DiscreteUniformDistribution(high=20.001, low=0.001, q=0.1), 'gamma': LogUniformDistribution(high=10.0, low=1e-05)}, user_attrs={}, system_attrs={}, intermediate_values={}, trial_id=83, state=TrialState.COMPLETE, value=None)\n",
            "\tValue: 0.7910\n",
            "具体参数如下:\n",
            "\t\tn_estimator:700\n",
            "\t\teta:0.000740769797441306\n",
            "\t\tmax_depth:21\n",
            "\t\tmin_child_weight:27\n",
            "\t\tsubsample:0.9\n",
            "\t\tcolsample_by_tree:0.9\n",
            "\t\treg_lambda:11.101\n",
            "\t\treg_alpha:3.4010000000000002\n",
            "\t\tgamma:2.2646419765313437e-05\n"
          ],
          "name": "stdout"
        }
      ]
    },
    {
      "cell_type": "code",
      "metadata": {
        "colab": {
          "base_uri": "https://localhost:8080/",
          "height": 542
        },
        "id": "rAK4so3zek51",
        "outputId": "8509e910-be6a-40f4-e9b2-e388769f7914"
      },
      "source": [
        "optuna.visualization.plot_optimization_history(study)"
      ],
      "execution_count": null,
      "outputs": [
        {
          "output_type": "display_data",
          "data": {
            "text/html": [
              "<html>\n",
              "<head><meta charset=\"utf-8\" /></head>\n",
              "<body>\n",
              "    <div>\n",
              "            <script src=\"https://cdnjs.cloudflare.com/ajax/libs/mathjax/2.7.5/MathJax.js?config=TeX-AMS-MML_SVG\"></script><script type=\"text/javascript\">if (window.MathJax) {MathJax.Hub.Config({SVG: {font: \"STIX-Web\"}});}</script>\n",
              "                <script type=\"text/javascript\">window.PlotlyConfig = {MathJaxConfig: 'local'};</script>\n",
              "        <script src=\"https://cdn.plot.ly/plotly-latest.min.js\"></script>    \n",
              "            <div id=\"bf1d5ca4-b1d2-4e3e-8fd0-076c86f2c2c9\" class=\"plotly-graph-div\" style=\"height:525px; width:100%;\"></div>\n",
              "            <script type=\"text/javascript\">\n",
              "                \n",
              "                    window.PLOTLYENV=window.PLOTLYENV || {};\n",
              "                    \n",
              "                if (document.getElementById(\"bf1d5ca4-b1d2-4e3e-8fd0-076c86f2c2c9\")) {\n",
              "                    Plotly.newPlot(\n",
              "                        'bf1d5ca4-b1d2-4e3e-8fd0-076c86f2c2c9',\n",
              "                        [{\"mode\": \"markers\", \"name\": \"Objective Value\", \"type\": \"scatter\", \"x\": [0, 1, 2, 3, 4, 5, 6, 7, 8, 9, 10, 11, 12, 13, 14, 15, 16, 17, 18, 19, 20, 21, 22, 23, 24, 25, 26, 27, 28, 29, 30, 31, 32, 33, 34, 35, 36, 37, 38, 39, 40, 41, 42, 43, 44, 45, 46, 47, 48, 49, 50, 51, 52, 53, 54, 55, 56, 57, 58, 59, 60, 61, 62, 63, 64, 65, 66, 67, 68, 69, 70, 71, 72, 73, 74, 75, 76, 77, 78, 79, 80, 81, 82, 83, 84, 85, 86, 87, 88, 89, 90, 91, 92, 93, 94, 95, 96, 97, 98, 99, 100, 101, 102, 103, 104, 105, 106, 107, 108, 109, 110, 111, 112, 113, 114, 115, 116, 117, 118, 119, 120, 121, 122, 123, 124, 125, 126, 127, 128, 129, 130], \"y\": [0.7669172932330827, 0.7647058823529411, 0.7777777777777778, 0.7428571428571428, 0.7445255474452556, 0.7794117647058824, 0.748201438848921, 0.7313432835820897, 0.7391304347826085, 0.7445255474452556, 0.7659574468085107, 0.7536231884057971, 0.7656250000000001, 0.7669172932330827, 0.75, 0.7786259541984734, 0.7681159420289855, 0.7299270072992701, 0.7611940298507462, 0.748201438848921, 0.7246376811594203, 0.7716535433070866, 0.7777777777777778, 0.7538461538461538, 0.7571428571428571, 0.7596899224806202, 0.7596899224806202, 0.7605633802816901, 0.7555555555555555, 0.7462686567164178, 0.7518796992481203, 0.7777777777777778, 0.75, 0.7462686567164178, 0.7596899224806202, 0.7727272727272727, 0.7611940298507462, 0.7611940298507462, 0.7727272727272727, 0.7571428571428571, 0.7575757575757576, 0.7777777777777778, 0.7445255474452556, 0.75, 0.7445255474452556, 0.75, 0.7819548872180452, 0.7669172932330827, 0.7445255474452556, 0.7575757575757576, 0.7575757575757576, 0.7777777777777778, 0.7538461538461538, 0.7633587786259542, 0.759124087591241, 0.7538461538461538, 0.7596899224806202, 0.7786259541984734, 0.7538461538461538, 0.7445255474452556, 0.7656250000000001, 0.75, 0.7384615384615385, 0.7716535433070866, 0.7538461538461538, 0.7656250000000001, 0.7596899224806202, 0.7692307692307692, 0.7575757575757576, 0.7575757575757576, 0.7794117647058824, 0.7681159420289855, 0.785185185185185, 0.785185185185185, 0.7703703703703704, 0.7703703703703704, 0.7786259541984734, 0.7692307692307692, 0.7761194029850746, 0.7786259541984734, 0.7786259541984734, 0.7786259541984734, 0.7761194029850746, 0.7910447761194029, 0.7375886524822696, 0.787878787878788, 0.7761194029850746, 0.7819548872180452, 0.7819548872180452, 0.7703703703703704, 0.7761194029850746, 0.7703703703703704, 0.7669172932330827, 0.7819548872180452, 0.7819548872180452, 0.7703703703703704, 0.7703703703703704, 0.7819548872180452, 0.7761194029850746, 0.7647058823529411, 0.7727272727272727, 0.7819548872180452, 0.7647058823529411, 0.7761194029850746, 0.7819548872180452, 0.7703703703703704, 0.7669172932330827, 0.7428571428571428, 0.7445255474452556, 0.7299270072992701, 0.7727272727272727, 0.7819548872180452, 0.7727272727272727, 0.7647058823529411, 0.759124087591241, 0.7703703703703704, 0.7559055118110236, 0.7669172932330827, 0.7761194029850746, 0.7761194029850746, 0.7786259541984734, 0.7761194029850746, 0.7647058823529411, 0.7819548872180452, 0.7751937984496124, 0.7727272727272727, 0.7647058823529411, 0.7659574468085107, 0.7375886524822696, 0.7703703703703704, 0.7819548872180452]}, {\"name\": \"Best Value\", \"type\": \"scatter\", \"x\": [0, 1, 2, 3, 4, 5, 6, 7, 8, 9, 10, 11, 12, 13, 14, 15, 16, 17, 18, 19, 20, 21, 22, 23, 24, 25, 26, 27, 28, 29, 30, 31, 32, 33, 34, 35, 36, 37, 38, 39, 40, 41, 42, 43, 44, 45, 46, 47, 48, 49, 50, 51, 52, 53, 54, 55, 56, 57, 58, 59, 60, 61, 62, 63, 64, 65, 66, 67, 68, 69, 70, 71, 72, 73, 74, 75, 76, 77, 78, 79, 80, 81, 82, 83, 84, 85, 86, 87, 88, 89, 90, 91, 92, 93, 94, 95, 96, 97, 98, 99, 100, 101, 102, 103, 104, 105, 106, 107, 108, 109, 110, 111, 112, 113, 114, 115, 116, 117, 118, 119, 120, 121, 122, 123, 124, 125, 126, 127, 128, 129, 130], \"y\": [0.7669172932330827, 0.7669172932330827, 0.7777777777777778, 0.7777777777777778, 0.7777777777777778, 0.7794117647058824, 0.7794117647058824, 0.7794117647058824, 0.7794117647058824, 0.7794117647058824, 0.7794117647058824, 0.7794117647058824, 0.7794117647058824, 0.7794117647058824, 0.7794117647058824, 0.7794117647058824, 0.7794117647058824, 0.7794117647058824, 0.7794117647058824, 0.7794117647058824, 0.7794117647058824, 0.7794117647058824, 0.7794117647058824, 0.7794117647058824, 0.7794117647058824, 0.7794117647058824, 0.7794117647058824, 0.7794117647058824, 0.7794117647058824, 0.7794117647058824, 0.7794117647058824, 0.7794117647058824, 0.7794117647058824, 0.7794117647058824, 0.7794117647058824, 0.7794117647058824, 0.7794117647058824, 0.7794117647058824, 0.7794117647058824, 0.7794117647058824, 0.7794117647058824, 0.7794117647058824, 0.7794117647058824, 0.7794117647058824, 0.7794117647058824, 0.7794117647058824, 0.7819548872180452, 0.7819548872180452, 0.7819548872180452, 0.7819548872180452, 0.7819548872180452, 0.7819548872180452, 0.7819548872180452, 0.7819548872180452, 0.7819548872180452, 0.7819548872180452, 0.7819548872180452, 0.7819548872180452, 0.7819548872180452, 0.7819548872180452, 0.7819548872180452, 0.7819548872180452, 0.7819548872180452, 0.7819548872180452, 0.7819548872180452, 0.7819548872180452, 0.7819548872180452, 0.7819548872180452, 0.7819548872180452, 0.7819548872180452, 0.7819548872180452, 0.7819548872180452, 0.785185185185185, 0.785185185185185, 0.785185185185185, 0.785185185185185, 0.785185185185185, 0.785185185185185, 0.785185185185185, 0.785185185185185, 0.785185185185185, 0.785185185185185, 0.785185185185185, 0.7910447761194029, 0.7910447761194029, 0.7910447761194029, 0.7910447761194029, 0.7910447761194029, 0.7910447761194029, 0.7910447761194029, 0.7910447761194029, 0.7910447761194029, 0.7910447761194029, 0.7910447761194029, 0.7910447761194029, 0.7910447761194029, 0.7910447761194029, 0.7910447761194029, 0.7910447761194029, 0.7910447761194029, 0.7910447761194029, 0.7910447761194029, 0.7910447761194029, 0.7910447761194029, 0.7910447761194029, 0.7910447761194029, 0.7910447761194029, 0.7910447761194029, 0.7910447761194029, 0.7910447761194029, 0.7910447761194029, 0.7910447761194029, 0.7910447761194029, 0.7910447761194029, 0.7910447761194029, 0.7910447761194029, 0.7910447761194029, 0.7910447761194029, 0.7910447761194029, 0.7910447761194029, 0.7910447761194029, 0.7910447761194029, 0.7910447761194029, 0.7910447761194029, 0.7910447761194029, 0.7910447761194029, 0.7910447761194029, 0.7910447761194029, 0.7910447761194029, 0.7910447761194029, 0.7910447761194029]}],\n",
              "                        {\"template\": {\"data\": {\"bar\": [{\"error_x\": {\"color\": \"#2a3f5f\"}, \"error_y\": {\"color\": \"#2a3f5f\"}, \"marker\": {\"line\": {\"color\": \"#E5ECF6\", \"width\": 0.5}}, \"type\": \"bar\"}], \"barpolar\": [{\"marker\": {\"line\": {\"color\": \"#E5ECF6\", \"width\": 0.5}}, \"type\": \"barpolar\"}], \"carpet\": [{\"aaxis\": {\"endlinecolor\": \"#2a3f5f\", \"gridcolor\": \"white\", \"linecolor\": \"white\", \"minorgridcolor\": \"white\", \"startlinecolor\": \"#2a3f5f\"}, \"baxis\": {\"endlinecolor\": \"#2a3f5f\", \"gridcolor\": \"white\", \"linecolor\": \"white\", \"minorgridcolor\": \"white\", \"startlinecolor\": \"#2a3f5f\"}, \"type\": \"carpet\"}], \"choropleth\": [{\"colorbar\": {\"outlinewidth\": 0, \"ticks\": \"\"}, \"type\": \"choropleth\"}], \"contour\": [{\"colorbar\": {\"outlinewidth\": 0, \"ticks\": \"\"}, \"colorscale\": [[0.0, \"#0d0887\"], [0.1111111111111111, \"#46039f\"], [0.2222222222222222, \"#7201a8\"], [0.3333333333333333, \"#9c179e\"], [0.4444444444444444, \"#bd3786\"], [0.5555555555555556, \"#d8576b\"], [0.6666666666666666, \"#ed7953\"], [0.7777777777777778, \"#fb9f3a\"], [0.8888888888888888, \"#fdca26\"], [1.0, \"#f0f921\"]], \"type\": \"contour\"}], \"contourcarpet\": [{\"colorbar\": {\"outlinewidth\": 0, \"ticks\": \"\"}, \"type\": \"contourcarpet\"}], \"heatmap\": [{\"colorbar\": {\"outlinewidth\": 0, \"ticks\": \"\"}, \"colorscale\": [[0.0, \"#0d0887\"], [0.1111111111111111, \"#46039f\"], [0.2222222222222222, \"#7201a8\"], [0.3333333333333333, \"#9c179e\"], [0.4444444444444444, \"#bd3786\"], [0.5555555555555556, \"#d8576b\"], [0.6666666666666666, \"#ed7953\"], [0.7777777777777778, \"#fb9f3a\"], [0.8888888888888888, \"#fdca26\"], [1.0, \"#f0f921\"]], \"type\": \"heatmap\"}], \"heatmapgl\": [{\"colorbar\": {\"outlinewidth\": 0, \"ticks\": \"\"}, \"colorscale\": [[0.0, \"#0d0887\"], [0.1111111111111111, \"#46039f\"], [0.2222222222222222, \"#7201a8\"], [0.3333333333333333, \"#9c179e\"], [0.4444444444444444, \"#bd3786\"], [0.5555555555555556, \"#d8576b\"], [0.6666666666666666, \"#ed7953\"], [0.7777777777777778, \"#fb9f3a\"], [0.8888888888888888, \"#fdca26\"], [1.0, \"#f0f921\"]], \"type\": \"heatmapgl\"}], \"histogram\": [{\"marker\": {\"colorbar\": {\"outlinewidth\": 0, \"ticks\": \"\"}}, \"type\": \"histogram\"}], \"histogram2d\": [{\"colorbar\": {\"outlinewidth\": 0, \"ticks\": \"\"}, \"colorscale\": [[0.0, \"#0d0887\"], [0.1111111111111111, \"#46039f\"], [0.2222222222222222, \"#7201a8\"], [0.3333333333333333, \"#9c179e\"], [0.4444444444444444, \"#bd3786\"], [0.5555555555555556, \"#d8576b\"], [0.6666666666666666, \"#ed7953\"], [0.7777777777777778, \"#fb9f3a\"], [0.8888888888888888, \"#fdca26\"], [1.0, \"#f0f921\"]], \"type\": \"histogram2d\"}], \"histogram2dcontour\": [{\"colorbar\": {\"outlinewidth\": 0, \"ticks\": \"\"}, \"colorscale\": [[0.0, \"#0d0887\"], [0.1111111111111111, \"#46039f\"], [0.2222222222222222, \"#7201a8\"], [0.3333333333333333, \"#9c179e\"], [0.4444444444444444, \"#bd3786\"], [0.5555555555555556, \"#d8576b\"], [0.6666666666666666, \"#ed7953\"], [0.7777777777777778, \"#fb9f3a\"], [0.8888888888888888, \"#fdca26\"], [1.0, \"#f0f921\"]], \"type\": \"histogram2dcontour\"}], \"mesh3d\": [{\"colorbar\": {\"outlinewidth\": 0, \"ticks\": \"\"}, \"type\": \"mesh3d\"}], \"parcoords\": [{\"line\": {\"colorbar\": {\"outlinewidth\": 0, \"ticks\": \"\"}}, \"type\": \"parcoords\"}], \"pie\": [{\"automargin\": true, \"type\": \"pie\"}], \"scatter\": [{\"marker\": {\"colorbar\": {\"outlinewidth\": 0, \"ticks\": \"\"}}, \"type\": \"scatter\"}], \"scatter3d\": [{\"line\": {\"colorbar\": {\"outlinewidth\": 0, \"ticks\": \"\"}}, \"marker\": {\"colorbar\": {\"outlinewidth\": 0, \"ticks\": \"\"}}, \"type\": \"scatter3d\"}], \"scattercarpet\": [{\"marker\": {\"colorbar\": {\"outlinewidth\": 0, \"ticks\": \"\"}}, \"type\": \"scattercarpet\"}], \"scattergeo\": [{\"marker\": {\"colorbar\": {\"outlinewidth\": 0, \"ticks\": \"\"}}, \"type\": \"scattergeo\"}], \"scattergl\": [{\"marker\": {\"colorbar\": {\"outlinewidth\": 0, \"ticks\": \"\"}}, \"type\": \"scattergl\"}], \"scattermapbox\": [{\"marker\": {\"colorbar\": {\"outlinewidth\": 0, \"ticks\": \"\"}}, \"type\": \"scattermapbox\"}], \"scatterpolar\": [{\"marker\": {\"colorbar\": {\"outlinewidth\": 0, \"ticks\": \"\"}}, \"type\": \"scatterpolar\"}], \"scatterpolargl\": [{\"marker\": {\"colorbar\": {\"outlinewidth\": 0, \"ticks\": \"\"}}, \"type\": \"scatterpolargl\"}], \"scatterternary\": [{\"marker\": {\"colorbar\": {\"outlinewidth\": 0, \"ticks\": \"\"}}, \"type\": \"scatterternary\"}], \"surface\": [{\"colorbar\": {\"outlinewidth\": 0, \"ticks\": \"\"}, \"colorscale\": [[0.0, \"#0d0887\"], [0.1111111111111111, \"#46039f\"], [0.2222222222222222, \"#7201a8\"], [0.3333333333333333, \"#9c179e\"], [0.4444444444444444, \"#bd3786\"], [0.5555555555555556, \"#d8576b\"], [0.6666666666666666, \"#ed7953\"], [0.7777777777777778, \"#fb9f3a\"], [0.8888888888888888, \"#fdca26\"], [1.0, \"#f0f921\"]], \"type\": \"surface\"}], \"table\": [{\"cells\": {\"fill\": {\"color\": \"#EBF0F8\"}, \"line\": {\"color\": \"white\"}}, \"header\": {\"fill\": {\"color\": \"#C8D4E3\"}, \"line\": {\"color\": \"white\"}}, \"type\": \"table\"}]}, \"layout\": {\"annotationdefaults\": {\"arrowcolor\": \"#2a3f5f\", \"arrowhead\": 0, \"arrowwidth\": 1}, \"coloraxis\": {\"colorbar\": {\"outlinewidth\": 0, \"ticks\": \"\"}}, \"colorscale\": {\"diverging\": [[0, \"#8e0152\"], [0.1, \"#c51b7d\"], [0.2, \"#de77ae\"], [0.3, \"#f1b6da\"], [0.4, \"#fde0ef\"], [0.5, \"#f7f7f7\"], [0.6, \"#e6f5d0\"], [0.7, \"#b8e186\"], [0.8, \"#7fbc41\"], [0.9, \"#4d9221\"], [1, \"#276419\"]], \"sequential\": [[0.0, \"#0d0887\"], [0.1111111111111111, \"#46039f\"], [0.2222222222222222, \"#7201a8\"], [0.3333333333333333, \"#9c179e\"], [0.4444444444444444, \"#bd3786\"], [0.5555555555555556, \"#d8576b\"], [0.6666666666666666, \"#ed7953\"], [0.7777777777777778, \"#fb9f3a\"], [0.8888888888888888, \"#fdca26\"], [1.0, \"#f0f921\"]], \"sequentialminus\": [[0.0, \"#0d0887\"], [0.1111111111111111, \"#46039f\"], [0.2222222222222222, \"#7201a8\"], [0.3333333333333333, \"#9c179e\"], [0.4444444444444444, \"#bd3786\"], [0.5555555555555556, \"#d8576b\"], [0.6666666666666666, \"#ed7953\"], [0.7777777777777778, \"#fb9f3a\"], [0.8888888888888888, \"#fdca26\"], [1.0, \"#f0f921\"]]}, \"colorway\": [\"#636efa\", \"#EF553B\", \"#00cc96\", \"#ab63fa\", \"#FFA15A\", \"#19d3f3\", \"#FF6692\", \"#B6E880\", \"#FF97FF\", \"#FECB52\"], \"font\": {\"color\": \"#2a3f5f\"}, \"geo\": {\"bgcolor\": \"white\", \"lakecolor\": \"white\", \"landcolor\": \"#E5ECF6\", \"showlakes\": true, \"showland\": true, \"subunitcolor\": \"white\"}, \"hoverlabel\": {\"align\": \"left\"}, \"hovermode\": \"closest\", \"mapbox\": {\"style\": \"light\"}, \"paper_bgcolor\": \"white\", \"plot_bgcolor\": \"#E5ECF6\", \"polar\": {\"angularaxis\": {\"gridcolor\": \"white\", \"linecolor\": \"white\", \"ticks\": \"\"}, \"bgcolor\": \"#E5ECF6\", \"radialaxis\": {\"gridcolor\": \"white\", \"linecolor\": \"white\", \"ticks\": \"\"}}, \"scene\": {\"xaxis\": {\"backgroundcolor\": \"#E5ECF6\", \"gridcolor\": \"white\", \"gridwidth\": 2, \"linecolor\": \"white\", \"showbackground\": true, \"ticks\": \"\", \"zerolinecolor\": \"white\"}, \"yaxis\": {\"backgroundcolor\": \"#E5ECF6\", \"gridcolor\": \"white\", \"gridwidth\": 2, \"linecolor\": \"white\", \"showbackground\": true, \"ticks\": \"\", \"zerolinecolor\": \"white\"}, \"zaxis\": {\"backgroundcolor\": \"#E5ECF6\", \"gridcolor\": \"white\", \"gridwidth\": 2, \"linecolor\": \"white\", \"showbackground\": true, \"ticks\": \"\", \"zerolinecolor\": \"white\"}}, \"shapedefaults\": {\"line\": {\"color\": \"#2a3f5f\"}}, \"ternary\": {\"aaxis\": {\"gridcolor\": \"white\", \"linecolor\": \"white\", \"ticks\": \"\"}, \"baxis\": {\"gridcolor\": \"white\", \"linecolor\": \"white\", \"ticks\": \"\"}, \"bgcolor\": \"#E5ECF6\", \"caxis\": {\"gridcolor\": \"white\", \"linecolor\": \"white\", \"ticks\": \"\"}}, \"title\": {\"x\": 0.05}, \"xaxis\": {\"automargin\": true, \"gridcolor\": \"white\", \"linecolor\": \"white\", \"ticks\": \"\", \"title\": {\"standoff\": 15}, \"zerolinecolor\": \"white\", \"zerolinewidth\": 2}, \"yaxis\": {\"automargin\": true, \"gridcolor\": \"white\", \"linecolor\": \"white\", \"ticks\": \"\", \"title\": {\"standoff\": 15}, \"zerolinecolor\": \"white\", \"zerolinewidth\": 2}}}, \"title\": {\"text\": \"Optimization History Plot\"}, \"xaxis\": {\"title\": {\"text\": \"#Trials\"}}, \"yaxis\": {\"title\": {\"text\": \"Objective Value\"}}},\n",
              "                        {\"responsive\": true}\n",
              "                    ).then(function(){\n",
              "                            \n",
              "var gd = document.getElementById('bf1d5ca4-b1d2-4e3e-8fd0-076c86f2c2c9');\n",
              "var x = new MutationObserver(function (mutations, observer) {{\n",
              "        var display = window.getComputedStyle(gd).display;\n",
              "        if (!display || display === 'none') {{\n",
              "            console.log([gd, 'removed!']);\n",
              "            Plotly.purge(gd);\n",
              "            observer.disconnect();\n",
              "        }}\n",
              "}});\n",
              "\n",
              "// Listen for the removal of the full notebook cells\n",
              "var notebookContainer = gd.closest('#notebook-container');\n",
              "if (notebookContainer) {{\n",
              "    x.observe(notebookContainer, {childList: true});\n",
              "}}\n",
              "\n",
              "// Listen for the clearing of the current output cell\n",
              "var outputEl = gd.closest('.output');\n",
              "if (outputEl) {{\n",
              "    x.observe(outputEl, {childList: true});\n",
              "}}\n",
              "\n",
              "                        })\n",
              "                };\n",
              "                \n",
              "            </script>\n",
              "        </div>\n",
              "</body>\n",
              "</html>"
            ]
          },
          "metadata": {}
        }
      ]
    },
    {
      "cell_type": "code",
      "metadata": {
        "colab": {
          "base_uri": "https://localhost:8080/",
          "height": 542
        },
        "id": "i5iFl49tevvO",
        "outputId": "f47d5b46-6778-4f30-d194-3b3fb2c9d5bd"
      },
      "source": [
        "optuna.visualization.plot_parallel_coordinate(study)"
      ],
      "execution_count": null,
      "outputs": [
        {
          "output_type": "display_data",
          "data": {
            "text/html": [
              "<html>\n",
              "<head><meta charset=\"utf-8\" /></head>\n",
              "<body>\n",
              "    <div>\n",
              "            <script src=\"https://cdnjs.cloudflare.com/ajax/libs/mathjax/2.7.5/MathJax.js?config=TeX-AMS-MML_SVG\"></script><script type=\"text/javascript\">if (window.MathJax) {MathJax.Hub.Config({SVG: {font: \"STIX-Web\"}});}</script>\n",
              "                <script type=\"text/javascript\">window.PlotlyConfig = {MathJaxConfig: 'local'};</script>\n",
              "        <script src=\"https://cdn.plot.ly/plotly-latest.min.js\"></script>    \n",
              "            <div id=\"cb6ace4f-f9ec-47df-9c28-5ffe8b291ec2\" class=\"plotly-graph-div\" style=\"height:525px; width:100%;\"></div>\n",
              "            <script type=\"text/javascript\">\n",
              "                \n",
              "                    window.PLOTLYENV=window.PLOTLYENV || {};\n",
              "                    \n",
              "                if (document.getElementById(\"cb6ace4f-f9ec-47df-9c28-5ffe8b291ec2\")) {\n",
              "                    Plotly.newPlot(\n",
              "                        'cb6ace4f-f9ec-47df-9c28-5ffe8b291ec2',\n",
              "                        [{\"dimensions\": [{\"label\": \"Objective Value\", \"range\": [0.7246376811594203, 0.7910447761194029], \"values\": [0.7669172932330827, 0.7647058823529411, 0.7777777777777778, 0.7428571428571428, 0.7445255474452556, 0.7794117647058824, 0.748201438848921, 0.7313432835820897, 0.7391304347826085, 0.7445255474452556, 0.7659574468085107, 0.7536231884057971, 0.7656250000000001, 0.7669172932330827, 0.75, 0.7786259541984734, 0.7681159420289855, 0.7299270072992701, 0.7611940298507462, 0.748201438848921, 0.7246376811594203, 0.7716535433070866, 0.7777777777777778, 0.7538461538461538, 0.7571428571428571, 0.7596899224806202, 0.7596899224806202, 0.7605633802816901, 0.7555555555555555, 0.7462686567164178, 0.7518796992481203, 0.7777777777777778, 0.75, 0.7462686567164178, 0.7596899224806202, 0.7727272727272727, 0.7611940298507462, 0.7611940298507462, 0.7727272727272727, 0.7571428571428571, 0.7575757575757576, 0.7777777777777778, 0.7445255474452556, 0.75, 0.7445255474452556, 0.75, 0.7819548872180452, 0.7669172932330827, 0.7445255474452556, 0.7575757575757576, 0.7575757575757576, 0.7777777777777778, 0.7538461538461538, 0.7633587786259542, 0.759124087591241, 0.7538461538461538, 0.7596899224806202, 0.7786259541984734, 0.7538461538461538, 0.7445255474452556, 0.7656250000000001, 0.75, 0.7384615384615385, 0.7716535433070866, 0.7538461538461538, 0.7656250000000001, 0.7596899224806202, 0.7692307692307692, 0.7575757575757576, 0.7575757575757576, 0.7794117647058824, 0.7681159420289855, 0.785185185185185, 0.785185185185185, 0.7703703703703704, 0.7703703703703704, 0.7786259541984734, 0.7692307692307692, 0.7761194029850746, 0.7786259541984734, 0.7786259541984734, 0.7786259541984734, 0.7761194029850746, 0.7910447761194029, 0.7375886524822696, 0.787878787878788, 0.7761194029850746, 0.7819548872180452, 0.7819548872180452, 0.7703703703703704, 0.7761194029850746, 0.7703703703703704, 0.7669172932330827, 0.7819548872180452, 0.7819548872180452, 0.7703703703703704, 0.7703703703703704, 0.7819548872180452, 0.7761194029850746, 0.7647058823529411, 0.7727272727272727, 0.7819548872180452, 0.7647058823529411, 0.7761194029850746, 0.7819548872180452, 0.7703703703703704, 0.7669172932330827, 0.7428571428571428, 0.7445255474452556, 0.7299270072992701, 0.7727272727272727, 0.7819548872180452, 0.7727272727272727, 0.7647058823529411, 0.759124087591241, 0.7703703703703704, 0.7559055118110236, 0.7669172932330827, 0.7761194029850746, 0.7761194029850746, 0.7786259541984734, 0.7761194029850746, 0.7647058823529411, 0.7819548872180452, 0.7751937984496124, 0.7727272727272727, 0.7647058823529411, 0.7659574468085107, 0.7375886524822696, 0.7703703703703704, 0.7819548872180452]}, {\"label\": \"colsample_by_tree\", \"range\": [0.5, 0.9], \"values\": [0.5, 0.5, 0.8, 0.9, 0.7, 0.6, 0.6, 0.8, 0.8, 0.8, 0.6, 0.7, 0.6, 0.9, 0.7, 0.8, 0.6, 0.9, 0.5, 0.7, 0.8, 0.8, 0.8, 0.9, 0.7, 0.6, 0.8, 0.7, 0.9, 0.5, 0.8, 0.8, 0.8, 0.9, 0.8, 0.7, 0.5, 0.8, 0.7, 0.9, 0.6, 0.8, 0.8, 0.8, 0.8, 0.7, 0.8, 0.9, 0.6, 0.8, 0.7, 0.8, 0.8, 0.8, 0.9, 0.8, 0.8, 0.7, 0.7, 0.6, 0.7, 0.8, 0.8, 0.6, 0.7, 0.8, 0.8, 0.9, 0.7, 0.5, 0.8, 0.8, 0.8, 0.8, 0.8, 0.8, 0.8, 0.8, 0.7, 0.8, 0.9, 0.9, 0.9, 0.9, 0.9, 0.9, 0.9, 0.9, 0.9, 0.9, 0.9, 0.9, 0.9, 0.9, 0.9, 0.9, 0.9, 0.9, 0.9, 0.9, 0.9, 0.9, 0.9, 0.9, 0.9, 0.9, 0.9, 0.9, 0.9, 0.9, 0.9, 0.9, 0.9, 0.9, 0.9, 0.9, 0.9, 0.9, 0.9, 0.9, 0.9, 0.9, 0.9, 0.9, 0.9, 0.9, 0.9, 0.9, 0.9, 0.9, 0.9]}, {\"label\": \"eta\", \"range\": [-5.988763840039294, -3.002919632683817], \"ticktext\": [\"1.03e-06\", \"1e-05\", \"0.0001\", \"0.000993\"], \"tickvals\": [-5.988763840039294, -5, -4, -3.002919632683817], \"values\": [-5.222905760767439, -3.3056973258956974, -5.839355869553008, -5.034627681940054, -3.0870130804739637, -3.133202193319093, -5.621060248176455, -4.197024834047588, -3.8939872573479146, -5.049059056013453, -3.818252769237697, -5.836667783988732, -4.538481436936724, -4.658088185195282, -3.6118387901550553, -5.9785424496319965, -4.215202489636691, -5.426088143401526, -4.7691191739461924, -3.4895846236743804, -4.266528832323068, -5.949484571890761, -5.640887097985951, -5.575628764997604, -5.958399018615626, -5.359238583321645, -4.8415538667853495, -5.618963979158498, -5.13329621782776, -5.306676562546819, -3.082578275994209, -5.76257423398351, -5.725394493973895, -5.479888157826704, -5.809973267552525, -5.9857740834738, -5.241730817480503, -4.902350950787157, -3.405262616085351, -5.811939772607955, -3.9106247945514614, -5.688643032048155, -5.525585445591579, -5.7761366350296885, -5.988763840039294, -3.217216818367224, -5.618515271127826, -5.056615832639955, -5.394066079004662, -4.446500132041642, -5.610831289770706, -5.811292907836785, -5.851787855994605, -5.6806931837693915, -5.882569726097218, -4.108557780396536, -5.491505211064504, -3.69488851674575, -3.002919632683817, -3.5436700504389442, -3.6863606461979908, -3.2824059144911737, -3.7644193372612733, -5.924410516318345, -4.0449347867791845, -5.653646377925337, -5.724792260315105, -4.331640345283777, -4.69055248940999, -5.192448638843021, -3.3720860511561477, -3.4073177167291315, -3.0464322862681703, -3.1711869742785925, -3.1581369502643413, -3.363829905013625, -3.0073017182080894, -3.0084072063036773, -3.154067024297129, -3.3021723762379107, -3.2788910481468823, -3.240371063967885, -3.278540504117914, -3.1303167329567576, -3.1337364797748397, -3.069219288439998, -3.4848527150479245, -3.2153491211552874, -3.1837137514051856, -3.086931999435859, -3.1903517771220424, -3.3670578842866297, -3.064730376387575, -3.4557640321348946, -3.511574346382521, -3.5098935469110417, -3.4500455871028954, -3.549585791378623, -3.643506608725087, -3.5615814954786744, -3.2197290969479773, -3.3396336713612285, -3.0788550897686777, -3.3217604054443757, -3.4247221962044065, -3.450520531016178, -3.587301192668755, -3.1874254177595183, -3.8465934088110134, -3.1251898269821083, -3.2350510133102377, -3.318303527169393, -3.331995768106491, -3.0523636131072784, -3.129518690397808, -3.45140624601313, -3.408397642828688, -3.651653067953454, -3.2601483708363914, -3.336261920478669, -3.189677591841905, -3.5275460356176223, -3.1201282043697085, -3.7336132466943885, -3.744327117435452, -3.612951234761926, -3.405118078105399, -3.0443255617897993, -4.952202921844153, -3.265218999573953, -3.199167801323657]}, {\"label\": \"gamma\", \"range\": [-4.994602718146084, 0.9891764700723021], \"ticktext\": [\"1.01e-05\", \"0.0001\", \"0.001\", \"0.01\", \"0.1\", \"1\", \"9.75\"], \"tickvals\": [-4.994602718146084, -4, -3, -2, -1, 0, 0.9891764700723021], \"values\": [-4.323779466018042, -4.457610485127099, -4.41615812071429, -3.9290066072507313, -1.4545495379353295, -4.352825898906758, -0.6609666444187872, -4.88298811814457, -1.0767492716248102, -3.921953870768996, 0.8804388223612781, -2.7838473224929285, -2.749299053334372, -2.972749631302153, -3.247815042663947, -4.994602718146084, -4.980410640398573, -2.2122498951478495, -3.3164394961904646, 0.5341490132224201, -2.134311696083298, -3.8289578567782794, -4.475641796262491, -4.951809376644149, -3.7140839212158516, -4.423807347292946, -3.389134817706546, -4.1732789892804885, -0.250103429776744, -4.576740018047048, -3.5907355900329083, -4.205945520110731, -4.21677124762011, -4.726174314440393, -4.28995501377756, -4.131735043369166, -1.6618530545482866, -4.696375530375493, -2.4725408036705154, -3.952738414871943, -3.560800616674142, -4.484118665945585, -4.665728104654366, -3.9703632000447215, -4.449413461927078, -4.8814008523513275, -4.486807471152114, -4.770526578608191, -4.50341539721302, -3.075204510801566, -1.140265601751622, -4.077796975471107, -3.958510735760646, -4.89431688977792, -4.982563205669133, -4.176283404425613, -3.7195476783063963, -4.39569639153563, -3.47117747888064, -4.368665917249528, -3.1633197528717054, -4.580543728050979, -3.748250868898699, -4.057955788156538, -4.3178740956678086, -4.7405205039158, -0.02193726193857425, -4.3943579167972535, -4.563304671721806, -2.847548996543328, -4.269143958295623, -3.8276764969951307, -4.776642337008186, -4.804773004284477, -4.816126724492386, -4.962577089867706, -4.708474189568545, -4.651013788989614, -4.317896283083096, -4.8080961433480836, -4.789355148973286, -4.809387006489566, -4.7923146128867185, -4.645000447031685, -4.574536094090337, -4.6394672482122505, -4.286363261792918, -4.989197626617605, -4.947706558439749, -4.985347184996008, -4.637156299834858, -4.491869467463039, -4.651610500006408, -4.107239359267113, -4.156349219260601, -4.027417128797032, -4.163498607884268, -4.494853678567093, -1.8852807261641662, -4.478777143805754, -2.5550155276656743, -4.244475249806249, -4.886956991573878, -4.571063389423245, -3.8965521877251046, -3.8670969409607183, -3.587057254992953, -4.369820565864268, -4.13337339620896, -4.877498446934663, -4.992232085269161, -4.480376983742512, -4.697239238993076, -4.245744632570207, -4.460235738422987, -3.91562891640318, -4.134827889922723, -4.589627325094287, -4.427543020083357, 0.9891764700723021, -4.044772158663946, -4.734293072449243, -4.260332266030212, -4.85133276561051, -4.876416074552552, -4.635982836103398, -4.49845294342488, -3.7613870326912235, -4.371266014993115, -4.840441736730244, -1.2157711979283736]}, {\"label\": \"max_depth\", \"range\": [5, 25], \"values\": [17, 5, 5, 21, 21, 16, 20, 17, 13, 19, 25, 11, 8, 11, 5, 14, 14, 16, 12, 25, 10, 8, 15, 15, 8, 18, 14, 15, 16, 23, 18, 13, 13, 5, 9, 6, 17, 21, 13, 19, 23, 16, 16, 14, 12, 18, 15, 20, 17, 15, 12, 11, 7, 10, 11, 13, 14, 15, 10, 16, 17, 16, 15, 14, 12, 15, 16, 15, 18, 14, 19, 19, 20, 22, 23, 22, 20, 20, 22, 20, 22, 22, 24, 21, 21, 22, 21, 24, 24, 23, 25, 24, 24, 19, 19, 24, 21, 19, 19, 23, 22, 19, 18, 19, 20, 20, 25, 21, 18, 21, 20, 19, 20, 19, 17, 22, 18, 21, 23, 24, 20, 19, 18, 19, 20, 22, 21, 19, 20, 19, 25]}, {\"label\": \"min_child_weight\", \"range\": [1, 35], \"values\": [19, 21, 17, 23, 5, 27, 15, 1, 19, 33, 33, 27, 11, 27, 13, 27, 27, 35, 29, 23, 31, 9, 15, 23, 25, 15, 7, 31, 21, 19, 17, 17, 13, 21, 17, 25, 19, 25, 21, 29, 3, 15, 13, 17, 15, 11, 11, 9, 11, 5, 35, 15, 13, 9, 19, 23, 17, 15, 13, 29, 11, 15, 17, 15, 21, 15, 19, 7, 13, 11, 31, 33, 31, 31, 31, 33, 27, 27, 31, 29, 27, 27, 29, 27, 29, 27, 25, 31, 31, 33, 31, 33, 35, 31, 31, 35, 31, 31, 31, 33, 29, 31, 33, 31, 29, 29, 31, 29, 25, 33, 29, 31, 31, 29, 35, 33, 1, 27, 31, 31, 29, 31, 33, 31, 27, 29, 33, 31, 29, 33, 27]}, {\"label\": \"n_estimator\", \"range\": [100, 2500], \"values\": [2500, 700, 2300, 100, 300, 500, 2500, 2300, 100, 1700, 1100, 1700, 900, 1700, 500, 1300, 1500, 1300, 700, 1100, 2100, 2100, 1900, 1900, 1300, 900, 1500, 500, 1500, 2500, 1900, 2300, 2100, 2300, 2300, 300, 2500, 900, 2300, 700, 1100, 1900, 2100, 2500, 100, 1900, 1700, 1700, 1300, 1700, 1500, 2300, 2100, 1900, 2300, 2500, 500, 300, 300, 100, 300, 1300, 500, 2300, 900, 1700, 1500, 1900, 2100, 1900, 700, 700, 700, 700, 500, 700, 500, 500, 900, 700, 700, 700, 700, 700, 900, 1100, 300, 1100, 1100, 1100, 1100, 900, 1100, 1100, 1100, 1100, 1300, 900, 1100, 900, 1300, 1100, 1100, 900, 1100, 1300, 1100, 900, 900, 1100, 1100, 1100, 1100, 1300, 900, 1300, 900, 900, 1100, 1300, 1500, 1100, 1100, 1100, 1300, 900, 700, 1100, 900, 1100, 700]}, {\"label\": \"reg_alpha\", \"range\": [0.001, 19.801000000000002], \"values\": [3.501, 2.201, 4.7010000000000005, 6.301000000000001, 19.501, 3.601, 11.901, 16.201, 9.801, 1.701, 8.301, 5.501, 0.401, 5.601000000000001, 12.501, 4.601000000000001, 7.601000000000001, 0.001, 2.9010000000000002, 11.201, 14.401, 3.9010000000000002, 4.7010000000000005, 7.101000000000001, 9.301, 1.901, 4.2010000000000005, 8.401, 6.101000000000001, 3.801, 0.7010000000000001, 5.001, 2.9010000000000002, 4.601000000000001, 6.501, 1.901, 5.401000000000001, 3.001, 1.301, 7.501, 11.001, 4.401000000000001, 18.901000000000003, 5.2010000000000005, 6.501, 3.201, 8.701, 8.301, 13.701, 8.901, 0.901, 5.401000000000001, 2.601, 5.901000000000001, 10.101, 7.001, 3.601, 2.4010000000000002, 2.4010000000000002, 4.401000000000001, 0.001, 4.101000000000001, 1.401, 5.101000000000001, 3.601, 4.7010000000000005, 2.201, 5.7010000000000005, 7.401000000000001, 6.501, 3.601, 3.9010000000000002, 3.101, 3.301, 3.201, 1.901, 2.601, 0.801, 1.401, 2.4010000000000002, 2.801, 2.9010000000000002, 2.9010000000000002, 3.4010000000000002, 15.901, 3.501, 3.4010000000000002, 3.9010000000000002, 4.101000000000001, 3.801, 4.801000000000001, 3.4010000000000002, 1.801, 4.101000000000001, 4.401000000000001, 4.2010000000000005, 6.001, 4.2010000000000005, 5.001, 4.2010000000000005, 5.501, 3.801, 4.501, 4.001, 3.201, 3.201, 2.201, 12.801, 10.401, 4.801000000000001, 3.601, 4.301, 4.301, 6.901000000000001, 5.301000000000001, 3.001, 3.801, 8.001, 2.601, 3.301, 1.201, 4.501, 5.001, 3.9010000000000002, 2.001, 3.9010000000000002, 3.301, 9.100999999999999, 19.801000000000002, 5.801000000000001, 4.401000000000001]}, {\"label\": \"reg_lambda\", \"range\": [1.001, 20.001], \"values\": [3.201, 11.901, 7.501, 19.801000000000002, 8.501, 13.401, 1.101, 8.600999999999999, 14.401, 1.001, 17.201, 6.501, 13.101, 5.301000000000001, 10.801, 14.601, 15.501, 17.001, 19.701000000000004, 12.801, 10.501, 7.901000000000001, 14.501, 15.001, 5.301000000000001, 16.501, 13.701, 18.001, 11.601, 4.2010000000000005, 15.501, 9.501, 9.901, 12.201, 9.501, 7.2010000000000005, 11.701, 2.4010000000000002, 8.501, 6.301000000000001, 9.100999999999999, 13.601, 13.701, 14.501, 11.001, 15.901, 18.201, 17.701, 18.901000000000003, 20.001, 16.201, 18.701, 18.001, 19.301000000000002, 18.701, 17.101000000000003, 6.901000000000001, 14.701, 12.601, 13.501, 14.901, 16.501, 11.001, 7.7010000000000005, 10.201, 14.301, 13.101, 15.201, 18.401000000000003, 14.201, 12.201, 12.001, 12.801, 12.601, 12.401, 11.501, 13.001, 12.901, 14.001, 13.401, 11.301, 11.401, 13.101, 11.101, 11.201, 10.101, 12.001, 10.701, 10.701, 9.201, 10.401, 9.701, 10.501, 8.201, 8.901, 8.801, 8.201, 9.901, 8.301, 6.101000000000001, 9.901, 10.701, 9.001, 10.601, 9.401, 9.401, 10.001, 10.701, 7.601000000000001, 8.701, 8.201, 9.601, 10.101, 9.501, 7.101000000000001, 11.701, 9.100999999999999, 11.001, 10.701, 9.901, 8.100999999999999, 10.301, 9.701, 8.701, 8.600999999999999, 7.7010000000000005, 11.701, 9.301, 12.601, 1.401, 11.001]}, {\"label\": \"subsample\", \"range\": [0.5, 0.9], \"values\": [0.6, 0.7, 0.8, 0.5, 0.9, 0.9, 0.5, 0.5, 0.8, 0.7, 0.9, 0.8, 0.8, 0.9, 0.8, 0.9, 0.9, 0.6, 0.9, 0.7, 0.9, 0.8, 0.8, 0.9, 0.8, 0.9, 0.8, 0.9, 0.8, 0.7, 0.6, 0.8, 0.9, 0.7, 0.8, 0.9, 0.7, 0.8, 0.9, 0.6, 0.8, 0.8, 0.8, 0.9, 0.8, 0.7, 0.9, 0.9, 0.9, 0.9, 0.9, 0.8, 0.5, 0.8, 0.9, 0.9, 0.8, 0.7, 0.7, 0.7, 0.6, 0.7, 0.9, 0.8, 0.8, 0.7, 0.9, 0.8, 0.7, 0.8, 0.9, 0.9, 0.9, 0.9, 0.9, 0.9, 0.9, 0.9, 0.9, 0.9, 0.9, 0.9, 0.9, 0.9, 0.9, 0.9, 0.9, 0.9, 0.9, 0.9, 0.9, 0.9, 0.9, 0.9, 0.9, 0.9, 0.9, 0.9, 0.9, 0.9, 0.9, 0.9, 0.9, 0.9, 0.9, 0.9, 0.9, 0.9, 0.9, 0.5, 0.9, 0.9, 0.9, 0.9, 0.9, 0.9, 0.9, 0.9, 0.9, 0.9, 0.9, 0.9, 0.9, 0.9, 0.9, 0.9, 0.9, 0.9, 0.9, 0.9, 0.9]}], \"labelangle\": 30, \"labelside\": \"bottom\", \"line\": {\"color\": [0.7669172932330827, 0.7647058823529411, 0.7777777777777778, 0.7428571428571428, 0.7445255474452556, 0.7794117647058824, 0.748201438848921, 0.7313432835820897, 0.7391304347826085, 0.7445255474452556, 0.7659574468085107, 0.7536231884057971, 0.7656250000000001, 0.7669172932330827, 0.75, 0.7786259541984734, 0.7681159420289855, 0.7299270072992701, 0.7611940298507462, 0.748201438848921, 0.7246376811594203, 0.7716535433070866, 0.7777777777777778, 0.7538461538461538, 0.7571428571428571, 0.7596899224806202, 0.7596899224806202, 0.7605633802816901, 0.7555555555555555, 0.7462686567164178, 0.7518796992481203, 0.7777777777777778, 0.75, 0.7462686567164178, 0.7596899224806202, 0.7727272727272727, 0.7611940298507462, 0.7611940298507462, 0.7727272727272727, 0.7571428571428571, 0.7575757575757576, 0.7777777777777778, 0.7445255474452556, 0.75, 0.7445255474452556, 0.75, 0.7819548872180452, 0.7669172932330827, 0.7445255474452556, 0.7575757575757576, 0.7575757575757576, 0.7777777777777778, 0.7538461538461538, 0.7633587786259542, 0.759124087591241, 0.7538461538461538, 0.7596899224806202, 0.7786259541984734, 0.7538461538461538, 0.7445255474452556, 0.7656250000000001, 0.75, 0.7384615384615385, 0.7716535433070866, 0.7538461538461538, 0.7656250000000001, 0.7596899224806202, 0.7692307692307692, 0.7575757575757576, 0.7575757575757576, 0.7794117647058824, 0.7681159420289855, 0.785185185185185, 0.785185185185185, 0.7703703703703704, 0.7703703703703704, 0.7786259541984734, 0.7692307692307692, 0.7761194029850746, 0.7786259541984734, 0.7786259541984734, 0.7786259541984734, 0.7761194029850746, 0.7910447761194029, 0.7375886524822696, 0.787878787878788, 0.7761194029850746, 0.7819548872180452, 0.7819548872180452, 0.7703703703703704, 0.7761194029850746, 0.7703703703703704, 0.7669172932330827, 0.7819548872180452, 0.7819548872180452, 0.7703703703703704, 0.7703703703703704, 0.7819548872180452, 0.7761194029850746, 0.7647058823529411, 0.7727272727272727, 0.7819548872180452, 0.7647058823529411, 0.7761194029850746, 0.7819548872180452, 0.7703703703703704, 0.7669172932330827, 0.7428571428571428, 0.7445255474452556, 0.7299270072992701, 0.7727272727272727, 0.7819548872180452, 0.7727272727272727, 0.7647058823529411, 0.759124087591241, 0.7703703703703704, 0.7559055118110236, 0.7669172932330827, 0.7761194029850746, 0.7761194029850746, 0.7786259541984734, 0.7761194029850746, 0.7647058823529411, 0.7819548872180452, 0.7751937984496124, 0.7727272727272727, 0.7647058823529411, 0.7659574468085107, 0.7375886524822696, 0.7703703703703704, 0.7819548872180452], \"colorbar\": {\"title\": {\"text\": \"Objective Value\"}}, \"colorscale\": [[0.0, \"rgb(247,251,255)\"], [0.125, \"rgb(222,235,247)\"], [0.25, \"rgb(198,219,239)\"], [0.375, \"rgb(158,202,225)\"], [0.5, \"rgb(107,174,214)\"], [0.625, \"rgb(66,146,198)\"], [0.75, \"rgb(33,113,181)\"], [0.875, \"rgb(8,81,156)\"], [1.0, \"rgb(8,48,107)\"]], \"reversescale\": false, \"showscale\": true}, \"type\": \"parcoords\"}],\n",
              "                        {\"template\": {\"data\": {\"bar\": [{\"error_x\": {\"color\": \"#2a3f5f\"}, \"error_y\": {\"color\": \"#2a3f5f\"}, \"marker\": {\"line\": {\"color\": \"#E5ECF6\", \"width\": 0.5}}, \"type\": \"bar\"}], \"barpolar\": [{\"marker\": {\"line\": {\"color\": \"#E5ECF6\", \"width\": 0.5}}, \"type\": \"barpolar\"}], \"carpet\": [{\"aaxis\": {\"endlinecolor\": \"#2a3f5f\", \"gridcolor\": \"white\", \"linecolor\": \"white\", \"minorgridcolor\": \"white\", \"startlinecolor\": \"#2a3f5f\"}, \"baxis\": {\"endlinecolor\": \"#2a3f5f\", \"gridcolor\": \"white\", \"linecolor\": \"white\", \"minorgridcolor\": \"white\", \"startlinecolor\": \"#2a3f5f\"}, \"type\": \"carpet\"}], \"choropleth\": [{\"colorbar\": {\"outlinewidth\": 0, \"ticks\": \"\"}, \"type\": \"choropleth\"}], \"contour\": [{\"colorbar\": {\"outlinewidth\": 0, \"ticks\": \"\"}, \"colorscale\": [[0.0, \"#0d0887\"], [0.1111111111111111, \"#46039f\"], [0.2222222222222222, \"#7201a8\"], [0.3333333333333333, \"#9c179e\"], [0.4444444444444444, \"#bd3786\"], [0.5555555555555556, \"#d8576b\"], [0.6666666666666666, \"#ed7953\"], [0.7777777777777778, \"#fb9f3a\"], [0.8888888888888888, \"#fdca26\"], [1.0, \"#f0f921\"]], \"type\": \"contour\"}], \"contourcarpet\": [{\"colorbar\": {\"outlinewidth\": 0, \"ticks\": \"\"}, \"type\": \"contourcarpet\"}], \"heatmap\": [{\"colorbar\": {\"outlinewidth\": 0, \"ticks\": \"\"}, \"colorscale\": [[0.0, \"#0d0887\"], [0.1111111111111111, \"#46039f\"], [0.2222222222222222, \"#7201a8\"], [0.3333333333333333, \"#9c179e\"], [0.4444444444444444, \"#bd3786\"], [0.5555555555555556, \"#d8576b\"], [0.6666666666666666, \"#ed7953\"], [0.7777777777777778, \"#fb9f3a\"], [0.8888888888888888, \"#fdca26\"], [1.0, \"#f0f921\"]], \"type\": \"heatmap\"}], \"heatmapgl\": [{\"colorbar\": {\"outlinewidth\": 0, \"ticks\": \"\"}, \"colorscale\": [[0.0, \"#0d0887\"], [0.1111111111111111, \"#46039f\"], [0.2222222222222222, \"#7201a8\"], [0.3333333333333333, \"#9c179e\"], [0.4444444444444444, \"#bd3786\"], [0.5555555555555556, \"#d8576b\"], [0.6666666666666666, \"#ed7953\"], [0.7777777777777778, \"#fb9f3a\"], [0.8888888888888888, \"#fdca26\"], [1.0, \"#f0f921\"]], \"type\": \"heatmapgl\"}], \"histogram\": [{\"marker\": {\"colorbar\": {\"outlinewidth\": 0, \"ticks\": \"\"}}, \"type\": \"histogram\"}], \"histogram2d\": [{\"colorbar\": {\"outlinewidth\": 0, \"ticks\": \"\"}, \"colorscale\": [[0.0, \"#0d0887\"], [0.1111111111111111, \"#46039f\"], [0.2222222222222222, \"#7201a8\"], [0.3333333333333333, \"#9c179e\"], [0.4444444444444444, \"#bd3786\"], [0.5555555555555556, \"#d8576b\"], [0.6666666666666666, \"#ed7953\"], [0.7777777777777778, \"#fb9f3a\"], [0.8888888888888888, \"#fdca26\"], [1.0, \"#f0f921\"]], \"type\": \"histogram2d\"}], \"histogram2dcontour\": [{\"colorbar\": {\"outlinewidth\": 0, \"ticks\": \"\"}, \"colorscale\": [[0.0, \"#0d0887\"], [0.1111111111111111, \"#46039f\"], [0.2222222222222222, \"#7201a8\"], [0.3333333333333333, \"#9c179e\"], [0.4444444444444444, \"#bd3786\"], [0.5555555555555556, \"#d8576b\"], [0.6666666666666666, \"#ed7953\"], [0.7777777777777778, \"#fb9f3a\"], [0.8888888888888888, \"#fdca26\"], [1.0, \"#f0f921\"]], \"type\": \"histogram2dcontour\"}], \"mesh3d\": [{\"colorbar\": {\"outlinewidth\": 0, \"ticks\": \"\"}, \"type\": \"mesh3d\"}], \"parcoords\": [{\"line\": {\"colorbar\": {\"outlinewidth\": 0, \"ticks\": \"\"}}, \"type\": \"parcoords\"}], \"pie\": [{\"automargin\": true, \"type\": \"pie\"}], \"scatter\": [{\"marker\": {\"colorbar\": {\"outlinewidth\": 0, \"ticks\": \"\"}}, \"type\": \"scatter\"}], \"scatter3d\": [{\"line\": {\"colorbar\": {\"outlinewidth\": 0, \"ticks\": \"\"}}, \"marker\": {\"colorbar\": {\"outlinewidth\": 0, \"ticks\": \"\"}}, \"type\": \"scatter3d\"}], \"scattercarpet\": [{\"marker\": {\"colorbar\": {\"outlinewidth\": 0, \"ticks\": \"\"}}, \"type\": \"scattercarpet\"}], \"scattergeo\": [{\"marker\": {\"colorbar\": {\"outlinewidth\": 0, \"ticks\": \"\"}}, \"type\": \"scattergeo\"}], \"scattergl\": [{\"marker\": {\"colorbar\": {\"outlinewidth\": 0, \"ticks\": \"\"}}, \"type\": \"scattergl\"}], \"scattermapbox\": [{\"marker\": {\"colorbar\": {\"outlinewidth\": 0, \"ticks\": \"\"}}, \"type\": \"scattermapbox\"}], \"scatterpolar\": [{\"marker\": {\"colorbar\": {\"outlinewidth\": 0, \"ticks\": \"\"}}, \"type\": \"scatterpolar\"}], \"scatterpolargl\": [{\"marker\": {\"colorbar\": {\"outlinewidth\": 0, \"ticks\": \"\"}}, \"type\": \"scatterpolargl\"}], \"scatterternary\": [{\"marker\": {\"colorbar\": {\"outlinewidth\": 0, \"ticks\": \"\"}}, \"type\": \"scatterternary\"}], \"surface\": [{\"colorbar\": {\"outlinewidth\": 0, \"ticks\": \"\"}, \"colorscale\": [[0.0, \"#0d0887\"], [0.1111111111111111, \"#46039f\"], [0.2222222222222222, \"#7201a8\"], [0.3333333333333333, \"#9c179e\"], [0.4444444444444444, \"#bd3786\"], [0.5555555555555556, \"#d8576b\"], [0.6666666666666666, \"#ed7953\"], [0.7777777777777778, \"#fb9f3a\"], [0.8888888888888888, \"#fdca26\"], [1.0, \"#f0f921\"]], \"type\": \"surface\"}], \"table\": [{\"cells\": {\"fill\": {\"color\": \"#EBF0F8\"}, \"line\": {\"color\": \"white\"}}, \"header\": {\"fill\": {\"color\": \"#C8D4E3\"}, \"line\": {\"color\": \"white\"}}, \"type\": \"table\"}]}, \"layout\": {\"annotationdefaults\": {\"arrowcolor\": \"#2a3f5f\", \"arrowhead\": 0, \"arrowwidth\": 1}, \"coloraxis\": {\"colorbar\": {\"outlinewidth\": 0, \"ticks\": \"\"}}, \"colorscale\": {\"diverging\": [[0, \"#8e0152\"], [0.1, \"#c51b7d\"], [0.2, \"#de77ae\"], [0.3, \"#f1b6da\"], [0.4, \"#fde0ef\"], [0.5, \"#f7f7f7\"], [0.6, \"#e6f5d0\"], [0.7, \"#b8e186\"], [0.8, \"#7fbc41\"], [0.9, \"#4d9221\"], [1, \"#276419\"]], \"sequential\": [[0.0, \"#0d0887\"], [0.1111111111111111, \"#46039f\"], [0.2222222222222222, \"#7201a8\"], [0.3333333333333333, \"#9c179e\"], [0.4444444444444444, \"#bd3786\"], [0.5555555555555556, \"#d8576b\"], [0.6666666666666666, \"#ed7953\"], [0.7777777777777778, \"#fb9f3a\"], [0.8888888888888888, \"#fdca26\"], [1.0, \"#f0f921\"]], \"sequentialminus\": [[0.0, \"#0d0887\"], [0.1111111111111111, \"#46039f\"], [0.2222222222222222, \"#7201a8\"], [0.3333333333333333, \"#9c179e\"], [0.4444444444444444, \"#bd3786\"], [0.5555555555555556, \"#d8576b\"], [0.6666666666666666, \"#ed7953\"], [0.7777777777777778, \"#fb9f3a\"], [0.8888888888888888, \"#fdca26\"], [1.0, \"#f0f921\"]]}, \"colorway\": [\"#636efa\", \"#EF553B\", \"#00cc96\", \"#ab63fa\", \"#FFA15A\", \"#19d3f3\", \"#FF6692\", \"#B6E880\", \"#FF97FF\", \"#FECB52\"], \"font\": {\"color\": \"#2a3f5f\"}, \"geo\": {\"bgcolor\": \"white\", \"lakecolor\": \"white\", \"landcolor\": \"#E5ECF6\", \"showlakes\": true, \"showland\": true, \"subunitcolor\": \"white\"}, \"hoverlabel\": {\"align\": \"left\"}, \"hovermode\": \"closest\", \"mapbox\": {\"style\": \"light\"}, \"paper_bgcolor\": \"white\", \"plot_bgcolor\": \"#E5ECF6\", \"polar\": {\"angularaxis\": {\"gridcolor\": \"white\", \"linecolor\": \"white\", \"ticks\": \"\"}, \"bgcolor\": \"#E5ECF6\", \"radialaxis\": {\"gridcolor\": \"white\", \"linecolor\": \"white\", \"ticks\": \"\"}}, \"scene\": {\"xaxis\": {\"backgroundcolor\": \"#E5ECF6\", \"gridcolor\": \"white\", \"gridwidth\": 2, \"linecolor\": \"white\", \"showbackground\": true, \"ticks\": \"\", \"zerolinecolor\": \"white\"}, \"yaxis\": {\"backgroundcolor\": \"#E5ECF6\", \"gridcolor\": \"white\", \"gridwidth\": 2, \"linecolor\": \"white\", \"showbackground\": true, \"ticks\": \"\", \"zerolinecolor\": \"white\"}, \"zaxis\": {\"backgroundcolor\": \"#E5ECF6\", \"gridcolor\": \"white\", \"gridwidth\": 2, \"linecolor\": \"white\", \"showbackground\": true, \"ticks\": \"\", \"zerolinecolor\": \"white\"}}, \"shapedefaults\": {\"line\": {\"color\": \"#2a3f5f\"}}, \"ternary\": {\"aaxis\": {\"gridcolor\": \"white\", \"linecolor\": \"white\", \"ticks\": \"\"}, \"baxis\": {\"gridcolor\": \"white\", \"linecolor\": \"white\", \"ticks\": \"\"}, \"bgcolor\": \"#E5ECF6\", \"caxis\": {\"gridcolor\": \"white\", \"linecolor\": \"white\", \"ticks\": \"\"}}, \"title\": {\"x\": 0.05}, \"xaxis\": {\"automargin\": true, \"gridcolor\": \"white\", \"linecolor\": \"white\", \"ticks\": \"\", \"title\": {\"standoff\": 15}, \"zerolinecolor\": \"white\", \"zerolinewidth\": 2}, \"yaxis\": {\"automargin\": true, \"gridcolor\": \"white\", \"linecolor\": \"white\", \"ticks\": \"\", \"title\": {\"standoff\": 15}, \"zerolinecolor\": \"white\", \"zerolinewidth\": 2}}}, \"title\": {\"text\": \"Parallel Coordinate Plot\"}},\n",
              "                        {\"responsive\": true}\n",
              "                    ).then(function(){\n",
              "                            \n",
              "var gd = document.getElementById('cb6ace4f-f9ec-47df-9c28-5ffe8b291ec2');\n",
              "var x = new MutationObserver(function (mutations, observer) {{\n",
              "        var display = window.getComputedStyle(gd).display;\n",
              "        if (!display || display === 'none') {{\n",
              "            console.log([gd, 'removed!']);\n",
              "            Plotly.purge(gd);\n",
              "            observer.disconnect();\n",
              "        }}\n",
              "}});\n",
              "\n",
              "// Listen for the removal of the full notebook cells\n",
              "var notebookContainer = gd.closest('#notebook-container');\n",
              "if (notebookContainer) {{\n",
              "    x.observe(notebookContainer, {childList: true});\n",
              "}}\n",
              "\n",
              "// Listen for the clearing of the current output cell\n",
              "var outputEl = gd.closest('.output');\n",
              "if (outputEl) {{\n",
              "    x.observe(outputEl, {childList: true});\n",
              "}}\n",
              "\n",
              "                        })\n",
              "                };\n",
              "                \n",
              "            </script>\n",
              "        </div>\n",
              "</body>\n",
              "</html>"
            ]
          },
          "metadata": {}
        }
      ]
    },
    {
      "cell_type": "code",
      "metadata": {
        "colab": {
          "base_uri": "https://localhost:8080/",
          "height": 562
        },
        "id": "YPJ3VKdNewZ_",
        "outputId": "94675c74-961f-472c-c373-2b40a9f49587"
      },
      "source": [
        "optuna.visualization.plot_slice(study)"
      ],
      "execution_count": null,
      "outputs": [
        {
          "output_type": "display_data",
          "data": {
            "text/html": [
              "<html>\n",
              "<head><meta charset=\"utf-8\" /></head>\n",
              "<body>\n",
              "    <div>\n",
              "            <script src=\"https://cdnjs.cloudflare.com/ajax/libs/mathjax/2.7.5/MathJax.js?config=TeX-AMS-MML_SVG\"></script><script type=\"text/javascript\">if (window.MathJax) {MathJax.Hub.Config({SVG: {font: \"STIX-Web\"}});}</script>\n",
              "                <script type=\"text/javascript\">window.PlotlyConfig = {MathJaxConfig: 'local'};</script>\n",
              "        <script src=\"https://cdn.plot.ly/plotly-latest.min.js\"></script>    \n",
              "            <div id=\"0a1b3740-205e-47f4-b78e-8cfb095f939c\" class=\"plotly-graph-div\" style=\"height:525px; width:2700px;\"></div>\n",
              "            <script type=\"text/javascript\">\n",
              "                \n",
              "                    window.PLOTLYENV=window.PLOTLYENV || {};\n",
              "                    \n",
              "                if (document.getElementById(\"0a1b3740-205e-47f4-b78e-8cfb095f939c\")) {\n",
              "                    Plotly.newPlot(\n",
              "                        '0a1b3740-205e-47f4-b78e-8cfb095f939c',\n",
              "                        [{\"marker\": {\"color\": [0, 1, 2, 3, 4, 5, 6, 7, 8, 9, 10, 11, 12, 13, 14, 15, 16, 17, 18, 19, 20, 21, 22, 23, 24, 25, 26, 27, 28, 29, 30, 31, 32, 33, 34, 35, 36, 37, 38, 39, 40, 41, 42, 43, 44, 45, 46, 47, 48, 49, 50, 51, 52, 53, 54, 55, 56, 57, 58, 59, 60, 61, 62, 63, 64, 65, 66, 67, 68, 69, 70, 71, 72, 73, 74, 75, 76, 77, 78, 79, 80, 81, 82, 83, 84, 85, 86, 87, 88, 89, 90, 91, 92, 93, 94, 95, 96, 97, 98, 99, 100, 101, 102, 103, 104, 105, 106, 107, 108, 109, 110, 111, 112, 113, 114, 115, 116, 117, 118, 119, 120, 121, 122, 123, 124, 125, 126, 127, 128, 129, 130], \"colorbar\": {\"title\": {\"text\": \"#Trials\"}, \"x\": 1.0, \"xpad\": 40}, \"colorscale\": [[0.0, \"rgb(247,251,255)\"], [0.125, \"rgb(222,235,247)\"], [0.25, \"rgb(198,219,239)\"], [0.375, \"rgb(158,202,225)\"], [0.5, \"rgb(107,174,214)\"], [0.625, \"rgb(66,146,198)\"], [0.75, \"rgb(33,113,181)\"], [0.875, \"rgb(8,81,156)\"], [1.0, \"rgb(8,48,107)\"]], \"line\": {\"color\": \"Grey\", \"width\": 0.5}, \"showscale\": true}, \"mode\": \"markers\", \"showlegend\": false, \"type\": \"scatter\", \"x\": [0.5, 0.5, 0.8, 0.9, 0.7, 0.6, 0.6, 0.8, 0.8, 0.8, 0.6, 0.7, 0.6, 0.9, 0.7, 0.8, 0.6, 0.9, 0.5, 0.7, 0.8, 0.8, 0.8, 0.9, 0.7, 0.6, 0.8, 0.7, 0.9, 0.5, 0.8, 0.8, 0.8, 0.9, 0.8, 0.7, 0.5, 0.8, 0.7, 0.9, 0.6, 0.8, 0.8, 0.8, 0.8, 0.7, 0.8, 0.9, 0.6, 0.8, 0.7, 0.8, 0.8, 0.8, 0.9, 0.8, 0.8, 0.7, 0.7, 0.6, 0.7, 0.8, 0.8, 0.6, 0.7, 0.8, 0.8, 0.9, 0.7, 0.5, 0.8, 0.8, 0.8, 0.8, 0.8, 0.8, 0.8, 0.8, 0.7, 0.8, 0.9, 0.9, 0.9, 0.9, 0.9, 0.9, 0.9, 0.9, 0.9, 0.9, 0.9, 0.9, 0.9, 0.9, 0.9, 0.9, 0.9, 0.9, 0.9, 0.9, 0.9, 0.9, 0.9, 0.9, 0.9, 0.9, 0.9, 0.9, 0.9, 0.9, 0.9, 0.9, 0.9, 0.9, 0.9, 0.9, 0.9, 0.9, 0.9, 0.9, 0.9, 0.9, 0.9, 0.9, 0.9, 0.9, 0.9, 0.9, 0.9, 0.9, 0.9], \"xaxis\": \"x\", \"y\": [0.7669172932330827, 0.7647058823529411, 0.7777777777777778, 0.7428571428571428, 0.7445255474452556, 0.7794117647058824, 0.748201438848921, 0.7313432835820897, 0.7391304347826085, 0.7445255474452556, 0.7659574468085107, 0.7536231884057971, 0.7656250000000001, 0.7669172932330827, 0.75, 0.7786259541984734, 0.7681159420289855, 0.7299270072992701, 0.7611940298507462, 0.748201438848921, 0.7246376811594203, 0.7716535433070866, 0.7777777777777778, 0.7538461538461538, 0.7571428571428571, 0.7596899224806202, 0.7596899224806202, 0.7605633802816901, 0.7555555555555555, 0.7462686567164178, 0.7518796992481203, 0.7777777777777778, 0.75, 0.7462686567164178, 0.7596899224806202, 0.7727272727272727, 0.7611940298507462, 0.7611940298507462, 0.7727272727272727, 0.7571428571428571, 0.7575757575757576, 0.7777777777777778, 0.7445255474452556, 0.75, 0.7445255474452556, 0.75, 0.7819548872180452, 0.7669172932330827, 0.7445255474452556, 0.7575757575757576, 0.7575757575757576, 0.7777777777777778, 0.7538461538461538, 0.7633587786259542, 0.759124087591241, 0.7538461538461538, 0.7596899224806202, 0.7786259541984734, 0.7538461538461538, 0.7445255474452556, 0.7656250000000001, 0.75, 0.7384615384615385, 0.7716535433070866, 0.7538461538461538, 0.7656250000000001, 0.7596899224806202, 0.7692307692307692, 0.7575757575757576, 0.7575757575757576, 0.7794117647058824, 0.7681159420289855, 0.785185185185185, 0.785185185185185, 0.7703703703703704, 0.7703703703703704, 0.7786259541984734, 0.7692307692307692, 0.7761194029850746, 0.7786259541984734, 0.7786259541984734, 0.7786259541984734, 0.7761194029850746, 0.7910447761194029, 0.7375886524822696, 0.787878787878788, 0.7761194029850746, 0.7819548872180452, 0.7819548872180452, 0.7703703703703704, 0.7761194029850746, 0.7703703703703704, 0.7669172932330827, 0.7819548872180452, 0.7819548872180452, 0.7703703703703704, 0.7703703703703704, 0.7819548872180452, 0.7761194029850746, 0.7647058823529411, 0.7727272727272727, 0.7819548872180452, 0.7647058823529411, 0.7761194029850746, 0.7819548872180452, 0.7703703703703704, 0.7669172932330827, 0.7428571428571428, 0.7445255474452556, 0.7299270072992701, 0.7727272727272727, 0.7819548872180452, 0.7727272727272727, 0.7647058823529411, 0.759124087591241, 0.7703703703703704, 0.7559055118110236, 0.7669172932330827, 0.7761194029850746, 0.7761194029850746, 0.7786259541984734, 0.7761194029850746, 0.7647058823529411, 0.7819548872180452, 0.7751937984496124, 0.7727272727272727, 0.7647058823529411, 0.7659574468085107, 0.7375886524822696, 0.7703703703703704, 0.7819548872180452], \"yaxis\": \"y\"}, {\"marker\": {\"color\": [0, 1, 2, 3, 4, 5, 6, 7, 8, 9, 10, 11, 12, 13, 14, 15, 16, 17, 18, 19, 20, 21, 22, 23, 24, 25, 26, 27, 28, 29, 30, 31, 32, 33, 34, 35, 36, 37, 38, 39, 40, 41, 42, 43, 44, 45, 46, 47, 48, 49, 50, 51, 52, 53, 54, 55, 56, 57, 58, 59, 60, 61, 62, 63, 64, 65, 66, 67, 68, 69, 70, 71, 72, 73, 74, 75, 76, 77, 78, 79, 80, 81, 82, 83, 84, 85, 86, 87, 88, 89, 90, 91, 92, 93, 94, 95, 96, 97, 98, 99, 100, 101, 102, 103, 104, 105, 106, 107, 108, 109, 110, 111, 112, 113, 114, 115, 116, 117, 118, 119, 120, 121, 122, 123, 124, 125, 126, 127, 128, 129, 130], \"colorbar\": {\"title\": {\"text\": \"#Trials\"}, \"x\": 1.0, \"xpad\": 40}, \"colorscale\": [[0.0, \"rgb(247,251,255)\"], [0.125, \"rgb(222,235,247)\"], [0.25, \"rgb(198,219,239)\"], [0.375, \"rgb(158,202,225)\"], [0.5, \"rgb(107,174,214)\"], [0.625, \"rgb(66,146,198)\"], [0.75, \"rgb(33,113,181)\"], [0.875, \"rgb(8,81,156)\"], [1.0, \"rgb(8,48,107)\"]], \"line\": {\"color\": \"Grey\", \"width\": 0.5}, \"showscale\": false}, \"mode\": \"markers\", \"showlegend\": false, \"type\": \"scatter\", \"x\": [5.985414607869781e-06, 0.0004946553084328892, 1.4475851872725162e-06, 9.233626812376137e-06, 0.0008184401372433461, 0.0007358644233027319, 2.392983762988976e-06, 6.352946030744888e-05, 0.0001276476261403878, 8.931840189756943e-06, 0.0001519662794079251, 1.4565728681521885e-06, 2.894133518465181e-05, 2.1974136340374608e-05, 0.0002444337720974147, 1.0506487553503054e-06, 6.0925276713703055e-05, 3.7489690631637337e-06, 1.7016914863045578e-05, 0.0003239033026868732, 5.4134130764803615e-05, 1.1233508754822607e-06, 2.286193059724241e-06, 2.656875689408866e-06, 1.1005277083033371e-06, 4.372818147234881e-06, 1.4402773574517477e-05, 2.404562228658886e-06, 7.357051263175091e-06, 4.935412281285549e-06, 0.0008268404677779896, 1.7275306683423242e-06, 1.8819388425178635e-06, 3.3121640737705017e-06, 1.548911957294475e-06, 1.0332987797656266e-06, 5.731511689825989e-06, 1.2521289280634565e-05, 0.00039331216928296416, 1.5419142687821374e-06, 0.00012285001262529377, 2.048127401499246e-06, 2.981360920142591e-06, 1.6744159987984349e-06, 1.0262098052875754e-06, 0.0006064334964806135, 2.4070478783659303e-06, 8.777769400262213e-06, 4.03583981971438e-06, 3.57684291827158e-05, 2.450014813423569e-06, 1.544212601440995e-06, 1.406734517473843e-06, 2.0859640346774872e-06, 1.310479627614731e-06, 7.78829188891955e-05, 3.2247406256812408e-06, 0.00020188845441854771, 0.0009932998441175215, 0.00028597623853820553, 0.00020589194382494893, 0.0005219081581185822, 0.00017202068104308244, 1.1901165200191906e-06, 9.017065267821944e-05, 2.220003310487388e-06, 1.8845503265271054e-06, 4.6597182163191955e-05, 2.0391421912712905e-05, 6.420241449988287e-06, 0.0004245354381140935, 0.00039145539538288076, 0.0008986026887512315, 0.0006742376895706951, 0.0006948051834253349, 0.00043268326179221064, 0.0009833277193195974, 0.0009808278608942032, 0.0007013470517748215, 0.0004986865140327712, 0.0005261492453766487, 0.0005749484877730372, 0.0005265741021028521, 0.000740769797441306, 0.0007349596900673457, 0.0008526694666596532, 0.0003274517267633488, 0.0006090470989035965, 0.0006550677946873015, 0.0008185929509991642, 0.0006451314629508173, 0.0004294791804635567, 0.0008615284500256713, 0.00035013535653037213, 0.00030791131864686504, 0.00030910530102169477, 0.00035477614707126034, 0.00028210722479324736, 0.00022724450548662238, 0.00027442173420228795, 0.0006029355663354543, 0.0004574739074655405, 0.00083395940388245, 0.00047669390003300693, 0.0003760778919354642, 0.0003543883763829397, 0.00025864185554905336, 0.0006494931607297163, 0.0001423661010233231, 0.0007495665076115997, 0.000582034846494424, 0.00048050340861380004, 0.00046559063035326383, 0.0008864135514160298, 0.0007421322584760317, 0.00035366636112780923, 0.0003904832031252641, 0.00022302160248730067, 0.0005493531627163138, 0.00046103944049049087, 0.0006461337227565575, 0.0002967932123232527, 0.0007583536748629658, 0.0001846659196991745, 0.00018016601908629157, 0.00024380845660318024, 0.0003934430896832186, 0.000902972321441891, 1.1163415211173005e-05, 0.0005429764583383167, 0.0006321675492914548], \"xaxis\": \"x2\", \"y\": [0.7669172932330827, 0.7647058823529411, 0.7777777777777778, 0.7428571428571428, 0.7445255474452556, 0.7794117647058824, 0.748201438848921, 0.7313432835820897, 0.7391304347826085, 0.7445255474452556, 0.7659574468085107, 0.7536231884057971, 0.7656250000000001, 0.7669172932330827, 0.75, 0.7786259541984734, 0.7681159420289855, 0.7299270072992701, 0.7611940298507462, 0.748201438848921, 0.7246376811594203, 0.7716535433070866, 0.7777777777777778, 0.7538461538461538, 0.7571428571428571, 0.7596899224806202, 0.7596899224806202, 0.7605633802816901, 0.7555555555555555, 0.7462686567164178, 0.7518796992481203, 0.7777777777777778, 0.75, 0.7462686567164178, 0.7596899224806202, 0.7727272727272727, 0.7611940298507462, 0.7611940298507462, 0.7727272727272727, 0.7571428571428571, 0.7575757575757576, 0.7777777777777778, 0.7445255474452556, 0.75, 0.7445255474452556, 0.75, 0.7819548872180452, 0.7669172932330827, 0.7445255474452556, 0.7575757575757576, 0.7575757575757576, 0.7777777777777778, 0.7538461538461538, 0.7633587786259542, 0.759124087591241, 0.7538461538461538, 0.7596899224806202, 0.7786259541984734, 0.7538461538461538, 0.7445255474452556, 0.7656250000000001, 0.75, 0.7384615384615385, 0.7716535433070866, 0.7538461538461538, 0.7656250000000001, 0.7596899224806202, 0.7692307692307692, 0.7575757575757576, 0.7575757575757576, 0.7794117647058824, 0.7681159420289855, 0.785185185185185, 0.785185185185185, 0.7703703703703704, 0.7703703703703704, 0.7786259541984734, 0.7692307692307692, 0.7761194029850746, 0.7786259541984734, 0.7786259541984734, 0.7786259541984734, 0.7761194029850746, 0.7910447761194029, 0.7375886524822696, 0.787878787878788, 0.7761194029850746, 0.7819548872180452, 0.7819548872180452, 0.7703703703703704, 0.7761194029850746, 0.7703703703703704, 0.7669172932330827, 0.7819548872180452, 0.7819548872180452, 0.7703703703703704, 0.7703703703703704, 0.7819548872180452, 0.7761194029850746, 0.7647058823529411, 0.7727272727272727, 0.7819548872180452, 0.7647058823529411, 0.7761194029850746, 0.7819548872180452, 0.7703703703703704, 0.7669172932330827, 0.7428571428571428, 0.7445255474452556, 0.7299270072992701, 0.7727272727272727, 0.7819548872180452, 0.7727272727272727, 0.7647058823529411, 0.759124087591241, 0.7703703703703704, 0.7559055118110236, 0.7669172932330827, 0.7761194029850746, 0.7761194029850746, 0.7786259541984734, 0.7761194029850746, 0.7647058823529411, 0.7819548872180452, 0.7751937984496124, 0.7727272727272727, 0.7647058823529411, 0.7659574468085107, 0.7375886524822696, 0.7703703703703704, 0.7819548872180452], \"yaxis\": \"y2\"}, {\"marker\": {\"color\": [0, 1, 2, 3, 4, 5, 6, 7, 8, 9, 10, 11, 12, 13, 14, 15, 16, 17, 18, 19, 20, 21, 22, 23, 24, 25, 26, 27, 28, 29, 30, 31, 32, 33, 34, 35, 36, 37, 38, 39, 40, 41, 42, 43, 44, 45, 46, 47, 48, 49, 50, 51, 52, 53, 54, 55, 56, 57, 58, 59, 60, 61, 62, 63, 64, 65, 66, 67, 68, 69, 70, 71, 72, 73, 74, 75, 76, 77, 78, 79, 80, 81, 82, 83, 84, 85, 86, 87, 88, 89, 90, 91, 92, 93, 94, 95, 96, 97, 98, 99, 100, 101, 102, 103, 104, 105, 106, 107, 108, 109, 110, 111, 112, 113, 114, 115, 116, 117, 118, 119, 120, 121, 122, 123, 124, 125, 126, 127, 128, 129, 130], \"colorbar\": {\"title\": {\"text\": \"#Trials\"}, \"x\": 1.0, \"xpad\": 40}, \"colorscale\": [[0.0, \"rgb(247,251,255)\"], [0.125, \"rgb(222,235,247)\"], [0.25, \"rgb(198,219,239)\"], [0.375, \"rgb(158,202,225)\"], [0.5, \"rgb(107,174,214)\"], [0.625, \"rgb(66,146,198)\"], [0.75, \"rgb(33,113,181)\"], [0.875, \"rgb(8,81,156)\"], [1.0, \"rgb(8,48,107)\"]], \"line\": {\"color\": \"Grey\", \"width\": 0.5}, \"showscale\": false}, \"mode\": \"markers\", \"showlegend\": false, \"type\": \"scatter\", \"x\": [4.744828656690232e-05, 3.486498758330956e-05, 3.835675683315801e-05, 0.00011775880578459212, 0.03511158720907409, 4.437865145602338e-05, 0.21828975608089743, 1.3092177413756074e-05, 0.08380129469977333, 0.00011968676516245646, 7.593444487724673, 0.0016449499085735447, 0.0017811518514774468, 0.0010647566684660898, 0.0005651776214135175, 1.0125052455138056e-05, 1.0461389198618241e-05, 0.006134089451210041, 0.00048257020472695613, 3.4209680113636574, 0.0073398689172223105, 0.00014826619532411144, 3.3447079599125793e-05, 1.117353576255371e-05, 0.00019315950277559322, 3.768709415765572e-05, 0.0004081926517274402, 6.709976678523821e-05, 0.5622074162534846, 2.6500860864035575e-05, 0.00025660458376109893, 6.22378354264195e-05, 6.070559950322304e-05, 1.8785626595706864e-05, 5.1291451128687494e-05, 7.383545519237575e-05, 0.02178446734721129, 2.011983753946489e-05, 0.0033686756422527378, 0.00011149658998911348, 0.0002749155992898823, 3.280056571144845e-05, 2.1590957142555072e-05, 0.00010706235693085197, 3.5529290754768106e-05, 1.3140114441425874e-05, 3.259811810138781e-05, 1.696185793349232e-05, 3.137506272903413e-05, 0.0008409990189838223, 0.0723993051764288, 8.359937382978795e-05, 0.00011002446469092241, 1.275507774934557e-05, 1.0409665980344948e-05, 6.663717778624657e-05, 0.0001907446306635087, 4.02071794710661e-05, 0.0003379267107790988, 4.278919171333297e-05, 0.0006865627664201816, 2.6269770092514373e-05, 0.00017854559136847947, 8.750728544500811e-05, 4.809787665999267e-05, 1.8175212452370788e-05, 0.9507421276827379, 4.033128721626437e-05, 2.7333505191425572e-05, 0.0014205319412380175, 5.3809138844880084e-05, 0.00014870429179873285, 1.6724674069565184e-05, 1.567570188828627e-05, 1.5271203887640417e-05, 1.0899909952921622e-05, 1.956707052978095e-05, 2.233501307319197e-05, 4.8095419478635664e-05, 1.5556212127967327e-05, 1.6242199891912065e-05, 1.551004270209296e-05, 1.6131895019458702e-05, 2.2646419765313437e-05, 2.6635687191323927e-05, 2.2936795989700367e-05, 5.171740652936587e-05, 1.0251853073607333e-05, 1.1279593317332871e-05, 1.0343149809065593e-05, 2.305917154380071e-05, 3.2220370685497874e-05, 2.2304346331546732e-05, 7.811971329613624e-05, 6.976711761428989e-05, 9.388211635548634e-05, 6.862800782546717e-05, 3.199973055174271e-05, 0.013023246890055783, 3.3206481135483675e-05, 0.002786021556070878, 5.69540681000238e-05, 1.2973077377356622e-05, 2.6849525226188916e-05, 0.00012689596486175993, 0.0001358010284744192, 0.00025878717219059524, 4.2675580181916176e-05, 7.355743959303511e-05, 1.3258718591561564e-05, 1.0180472022264629e-05, 3.308438120846662e-05, 2.0079863721691007e-05, 5.6787842274235475e-05, 3.465486900650545e-05, 0.00012144260755252512, 7.331150076612185e-05, 2.5726024263424238e-05, 3.7364311143276105e-05, 9.753858929318971, 9.020442476117185e-05, 1.843770778032081e-05, 5.491205969684825e-05, 1.408209385147744e-05, 1.3291803904180751e-05, 2.312156167862492e-05, 3.173562506317518e-05, 0.00017322595620375745, 4.253378044978647e-05, 1.4439703087748381e-05, 0.06084554732465334], \"xaxis\": \"x3\", \"y\": [0.7669172932330827, 0.7647058823529411, 0.7777777777777778, 0.7428571428571428, 0.7445255474452556, 0.7794117647058824, 0.748201438848921, 0.7313432835820897, 0.7391304347826085, 0.7445255474452556, 0.7659574468085107, 0.7536231884057971, 0.7656250000000001, 0.7669172932330827, 0.75, 0.7786259541984734, 0.7681159420289855, 0.7299270072992701, 0.7611940298507462, 0.748201438848921, 0.7246376811594203, 0.7716535433070866, 0.7777777777777778, 0.7538461538461538, 0.7571428571428571, 0.7596899224806202, 0.7596899224806202, 0.7605633802816901, 0.7555555555555555, 0.7462686567164178, 0.7518796992481203, 0.7777777777777778, 0.75, 0.7462686567164178, 0.7596899224806202, 0.7727272727272727, 0.7611940298507462, 0.7611940298507462, 0.7727272727272727, 0.7571428571428571, 0.7575757575757576, 0.7777777777777778, 0.7445255474452556, 0.75, 0.7445255474452556, 0.75, 0.7819548872180452, 0.7669172932330827, 0.7445255474452556, 0.7575757575757576, 0.7575757575757576, 0.7777777777777778, 0.7538461538461538, 0.7633587786259542, 0.759124087591241, 0.7538461538461538, 0.7596899224806202, 0.7786259541984734, 0.7538461538461538, 0.7445255474452556, 0.7656250000000001, 0.75, 0.7384615384615385, 0.7716535433070866, 0.7538461538461538, 0.7656250000000001, 0.7596899224806202, 0.7692307692307692, 0.7575757575757576, 0.7575757575757576, 0.7794117647058824, 0.7681159420289855, 0.785185185185185, 0.785185185185185, 0.7703703703703704, 0.7703703703703704, 0.7786259541984734, 0.7692307692307692, 0.7761194029850746, 0.7786259541984734, 0.7786259541984734, 0.7786259541984734, 0.7761194029850746, 0.7910447761194029, 0.7375886524822696, 0.787878787878788, 0.7761194029850746, 0.7819548872180452, 0.7819548872180452, 0.7703703703703704, 0.7761194029850746, 0.7703703703703704, 0.7669172932330827, 0.7819548872180452, 0.7819548872180452, 0.7703703703703704, 0.7703703703703704, 0.7819548872180452, 0.7761194029850746, 0.7647058823529411, 0.7727272727272727, 0.7819548872180452, 0.7647058823529411, 0.7761194029850746, 0.7819548872180452, 0.7703703703703704, 0.7669172932330827, 0.7428571428571428, 0.7445255474452556, 0.7299270072992701, 0.7727272727272727, 0.7819548872180452, 0.7727272727272727, 0.7647058823529411, 0.759124087591241, 0.7703703703703704, 0.7559055118110236, 0.7669172932330827, 0.7761194029850746, 0.7761194029850746, 0.7786259541984734, 0.7761194029850746, 0.7647058823529411, 0.7819548872180452, 0.7751937984496124, 0.7727272727272727, 0.7647058823529411, 0.7659574468085107, 0.7375886524822696, 0.7703703703703704, 0.7819548872180452], \"yaxis\": \"y3\"}, {\"marker\": {\"color\": [0, 1, 2, 3, 4, 5, 6, 7, 8, 9, 10, 11, 12, 13, 14, 15, 16, 17, 18, 19, 20, 21, 22, 23, 24, 25, 26, 27, 28, 29, 30, 31, 32, 33, 34, 35, 36, 37, 38, 39, 40, 41, 42, 43, 44, 45, 46, 47, 48, 49, 50, 51, 52, 53, 54, 55, 56, 57, 58, 59, 60, 61, 62, 63, 64, 65, 66, 67, 68, 69, 70, 71, 72, 73, 74, 75, 76, 77, 78, 79, 80, 81, 82, 83, 84, 85, 86, 87, 88, 89, 90, 91, 92, 93, 94, 95, 96, 97, 98, 99, 100, 101, 102, 103, 104, 105, 106, 107, 108, 109, 110, 111, 112, 113, 114, 115, 116, 117, 118, 119, 120, 121, 122, 123, 124, 125, 126, 127, 128, 129, 130], \"colorbar\": {\"title\": {\"text\": \"#Trials\"}, \"x\": 1.0, \"xpad\": 40}, \"colorscale\": [[0.0, \"rgb(247,251,255)\"], [0.125, \"rgb(222,235,247)\"], [0.25, \"rgb(198,219,239)\"], [0.375, \"rgb(158,202,225)\"], [0.5, \"rgb(107,174,214)\"], [0.625, \"rgb(66,146,198)\"], [0.75, \"rgb(33,113,181)\"], [0.875, \"rgb(8,81,156)\"], [1.0, \"rgb(8,48,107)\"]], \"line\": {\"color\": \"Grey\", \"width\": 0.5}, \"showscale\": false}, \"mode\": \"markers\", \"showlegend\": false, \"type\": \"scatter\", \"x\": [17, 5, 5, 21, 21, 16, 20, 17, 13, 19, 25, 11, 8, 11, 5, 14, 14, 16, 12, 25, 10, 8, 15, 15, 8, 18, 14, 15, 16, 23, 18, 13, 13, 5, 9, 6, 17, 21, 13, 19, 23, 16, 16, 14, 12, 18, 15, 20, 17, 15, 12, 11, 7, 10, 11, 13, 14, 15, 10, 16, 17, 16, 15, 14, 12, 15, 16, 15, 18, 14, 19, 19, 20, 22, 23, 22, 20, 20, 22, 20, 22, 22, 24, 21, 21, 22, 21, 24, 24, 23, 25, 24, 24, 19, 19, 24, 21, 19, 19, 23, 22, 19, 18, 19, 20, 20, 25, 21, 18, 21, 20, 19, 20, 19, 17, 22, 18, 21, 23, 24, 20, 19, 18, 19, 20, 22, 21, 19, 20, 19, 25], \"xaxis\": \"x4\", \"y\": [0.7669172932330827, 0.7647058823529411, 0.7777777777777778, 0.7428571428571428, 0.7445255474452556, 0.7794117647058824, 0.748201438848921, 0.7313432835820897, 0.7391304347826085, 0.7445255474452556, 0.7659574468085107, 0.7536231884057971, 0.7656250000000001, 0.7669172932330827, 0.75, 0.7786259541984734, 0.7681159420289855, 0.7299270072992701, 0.7611940298507462, 0.748201438848921, 0.7246376811594203, 0.7716535433070866, 0.7777777777777778, 0.7538461538461538, 0.7571428571428571, 0.7596899224806202, 0.7596899224806202, 0.7605633802816901, 0.7555555555555555, 0.7462686567164178, 0.7518796992481203, 0.7777777777777778, 0.75, 0.7462686567164178, 0.7596899224806202, 0.7727272727272727, 0.7611940298507462, 0.7611940298507462, 0.7727272727272727, 0.7571428571428571, 0.7575757575757576, 0.7777777777777778, 0.7445255474452556, 0.75, 0.7445255474452556, 0.75, 0.7819548872180452, 0.7669172932330827, 0.7445255474452556, 0.7575757575757576, 0.7575757575757576, 0.7777777777777778, 0.7538461538461538, 0.7633587786259542, 0.759124087591241, 0.7538461538461538, 0.7596899224806202, 0.7786259541984734, 0.7538461538461538, 0.7445255474452556, 0.7656250000000001, 0.75, 0.7384615384615385, 0.7716535433070866, 0.7538461538461538, 0.7656250000000001, 0.7596899224806202, 0.7692307692307692, 0.7575757575757576, 0.7575757575757576, 0.7794117647058824, 0.7681159420289855, 0.785185185185185, 0.785185185185185, 0.7703703703703704, 0.7703703703703704, 0.7786259541984734, 0.7692307692307692, 0.7761194029850746, 0.7786259541984734, 0.7786259541984734, 0.7786259541984734, 0.7761194029850746, 0.7910447761194029, 0.7375886524822696, 0.787878787878788, 0.7761194029850746, 0.7819548872180452, 0.7819548872180452, 0.7703703703703704, 0.7761194029850746, 0.7703703703703704, 0.7669172932330827, 0.7819548872180452, 0.7819548872180452, 0.7703703703703704, 0.7703703703703704, 0.7819548872180452, 0.7761194029850746, 0.7647058823529411, 0.7727272727272727, 0.7819548872180452, 0.7647058823529411, 0.7761194029850746, 0.7819548872180452, 0.7703703703703704, 0.7669172932330827, 0.7428571428571428, 0.7445255474452556, 0.7299270072992701, 0.7727272727272727, 0.7819548872180452, 0.7727272727272727, 0.7647058823529411, 0.759124087591241, 0.7703703703703704, 0.7559055118110236, 0.7669172932330827, 0.7761194029850746, 0.7761194029850746, 0.7786259541984734, 0.7761194029850746, 0.7647058823529411, 0.7819548872180452, 0.7751937984496124, 0.7727272727272727, 0.7647058823529411, 0.7659574468085107, 0.7375886524822696, 0.7703703703703704, 0.7819548872180452], \"yaxis\": \"y4\"}, {\"marker\": {\"color\": [0, 1, 2, 3, 4, 5, 6, 7, 8, 9, 10, 11, 12, 13, 14, 15, 16, 17, 18, 19, 20, 21, 22, 23, 24, 25, 26, 27, 28, 29, 30, 31, 32, 33, 34, 35, 36, 37, 38, 39, 40, 41, 42, 43, 44, 45, 46, 47, 48, 49, 50, 51, 52, 53, 54, 55, 56, 57, 58, 59, 60, 61, 62, 63, 64, 65, 66, 67, 68, 69, 70, 71, 72, 73, 74, 75, 76, 77, 78, 79, 80, 81, 82, 83, 84, 85, 86, 87, 88, 89, 90, 91, 92, 93, 94, 95, 96, 97, 98, 99, 100, 101, 102, 103, 104, 105, 106, 107, 108, 109, 110, 111, 112, 113, 114, 115, 116, 117, 118, 119, 120, 121, 122, 123, 124, 125, 126, 127, 128, 129, 130], \"colorbar\": {\"title\": {\"text\": \"#Trials\"}, \"x\": 1.0, \"xpad\": 40}, \"colorscale\": [[0.0, \"rgb(247,251,255)\"], [0.125, \"rgb(222,235,247)\"], [0.25, \"rgb(198,219,239)\"], [0.375, \"rgb(158,202,225)\"], [0.5, \"rgb(107,174,214)\"], [0.625, \"rgb(66,146,198)\"], [0.75, \"rgb(33,113,181)\"], [0.875, \"rgb(8,81,156)\"], [1.0, \"rgb(8,48,107)\"]], \"line\": {\"color\": \"Grey\", \"width\": 0.5}, \"showscale\": false}, \"mode\": \"markers\", \"showlegend\": false, \"type\": \"scatter\", \"x\": [19, 21, 17, 23, 5, 27, 15, 1, 19, 33, 33, 27, 11, 27, 13, 27, 27, 35, 29, 23, 31, 9, 15, 23, 25, 15, 7, 31, 21, 19, 17, 17, 13, 21, 17, 25, 19, 25, 21, 29, 3, 15, 13, 17, 15, 11, 11, 9, 11, 5, 35, 15, 13, 9, 19, 23, 17, 15, 13, 29, 11, 15, 17, 15, 21, 15, 19, 7, 13, 11, 31, 33, 31, 31, 31, 33, 27, 27, 31, 29, 27, 27, 29, 27, 29, 27, 25, 31, 31, 33, 31, 33, 35, 31, 31, 35, 31, 31, 31, 33, 29, 31, 33, 31, 29, 29, 31, 29, 25, 33, 29, 31, 31, 29, 35, 33, 1, 27, 31, 31, 29, 31, 33, 31, 27, 29, 33, 31, 29, 33, 27], \"xaxis\": \"x5\", \"y\": [0.7669172932330827, 0.7647058823529411, 0.7777777777777778, 0.7428571428571428, 0.7445255474452556, 0.7794117647058824, 0.748201438848921, 0.7313432835820897, 0.7391304347826085, 0.7445255474452556, 0.7659574468085107, 0.7536231884057971, 0.7656250000000001, 0.7669172932330827, 0.75, 0.7786259541984734, 0.7681159420289855, 0.7299270072992701, 0.7611940298507462, 0.748201438848921, 0.7246376811594203, 0.7716535433070866, 0.7777777777777778, 0.7538461538461538, 0.7571428571428571, 0.7596899224806202, 0.7596899224806202, 0.7605633802816901, 0.7555555555555555, 0.7462686567164178, 0.7518796992481203, 0.7777777777777778, 0.75, 0.7462686567164178, 0.7596899224806202, 0.7727272727272727, 0.7611940298507462, 0.7611940298507462, 0.7727272727272727, 0.7571428571428571, 0.7575757575757576, 0.7777777777777778, 0.7445255474452556, 0.75, 0.7445255474452556, 0.75, 0.7819548872180452, 0.7669172932330827, 0.7445255474452556, 0.7575757575757576, 0.7575757575757576, 0.7777777777777778, 0.7538461538461538, 0.7633587786259542, 0.759124087591241, 0.7538461538461538, 0.7596899224806202, 0.7786259541984734, 0.7538461538461538, 0.7445255474452556, 0.7656250000000001, 0.75, 0.7384615384615385, 0.7716535433070866, 0.7538461538461538, 0.7656250000000001, 0.7596899224806202, 0.7692307692307692, 0.7575757575757576, 0.7575757575757576, 0.7794117647058824, 0.7681159420289855, 0.785185185185185, 0.785185185185185, 0.7703703703703704, 0.7703703703703704, 0.7786259541984734, 0.7692307692307692, 0.7761194029850746, 0.7786259541984734, 0.7786259541984734, 0.7786259541984734, 0.7761194029850746, 0.7910447761194029, 0.7375886524822696, 0.787878787878788, 0.7761194029850746, 0.7819548872180452, 0.7819548872180452, 0.7703703703703704, 0.7761194029850746, 0.7703703703703704, 0.7669172932330827, 0.7819548872180452, 0.7819548872180452, 0.7703703703703704, 0.7703703703703704, 0.7819548872180452, 0.7761194029850746, 0.7647058823529411, 0.7727272727272727, 0.7819548872180452, 0.7647058823529411, 0.7761194029850746, 0.7819548872180452, 0.7703703703703704, 0.7669172932330827, 0.7428571428571428, 0.7445255474452556, 0.7299270072992701, 0.7727272727272727, 0.7819548872180452, 0.7727272727272727, 0.7647058823529411, 0.759124087591241, 0.7703703703703704, 0.7559055118110236, 0.7669172932330827, 0.7761194029850746, 0.7761194029850746, 0.7786259541984734, 0.7761194029850746, 0.7647058823529411, 0.7819548872180452, 0.7751937984496124, 0.7727272727272727, 0.7647058823529411, 0.7659574468085107, 0.7375886524822696, 0.7703703703703704, 0.7819548872180452], \"yaxis\": \"y5\"}, {\"marker\": {\"color\": [0, 1, 2, 3, 4, 5, 6, 7, 8, 9, 10, 11, 12, 13, 14, 15, 16, 17, 18, 19, 20, 21, 22, 23, 24, 25, 26, 27, 28, 29, 30, 31, 32, 33, 34, 35, 36, 37, 38, 39, 40, 41, 42, 43, 44, 45, 46, 47, 48, 49, 50, 51, 52, 53, 54, 55, 56, 57, 58, 59, 60, 61, 62, 63, 64, 65, 66, 67, 68, 69, 70, 71, 72, 73, 74, 75, 76, 77, 78, 79, 80, 81, 82, 83, 84, 85, 86, 87, 88, 89, 90, 91, 92, 93, 94, 95, 96, 97, 98, 99, 100, 101, 102, 103, 104, 105, 106, 107, 108, 109, 110, 111, 112, 113, 114, 115, 116, 117, 118, 119, 120, 121, 122, 123, 124, 125, 126, 127, 128, 129, 130], \"colorbar\": {\"title\": {\"text\": \"#Trials\"}, \"x\": 1.0, \"xpad\": 40}, \"colorscale\": [[0.0, \"rgb(247,251,255)\"], [0.125, \"rgb(222,235,247)\"], [0.25, \"rgb(198,219,239)\"], [0.375, \"rgb(158,202,225)\"], [0.5, \"rgb(107,174,214)\"], [0.625, \"rgb(66,146,198)\"], [0.75, \"rgb(33,113,181)\"], [0.875, \"rgb(8,81,156)\"], [1.0, \"rgb(8,48,107)\"]], \"line\": {\"color\": \"Grey\", \"width\": 0.5}, \"showscale\": false}, \"mode\": \"markers\", \"showlegend\": false, \"type\": \"scatter\", \"x\": [2500, 700, 2300, 100, 300, 500, 2500, 2300, 100, 1700, 1100, 1700, 900, 1700, 500, 1300, 1500, 1300, 700, 1100, 2100, 2100, 1900, 1900, 1300, 900, 1500, 500, 1500, 2500, 1900, 2300, 2100, 2300, 2300, 300, 2500, 900, 2300, 700, 1100, 1900, 2100, 2500, 100, 1900, 1700, 1700, 1300, 1700, 1500, 2300, 2100, 1900, 2300, 2500, 500, 300, 300, 100, 300, 1300, 500, 2300, 900, 1700, 1500, 1900, 2100, 1900, 700, 700, 700, 700, 500, 700, 500, 500, 900, 700, 700, 700, 700, 700, 900, 1100, 300, 1100, 1100, 1100, 1100, 900, 1100, 1100, 1100, 1100, 1300, 900, 1100, 900, 1300, 1100, 1100, 900, 1100, 1300, 1100, 900, 900, 1100, 1100, 1100, 1100, 1300, 900, 1300, 900, 900, 1100, 1300, 1500, 1100, 1100, 1100, 1300, 900, 700, 1100, 900, 1100, 700], \"xaxis\": \"x6\", \"y\": [0.7669172932330827, 0.7647058823529411, 0.7777777777777778, 0.7428571428571428, 0.7445255474452556, 0.7794117647058824, 0.748201438848921, 0.7313432835820897, 0.7391304347826085, 0.7445255474452556, 0.7659574468085107, 0.7536231884057971, 0.7656250000000001, 0.7669172932330827, 0.75, 0.7786259541984734, 0.7681159420289855, 0.7299270072992701, 0.7611940298507462, 0.748201438848921, 0.7246376811594203, 0.7716535433070866, 0.7777777777777778, 0.7538461538461538, 0.7571428571428571, 0.7596899224806202, 0.7596899224806202, 0.7605633802816901, 0.7555555555555555, 0.7462686567164178, 0.7518796992481203, 0.7777777777777778, 0.75, 0.7462686567164178, 0.7596899224806202, 0.7727272727272727, 0.7611940298507462, 0.7611940298507462, 0.7727272727272727, 0.7571428571428571, 0.7575757575757576, 0.7777777777777778, 0.7445255474452556, 0.75, 0.7445255474452556, 0.75, 0.7819548872180452, 0.7669172932330827, 0.7445255474452556, 0.7575757575757576, 0.7575757575757576, 0.7777777777777778, 0.7538461538461538, 0.7633587786259542, 0.759124087591241, 0.7538461538461538, 0.7596899224806202, 0.7786259541984734, 0.7538461538461538, 0.7445255474452556, 0.7656250000000001, 0.75, 0.7384615384615385, 0.7716535433070866, 0.7538461538461538, 0.7656250000000001, 0.7596899224806202, 0.7692307692307692, 0.7575757575757576, 0.7575757575757576, 0.7794117647058824, 0.7681159420289855, 0.785185185185185, 0.785185185185185, 0.7703703703703704, 0.7703703703703704, 0.7786259541984734, 0.7692307692307692, 0.7761194029850746, 0.7786259541984734, 0.7786259541984734, 0.7786259541984734, 0.7761194029850746, 0.7910447761194029, 0.7375886524822696, 0.787878787878788, 0.7761194029850746, 0.7819548872180452, 0.7819548872180452, 0.7703703703703704, 0.7761194029850746, 0.7703703703703704, 0.7669172932330827, 0.7819548872180452, 0.7819548872180452, 0.7703703703703704, 0.7703703703703704, 0.7819548872180452, 0.7761194029850746, 0.7647058823529411, 0.7727272727272727, 0.7819548872180452, 0.7647058823529411, 0.7761194029850746, 0.7819548872180452, 0.7703703703703704, 0.7669172932330827, 0.7428571428571428, 0.7445255474452556, 0.7299270072992701, 0.7727272727272727, 0.7819548872180452, 0.7727272727272727, 0.7647058823529411, 0.759124087591241, 0.7703703703703704, 0.7559055118110236, 0.7669172932330827, 0.7761194029850746, 0.7761194029850746, 0.7786259541984734, 0.7761194029850746, 0.7647058823529411, 0.7819548872180452, 0.7751937984496124, 0.7727272727272727, 0.7647058823529411, 0.7659574468085107, 0.7375886524822696, 0.7703703703703704, 0.7819548872180452], \"yaxis\": \"y6\"}, {\"marker\": {\"color\": [0, 1, 2, 3, 4, 5, 6, 7, 8, 9, 10, 11, 12, 13, 14, 15, 16, 17, 18, 19, 20, 21, 22, 23, 24, 25, 26, 27, 28, 29, 30, 31, 32, 33, 34, 35, 36, 37, 38, 39, 40, 41, 42, 43, 44, 45, 46, 47, 48, 49, 50, 51, 52, 53, 54, 55, 56, 57, 58, 59, 60, 61, 62, 63, 64, 65, 66, 67, 68, 69, 70, 71, 72, 73, 74, 75, 76, 77, 78, 79, 80, 81, 82, 83, 84, 85, 86, 87, 88, 89, 90, 91, 92, 93, 94, 95, 96, 97, 98, 99, 100, 101, 102, 103, 104, 105, 106, 107, 108, 109, 110, 111, 112, 113, 114, 115, 116, 117, 118, 119, 120, 121, 122, 123, 124, 125, 126, 127, 128, 129, 130], \"colorbar\": {\"title\": {\"text\": \"#Trials\"}, \"x\": 1.0, \"xpad\": 40}, \"colorscale\": [[0.0, \"rgb(247,251,255)\"], [0.125, \"rgb(222,235,247)\"], [0.25, \"rgb(198,219,239)\"], [0.375, \"rgb(158,202,225)\"], [0.5, \"rgb(107,174,214)\"], [0.625, \"rgb(66,146,198)\"], [0.75, \"rgb(33,113,181)\"], [0.875, \"rgb(8,81,156)\"], [1.0, \"rgb(8,48,107)\"]], \"line\": {\"color\": \"Grey\", \"width\": 0.5}, \"showscale\": false}, \"mode\": \"markers\", \"showlegend\": false, \"type\": \"scatter\", \"x\": [3.501, 2.201, 4.7010000000000005, 6.301000000000001, 19.501, 3.601, 11.901, 16.201, 9.801, 1.701, 8.301, 5.501, 0.401, 5.601000000000001, 12.501, 4.601000000000001, 7.601000000000001, 0.001, 2.9010000000000002, 11.201, 14.401, 3.9010000000000002, 4.7010000000000005, 7.101000000000001, 9.301, 1.901, 4.2010000000000005, 8.401, 6.101000000000001, 3.801, 0.7010000000000001, 5.001, 2.9010000000000002, 4.601000000000001, 6.501, 1.901, 5.401000000000001, 3.001, 1.301, 7.501, 11.001, 4.401000000000001, 18.901000000000003, 5.2010000000000005, 6.501, 3.201, 8.701, 8.301, 13.701, 8.901, 0.901, 5.401000000000001, 2.601, 5.901000000000001, 10.101, 7.001, 3.601, 2.4010000000000002, 2.4010000000000002, 4.401000000000001, 0.001, 4.101000000000001, 1.401, 5.101000000000001, 3.601, 4.7010000000000005, 2.201, 5.7010000000000005, 7.401000000000001, 6.501, 3.601, 3.9010000000000002, 3.101, 3.301, 3.201, 1.901, 2.601, 0.801, 1.401, 2.4010000000000002, 2.801, 2.9010000000000002, 2.9010000000000002, 3.4010000000000002, 15.901, 3.501, 3.4010000000000002, 3.9010000000000002, 4.101000000000001, 3.801, 4.801000000000001, 3.4010000000000002, 1.801, 4.101000000000001, 4.401000000000001, 4.2010000000000005, 6.001, 4.2010000000000005, 5.001, 4.2010000000000005, 5.501, 3.801, 4.501, 4.001, 3.201, 3.201, 2.201, 12.801, 10.401, 4.801000000000001, 3.601, 4.301, 4.301, 6.901000000000001, 5.301000000000001, 3.001, 3.801, 8.001, 2.601, 3.301, 1.201, 4.501, 5.001, 3.9010000000000002, 2.001, 3.9010000000000002, 3.301, 9.100999999999999, 19.801000000000002, 5.801000000000001, 4.401000000000001], \"xaxis\": \"x7\", \"y\": [0.7669172932330827, 0.7647058823529411, 0.7777777777777778, 0.7428571428571428, 0.7445255474452556, 0.7794117647058824, 0.748201438848921, 0.7313432835820897, 0.7391304347826085, 0.7445255474452556, 0.7659574468085107, 0.7536231884057971, 0.7656250000000001, 0.7669172932330827, 0.75, 0.7786259541984734, 0.7681159420289855, 0.7299270072992701, 0.7611940298507462, 0.748201438848921, 0.7246376811594203, 0.7716535433070866, 0.7777777777777778, 0.7538461538461538, 0.7571428571428571, 0.7596899224806202, 0.7596899224806202, 0.7605633802816901, 0.7555555555555555, 0.7462686567164178, 0.7518796992481203, 0.7777777777777778, 0.75, 0.7462686567164178, 0.7596899224806202, 0.7727272727272727, 0.7611940298507462, 0.7611940298507462, 0.7727272727272727, 0.7571428571428571, 0.7575757575757576, 0.7777777777777778, 0.7445255474452556, 0.75, 0.7445255474452556, 0.75, 0.7819548872180452, 0.7669172932330827, 0.7445255474452556, 0.7575757575757576, 0.7575757575757576, 0.7777777777777778, 0.7538461538461538, 0.7633587786259542, 0.759124087591241, 0.7538461538461538, 0.7596899224806202, 0.7786259541984734, 0.7538461538461538, 0.7445255474452556, 0.7656250000000001, 0.75, 0.7384615384615385, 0.7716535433070866, 0.7538461538461538, 0.7656250000000001, 0.7596899224806202, 0.7692307692307692, 0.7575757575757576, 0.7575757575757576, 0.7794117647058824, 0.7681159420289855, 0.785185185185185, 0.785185185185185, 0.7703703703703704, 0.7703703703703704, 0.7786259541984734, 0.7692307692307692, 0.7761194029850746, 0.7786259541984734, 0.7786259541984734, 0.7786259541984734, 0.7761194029850746, 0.7910447761194029, 0.7375886524822696, 0.787878787878788, 0.7761194029850746, 0.7819548872180452, 0.7819548872180452, 0.7703703703703704, 0.7761194029850746, 0.7703703703703704, 0.7669172932330827, 0.7819548872180452, 0.7819548872180452, 0.7703703703703704, 0.7703703703703704, 0.7819548872180452, 0.7761194029850746, 0.7647058823529411, 0.7727272727272727, 0.7819548872180452, 0.7647058823529411, 0.7761194029850746, 0.7819548872180452, 0.7703703703703704, 0.7669172932330827, 0.7428571428571428, 0.7445255474452556, 0.7299270072992701, 0.7727272727272727, 0.7819548872180452, 0.7727272727272727, 0.7647058823529411, 0.759124087591241, 0.7703703703703704, 0.7559055118110236, 0.7669172932330827, 0.7761194029850746, 0.7761194029850746, 0.7786259541984734, 0.7761194029850746, 0.7647058823529411, 0.7819548872180452, 0.7751937984496124, 0.7727272727272727, 0.7647058823529411, 0.7659574468085107, 0.7375886524822696, 0.7703703703703704, 0.7819548872180452], \"yaxis\": \"y7\"}, {\"marker\": {\"color\": [0, 1, 2, 3, 4, 5, 6, 7, 8, 9, 10, 11, 12, 13, 14, 15, 16, 17, 18, 19, 20, 21, 22, 23, 24, 25, 26, 27, 28, 29, 30, 31, 32, 33, 34, 35, 36, 37, 38, 39, 40, 41, 42, 43, 44, 45, 46, 47, 48, 49, 50, 51, 52, 53, 54, 55, 56, 57, 58, 59, 60, 61, 62, 63, 64, 65, 66, 67, 68, 69, 70, 71, 72, 73, 74, 75, 76, 77, 78, 79, 80, 81, 82, 83, 84, 85, 86, 87, 88, 89, 90, 91, 92, 93, 94, 95, 96, 97, 98, 99, 100, 101, 102, 103, 104, 105, 106, 107, 108, 109, 110, 111, 112, 113, 114, 115, 116, 117, 118, 119, 120, 121, 122, 123, 124, 125, 126, 127, 128, 129, 130], \"colorbar\": {\"title\": {\"text\": \"#Trials\"}, \"x\": 1.0, \"xpad\": 40}, \"colorscale\": [[0.0, \"rgb(247,251,255)\"], [0.125, \"rgb(222,235,247)\"], [0.25, \"rgb(198,219,239)\"], [0.375, \"rgb(158,202,225)\"], [0.5, \"rgb(107,174,214)\"], [0.625, \"rgb(66,146,198)\"], [0.75, \"rgb(33,113,181)\"], [0.875, \"rgb(8,81,156)\"], [1.0, \"rgb(8,48,107)\"]], \"line\": {\"color\": \"Grey\", \"width\": 0.5}, \"showscale\": false}, \"mode\": \"markers\", \"showlegend\": false, \"type\": \"scatter\", \"x\": [3.201, 11.901, 7.501, 19.801000000000002, 8.501, 13.401, 1.101, 8.600999999999999, 14.401, 1.001, 17.201, 6.501, 13.101, 5.301000000000001, 10.801, 14.601, 15.501, 17.001, 19.701000000000004, 12.801, 10.501, 7.901000000000001, 14.501, 15.001, 5.301000000000001, 16.501, 13.701, 18.001, 11.601, 4.2010000000000005, 15.501, 9.501, 9.901, 12.201, 9.501, 7.2010000000000005, 11.701, 2.4010000000000002, 8.501, 6.301000000000001, 9.100999999999999, 13.601, 13.701, 14.501, 11.001, 15.901, 18.201, 17.701, 18.901000000000003, 20.001, 16.201, 18.701, 18.001, 19.301000000000002, 18.701, 17.101000000000003, 6.901000000000001, 14.701, 12.601, 13.501, 14.901, 16.501, 11.001, 7.7010000000000005, 10.201, 14.301, 13.101, 15.201, 18.401000000000003, 14.201, 12.201, 12.001, 12.801, 12.601, 12.401, 11.501, 13.001, 12.901, 14.001, 13.401, 11.301, 11.401, 13.101, 11.101, 11.201, 10.101, 12.001, 10.701, 10.701, 9.201, 10.401, 9.701, 10.501, 8.201, 8.901, 8.801, 8.201, 9.901, 8.301, 6.101000000000001, 9.901, 10.701, 9.001, 10.601, 9.401, 9.401, 10.001, 10.701, 7.601000000000001, 8.701, 8.201, 9.601, 10.101, 9.501, 7.101000000000001, 11.701, 9.100999999999999, 11.001, 10.701, 9.901, 8.100999999999999, 10.301, 9.701, 8.701, 8.600999999999999, 7.7010000000000005, 11.701, 9.301, 12.601, 1.401, 11.001], \"xaxis\": \"x8\", \"y\": [0.7669172932330827, 0.7647058823529411, 0.7777777777777778, 0.7428571428571428, 0.7445255474452556, 0.7794117647058824, 0.748201438848921, 0.7313432835820897, 0.7391304347826085, 0.7445255474452556, 0.7659574468085107, 0.7536231884057971, 0.7656250000000001, 0.7669172932330827, 0.75, 0.7786259541984734, 0.7681159420289855, 0.7299270072992701, 0.7611940298507462, 0.748201438848921, 0.7246376811594203, 0.7716535433070866, 0.7777777777777778, 0.7538461538461538, 0.7571428571428571, 0.7596899224806202, 0.7596899224806202, 0.7605633802816901, 0.7555555555555555, 0.7462686567164178, 0.7518796992481203, 0.7777777777777778, 0.75, 0.7462686567164178, 0.7596899224806202, 0.7727272727272727, 0.7611940298507462, 0.7611940298507462, 0.7727272727272727, 0.7571428571428571, 0.7575757575757576, 0.7777777777777778, 0.7445255474452556, 0.75, 0.7445255474452556, 0.75, 0.7819548872180452, 0.7669172932330827, 0.7445255474452556, 0.7575757575757576, 0.7575757575757576, 0.7777777777777778, 0.7538461538461538, 0.7633587786259542, 0.759124087591241, 0.7538461538461538, 0.7596899224806202, 0.7786259541984734, 0.7538461538461538, 0.7445255474452556, 0.7656250000000001, 0.75, 0.7384615384615385, 0.7716535433070866, 0.7538461538461538, 0.7656250000000001, 0.7596899224806202, 0.7692307692307692, 0.7575757575757576, 0.7575757575757576, 0.7794117647058824, 0.7681159420289855, 0.785185185185185, 0.785185185185185, 0.7703703703703704, 0.7703703703703704, 0.7786259541984734, 0.7692307692307692, 0.7761194029850746, 0.7786259541984734, 0.7786259541984734, 0.7786259541984734, 0.7761194029850746, 0.7910447761194029, 0.7375886524822696, 0.787878787878788, 0.7761194029850746, 0.7819548872180452, 0.7819548872180452, 0.7703703703703704, 0.7761194029850746, 0.7703703703703704, 0.7669172932330827, 0.7819548872180452, 0.7819548872180452, 0.7703703703703704, 0.7703703703703704, 0.7819548872180452, 0.7761194029850746, 0.7647058823529411, 0.7727272727272727, 0.7819548872180452, 0.7647058823529411, 0.7761194029850746, 0.7819548872180452, 0.7703703703703704, 0.7669172932330827, 0.7428571428571428, 0.7445255474452556, 0.7299270072992701, 0.7727272727272727, 0.7819548872180452, 0.7727272727272727, 0.7647058823529411, 0.759124087591241, 0.7703703703703704, 0.7559055118110236, 0.7669172932330827, 0.7761194029850746, 0.7761194029850746, 0.7786259541984734, 0.7761194029850746, 0.7647058823529411, 0.7819548872180452, 0.7751937984496124, 0.7727272727272727, 0.7647058823529411, 0.7659574468085107, 0.7375886524822696, 0.7703703703703704, 0.7819548872180452], \"yaxis\": \"y8\"}, {\"marker\": {\"color\": [0, 1, 2, 3, 4, 5, 6, 7, 8, 9, 10, 11, 12, 13, 14, 15, 16, 17, 18, 19, 20, 21, 22, 23, 24, 25, 26, 27, 28, 29, 30, 31, 32, 33, 34, 35, 36, 37, 38, 39, 40, 41, 42, 43, 44, 45, 46, 47, 48, 49, 50, 51, 52, 53, 54, 55, 56, 57, 58, 59, 60, 61, 62, 63, 64, 65, 66, 67, 68, 69, 70, 71, 72, 73, 74, 75, 76, 77, 78, 79, 80, 81, 82, 83, 84, 85, 86, 87, 88, 89, 90, 91, 92, 93, 94, 95, 96, 97, 98, 99, 100, 101, 102, 103, 104, 105, 106, 107, 108, 109, 110, 111, 112, 113, 114, 115, 116, 117, 118, 119, 120, 121, 122, 123, 124, 125, 126, 127, 128, 129, 130], \"colorbar\": {\"title\": {\"text\": \"#Trials\"}, \"x\": 1.0, \"xpad\": 40}, \"colorscale\": [[0.0, \"rgb(247,251,255)\"], [0.125, \"rgb(222,235,247)\"], [0.25, \"rgb(198,219,239)\"], [0.375, \"rgb(158,202,225)\"], [0.5, \"rgb(107,174,214)\"], [0.625, \"rgb(66,146,198)\"], [0.75, \"rgb(33,113,181)\"], [0.875, \"rgb(8,81,156)\"], [1.0, \"rgb(8,48,107)\"]], \"line\": {\"color\": \"Grey\", \"width\": 0.5}, \"showscale\": false}, \"mode\": \"markers\", \"showlegend\": false, \"type\": \"scatter\", \"x\": [0.6, 0.7, 0.8, 0.5, 0.9, 0.9, 0.5, 0.5, 0.8, 0.7, 0.9, 0.8, 0.8, 0.9, 0.8, 0.9, 0.9, 0.6, 0.9, 0.7, 0.9, 0.8, 0.8, 0.9, 0.8, 0.9, 0.8, 0.9, 0.8, 0.7, 0.6, 0.8, 0.9, 0.7, 0.8, 0.9, 0.7, 0.8, 0.9, 0.6, 0.8, 0.8, 0.8, 0.9, 0.8, 0.7, 0.9, 0.9, 0.9, 0.9, 0.9, 0.8, 0.5, 0.8, 0.9, 0.9, 0.8, 0.7, 0.7, 0.7, 0.6, 0.7, 0.9, 0.8, 0.8, 0.7, 0.9, 0.8, 0.7, 0.8, 0.9, 0.9, 0.9, 0.9, 0.9, 0.9, 0.9, 0.9, 0.9, 0.9, 0.9, 0.9, 0.9, 0.9, 0.9, 0.9, 0.9, 0.9, 0.9, 0.9, 0.9, 0.9, 0.9, 0.9, 0.9, 0.9, 0.9, 0.9, 0.9, 0.9, 0.9, 0.9, 0.9, 0.9, 0.9, 0.9, 0.9, 0.9, 0.9, 0.5, 0.9, 0.9, 0.9, 0.9, 0.9, 0.9, 0.9, 0.9, 0.9, 0.9, 0.9, 0.9, 0.9, 0.9, 0.9, 0.9, 0.9, 0.9, 0.9, 0.9, 0.9], \"xaxis\": \"x9\", \"y\": [0.7669172932330827, 0.7647058823529411, 0.7777777777777778, 0.7428571428571428, 0.7445255474452556, 0.7794117647058824, 0.748201438848921, 0.7313432835820897, 0.7391304347826085, 0.7445255474452556, 0.7659574468085107, 0.7536231884057971, 0.7656250000000001, 0.7669172932330827, 0.75, 0.7786259541984734, 0.7681159420289855, 0.7299270072992701, 0.7611940298507462, 0.748201438848921, 0.7246376811594203, 0.7716535433070866, 0.7777777777777778, 0.7538461538461538, 0.7571428571428571, 0.7596899224806202, 0.7596899224806202, 0.7605633802816901, 0.7555555555555555, 0.7462686567164178, 0.7518796992481203, 0.7777777777777778, 0.75, 0.7462686567164178, 0.7596899224806202, 0.7727272727272727, 0.7611940298507462, 0.7611940298507462, 0.7727272727272727, 0.7571428571428571, 0.7575757575757576, 0.7777777777777778, 0.7445255474452556, 0.75, 0.7445255474452556, 0.75, 0.7819548872180452, 0.7669172932330827, 0.7445255474452556, 0.7575757575757576, 0.7575757575757576, 0.7777777777777778, 0.7538461538461538, 0.7633587786259542, 0.759124087591241, 0.7538461538461538, 0.7596899224806202, 0.7786259541984734, 0.7538461538461538, 0.7445255474452556, 0.7656250000000001, 0.75, 0.7384615384615385, 0.7716535433070866, 0.7538461538461538, 0.7656250000000001, 0.7596899224806202, 0.7692307692307692, 0.7575757575757576, 0.7575757575757576, 0.7794117647058824, 0.7681159420289855, 0.785185185185185, 0.785185185185185, 0.7703703703703704, 0.7703703703703704, 0.7786259541984734, 0.7692307692307692, 0.7761194029850746, 0.7786259541984734, 0.7786259541984734, 0.7786259541984734, 0.7761194029850746, 0.7910447761194029, 0.7375886524822696, 0.787878787878788, 0.7761194029850746, 0.7819548872180452, 0.7819548872180452, 0.7703703703703704, 0.7761194029850746, 0.7703703703703704, 0.7669172932330827, 0.7819548872180452, 0.7819548872180452, 0.7703703703703704, 0.7703703703703704, 0.7819548872180452, 0.7761194029850746, 0.7647058823529411, 0.7727272727272727, 0.7819548872180452, 0.7647058823529411, 0.7761194029850746, 0.7819548872180452, 0.7703703703703704, 0.7669172932330827, 0.7428571428571428, 0.7445255474452556, 0.7299270072992701, 0.7727272727272727, 0.7819548872180452, 0.7727272727272727, 0.7647058823529411, 0.759124087591241, 0.7703703703703704, 0.7559055118110236, 0.7669172932330827, 0.7761194029850746, 0.7761194029850746, 0.7786259541984734, 0.7761194029850746, 0.7647058823529411, 0.7819548872180452, 0.7751937984496124, 0.7727272727272727, 0.7647058823529411, 0.7659574468085107, 0.7375886524822696, 0.7703703703703704, 0.7819548872180452], \"yaxis\": \"y9\"}],\n",
              "                        {\"template\": {\"data\": {\"bar\": [{\"error_x\": {\"color\": \"#2a3f5f\"}, \"error_y\": {\"color\": \"#2a3f5f\"}, \"marker\": {\"line\": {\"color\": \"#E5ECF6\", \"width\": 0.5}}, \"type\": \"bar\"}], \"barpolar\": [{\"marker\": {\"line\": {\"color\": \"#E5ECF6\", \"width\": 0.5}}, \"type\": \"barpolar\"}], \"carpet\": [{\"aaxis\": {\"endlinecolor\": \"#2a3f5f\", \"gridcolor\": \"white\", \"linecolor\": \"white\", \"minorgridcolor\": \"white\", \"startlinecolor\": \"#2a3f5f\"}, \"baxis\": {\"endlinecolor\": \"#2a3f5f\", \"gridcolor\": \"white\", \"linecolor\": \"white\", \"minorgridcolor\": \"white\", \"startlinecolor\": \"#2a3f5f\"}, \"type\": \"carpet\"}], \"choropleth\": [{\"colorbar\": {\"outlinewidth\": 0, \"ticks\": \"\"}, \"type\": \"choropleth\"}], \"contour\": [{\"colorbar\": {\"outlinewidth\": 0, \"ticks\": \"\"}, \"colorscale\": [[0.0, \"#0d0887\"], [0.1111111111111111, \"#46039f\"], [0.2222222222222222, \"#7201a8\"], [0.3333333333333333, \"#9c179e\"], [0.4444444444444444, \"#bd3786\"], [0.5555555555555556, \"#d8576b\"], [0.6666666666666666, \"#ed7953\"], [0.7777777777777778, \"#fb9f3a\"], [0.8888888888888888, \"#fdca26\"], [1.0, \"#f0f921\"]], \"type\": \"contour\"}], \"contourcarpet\": [{\"colorbar\": {\"outlinewidth\": 0, \"ticks\": \"\"}, \"type\": \"contourcarpet\"}], \"heatmap\": [{\"colorbar\": {\"outlinewidth\": 0, \"ticks\": \"\"}, \"colorscale\": [[0.0, \"#0d0887\"], [0.1111111111111111, \"#46039f\"], [0.2222222222222222, \"#7201a8\"], [0.3333333333333333, \"#9c179e\"], [0.4444444444444444, \"#bd3786\"], [0.5555555555555556, \"#d8576b\"], [0.6666666666666666, \"#ed7953\"], [0.7777777777777778, \"#fb9f3a\"], [0.8888888888888888, \"#fdca26\"], [1.0, \"#f0f921\"]], \"type\": \"heatmap\"}], \"heatmapgl\": [{\"colorbar\": {\"outlinewidth\": 0, \"ticks\": \"\"}, \"colorscale\": [[0.0, \"#0d0887\"], [0.1111111111111111, \"#46039f\"], [0.2222222222222222, \"#7201a8\"], [0.3333333333333333, \"#9c179e\"], [0.4444444444444444, \"#bd3786\"], [0.5555555555555556, \"#d8576b\"], [0.6666666666666666, \"#ed7953\"], [0.7777777777777778, \"#fb9f3a\"], [0.8888888888888888, \"#fdca26\"], [1.0, \"#f0f921\"]], \"type\": \"heatmapgl\"}], \"histogram\": [{\"marker\": {\"colorbar\": {\"outlinewidth\": 0, \"ticks\": \"\"}}, \"type\": \"histogram\"}], \"histogram2d\": [{\"colorbar\": {\"outlinewidth\": 0, \"ticks\": \"\"}, \"colorscale\": [[0.0, \"#0d0887\"], [0.1111111111111111, \"#46039f\"], [0.2222222222222222, \"#7201a8\"], [0.3333333333333333, \"#9c179e\"], [0.4444444444444444, \"#bd3786\"], [0.5555555555555556, \"#d8576b\"], [0.6666666666666666, \"#ed7953\"], [0.7777777777777778, \"#fb9f3a\"], [0.8888888888888888, \"#fdca26\"], [1.0, \"#f0f921\"]], \"type\": \"histogram2d\"}], \"histogram2dcontour\": [{\"colorbar\": {\"outlinewidth\": 0, \"ticks\": \"\"}, \"colorscale\": [[0.0, \"#0d0887\"], [0.1111111111111111, \"#46039f\"], [0.2222222222222222, \"#7201a8\"], [0.3333333333333333, \"#9c179e\"], [0.4444444444444444, \"#bd3786\"], [0.5555555555555556, \"#d8576b\"], [0.6666666666666666, \"#ed7953\"], [0.7777777777777778, \"#fb9f3a\"], [0.8888888888888888, \"#fdca26\"], [1.0, \"#f0f921\"]], \"type\": \"histogram2dcontour\"}], \"mesh3d\": [{\"colorbar\": {\"outlinewidth\": 0, \"ticks\": \"\"}, \"type\": \"mesh3d\"}], \"parcoords\": [{\"line\": {\"colorbar\": {\"outlinewidth\": 0, \"ticks\": \"\"}}, \"type\": \"parcoords\"}], \"pie\": [{\"automargin\": true, \"type\": \"pie\"}], \"scatter\": [{\"marker\": {\"colorbar\": {\"outlinewidth\": 0, \"ticks\": \"\"}}, \"type\": \"scatter\"}], \"scatter3d\": [{\"line\": {\"colorbar\": {\"outlinewidth\": 0, \"ticks\": \"\"}}, \"marker\": {\"colorbar\": {\"outlinewidth\": 0, \"ticks\": \"\"}}, \"type\": \"scatter3d\"}], \"scattercarpet\": [{\"marker\": {\"colorbar\": {\"outlinewidth\": 0, \"ticks\": \"\"}}, \"type\": \"scattercarpet\"}], \"scattergeo\": [{\"marker\": {\"colorbar\": {\"outlinewidth\": 0, \"ticks\": \"\"}}, \"type\": \"scattergeo\"}], \"scattergl\": [{\"marker\": {\"colorbar\": {\"outlinewidth\": 0, \"ticks\": \"\"}}, \"type\": \"scattergl\"}], \"scattermapbox\": [{\"marker\": {\"colorbar\": {\"outlinewidth\": 0, \"ticks\": \"\"}}, \"type\": \"scattermapbox\"}], \"scatterpolar\": [{\"marker\": {\"colorbar\": {\"outlinewidth\": 0, \"ticks\": \"\"}}, \"type\": \"scatterpolar\"}], \"scatterpolargl\": [{\"marker\": {\"colorbar\": {\"outlinewidth\": 0, \"ticks\": \"\"}}, \"type\": \"scatterpolargl\"}], \"scatterternary\": [{\"marker\": {\"colorbar\": {\"outlinewidth\": 0, \"ticks\": \"\"}}, \"type\": \"scatterternary\"}], \"surface\": [{\"colorbar\": {\"outlinewidth\": 0, \"ticks\": \"\"}, \"colorscale\": [[0.0, \"#0d0887\"], [0.1111111111111111, \"#46039f\"], [0.2222222222222222, \"#7201a8\"], [0.3333333333333333, \"#9c179e\"], [0.4444444444444444, \"#bd3786\"], [0.5555555555555556, \"#d8576b\"], [0.6666666666666666, \"#ed7953\"], [0.7777777777777778, \"#fb9f3a\"], [0.8888888888888888, \"#fdca26\"], [1.0, \"#f0f921\"]], \"type\": \"surface\"}], \"table\": [{\"cells\": {\"fill\": {\"color\": \"#EBF0F8\"}, \"line\": {\"color\": \"white\"}}, \"header\": {\"fill\": {\"color\": \"#C8D4E3\"}, \"line\": {\"color\": \"white\"}}, \"type\": \"table\"}]}, \"layout\": {\"annotationdefaults\": {\"arrowcolor\": \"#2a3f5f\", \"arrowhead\": 0, \"arrowwidth\": 1}, \"coloraxis\": {\"colorbar\": {\"outlinewidth\": 0, \"ticks\": \"\"}}, \"colorscale\": {\"diverging\": [[0, \"#8e0152\"], [0.1, \"#c51b7d\"], [0.2, \"#de77ae\"], [0.3, \"#f1b6da\"], [0.4, \"#fde0ef\"], [0.5, \"#f7f7f7\"], [0.6, \"#e6f5d0\"], [0.7, \"#b8e186\"], [0.8, \"#7fbc41\"], [0.9, \"#4d9221\"], [1, \"#276419\"]], \"sequential\": [[0.0, \"#0d0887\"], [0.1111111111111111, \"#46039f\"], [0.2222222222222222, \"#7201a8\"], [0.3333333333333333, \"#9c179e\"], [0.4444444444444444, \"#bd3786\"], [0.5555555555555556, \"#d8576b\"], [0.6666666666666666, \"#ed7953\"], [0.7777777777777778, \"#fb9f3a\"], [0.8888888888888888, \"#fdca26\"], [1.0, \"#f0f921\"]], \"sequentialminus\": [[0.0, \"#0d0887\"], [0.1111111111111111, \"#46039f\"], [0.2222222222222222, \"#7201a8\"], [0.3333333333333333, \"#9c179e\"], [0.4444444444444444, \"#bd3786\"], [0.5555555555555556, \"#d8576b\"], [0.6666666666666666, \"#ed7953\"], [0.7777777777777778, \"#fb9f3a\"], [0.8888888888888888, \"#fdca26\"], [1.0, \"#f0f921\"]]}, \"colorway\": [\"#636efa\", \"#EF553B\", \"#00cc96\", \"#ab63fa\", \"#FFA15A\", \"#19d3f3\", \"#FF6692\", \"#B6E880\", \"#FF97FF\", \"#FECB52\"], \"font\": {\"color\": \"#2a3f5f\"}, \"geo\": {\"bgcolor\": \"white\", \"lakecolor\": \"white\", \"landcolor\": \"#E5ECF6\", \"showlakes\": true, \"showland\": true, \"subunitcolor\": \"white\"}, \"hoverlabel\": {\"align\": \"left\"}, \"hovermode\": \"closest\", \"mapbox\": {\"style\": \"light\"}, \"paper_bgcolor\": \"white\", \"plot_bgcolor\": \"#E5ECF6\", \"polar\": {\"angularaxis\": {\"gridcolor\": \"white\", \"linecolor\": \"white\", \"ticks\": \"\"}, \"bgcolor\": \"#E5ECF6\", \"radialaxis\": {\"gridcolor\": \"white\", \"linecolor\": \"white\", \"ticks\": \"\"}}, \"scene\": {\"xaxis\": {\"backgroundcolor\": \"#E5ECF6\", \"gridcolor\": \"white\", \"gridwidth\": 2, \"linecolor\": \"white\", \"showbackground\": true, \"ticks\": \"\", \"zerolinecolor\": \"white\"}, \"yaxis\": {\"backgroundcolor\": \"#E5ECF6\", \"gridcolor\": \"white\", \"gridwidth\": 2, \"linecolor\": \"white\", \"showbackground\": true, \"ticks\": \"\", \"zerolinecolor\": \"white\"}, \"zaxis\": {\"backgroundcolor\": \"#E5ECF6\", \"gridcolor\": \"white\", \"gridwidth\": 2, \"linecolor\": \"white\", \"showbackground\": true, \"ticks\": \"\", \"zerolinecolor\": \"white\"}}, \"shapedefaults\": {\"line\": {\"color\": \"#2a3f5f\"}}, \"ternary\": {\"aaxis\": {\"gridcolor\": \"white\", \"linecolor\": \"white\", \"ticks\": \"\"}, \"baxis\": {\"gridcolor\": \"white\", \"linecolor\": \"white\", \"ticks\": \"\"}, \"bgcolor\": \"#E5ECF6\", \"caxis\": {\"gridcolor\": \"white\", \"linecolor\": \"white\", \"ticks\": \"\"}}, \"title\": {\"x\": 0.05}, \"xaxis\": {\"automargin\": true, \"gridcolor\": \"white\", \"linecolor\": \"white\", \"ticks\": \"\", \"title\": {\"standoff\": 15}, \"zerolinecolor\": \"white\", \"zerolinewidth\": 2}, \"yaxis\": {\"automargin\": true, \"gridcolor\": \"white\", \"linecolor\": \"white\", \"ticks\": \"\", \"title\": {\"standoff\": 15}, \"zerolinecolor\": \"white\", \"zerolinewidth\": 2}}}, \"title\": {\"text\": \"Slice Plot\"}, \"width\": 2700, \"xaxis\": {\"anchor\": \"y\", \"domain\": [0.0, 0.09135802469135802], \"title\": {\"text\": \"colsample_by_tree\"}}, \"xaxis2\": {\"anchor\": \"y2\", \"domain\": [0.11358024691358025, 0.20493827160493827], \"title\": {\"text\": \"eta\"}, \"type\": \"log\"}, \"xaxis3\": {\"anchor\": \"y3\", \"domain\": [0.2271604938271605, 0.31851851851851853], \"title\": {\"text\": \"gamma\"}, \"type\": \"log\"}, \"xaxis4\": {\"anchor\": \"y4\", \"domain\": [0.34074074074074073, 0.43209876543209874], \"title\": {\"text\": \"max_depth\"}}, \"xaxis5\": {\"anchor\": \"y5\", \"domain\": [0.454320987654321, 0.5456790123456791], \"title\": {\"text\": \"min_child_weight\"}}, \"xaxis6\": {\"anchor\": \"y6\", \"domain\": [0.5679012345679012, 0.6592592592592592], \"title\": {\"text\": \"n_estimator\"}}, \"xaxis7\": {\"anchor\": \"y7\", \"domain\": [0.6814814814814815, 0.7728395061728395], \"title\": {\"text\": \"reg_alpha\"}}, \"xaxis8\": {\"anchor\": \"y8\", \"domain\": [0.7950617283950617, 0.8864197530864197], \"title\": {\"text\": \"reg_lambda\"}}, \"xaxis9\": {\"anchor\": \"y9\", \"domain\": [0.908641975308642, 1.0], \"title\": {\"text\": \"subsample\"}}, \"yaxis\": {\"anchor\": \"x\", \"domain\": [0.0, 1.0], \"title\": {\"text\": \"Objective Value\"}}, \"yaxis2\": {\"anchor\": \"x2\", \"domain\": [0.0, 1.0], \"matches\": \"y\", \"showticklabels\": false}, \"yaxis3\": {\"anchor\": \"x3\", \"domain\": [0.0, 1.0], \"matches\": \"y\", \"showticklabels\": false}, \"yaxis4\": {\"anchor\": \"x4\", \"domain\": [0.0, 1.0], \"matches\": \"y\", \"showticklabels\": false}, \"yaxis5\": {\"anchor\": \"x5\", \"domain\": [0.0, 1.0], \"matches\": \"y\", \"showticklabels\": false}, \"yaxis6\": {\"anchor\": \"x6\", \"domain\": [0.0, 1.0], \"matches\": \"y\", \"showticklabels\": false}, \"yaxis7\": {\"anchor\": \"x7\", \"domain\": [0.0, 1.0], \"matches\": \"y\", \"showticklabels\": false}, \"yaxis8\": {\"anchor\": \"x8\", \"domain\": [0.0, 1.0], \"matches\": \"y\", \"showticklabels\": false}, \"yaxis9\": {\"anchor\": \"x9\", \"domain\": [0.0, 1.0], \"matches\": \"y\", \"showticklabels\": false}},\n",
              "                        {\"responsive\": true}\n",
              "                    ).then(function(){\n",
              "                            \n",
              "var gd = document.getElementById('0a1b3740-205e-47f4-b78e-8cfb095f939c');\n",
              "var x = new MutationObserver(function (mutations, observer) {{\n",
              "        var display = window.getComputedStyle(gd).display;\n",
              "        if (!display || display === 'none') {{\n",
              "            console.log([gd, 'removed!']);\n",
              "            Plotly.purge(gd);\n",
              "            observer.disconnect();\n",
              "        }}\n",
              "}});\n",
              "\n",
              "// Listen for the removal of the full notebook cells\n",
              "var notebookContainer = gd.closest('#notebook-container');\n",
              "if (notebookContainer) {{\n",
              "    x.observe(notebookContainer, {childList: true});\n",
              "}}\n",
              "\n",
              "// Listen for the clearing of the current output cell\n",
              "var outputEl = gd.closest('.output');\n",
              "if (outputEl) {{\n",
              "    x.observe(outputEl, {childList: true});\n",
              "}}\n",
              "\n",
              "                        })\n",
              "                };\n",
              "                \n",
              "            </script>\n",
              "        </div>\n",
              "</body>\n",
              "</html>"
            ]
          },
          "metadata": {}
        }
      ]
    },
    {
      "cell_type": "code",
      "metadata": {
        "colab": {
          "base_uri": "https://localhost:8080/",
          "height": 542
        },
        "id": "OBkZ2R2yew8p",
        "outputId": "715d5f31-d241-4b92-e8f0-316640ef2552"
      },
      "source": [
        "\n",
        "optuna.visualization.plot_param_importances(study)"
      ],
      "execution_count": null,
      "outputs": [
        {
          "output_type": "display_data",
          "data": {
            "text/html": [
              "<html>\n",
              "<head><meta charset=\"utf-8\" /></head>\n",
              "<body>\n",
              "    <div>\n",
              "            <script src=\"https://cdnjs.cloudflare.com/ajax/libs/mathjax/2.7.5/MathJax.js?config=TeX-AMS-MML_SVG\"></script><script type=\"text/javascript\">if (window.MathJax) {MathJax.Hub.Config({SVG: {font: \"STIX-Web\"}});}</script>\n",
              "                <script type=\"text/javascript\">window.PlotlyConfig = {MathJaxConfig: 'local'};</script>\n",
              "        <script src=\"https://cdn.plot.ly/plotly-latest.min.js\"></script>    \n",
              "            <div id=\"081d067f-c4f9-4dfe-a816-53ef9ede9b37\" class=\"plotly-graph-div\" style=\"height:525px; width:100%;\"></div>\n",
              "            <script type=\"text/javascript\">\n",
              "                \n",
              "                    window.PLOTLYENV=window.PLOTLYENV || {};\n",
              "                    \n",
              "                if (document.getElementById(\"081d067f-c4f9-4dfe-a816-53ef9ede9b37\")) {\n",
              "                    Plotly.newPlot(\n",
              "                        '081d067f-c4f9-4dfe-a816-53ef9ede9b37',\n",
              "                        [{\"cliponaxis\": false, \"hovertemplate\": [\"gamma (LogUniformDistribution): 0.0001106808954229166<extra></extra>\", \"reg_lambda (DiscreteUniformDistribution): 0.01527347204163753<extra></extra>\", \"n_estimator (IntUniformDistribution): 0.023320414168487038<extra></extra>\", \"eta (LogUniformDistribution): 0.02826104613099309<extra></extra>\", \"colsample_by_tree (DiscreteUniformDistribution): 0.035191556677786055<extra></extra>\", \"max_depth (IntUniformDistribution): 0.05119433135142679<extra></extra>\", \"subsample (DiscreteUniformDistribution): 0.08621687100966373<extra></extra>\", \"min_child_weight (IntUniformDistribution): 0.11804308553158258<extra></extra>\", \"reg_alpha (DiscreteUniformDistribution): 0.6423885421930002<extra></extra>\"], \"marker\": {\"color\": \"rgb(66,146,198)\"}, \"orientation\": \"h\", \"text\": [\"0.0001106808954229166\", \"0.01527347204163753\", \"0.023320414168487038\", \"0.02826104613099309\", \"0.035191556677786055\", \"0.05119433135142679\", \"0.08621687100966373\", \"0.11804308553158258\", \"0.6423885421930002\"], \"textposition\": \"outside\", \"texttemplate\": \"%{text:.2f}\", \"type\": \"bar\", \"x\": [0.0001106808954229166, 0.01527347204163753, 0.023320414168487038, 0.02826104613099309, 0.035191556677786055, 0.05119433135142679, 0.08621687100966373, 0.11804308553158258, 0.6423885421930002], \"y\": [\"gamma\", \"reg_lambda\", \"n_estimator\", \"eta\", \"colsample_by_tree\", \"max_depth\", \"subsample\", \"min_child_weight\", \"reg_alpha\"]}],\n",
              "                        {\"showlegend\": false, \"template\": {\"data\": {\"bar\": [{\"error_x\": {\"color\": \"#2a3f5f\"}, \"error_y\": {\"color\": \"#2a3f5f\"}, \"marker\": {\"line\": {\"color\": \"#E5ECF6\", \"width\": 0.5}}, \"type\": \"bar\"}], \"barpolar\": [{\"marker\": {\"line\": {\"color\": \"#E5ECF6\", \"width\": 0.5}}, \"type\": \"barpolar\"}], \"carpet\": [{\"aaxis\": {\"endlinecolor\": \"#2a3f5f\", \"gridcolor\": \"white\", \"linecolor\": \"white\", \"minorgridcolor\": \"white\", \"startlinecolor\": \"#2a3f5f\"}, \"baxis\": {\"endlinecolor\": \"#2a3f5f\", \"gridcolor\": \"white\", \"linecolor\": \"white\", \"minorgridcolor\": \"white\", \"startlinecolor\": \"#2a3f5f\"}, \"type\": \"carpet\"}], \"choropleth\": [{\"colorbar\": {\"outlinewidth\": 0, \"ticks\": \"\"}, \"type\": \"choropleth\"}], \"contour\": [{\"colorbar\": {\"outlinewidth\": 0, \"ticks\": \"\"}, \"colorscale\": [[0.0, \"#0d0887\"], [0.1111111111111111, \"#46039f\"], [0.2222222222222222, \"#7201a8\"], [0.3333333333333333, \"#9c179e\"], [0.4444444444444444, \"#bd3786\"], [0.5555555555555556, \"#d8576b\"], [0.6666666666666666, \"#ed7953\"], [0.7777777777777778, \"#fb9f3a\"], [0.8888888888888888, \"#fdca26\"], [1.0, \"#f0f921\"]], \"type\": \"contour\"}], \"contourcarpet\": [{\"colorbar\": {\"outlinewidth\": 0, \"ticks\": \"\"}, \"type\": \"contourcarpet\"}], \"heatmap\": [{\"colorbar\": {\"outlinewidth\": 0, \"ticks\": \"\"}, \"colorscale\": [[0.0, \"#0d0887\"], [0.1111111111111111, \"#46039f\"], [0.2222222222222222, \"#7201a8\"], [0.3333333333333333, \"#9c179e\"], [0.4444444444444444, \"#bd3786\"], [0.5555555555555556, \"#d8576b\"], [0.6666666666666666, \"#ed7953\"], [0.7777777777777778, \"#fb9f3a\"], [0.8888888888888888, \"#fdca26\"], [1.0, \"#f0f921\"]], \"type\": \"heatmap\"}], \"heatmapgl\": [{\"colorbar\": {\"outlinewidth\": 0, \"ticks\": \"\"}, \"colorscale\": [[0.0, \"#0d0887\"], [0.1111111111111111, \"#46039f\"], [0.2222222222222222, \"#7201a8\"], [0.3333333333333333, \"#9c179e\"], [0.4444444444444444, \"#bd3786\"], [0.5555555555555556, \"#d8576b\"], [0.6666666666666666, \"#ed7953\"], [0.7777777777777778, \"#fb9f3a\"], [0.8888888888888888, \"#fdca26\"], [1.0, \"#f0f921\"]], \"type\": \"heatmapgl\"}], \"histogram\": [{\"marker\": {\"colorbar\": {\"outlinewidth\": 0, \"ticks\": \"\"}}, \"type\": \"histogram\"}], \"histogram2d\": [{\"colorbar\": {\"outlinewidth\": 0, \"ticks\": \"\"}, \"colorscale\": [[0.0, \"#0d0887\"], [0.1111111111111111, \"#46039f\"], [0.2222222222222222, \"#7201a8\"], [0.3333333333333333, \"#9c179e\"], [0.4444444444444444, \"#bd3786\"], [0.5555555555555556, \"#d8576b\"], [0.6666666666666666, \"#ed7953\"], [0.7777777777777778, \"#fb9f3a\"], [0.8888888888888888, \"#fdca26\"], [1.0, \"#f0f921\"]], \"type\": \"histogram2d\"}], \"histogram2dcontour\": [{\"colorbar\": {\"outlinewidth\": 0, \"ticks\": \"\"}, \"colorscale\": [[0.0, \"#0d0887\"], [0.1111111111111111, \"#46039f\"], [0.2222222222222222, \"#7201a8\"], [0.3333333333333333, \"#9c179e\"], [0.4444444444444444, \"#bd3786\"], [0.5555555555555556, \"#d8576b\"], [0.6666666666666666, \"#ed7953\"], [0.7777777777777778, \"#fb9f3a\"], [0.8888888888888888, \"#fdca26\"], [1.0, \"#f0f921\"]], \"type\": \"histogram2dcontour\"}], \"mesh3d\": [{\"colorbar\": {\"outlinewidth\": 0, \"ticks\": \"\"}, \"type\": \"mesh3d\"}], \"parcoords\": [{\"line\": {\"colorbar\": {\"outlinewidth\": 0, \"ticks\": \"\"}}, \"type\": \"parcoords\"}], \"pie\": [{\"automargin\": true, \"type\": \"pie\"}], \"scatter\": [{\"marker\": {\"colorbar\": {\"outlinewidth\": 0, \"ticks\": \"\"}}, \"type\": \"scatter\"}], \"scatter3d\": [{\"line\": {\"colorbar\": {\"outlinewidth\": 0, \"ticks\": \"\"}}, \"marker\": {\"colorbar\": {\"outlinewidth\": 0, \"ticks\": \"\"}}, \"type\": \"scatter3d\"}], \"scattercarpet\": [{\"marker\": {\"colorbar\": {\"outlinewidth\": 0, \"ticks\": \"\"}}, \"type\": \"scattercarpet\"}], \"scattergeo\": [{\"marker\": {\"colorbar\": {\"outlinewidth\": 0, \"ticks\": \"\"}}, \"type\": \"scattergeo\"}], \"scattergl\": [{\"marker\": {\"colorbar\": {\"outlinewidth\": 0, \"ticks\": \"\"}}, \"type\": \"scattergl\"}], \"scattermapbox\": [{\"marker\": {\"colorbar\": {\"outlinewidth\": 0, \"ticks\": \"\"}}, \"type\": \"scattermapbox\"}], \"scatterpolar\": [{\"marker\": {\"colorbar\": {\"outlinewidth\": 0, \"ticks\": \"\"}}, \"type\": \"scatterpolar\"}], \"scatterpolargl\": [{\"marker\": {\"colorbar\": {\"outlinewidth\": 0, \"ticks\": \"\"}}, \"type\": \"scatterpolargl\"}], \"scatterternary\": [{\"marker\": {\"colorbar\": {\"outlinewidth\": 0, \"ticks\": \"\"}}, \"type\": \"scatterternary\"}], \"surface\": [{\"colorbar\": {\"outlinewidth\": 0, \"ticks\": \"\"}, \"colorscale\": [[0.0, \"#0d0887\"], [0.1111111111111111, \"#46039f\"], [0.2222222222222222, \"#7201a8\"], [0.3333333333333333, \"#9c179e\"], [0.4444444444444444, \"#bd3786\"], [0.5555555555555556, \"#d8576b\"], [0.6666666666666666, \"#ed7953\"], [0.7777777777777778, \"#fb9f3a\"], [0.8888888888888888, \"#fdca26\"], [1.0, \"#f0f921\"]], \"type\": \"surface\"}], \"table\": [{\"cells\": {\"fill\": {\"color\": \"#EBF0F8\"}, \"line\": {\"color\": \"white\"}}, \"header\": {\"fill\": {\"color\": \"#C8D4E3\"}, \"line\": {\"color\": \"white\"}}, \"type\": \"table\"}]}, \"layout\": {\"annotationdefaults\": {\"arrowcolor\": \"#2a3f5f\", \"arrowhead\": 0, \"arrowwidth\": 1}, \"coloraxis\": {\"colorbar\": {\"outlinewidth\": 0, \"ticks\": \"\"}}, \"colorscale\": {\"diverging\": [[0, \"#8e0152\"], [0.1, \"#c51b7d\"], [0.2, \"#de77ae\"], [0.3, \"#f1b6da\"], [0.4, \"#fde0ef\"], [0.5, \"#f7f7f7\"], [0.6, \"#e6f5d0\"], [0.7, \"#b8e186\"], [0.8, \"#7fbc41\"], [0.9, \"#4d9221\"], [1, \"#276419\"]], \"sequential\": [[0.0, \"#0d0887\"], [0.1111111111111111, \"#46039f\"], [0.2222222222222222, \"#7201a8\"], [0.3333333333333333, \"#9c179e\"], [0.4444444444444444, \"#bd3786\"], [0.5555555555555556, \"#d8576b\"], [0.6666666666666666, \"#ed7953\"], [0.7777777777777778, \"#fb9f3a\"], [0.8888888888888888, \"#fdca26\"], [1.0, \"#f0f921\"]], \"sequentialminus\": [[0.0, \"#0d0887\"], [0.1111111111111111, \"#46039f\"], [0.2222222222222222, \"#7201a8\"], [0.3333333333333333, \"#9c179e\"], [0.4444444444444444, \"#bd3786\"], [0.5555555555555556, \"#d8576b\"], [0.6666666666666666, \"#ed7953\"], [0.7777777777777778, \"#fb9f3a\"], [0.8888888888888888, \"#fdca26\"], [1.0, \"#f0f921\"]]}, \"colorway\": [\"#636efa\", \"#EF553B\", \"#00cc96\", \"#ab63fa\", \"#FFA15A\", \"#19d3f3\", \"#FF6692\", \"#B6E880\", \"#FF97FF\", \"#FECB52\"], \"font\": {\"color\": \"#2a3f5f\"}, \"geo\": {\"bgcolor\": \"white\", \"lakecolor\": \"white\", \"landcolor\": \"#E5ECF6\", \"showlakes\": true, \"showland\": true, \"subunitcolor\": \"white\"}, \"hoverlabel\": {\"align\": \"left\"}, \"hovermode\": \"closest\", \"mapbox\": {\"style\": \"light\"}, \"paper_bgcolor\": \"white\", \"plot_bgcolor\": \"#E5ECF6\", \"polar\": {\"angularaxis\": {\"gridcolor\": \"white\", \"linecolor\": \"white\", \"ticks\": \"\"}, \"bgcolor\": \"#E5ECF6\", \"radialaxis\": {\"gridcolor\": \"white\", \"linecolor\": \"white\", \"ticks\": \"\"}}, \"scene\": {\"xaxis\": {\"backgroundcolor\": \"#E5ECF6\", \"gridcolor\": \"white\", \"gridwidth\": 2, \"linecolor\": \"white\", \"showbackground\": true, \"ticks\": \"\", \"zerolinecolor\": \"white\"}, \"yaxis\": {\"backgroundcolor\": \"#E5ECF6\", \"gridcolor\": \"white\", \"gridwidth\": 2, \"linecolor\": \"white\", \"showbackground\": true, \"ticks\": \"\", \"zerolinecolor\": \"white\"}, \"zaxis\": {\"backgroundcolor\": \"#E5ECF6\", \"gridcolor\": \"white\", \"gridwidth\": 2, \"linecolor\": \"white\", \"showbackground\": true, \"ticks\": \"\", \"zerolinecolor\": \"white\"}}, \"shapedefaults\": {\"line\": {\"color\": \"#2a3f5f\"}}, \"ternary\": {\"aaxis\": {\"gridcolor\": \"white\", \"linecolor\": \"white\", \"ticks\": \"\"}, \"baxis\": {\"gridcolor\": \"white\", \"linecolor\": \"white\", \"ticks\": \"\"}, \"bgcolor\": \"#E5ECF6\", \"caxis\": {\"gridcolor\": \"white\", \"linecolor\": \"white\", \"ticks\": \"\"}}, \"title\": {\"x\": 0.05}, \"xaxis\": {\"automargin\": true, \"gridcolor\": \"white\", \"linecolor\": \"white\", \"ticks\": \"\", \"title\": {\"standoff\": 15}, \"zerolinecolor\": \"white\", \"zerolinewidth\": 2}, \"yaxis\": {\"automargin\": true, \"gridcolor\": \"white\", \"linecolor\": \"white\", \"ticks\": \"\", \"title\": {\"standoff\": 15}, \"zerolinecolor\": \"white\", \"zerolinewidth\": 2}}}, \"title\": {\"text\": \"Hyperparameter Importances\"}, \"xaxis\": {\"title\": {\"text\": \"Importance for Objective Value\"}}, \"yaxis\": {\"title\": {\"text\": \"Hyperparameter\"}}},\n",
              "                        {\"responsive\": true}\n",
              "                    ).then(function(){\n",
              "                            \n",
              "var gd = document.getElementById('081d067f-c4f9-4dfe-a816-53ef9ede9b37');\n",
              "var x = new MutationObserver(function (mutations, observer) {{\n",
              "        var display = window.getComputedStyle(gd).display;\n",
              "        if (!display || display === 'none') {{\n",
              "            console.log([gd, 'removed!']);\n",
              "            Plotly.purge(gd);\n",
              "            observer.disconnect();\n",
              "        }}\n",
              "}});\n",
              "\n",
              "// Listen for the removal of the full notebook cells\n",
              "var notebookContainer = gd.closest('#notebook-container');\n",
              "if (notebookContainer) {{\n",
              "    x.observe(notebookContainer, {childList: true});\n",
              "}}\n",
              "\n",
              "// Listen for the clearing of the current output cell\n",
              "var outputEl = gd.closest('.output');\n",
              "if (outputEl) {{\n",
              "    x.observe(outputEl, {childList: true});\n",
              "}}\n",
              "\n",
              "                        })\n",
              "                };\n",
              "                \n",
              "            </script>\n",
              "        </div>\n",
              "</body>\n",
              "</html>"
            ]
          },
          "metadata": {}
        }
      ]
    },
    {
      "cell_type": "code",
      "metadata": {
        "id": "zaUnCgrBe-Ga"
      },
      "source": [
        "xgb_params = trail.params\n",
        "xgb_params['objective'] = 'binary:logistic'\n",
        "xgb_params['tree_method'] = 'gpu_hist'\n",
        "xgb_params['predictor'] = 'gpu_predictor'\n",
        "xgb_params['n_jobs'] = -1"
      ],
      "execution_count": null,
      "outputs": []
    },
    {
      "cell_type": "code",
      "metadata": {
        "colab": {
          "base_uri": "https://localhost:8080/"
        },
        "id": "YiRYNWYIfDxs",
        "outputId": "2b9a1143-40aa-4769-8345-1dd041a8a162"
      },
      "source": [
        "n_splits = 10\n",
        "test_preds = None\n",
        "kf_f1 = [] #每个分fold的验证集f1列表\n",
        "\n",
        "for fold, (train_idx, valid_idx) in enumerate(KFold(n_splits=n_splits, shuffle=True).split(X, y)):\n",
        "    X_train, y_train = X.iloc[train_idx], y.iloc[train_idx]\n",
        "    X_val, y_val = X.iloc[valid_idx], y.iloc[valid_idx]\n",
        "\n",
        "    model = xgb.XGBClassifier(**xgb_params)\n",
        "    model.fit(X_train, y_train,\n",
        "              eval_set=[(X_val, y_val)],\n",
        "              eval_metric='error', verbose=False)\n",
        "\n",
        "    valid_pred = model.predict(X_val)\n",
        "    f1 = f1_metric(y_val, valid_pred)\n",
        "    print(f'kFold {fold + 1} / {n_splits} f1:{f1:.4f}')\n",
        "    kf_f1.append(f1)\n",
        "\n",
        "    if test_preds is None:\n",
        "        test_preds = model.predict(test_data)\n",
        "    else:\n",
        "        test_preds += model.predict(test_data)\n"
      ],
      "execution_count": null,
      "outputs": [
        {
          "output_type": "stream",
          "text": [
            "kFold 1 / 10 f1:0.7241\n",
            "kFold 2 / 10 f1:0.7595\n",
            "kFold 3 / 10 f1:0.8065\n",
            "kFold 4 / 10 f1:0.8219\n",
            "kFold 5 / 10 f1:0.7586\n",
            "kFold 6 / 10 f1:0.6301\n",
            "kFold 7 / 10 f1:0.8116\n",
            "kFold 8 / 10 f1:0.7941\n",
            "kFold 9 / 10 f1:0.6800\n",
            "kFold 10 / 10 f1:0.7879\n"
          ],
          "name": "stdout"
        }
      ]
    },
    {
      "cell_type": "code",
      "metadata": {
        "colab": {
          "base_uri": "https://localhost:8080/"
        },
        "id": "pZbWHq-yfIRN",
        "outputId": "f5c6af00-cff4-4ebf-ee2c-9db599d2c59a"
      },
      "source": [
        "test_preds = test_preds/n_splits\n",
        "print(f'Average KFold f1 score :{np.mean(np.array(kf_f1)):.5f}')"
      ],
      "execution_count": null,
      "outputs": [
        {
          "output_type": "stream",
          "text": [
            "Average KFold f1 score :0.75743\n"
          ],
          "name": "stdout"
        }
      ]
    },
    {
      "cell_type": "code",
      "metadata": {
        "colab": {
          "base_uri": "https://localhost:8080/"
        },
        "id": "HsgJ-IwuhZ38",
        "outputId": "6168f58b-55af-4f0b-c639-41abfb5f4e3a"
      },
      "source": [
        "test_preds"
      ],
      "execution_count": null,
      "outputs": [
        {
          "output_type": "execute_result",
          "data": {
            "text/plain": [
              "array([0. , 0. , 0. , 0. , 1. , 0. , 1. , 0. , 1. , 0. , 0. , 0. , 1. ,\n",
              "       0. , 1. , 1. , 0. , 0. , 1. , 1. , 0. , 0. , 1. , 0. , 1. , 0. ,\n",
              "       1. , 0. , 0. , 0. , 0. , 0. , 0.4, 0.3, 0.7, 0. , 1. , 0.9, 0. ,\n",
              "       0. , 0. , 0. , 0. , 1. , 1. , 0. , 0. , 0. , 1. , 1. , 0.1, 0. ,\n",
              "       1. , 1. , 0. , 0. , 0. , 0. , 0. , 1. , 0. , 0. , 0. , 1. , 1. ,\n",
              "       1. , 1. , 0. , 0.4, 1. , 1. , 0. , 1. , 0.4, 1. , 0.7, 0. , 1. ,\n",
              "       0. , 1. , 0.1, 0. , 0. , 0. , 0. , 0. , 1. , 1. , 1. , 1. , 1. ,\n",
              "       0. , 1. , 0. , 0. , 0. , 1. , 0. , 1. , 0. , 1. , 0. , 0. , 0. ,\n",
              "       1. , 0. , 0. , 0. , 0. , 0. , 0. , 1. , 1. , 1. , 1. , 0. , 0. ,\n",
              "       1. , 0.3, 1. , 1. , 0. , 1. , 0. , 0. , 1. , 0. , 1. , 0. , 0. ,\n",
              "       0. , 1. , 0.1, 0. , 0. , 0. , 0. , 0. , 0.9, 0. , 0. , 1. , 0. ,\n",
              "       0. , 0. , 0. , 0. , 0. , 0. , 0.8, 1. , 0. , 0. , 1. , 0. , 0. ,\n",
              "       1. , 1. , 0. , 1. , 1. , 0.2, 1. , 0. , 0.1, 1. , 0. , 0. , 1. ,\n",
              "       1. , 0. , 0. , 0. , 0. , 0. , 1. , 1. , 0. , 1. , 1. , 0. , 0.1,\n",
              "       1. , 0. , 1. , 0. , 1. , 0. , 0. , 0. , 0. , 0. , 0. , 0. , 1. ,\n",
              "       0. , 1. , 1. , 0. , 1. , 1. , 0. , 1. , 1. , 0. , 0. , 1. , 0. ,\n",
              "       1. , 0. , 0. , 0. , 0. , 1. , 0. , 0. , 1. , 0. , 1. , 0. , 1. ,\n",
              "       0. , 1. , 0. , 1. , 1. , 0. , 1. , 0. , 0. , 0. , 1. , 0. , 0. ,\n",
              "       0.1, 0. , 0. , 0. , 1. , 1. , 1. , 1. , 0. , 0. , 0. , 0. , 1. ,\n",
              "       0. , 1. , 1. , 1. , 0. , 0.7, 0. , 0. , 0. , 0. , 0. , 1. , 0. ,\n",
              "       0. , 0. , 1. , 1. , 0. , 0. , 0. , 0. , 1. , 0. , 0. , 0. , 1. ,\n",
              "       1. , 0. , 1. , 0. , 0. , 0. , 0. , 0.9, 0. , 1. , 1. , 1. , 0. ,\n",
              "       0. , 0.1, 0. , 0. , 0. , 1. , 0. , 1. , 0. , 0. , 1. , 0. , 0. ,\n",
              "       0. , 0. , 0. , 0. , 0. , 1. , 1. , 0. , 0. , 0. , 0. , 0. , 0. ,\n",
              "       0. , 1. , 1. , 1. , 0. , 0. , 0. , 0. , 0. , 0. , 0. , 0. , 1. ,\n",
              "       0. , 1. , 0. , 0. , 0. , 1. , 0. , 0. , 1. , 0. , 0. , 0. , 0. ,\n",
              "       0. , 0. , 0. , 0. , 0. , 1. , 0. , 1. , 0. , 1. , 0. , 1. , 1. ,\n",
              "       0. , 0. , 0. , 0.4, 0. , 1. , 0. , 0. , 1. , 0. , 1. , 1. , 0. ,\n",
              "       1. , 0.2, 0. , 1. , 1. , 0. , 0. , 1. , 0. , 0. , 1. , 1. , 0.4,\n",
              "       0. , 0. , 0. , 0. , 0. , 1. , 1. , 0. , 1. , 0. , 0. , 0. , 0. ,\n",
              "       0.1, 1. , 0. , 0. , 0. , 1. , 0. , 1. , 0. , 0. , 1. , 0. , 1. ,\n",
              "       0. , 0. , 0. , 0. , 0. , 1. , 0.8, 1. , 1. , 1. , 0. , 1. , 0. ,\n",
              "       0. , 0.1])"
            ]
          },
          "metadata": {},
          "execution_count": 40
        }
      ]
    },
    {
      "cell_type": "code",
      "metadata": {
        "id": "LSfdn8TJgEn5"
      },
      "source": [
        "sample['Survived'] = (test_preds > 0.5).astype(int)\n",
        "sample.to_csv('/content/xgb_optuna.csv', index=False)"
      ],
      "execution_count": null,
      "outputs": []
    },
    {
      "cell_type": "code",
      "metadata": {
        "id": "HFZ3d79jiDzn"
      },
      "source": [
        "!rm -f /root/.kaggle/kaggle.json\n",
        "!mkdir /root/.kaggle/\n",
        "!cp /content/drive/MyDrive/kaggle.json /root/.kaggle/kaggle.json"
      ],
      "execution_count": null,
      "outputs": []
    },
    {
      "cell_type": "code",
      "metadata": {
        "colab": {
          "base_uri": "https://localhost:8080/"
        },
        "id": "k6g2-aHChYl9",
        "outputId": "47f8704f-97cf-47cd-9fd1-c0b91c2a34f1"
      },
      "source": [
        "!kaggle competitions submit -c titanic -f /content/xgb_optuna.csv -m \"optuna_xgb\""
      ],
      "execution_count": null,
      "outputs": [
        {
          "output_type": "stream",
          "text": [
            "Warning: Looks like you're using an outdated API Version, please consider updating (server 1.5.12 / client 1.5.4)\n",
            "100% 2.77k/2.77k [00:01<00:00, 1.61kB/s]\n",
            "Successfully submitted to Titanic - Machine Learning from Disaster"
          ],
          "name": "stdout"
        }
      ]
    },
    {
      "cell_type": "code",
      "metadata": {
        "id": "rMCgc1yYiFUJ"
      },
      "source": [
        "##0.77990"
      ],
      "execution_count": null,
      "outputs": []
    },
    {
      "cell_type": "code",
      "metadata": {
        "id": "xUK7j1dgiY5j"
      },
      "source": [
        ""
      ],
      "execution_count": null,
      "outputs": []
    }
  ]
}