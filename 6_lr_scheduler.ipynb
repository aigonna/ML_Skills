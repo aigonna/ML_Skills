{
  "nbformat": 4,
  "nbformat_minor": 0,
  "metadata": {
    "colab": {
      "name": "6.lr_scheduler.ipynb",
      "provenance": [],
      "authorship_tag": "ABX9TyNCI8w67v+h8WrrVFp8Aev7",
      "include_colab_link": true
    },
    "kernelspec": {
      "name": "python3",
      "display_name": "Python 3"
    },
    "language_info": {
      "name": "python"
    }
  },
  "cells": [
    {
      "cell_type": "markdown",
      "metadata": {
        "id": "view-in-github",
        "colab_type": "text"
      },
      "source": [
        "<a href=\"https://colab.research.google.com/github/aigonna/ML_Skills/blob/main/6_lr_scheduler.ipynb\" target=\"_parent\"><img src=\"https://colab.research.google.com/assets/colab-badge.svg\" alt=\"Open In Colab\"/></a>"
      ]
    },
    {
      "cell_type": "code",
      "metadata": {
        "id": "JgMrouCMwntT"
      },
      "source": [
        "!pip install transformers -qq"
      ],
      "execution_count": null,
      "outputs": []
    },
    {
      "cell_type": "code",
      "metadata": {
        "id": "fwy8upbowX5V"
      },
      "source": [
        "import torch\n",
        "import torch.nn as nn\n",
        "import torch.optim as optim\n",
        "import matplotlib.pyplot as plt\n",
        "\n",
        "import transformers\n",
        "%matplotlib inline\n",
        "# plt.rcParams['savefig.dpi'] = 250 #图片像素\n",
        "# plt.rcParams['figure.dpi'] = 250 #分辨率"
      ],
      "execution_count": null,
      "outputs": []
    },
    {
      "cell_type": "markdown",
      "metadata": {
        "id": "9AO4XmYBxtdi"
      },
      "source": [
        "## 1.LambdaLR"
      ]
    },
    {
      "cell_type": "code",
      "metadata": {
        "id": "uMRSpTabwi8e"
      },
      "source": [
        "num_epochs = 100\n",
        "\n",
        "model = nn.Linear(4, 3)\n",
        "optimizer = optim.SGD(model.parameters(), lr=100)\n",
        "lambda1 = lambda epoch: 0.95 ** epoch #按照0.95的epoch的次方衰减\n",
        "scheduler = optim.lr_scheduler.LambdaLR(optimizer, lambda1) #按照lambda1衰减"
      ],
      "execution_count": null,
      "outputs": []
    },
    {
      "cell_type": "code",
      "metadata": {
        "id": "27oigsnBwlFD"
      },
      "source": [
        "lrs = []\n",
        "for i in range(num_epochs):\n",
        "    optimizer.step()\n",
        "    lrs.append(optimizer.param_groups[0]['lr'])\n",
        "    scheduler.step()"
      ],
      "execution_count": null,
      "outputs": []
    },
    {
      "cell_type": "code",
      "metadata": {
        "colab": {
          "base_uri": "https://localhost:8080/"
        },
        "id": "OGhHKsw1wzaH",
        "outputId": "1cf109cc-fbe9-4fdf-8f31-4f34644c166f"
      },
      "source": [
        "lrs[:3]"
      ],
      "execution_count": null,
      "outputs": [
        {
          "output_type": "execute_result",
          "data": {
            "text/plain": [
              "[100.0, 95.0, 90.25]"
            ]
          },
          "metadata": {},
          "execution_count": 5
        }
      ]
    },
    {
      "cell_type": "code",
      "metadata": {
        "colab": {
          "base_uri": "https://localhost:8080/",
          "height": 227
        },
        "id": "QF1gQhXJw0a0",
        "outputId": "e1ba710f-cbfd-42b8-dbc5-a37542656e5b"
      },
      "source": [
        "plt.figure(figsize=(6, 3))\n",
        "plt.plot(lrs)\n",
        "plt.title(\"LambdaLR\")\n",
        "plt.show()"
      ],
      "execution_count": null,
      "outputs": [
        {
          "output_type": "display_data",
          "data": {
            "image/png": "[encoded data removed]",
            "text/plain": [
              "<Figure size 432x216 with 1 Axes>"
            ]
          },
          "metadata": {
            "needs_background": "light"
          }
        }
      ]
    },
    {
      "cell_type": "markdown",
      "metadata": {
        "id": "sscGQhc-8AH6"
      },
      "source": [
        "## 2. MultiplicativeLR"
      ]
    },
    {
      "cell_type": "code",
      "metadata": {
        "id": "g8Smfe9Mw8zR"
      },
      "source": [
        "num_epochs = 20\n",
        "\n",
        "model = nn.Linear(4, 3)\n",
        "optimizer = optim.SGD(model.parameters(), lr=100)\n",
        "lambda1 = lambda epoch: 0.7\n",
        "scheduler = optim.lr_scheduler.MultiplicativeLR(optimizer, lambda1)#不断乘以lambda1"
      ],
      "execution_count": null,
      "outputs": []
    },
    {
      "cell_type": "code",
      "metadata": {
        "id": "PnCtptSg8Ehv"
      },
      "source": [
        "lrs = []\n",
        "for i in range(num_epochs):\n",
        "    optimizer.step()\n",
        "    lrs.append(optimizer.param_groups[0]['lr'])\n",
        "    scheduler.step()"
      ],
      "execution_count": null,
      "outputs": []
    },
    {
      "cell_type": "code",
      "metadata": {
        "colab": {
          "base_uri": "https://localhost:8080/",
          "height": 227
        },
        "id": "7lC2wiV18IeQ",
        "outputId": "19970a1e-14ff-47b8-c694-6db1a7e0d203"
      },
      "source": [
        "plt.figure(figsize=(6, 3))\n",
        "plt.plot(lrs)\n",
        "plt.title(\"MultiplicativeLR\")\n",
        "plt.show()"
      ],
      "execution_count": null,
      "outputs": [
        {
          "output_type": "display_data",
          "data": {
            "image/png": "[encoded data removed]",
            "text/plain": [
              "<Figure size 432x216 with 1 Axes>"
            ]
          },
          "metadata": {
            "needs_background": "light"
          }
        }
      ]
    },
    {
      "cell_type": "code",
      "metadata": {
        "colab": {
          "base_uri": "https://localhost:8080/"
        },
        "id": "-SM8tsLz8JuW",
        "outputId": "9ed88ccf-4596-4168-ba67-90f75a38cadc"
      },
      "source": [
        "lrs[:5]"
      ],
      "execution_count": null,
      "outputs": [
        {
          "output_type": "execute_result",
          "data": {
            "text/plain": [
              "[100, 70.0, 49.0, 34.3, 24.009999999999998]"
            ]
          },
          "metadata": {},
          "execution_count": 10
        }
      ]
    },
    {
      "cell_type": "markdown",
      "metadata": {
        "id": "PQHbpjXN8MEl"
      },
      "source": [
        "## 3.Step LR"
      ]
    },
    {
      "cell_type": "code",
      "metadata": {
        "id": "mOsbiym68gaK"
      },
      "source": [
        "num_epochs = 20\n",
        "\n",
        "model = nn.Linear(4, 3)\n",
        "optimizer = optim.SGD(model.parameters(), lr=100)\n",
        "\n",
        "#每隔step_size步降为lr * gamma\n",
        "scheduler = optim.lr_scheduler.StepLR(optimizer, step_size=5, gamma=0.5)"
      ],
      "execution_count": null,
      "outputs": []
    },
    {
      "cell_type": "code",
      "metadata": {
        "colab": {
          "base_uri": "https://localhost:8080/",
          "height": 227
        },
        "id": "-FlJN2Is9DRO",
        "outputId": "e18e8bca-b401-41e6-de2f-af8fbc92cd05"
      },
      "source": [
        "lrs = []\n",
        "for i in range(num_epochs):\n",
        "    optimizer.step()\n",
        "    lrs.append(optimizer.param_groups[0]['lr'])\n",
        "    scheduler.step()\n",
        "\n",
        "plt.figure(figsize=(6, 3))\n",
        "plt.plot(lrs)\n",
        "plt.title(\"StepLR\")\n",
        "plt.show()"
      ],
      "execution_count": null,
      "outputs": [
        {
          "output_type": "display_data",
          "data": {
            "image/png": "[encoded data removed]",
            "text/plain": [
              "<Figure size 432x216 with 1 Axes>"
            ]
          },
          "metadata": {
            "needs_background": "light"
          }
        }
      ]
    },
    {
      "cell_type": "markdown",
      "metadata": {
        "id": "0oWNTIZK9Lrs"
      },
      "source": [
        "## 4.MultiStepLR"
      ]
    },
    {
      "cell_type": "code",
      "metadata": {
        "id": "WHfBEZAI9evr"
      },
      "source": [
        "num_epochs = 30\n",
        "\n",
        "model = nn.Linear(4, 3)\n",
        "optimizer = optim.SGD(model.parameters(), lr=100)\n",
        "\n",
        "#每隔milestones列表对应步数步降为lr * gamma\n",
        "scheduler = optim.lr_scheduler.MultiStepLR(optimizer, milestones=[5, 15, 20], gamma=0.4)"
      ],
      "execution_count": null,
      "outputs": []
    },
    {
      "cell_type": "code",
      "metadata": {
        "colab": {
          "base_uri": "https://localhost:8080/",
          "height": 227
        },
        "id": "rastMUEf92a3",
        "outputId": "88102897-42f9-42c4-d046-05b4c0d3f7ec"
      },
      "source": [
        "lrs = []\n",
        "for i in range(num_epochs):\n",
        "    optimizer.step()\n",
        "    lrs.append(optimizer.param_groups[0]['lr'])\n",
        "    scheduler.step()\n",
        "\n",
        "plt.figure(figsize=(6, 3))\n",
        "plt.plot(lrs)\n",
        "plt.title(\"MultiStepLR\")\n",
        "plt.show()"
      ],
      "execution_count": null,
      "outputs": [
        {
          "output_type": "display_data",
          "data": {
            "image/png": "[encoded data removed]",
            "text/plain": [
              "<Figure size 432x216 with 1 Axes>"
            ]
          },
          "metadata": {
            "needs_background": "light"
          }
        }
      ]
    },
    {
      "cell_type": "markdown",
      "metadata": {
        "id": "ylxFJnBLCicp"
      },
      "source": [
        "## 5.ExponentialLR"
      ]
    },
    {
      "cell_type": "code",
      "metadata": {
        "id": "hoSLssWN97hC"
      },
      "source": [
        "num_epochs = 30\n",
        "\n",
        "model = nn.Linear(4, 3)\n",
        "optimizer = optim.SGD(model.parameters(), lr=100)\n",
        "\n",
        "#lr变为gamma * lr last_epoch默认-1,指最后一个迭代epoch的索引\n",
        "scheduler = optim.lr_scheduler.ExponentialLR(optimizer, gamma=0.1, last_epoch=-1)"
      ],
      "execution_count": null,
      "outputs": []
    },
    {
      "cell_type": "code",
      "metadata": {
        "colab": {
          "base_uri": "https://localhost:8080/",
          "height": 227
        },
        "id": "rcnVm3aRAr8O",
        "outputId": "6eb7b0be-6b90-44d8-8160-c2d617ed2747"
      },
      "source": [
        "lrs = []\n",
        "for i in range(num_epochs):\n",
        "    optimizer.step()\n",
        "    lrs.append(optimizer.param_groups[0]['lr'])\n",
        "    scheduler.step()\n",
        "\n",
        "plt.figure(figsize=(6, 3))\n",
        "plt.plot(lrs)\n",
        "plt.title(\"ExponentialLR\")\n",
        "plt.show()"
      ],
      "execution_count": null,
      "outputs": [
        {
          "output_type": "display_data",
          "data": {
            "image/png": "[encoded data removed]",
            "text/plain": [
              "<Figure size 432x216 with 1 Axes>"
            ]
          },
          "metadata": {
            "needs_background": "light"
          }
        }
      ]
    },
    {
      "cell_type": "code",
      "metadata": {
        "colab": {
          "base_uri": "https://localhost:8080/"
        },
        "id": "KQ1DKdfqAx5U",
        "outputId": "63f527de-7adf-4521-80aa-e0ada15b09d5"
      },
      "source": [
        "lrs[:5]"
      ],
      "execution_count": null,
      "outputs": [
        {
          "output_type": "execute_result",
          "data": {
            "text/plain": [
              "[100, 10.0, 1.0, 0.1, 0.010000000000000002]"
            ]
          },
          "metadata": {},
          "execution_count": 17
        }
      ]
    },
    {
      "cell_type": "markdown",
      "metadata": {
        "id": "nLqYE0uMBfPS"
      },
      "source": [
        "## 6.CosineAnnealingLR\n",
        "- [余弦退火](https://pytorch.org/docs/stable/generated/torch.optim.lr_scheduler.CosineAnnealingLR.html)\n",
        "<br></br>\n",
        "<img src=\"https://gitee.com/miller999999/bpic/raw/master/img/blog/202112050033328.png\" alt=\"image-20211205003309165\" width=40% style=\"zoom:10%;\" />\n",
        "<br></br>\n",
        "如果last_epoch=-1,初始学习率设置为lr就变为上式.这时默认eta_min=0,那么会以2$T_{max}$为周期进行lr迭代"
      ]
    },
    {
      "cell_type": "code",
      "metadata": {
        "id": "B2KremtsC9ae"
      },
      "source": [
        "num_epochs = 20\n",
        "\n",
        "model = nn.Linear(4, 3)\n",
        "optimizer = optim.SGD(model.parameters(), lr=100)\n",
        "\n",
        "#lr以2倍T_max近似迭代\n",
        "scheduler = optim.lr_scheduler.CosineAnnealingLR(optimizer, T_max=5)"
      ],
      "execution_count": null,
      "outputs": []
    },
    {
      "cell_type": "code",
      "metadata": {
        "colab": {
          "base_uri": "https://localhost:8080/",
          "height": 227
        },
        "id": "LCbdqFjIDC2d",
        "outputId": "9d6850e1-95d9-44ba-98dc-02252e3a93b2"
      },
      "source": [
        "lrs = []\n",
        "for i in range(num_epochs):\n",
        "    optimizer.step()\n",
        "    lrs.append(optimizer.param_groups[0]['lr'])\n",
        "    scheduler.step()\n",
        "\n",
        "plt.figure(figsize=(6, 3))\n",
        "plt.plot(lrs)\n",
        "plt.title(\"CosineAnnealingLR\")\n",
        "plt.show()"
      ],
      "execution_count": null,
      "outputs": [
        {
          "output_type": "display_data",
          "data": {
            "image/png": "[encoded data removed]",
            "text/plain": [
              "<Figure size 432x216 with 1 Axes>"
            ]
          },
          "metadata": {
            "needs_background": "light"
          }
        }
      ]
    },
    {
      "cell_type": "markdown",
      "metadata": {
        "id": "qvYozedfDEzh"
      },
      "source": [
        "## 7.ReduceLROnPlateau"
      ]
    },
    {
      "cell_type": "code",
      "metadata": {
        "id": "WrjtkatfVDgm"
      },
      "source": [
        "num_epochs = 20\n",
        "\n",
        "model = nn.Linear(4, 3)\n",
        "optimizer = optim.SGD(model.parameters(), lr=100)\n",
        "\n",
        "#lr*0.3监测到比如loss等指标不变mode=‘min'小3个epoch衰减\n",
        "scheduler = optim.lr_scheduler.ReduceLROnPlateau(optimizer, mode='min', factor=0.3, patience=3)"
      ],
      "execution_count": null,
      "outputs": []
    },
    {
      "cell_type": "code",
      "metadata": {
        "id": "gm334i0hVQW9"
      },
      "source": [
        "# lrs = []\n",
        "# for i in range(num_epochs):\n",
        "#     optimizer.step()\n",
        "#     lrs.append(optimizer.param_groups[0]['lr'])\n",
        "#     scheduler.step()\n",
        "\n",
        "# plt.figure(figsize=(6, 3))\n",
        "# plt.plot(lrs)\n",
        "# plt.title(\"ReduceLROnPlateau\")\n",
        "# plt.show()"
      ],
      "execution_count": null,
      "outputs": []
    },
    {
      "cell_type": "markdown",
      "metadata": {
        "id": "kU3CEUA1YqJr"
      },
      "source": [
        "## 8.CyclicLR"
      ]
    },
    {
      "cell_type": "code",
      "metadata": {
        "id": "H1GwQvKeVU01"
      },
      "source": [
        "num_epochs = 20\n",
        "\n",
        "model = nn.Linear(4, 3)\n",
        "optimizer = optim.SGD(model.parameters(), lr=100)\n",
        "\n",
        "#lr以triangular形态迭代 最大1e-3\n",
        "scheduler = optim.lr_scheduler.CyclicLR(optimizer, base_lr=2e-5, max_lr=1e-3, step_size_up=5, mode='triangular')"
      ],
      "execution_count": null,
      "outputs": []
    },
    {
      "cell_type": "code",
      "metadata": {
        "colab": {
          "base_uri": "https://localhost:8080/",
          "height": 227
        },
        "id": "DytCWmxAWhMK",
        "outputId": "def356a1-4e3c-4e1e-be6d-5cb5805b0132"
      },
      "source": [
        "lrs = []\n",
        "for i in range(num_epochs):\n",
        "    optimizer.step()\n",
        "    lrs.append(optimizer.param_groups[0]['lr'])\n",
        "    scheduler.step()\n",
        "\n",
        "plt.figure(figsize=(6, 3))\n",
        "plt.plot(lrs)\n",
        "plt.title(\"ReduceLROnPlateau\")\n",
        "plt.show()"
      ],
      "execution_count": null,
      "outputs": [
        {
          "output_type": "display_data",
          "data": {
            "image/png": "[encoded data removed]",
            "text/plain": [
              "<Figure size 432x216 with 1 Axes>"
            ]
          },
          "metadata": {
            "needs_background": "light"
          }
        }
      ]
    },
    {
      "cell_type": "markdown",
      "metadata": {
        "id": "fODdVblIWkLu"
      },
      "source": [
        "##9.OneCycleLR\n",
        "学习率首先从初始值上升至max_lr，之后从max_lr下降至低于初始值的大小"
      ]
    },
    {
      "cell_type": "code",
      "metadata": {
        "id": "Mr0OHJ5XY9Hl"
      },
      "source": [
        "n_epochs = 100\n",
        "\n",
        "model = nn.Linear(4, 3)\n",
        "optimizer = optim.SGD(model.parameters(), lr=0.1)\n",
        "\n",
        "#学习率首先从初始值上升至max_lr，之后从max_lr下降至低于初始值的大小\n",
        "scheduler = optim.lr_scheduler.OneCycleLR(optimizer, max_lr=0.1, epochs=n_epochs, steps_per_epoch=10)"
      ],
      "execution_count": null,
      "outputs": []
    },
    {
      "cell_type": "code",
      "metadata": {
        "colab": {
          "base_uri": "https://localhost:8080/",
          "height": 227
        },
        "id": "JSZMFj92ZR5e",
        "outputId": "5dab7911-e83a-4ebd-ee79-2422884c4885"
      },
      "source": [
        "lrs = []\n",
        "for i in range(1000):\n",
        "    optimizer.step()\n",
        "    lrs.append(optimizer.param_groups[0]['lr'])\n",
        "    scheduler.step()\n",
        "\n",
        "plt.figure(figsize=(6, 3))\n",
        "plt.plot(lrs)\n",
        "plt.title(\"OneCycleLR\")\n",
        "plt.show()"
      ],
      "execution_count": null,
      "outputs": [
        {
          "output_type": "display_data",
          "data": {
            "image/png": "[encoded data removed]",
            "text/plain": [
              "<Figure size 432x216 with 1 Axes>"
            ]
          },
          "metadata": {
            "needs_background": "light"
          }
        }
      ]
    },
    {
      "cell_type": "code",
      "metadata": {
        "colab": {
          "base_uri": "https://localhost:8080/"
        },
        "id": "z8oE9KneZVNC",
        "outputId": "c5cd956d-68be-4139-8641-8c8da90ef457"
      },
      "source": [
        "lrs[:10]"
      ],
      "execution_count": null,
      "outputs": [
        {
          "output_type": "execute_result",
          "data": {
            "text/plain": [
              "[0.0040000000000000036,\n",
              " 0.00400264950421679,\n",
              " 0.004010597724372428,\n",
              " 0.004023843783015152,\n",
              " 0.004042386217832955,\n",
              " 0.004066222981815026,\n",
              " 0.004095351443477752,\n",
              " 0.00412976838715523,\n",
              " 0.004169470013354215,\n",
              " 0.004214451939173636]"
            ]
          },
          "metadata": {},
          "execution_count": 53
        }
      ]
    },
    {
      "cell_type": "markdown",
      "metadata": {
        "id": "ayLU55CnZZRk"
      },
      "source": [
        "##10.CosineAnnealingWarmRestarts"
      ]
    },
    {
      "cell_type": "code",
      "metadata": {
        "id": "oWVrcA7_apTH"
      },
      "source": [
        "n_epochs = 100\n",
        "\n",
        "model = nn.Linear(4, 3)\n",
        "optimizer = optim.SGD(model.parameters(), lr=0.1)\n",
        "\n",
        "#学习率第一次回到初始值位置T_0 T_mult表示第二次回到初始值位置为T_0+2T_0=3T_0 后面依次为5T_0\n",
        "scheduler = optim.lr_scheduler.CosineAnnealingWarmRestarts(optimizer, T_0=10, T_mult=2)"
      ],
      "execution_count": null,
      "outputs": []
    },
    {
      "cell_type": "code",
      "metadata": {
        "colab": {
          "base_uri": "https://localhost:8080/",
          "height": 227
        },
        "id": "3w-8OlI3atUj",
        "outputId": "f1f022c9-1695-4422-d0b6-93c5a05c3872"
      },
      "source": [
        "lrs = []\n",
        "for i in range(n_epochs):\n",
        "    optimizer.step()\n",
        "    lrs.append(optimizer.param_groups[0]['lr'])\n",
        "    scheduler.step()\n",
        "\n",
        "plt.figure(figsize=(6, 3))\n",
        "plt.plot(lrs)\n",
        "plt.title(\"CosineAnnealingWarmRestarts\")\n",
        "plt.show()"
      ],
      "execution_count": null,
      "outputs": [
        {
          "output_type": "display_data",
          "data": {
            "image/png": "[encoded data removed]",
            "text/plain": [
              "<Figure size 432x216 with 1 Axes>"
            ]
          },
          "metadata": {
            "needs_background": "light"
          }
        }
      ]
    },
    {
      "cell_type": "markdown",
      "metadata": {
        "id": "8O1so_ROa4OP"
      },
      "source": [
        "##11.get_constant_schedule_with_warmup"
      ]
    },
    {
      "cell_type": "code",
      "metadata": {
        "id": "nIVCfw3Gci1y"
      },
      "source": [
        "total_samples = 512\n",
        "bs = 16\n",
        "n_epochs = 10\n",
        "\n",
        "num_warmup_steps = (total_samples // bs) * 2\n",
        "num_total_steps = (total_samples // bs) * n_epochs"
      ],
      "execution_count": null,
      "outputs": []
    },
    {
      "cell_type": "code",
      "metadata": {
        "id": "qX6sW3X-dAzY"
      },
      "source": [
        "model = nn.Linear(4, 3)\n",
        "optimizer = optim.SGD(model.parameters(), lr=0.1)\n",
        "#num_warmup_steps这么多步数达到constant lr,如上面0.1\n",
        "scheduler = transformers.get_constant_schedule_with_warmup(optimizer,\n",
        "                num_warmup_steps=num_warmup_steps,)"
      ],
      "execution_count": null,
      "outputs": []
    },
    {
      "cell_type": "code",
      "metadata": {
        "colab": {
          "base_uri": "https://localhost:8080/",
          "height": 227
        },
        "id": "lvsNOG7vdWc-",
        "outputId": "ac85031e-ada7-4d60-fc6d-d6accdab9780"
      },
      "source": [
        "lrs = []\n",
        "for i in range(num_total_steps):\n",
        "    optimizer.step()\n",
        "    lrs.append(optimizer.param_groups[0]['lr'])\n",
        "    scheduler.step()\n",
        "\n",
        "plt.figure(figsize=(6, 3))\n",
        "plt.plot(lrs)\n",
        "plt.title(\"get_constant_schedule_with_warmup\")\n",
        "plt.show()"
      ],
      "execution_count": null,
      "outputs": [
        {
          "output_type": "display_data",
          "data": {
            "image/png": "[encoded data removed]",
            "text/plain": [
              "<Figure size 432x216 with 1 Axes>"
            ]
          },
          "metadata": {
            "needs_background": "light"
          }
        }
      ]
    },
    {
      "cell_type": "markdown",
      "metadata": {
        "id": "jD3prsQede_G"
      },
      "source": [
        "##12.get_cosine_schedule_with_warmup\n",
        "以预热步数线性预热到最大然后cos衰减"
      ]
    },
    {
      "cell_type": "code",
      "metadata": {
        "id": "IMYFKM6PfKE5"
      },
      "source": [
        "model = nn.Linear(4, 3)\n",
        "optimizer = optim.SGD(model.parameters(), lr=0.1)\n",
        "#num_warmup_steps这么多步数达到max lr,如上面0.1\n",
        "scheduler = transformers.get_cosine_schedule_with_warmup(optimizer,\n",
        "                num_warmup_steps=num_warmup_steps,\n",
        "                num_training_steps=num_total_steps\n",
        "                )"
      ],
      "execution_count": null,
      "outputs": []
    },
    {
      "cell_type": "code",
      "metadata": {
        "colab": {
          "base_uri": "https://localhost:8080/",
          "height": 227
        },
        "id": "eH-K3FXlfUqq",
        "outputId": "4121219a-9d6a-4083-d51c-72006ef47b25"
      },
      "source": [
        "lrs = []\n",
        "for i in range(num_total_steps):\n",
        "    optimizer.step()\n",
        "    lrs.append(optimizer.param_groups[0]['lr'])\n",
        "    scheduler.step()\n",
        "\n",
        "plt.figure(figsize=(6, 3))\n",
        "plt.plot(lrs)\n",
        "plt.title(\"get_cosine_schedule_with_warmup\")\n",
        "plt.show()"
      ],
      "execution_count": null,
      "outputs": [
        {
          "output_type": "display_data",
          "data": {
            "image/png": "[encoded data removed]",
            "text/plain": [
              "<Figure size 432x216 with 1 Axes>"
            ]
          },
          "metadata": {
            "needs_background": "light"
          }
        }
      ]
    },
    {
      "cell_type": "markdown",
      "metadata": {
        "id": "cs3Cv-IqfZEM"
      },
      "source": [
        "## 13.get_cosine_with_hard_restarts_schedule_with_warmup\n"
      ]
    },
    {
      "cell_type": "code",
      "metadata": {
        "id": "lovOQ972gJQP"
      },
      "source": [
        "total_samples = 512\n",
        "bs = 16\n",
        "n_epochs = 10\n",
        "num_cycles = 3\n",
        "\n",
        "num_warmup_steps = (total_samples // bs) * 2\n",
        "num_training_steps = (total_samples // bs) * n_epochs\n",
        "\n",
        "model = nn.Linear(4, 3)\n",
        "optimizer = optim.SGD(model.parameters(), lr=0.1)\n",
        "#num_warmup_steps这么多步数达到max lr,剩下步数形成num_cycles个衰减周期\n",
        "scheduler = transformers.get_cosine_with_hard_restarts_schedule_with_warmup(optimizer,\n",
        "                                    num_warmup_steps=num_warmup_steps,\n",
        "                                    num_training_steps=num_training_steps,\n",
        "                                    num_cycles=num_cycles\n",
        "                                    )"
      ],
      "execution_count": null,
      "outputs": []
    },
    {
      "cell_type": "code",
      "metadata": {
        "colab": {
          "base_uri": "https://localhost:8080/",
          "height": 280
        },
        "id": "i8rheYawghyo",
        "outputId": "d14f6a1d-d4c1-4df4-8fdf-b41354a77f59"
      },
      "source": [
        "print(f\"Num_warmup_steps: {num_warmup_steps:>5}\")\n",
        "print(f\"num_training_steps: {num_training_steps}\")\n",
        "print(f\"Recycles every: {int((num_training_steps - num_warmup_steps) / num_cycles):>7} step.\")\n",
        "\n",
        "lrs = []\n",
        "for i in range(num_total_steps):\n",
        "    optimizer.step()\n",
        "    lrs.append(optimizer.param_groups[0]['lr'])\n",
        "    scheduler.step()\n",
        "\n",
        "plt.figure(figsize=(6, 3))\n",
        "plt.plot(lrs)\n",
        "plt.title(\"get_cosine_with_hard_restarts_schedule_with_warmup\")\n",
        "plt.show()"
      ],
      "execution_count": null,
      "outputs": [
        {
          "output_type": "stream",
          "name": "stdout",
          "text": [
            "Num_warmup_steps:    64\n",
            "num_training_steps: 320\n",
            "Recycles every:      85 step.\n"
          ]
        },
        {
          "output_type": "display_data",
          "data": {
            "image/png": "[encoded data removed]",
            "text/plain": [
              "<Figure size 432x216 with 1 Axes>"
            ]
          },
          "metadata": {
            "needs_background": "light"
          }
        }
      ]
    },
    {
      "cell_type": "markdown",
      "metadata": {
        "id": "6TaH9nK_g-no"
      },
      "source": [
        "##14.get_linear_schedule_with_warmup"
      ]
    },
    {
      "cell_type": "code",
      "metadata": {
        "id": "zN4Jb7IxhJDF"
      },
      "source": [
        "total_samples = 512\n",
        "bs = 16\n",
        "n_epochs = 10\n",
        "num_cycles = 3\n",
        "\n",
        "num_warmup_steps = (total_samples // bs) * 2\n",
        "num_training_steps = (total_samples // bs) * n_epochs\n",
        "\n",
        "model = nn.Linear(4, 3)\n",
        "optimizer = optim.SGD(model.parameters(), lr=0.1)\n",
        "#num_warmup_steps这么多步数达到max lr,剩下步数线性衰减到0\n",
        "scheduler = transformers.get_linear_schedule_with_warmup(optimizer,\n",
        "                        num_warmup_steps=num_warmup_steps,\n",
        "                        num_training_steps=num_training_steps,\n",
        "                        \n",
        "                        )"
      ],
      "execution_count": null,
      "outputs": []
    },
    {
      "cell_type": "code",
      "metadata": {
        "colab": {
          "base_uri": "https://localhost:8080/",
          "height": 262
        },
        "id": "41P0lHsyiFE4",
        "outputId": "c741c421-e566-43f6-ba36-669a1bf4de94"
      },
      "source": [
        "print(f\"Num_warmup_steps: {num_warmup_steps:>5}\")\n",
        "print(f\"num_training_steps: {num_training_steps}\")\n",
        "\n",
        "\n",
        "lrs = []\n",
        "for i in range(num_total_steps):\n",
        "    optimizer.step()\n",
        "    lrs.append(optimizer.param_groups[0]['lr'])\n",
        "    scheduler.step()\n",
        "\n",
        "plt.figure(figsize=(6, 3))\n",
        "plt.plot(lrs)\n",
        "plt.title(\"get_linear_schedule_with_warmup\")\n",
        "plt.show()"
      ],
      "execution_count": null,
      "outputs": [
        {
          "output_type": "stream",
          "name": "stdout",
          "text": [
            "Num_warmup_steps:    64\n",
            "num_training_steps: 320\n"
          ]
        },
        {
          "output_type": "display_data",
          "data": {
            "image/png": "[encoded data removed]",
            "text/plain": [
              "<Figure size 432x216 with 1 Axes>"
            ]
          },
          "metadata": {
            "needs_background": "light"
          }
        }
      ]
    },
    {
      "cell_type": "code",
      "metadata": {
        "id": "1hXBfZYIiNIM"
      },
      "source": [
        "total_samples = 512\n",
        "bs = 16\n",
        "n_epochs = 10\n",
        "power = 3\n",
        "\n",
        "num_warmup_steps = (total_samples // bs) * 2\n",
        "num_training_steps = (total_samples // bs) * n_epochs\n",
        "\n",
        "model = nn.Linear(4, 3)\n",
        "optimizer = optim.SGD(model.parameters(), lr=0.1)\n",
        "#num_warmup_steps这么多步数达到max lr,剩下e^power次方衰减到0\n",
        "scheduler = transformers.get_polynomial_decay_schedule_with_warmup(optimizer,\n",
        "                        num_warmup_steps=num_warmup_steps,\n",
        "                        num_training_steps=num_training_steps,\n",
        "                        power=power,\n",
        "                        \n",
        "                        )"
      ],
      "execution_count": null,
      "outputs": []
    },
    {
      "cell_type": "code",
      "metadata": {
        "colab": {
          "base_uri": "https://localhost:8080/",
          "height": 262
        },
        "id": "OKjO32VVipMz",
        "outputId": "4ceeb0f4-9379-41c7-8452-49d791338bda"
      },
      "source": [
        "print(f\"Num_warmup_steps: {num_warmup_steps:>5}\")\n",
        "print(f\"num_training_steps: {num_training_steps}\")\n",
        "\n",
        "\n",
        "lrs = []\n",
        "for i in range(num_total_steps):\n",
        "    optimizer.step()\n",
        "    lrs.append(optimizer.param_groups[0]['lr'])\n",
        "    scheduler.step()\n",
        "\n",
        "plt.figure(figsize=(6, 3))\n",
        "plt.plot(lrs)\n",
        "plt.title(\"get_polynomial_decay_schedule_with_warmup\")\n",
        "plt.show()"
      ],
      "execution_count": null,
      "outputs": [
        {
          "output_type": "stream",
          "name": "stdout",
          "text": [
            "Num_warmup_steps:    64\n",
            "num_training_steps: 320\n"
          ]
        },
        {
          "output_type": "display_data",
          "data": {
            "image/png": "[encoded data removed]",
            "text/plain": [
              "<Figure size 432x216 with 1 Axes>"
            ]
          },
          "metadata": {
            "needs_background": "light"
          }
        }
      ]
    },
    {
      "cell_type": "code",
      "metadata": {
        "id": "cOuPGPybi5FO"
      },
      "source": [
        ""
      ],
      "execution_count": null,
      "outputs": []
    }
  ]
}